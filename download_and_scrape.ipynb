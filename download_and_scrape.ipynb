{
 "cells": [
  {
   "cell_type": "markdown",
   "id": "f4d09d5c",
   "metadata": {},
   "source": [
    "## Download html files"
   ]
  },
  {
   "cell_type": "markdown",
   "id": "f4ece478",
   "metadata": {},
   "source": [
    "request,bsでは動的コンテンツをとってこれないのでseleniumを使う"
   ]
  },
  {
   "cell_type": "code",
   "execution_count": 2,
   "id": "29770ac6",
   "metadata": {},
   "outputs": [],
   "source": [
    "import requests"
   ]
  },
  {
   "cell_type": "code",
   "execution_count": 3,
   "id": "936dc284",
   "metadata": {},
   "outputs": [],
   "source": [
    "url=\"https://toho-vote.info/result\""
   ]
  },
  {
   "cell_type": "code",
   "execution_count": 4,
   "id": "9505ed63",
   "metadata": {},
   "outputs": [],
   "source": [
    "r=requests.get(url)"
   ]
  },
  {
   "cell_type": "code",
   "execution_count": 5,
   "id": "b0651a5d",
   "metadata": {},
   "outputs": [
    {
     "data": {
      "text/plain": [
       "<Response [200]>"
      ]
     },
     "execution_count": 5,
     "metadata": {},
     "output_type": "execute_result"
    }
   ],
   "source": [
    "r"
   ]
  },
  {
   "cell_type": "code",
   "execution_count": null,
   "id": "b725e260",
   "metadata": {},
   "outputs": [],
   "source": [
    "r.content"
   ]
  },
  {
   "cell_type": "code",
   "execution_count": null,
   "id": "98b009ea",
   "metadata": {},
   "outputs": [],
   "source": [
    "r.write()"
   ]
  },
  {
   "cell_type": "markdown",
   "id": "998d34f0",
   "metadata": {},
   "source": [
    "## htmlからcsvファイル作成(scraping)"
   ]
  },
  {
   "cell_type": "code",
   "execution_count": 4,
   "id": "0574b8f3",
   "metadata": {},
   "outputs": [],
   "source": [
    "from bs4 import BeautifulSoup  # BeautifulSoupクラスをインポート"
   ]
  },
  {
   "cell_type": "code",
   "execution_count": 5,
   "id": "8226b8f9",
   "metadata": {},
   "outputs": [],
   "source": [
    "ddir=\"data\"\n",
    "filename_tr=\"/18/第18回東方Project人気投票_人妖\"\n",
    "filename=ddir+filename_tr+\".html\""
   ]
  },
  {
   "cell_type": "code",
   "execution_count": 5,
   "id": "bdd16f64",
   "metadata": {},
   "outputs": [],
   "source": [
    "with open(ddir+filename,\"r\") as fp:\n",
    "    htmltext=fp.read()\n",
    "soup = BeautifulSoup(htmltext, \"html.parser\")"
   ]
  },
  {
   "cell_type": "markdown",
   "id": "564af34e",
   "metadata": {},
   "source": [
    "ブラウザのデバッガ\n",
    "document.querySelector(\"#app > div > main > div._container_1r0po_1._root_1orw9_14 > div > div > div > table\")\n",
    "の結果から"
   ]
  },
  {
   "cell_type": "code",
   "execution_count": 4,
   "id": "653fe5bf",
   "metadata": {},
   "outputs": [
    {
     "data": {
      "text/plain": [
       "<div class=\"_title_en_1h8e9_51\">Characters</div>"
      ]
     },
     "execution_count": 4,
     "metadata": {},
     "output_type": "execute_result"
    }
   ],
   "source": [
    "soup.body.div.div.main.find(\"div\", class_=\"_root_1orw9_14\").div.div"
   ]
  },
  {
   "cell_type": "code",
   "execution_count": 5,
   "id": "8485f38d",
   "metadata": {},
   "outputs": [
    {
     "data": {
      "text/plain": [
       "<header class=\"_title_1h8e9_1\"><h1>人妖部門</h1><div class=\"_title_en_1h8e9_51\">Characters</div></header>"
      ]
     },
     "execution_count": 5,
     "metadata": {},
     "output_type": "execute_result"
    }
   ],
   "source": [
    "soup.body.div.div.main.find(\"div\", class_=\"_root_1orw9_14\").div.header"
   ]
  },
  {
   "cell_type": "code",
   "execution_count": 6,
   "id": "f4bc35b1",
   "metadata": {},
   "outputs": [],
   "source": [
    "def get_tabledata(table):\n",
    "    return [[td.string for td in tr.find_all(\"td\")] for tr in table]"
   ]
  },
  {
   "cell_type": "code",
   "execution_count": 7,
   "id": "4f9e5a82",
   "metadata": {},
   "outputs": [],
   "source": [
    "table=soup.body.div.div.main.find(\"div\", class_=\"_root_1orw9_14\").div\n"
   ]
  },
  {
   "cell_type": "code",
   "execution_count": 8,
   "id": "7b64e7a4",
   "metadata": {},
   "outputs": [],
   "source": [
    "table_header=table.find_all(\"th\")\n",
    "table_contents=table.find_all(\"tr\")"
   ]
  },
  {
   "cell_type": "code",
   "execution_count": 9,
   "id": "868b7260",
   "metadata": {},
   "outputs": [
    {
     "data": {
      "text/plain": [
       "[<th>順位</th>,\n",
       " <th class=\"_rank_prev_1orw9_133\">前回</th>,\n",
       " <th class=\"_rank_prev2_1orw9_136\">前々</th>,\n",
       " <th class=\"_name_1orw9_101\">名前</th>,\n",
       " <th>ポイント</th>,\n",
       " <th>一推し</th>,\n",
       " <th>コメント</th>,\n",
       " <th>支援作品</th>]"
      ]
     },
     "execution_count": 9,
     "metadata": {},
     "output_type": "execute_result"
    }
   ],
   "source": [
    "table_header"
   ]
  },
  {
   "cell_type": "code",
   "execution_count": 8,
   "id": "d79072a8",
   "metadata": {},
   "outputs": [],
   "source": [
    "def get_tabledata(table):\n",
    "    return [[td.string for td in tr.find_all(\"td\")] for tr in table]    \n",
    "def get_tableheader(table):\n",
    "    return [[t.string for t in tr.find_all(\"th\")] for tr in table]    "
   ]
  },
  {
   "cell_type": "code",
   "execution_count": 12,
   "id": "a111e688",
   "metadata": {},
   "outputs": [],
   "source": [
    "outdata=get_tabledata(table_contents)"
   ]
  },
  {
   "cell_type": "code",
   "execution_count": 14,
   "id": "7226f7b6",
   "metadata": {},
   "outputs": [
    {
     "data": {
      "text/plain": [
       "[[], ['1', '5', '5', 'フランドール・スカーレット', '16,723', '3,730', '3,633', '19']]"
      ]
     },
     "execution_count": 14,
     "metadata": {},
     "output_type": "execute_result"
    }
   ],
   "source": [
    "outdata[0]=outheader\n",
    "outdata[:2]"
   ]
  },
  {
   "cell_type": "markdown",
   "id": "6b647b8c",
   "metadata": {},
   "source": [
    "### output"
   ]
  },
  {
   "cell_type": "markdown",
   "id": "22bbb885",
   "metadata": {},
   "source": [
    "## 第16回以前の投票結果"
   ]
  },
  {
   "cell_type": "markdown",
   "id": "b099d6f7",
   "metadata": {},
   "source": [
    "文字コード"
   ]
  },
  {
   "cell_type": "code",
   "execution_count": 85,
   "id": "54c71fa0",
   "metadata": {
    "scrolled": true
   },
   "outputs": [
    {
     "name": "stdout",
     "output_type": "stream",
     "text": [
      "data/1/東方シリーズキャラ人気投票 [Vote Top].html: CP932\r\n",
      "data/1/東方シリーズ音楽人気投票 [Vote Top].html: CP932\r\n",
      "data/1/東方シリーズ音楽人気投票 [Vote Top]_iro.html: CP932\r\n",
      "data/10/第１０回東方シリーズ人気投票 キャラ部門集計結果.html: EUC-JP\r\n",
      "data/10/第１０回東方シリーズ人気投票 音楽部門集計結果.html: EUC-JP\r\n",
      "data/10/第１０回東方シリーズ人気投票 投票者アンケート結果.html: EUC-JP\r\n",
      "data/11/アンケート投票結果 - 第11回 東方Project 人気投票.html: UTF-8\r\n",
      "data/11/キャラ部門投票結果 - 第11回 東方Project 人気投票.html: UTF-8\r\n",
      "data/11/音楽部門投票結果 - 第11回 東方Project 人気投票.html: UTF-8\r\n",
      "data/11/経緯報告書 - 第11回 東方Project 人気投票.html: UTF-8\r\n",
      "data/12/アンケート部門集計結果 - 第12回 東方Project 人気投票.html: UTF-8\r\n",
      "data/12/音楽部門投票結果 - 第12回 東方Project 人気投票.html: UTF-8\r\n",
      "data/12/作品部門投票結果 - 第12回 東方Project 人気投票.html: UTF-8\r\n",
      "data/12/人妖部門投票結果 - 第12回 東方Project 人気投票.html: UTF-8\r\n",
      "data/13/アンケート集計結果 - 第13回 東方Project 人気投票.html: UTF-8\r\n",
      "data/13/ベストパートナー部門投票結果 - 第13回 東方Project 人気投票.html: UTF-8\r\n",
      "data/13/音楽部門投票結果 - 第13回 東方Project 人気投票.html: UTF-8\r\n",
      "data/13/作品部門投票結果 - 第13回 東方Project 人気投票.html: UTF-8\r\n",
      "data/13/人妖部門投票結果 - 第13回 東方Project 人気投票.html: UTF-8\r\n",
      "data/14/アンケート部門集計結果 - 第14回 東方Project 人気投票.html: UTF-8\r\n",
      "data/14/音楽部門投票結果 - 第14回 東方Project 人気投票.html: UTF-8\r\n",
      "data/14/作品部門投票結果 - 第14回 東方Project 人気投票.html: UTF-8\r\n",
      "data/14/人妖部門投票結果 - 第14回 東方Project 人気投票.html: UTF-8\r\n",
      "data/15/アンケート部門集計結果 - 第15回 東方Project 人気投票.html: UTF-8\r\n",
      "data/15/音楽部門投票結果 - 第15回 東方Project 人気投票.html: UTF-8\r\n",
      "data/15/作品部門投票結果 - 第15回 東方Project 人気投票.html: UTF-8\r\n",
      "data/15/人妖部門投票結果 - 第15回 東方Project 人気投票.html: UTF-8\r\n",
      "data/16/アンケート部門集計結果 - 第16回 東方Project 人気投票.html: UTF-8\r\n",
      "data/16/音楽部門投票結果 - 第16回 東方Project 人気投票.html: UTF-8\r\n",
      "data/16/作品部門投票結果 - 第16回 東方Project 人気投票.html: UTF-8\r\n",
      "data/16/人妖部門投票結果 - 第16回 東方Project 人気投票.html: UTF-8\r\n",
      "data/16ex/ベストパートナー部門投票結果 - 第16回 東方Project 人気投票Ex.html: UTF-8\r\n",
      "data/17/アンケート.html: UTF-8\r\n",
      "data/17/音楽.html: UTF-8\r\n",
      "data/17/作品.html: UTF-8\r\n",
      "data/17/人妖.html: UTF-8\r\n",
      "data/17/第18回東方Project人気投票_人妖.html: UTF-8\r\n",
      "data/18/第18回東方Project人気投票_アンケート.html: UTF-8\r\n",
      "data/18/第18回東方Project人気投票_音楽.html: UTF-8\r\n",
      "data/18/第18回東方Project人気投票_作品.html: UTF-8\r\n",
      "data/18/第18回東方Project人気投票_人妖.html: UTF-8\r\n",
      "data/2/第２回東方シリーズ人気投票 その他集計結果.html: Shift_JIS\r\n",
      "data/2/第２回東方シリーズ人気投票 キャラ部門結果.html: Shift_JIS\r\n",
      "data/2/第２回東方シリーズ人気投票 音楽部門結果.html: Shift_JIS\r\n",
      "data/2/第２回東方シリーズ人気投票 弾幕部門結果.html: Shift_JIS\r\n",
      "data/3/第３回東方シリーズ人気投票 その他集計結果.html: Shift_JIS\r\n",
      "data/3/第３回東方シリーズ人気投票 キャラ部門集計結果.html: Shift_JIS\r\n",
      "data/3/第３回東方シリーズ人気投票 スペルカード部門集計結果.html: Shift_JIS\r\n",
      "data/3/第３回東方シリーズ人気投票 音楽部門集計結果.html: Shift_JIS\r\n",
      "data/3/第３回東方シリーズ人気投票 投票者アンケート結果.html: Shift_JIS\r\n",
      "data/4/第４回東方シリーズ人気投票 その他集計結果.html: Shift_JIS\r\n",
      "data/4/第４回東方シリーズ人気投票 キャラ部門集計結果.html: Shift_JIS\r\n",
      "data/4/第４回東方シリーズ人気投票 音楽部門集計結果.html: Shift_JIS\r\n",
      "data/4/第４回東方シリーズ人気投票 投票者アンケート結果.html: Shift_JIS\r\n",
      "data/5/第５回東方シリーズ人気投票 その他集計結果.html: EUC-JP\r\n",
      "data/5/第５回東方シリーズ人気投票 キャラ部門集計結果.html: EUC-JP\r\n",
      "data/5/第５回東方シリーズ人気投票 音楽部門集計結果.html: EUC-JP\r\n",
      "data/5/第５回東方シリーズ人気投票 投票者アンケート結果.html: EUC-JP\r\n",
      "data/6/第６回東方シリーズ人気投票 その他集計結果.html: EUC-JP\r\n",
      "data/6/第６回東方シリーズ人気投票 キャラ部門集計結果.html: EUC-JP\r\n",
      "data/6/第６回東方シリーズ人気投票 音楽部門集計結果.html: EUC-JP\r\n",
      "data/6/第６回東方シリーズ人気投票 投票者アンケート結果.html: EUC-JP\r\n",
      "data/7/第７回東方シリーズ人気投票 キャラ部門集計結果.html: EUC-JP\r\n",
      "data/7/第７回東方シリーズ人気投票 音楽部門集計結果.html: EUC-JP\r\n",
      "data/7/第７回東方シリーズ人気投票 投票者アンケート結果.html: EUC-JP\r\n",
      "data/8/第８回東方シリーズ人気投票 キャラ部門集計結果.html: EUC-JP\r\n",
      "data/8/第８回東方シリーズ人気投票 音楽部門集計結果.html: EUC-JP\r\n",
      "data/8/第８回東方シリーズ人気投票 投票者アンケート結果.html: EUC-JP\r\n",
      "data/9/第９回東方シリーズ人気投票 キャラ部門集計結果.html: EUC-JP\r\n",
      "data/9/第９回東方シリーズ人気投票 音楽部門集計結果.html: EUC-JP\r\n",
      "data/9/第９回東方シリーズ人気投票 投票者アンケート結果.html: EUC-JP\r\n",
      "data/spell/アンケート・文花帖クリアシーン数結果.html: EUC-JP\r\n",
      "data/spell/スペルカード人気投票 系統別集計結果.html: EUC-JP\r\n",
      "data/spell/スペルカード人気投票 使用者別集計結果.html: EUC-JP\r\n",
      "data/spell/スペルカード人気投票 集計結果.html: EUC-JP\r\n"
     ]
    }
   ],
   "source": [
    "!nkf -g */*/*.html"
   ]
  },
  {
   "cell_type": "code",
   "execution_count": 21,
   "id": "652f1c1c",
   "metadata": {},
   "outputs": [],
   "source": [
    "import csv\n",
    "def openhtml(ddir,filename_tr):\n",
    "    filename=ddir+filename_tr+\".html\"\n",
    "    try:\n",
    "        with open(filename,\"r\") as fp:\n",
    "            htmltext=fp.read()\n",
    "    except:\n",
    "        try:\n",
    "            with open(filename,\"r\",encoding='euc_jp') as fp:\n",
    "                htmltext=fp.read()\n",
    "        except:\n",
    "            with open(filename,\"r\",encoding='CP932') as fp:\n",
    "                htmltext=fp.read()\n",
    "            print(filename)\n",
    "    return htmltext\n",
    "    \n",
    "def souptable2csv(table,writedown=False,filename_tr=\"\"):\n",
    "    table_header=table.find_all(\"th\")\n",
    "    table_contents=table.find_all(\"tr\")\n",
    "\n",
    "    outdata  =get_tabledata(table_contents)\n",
    "    outheader=get_tableheader(table_header)\n",
    "#    outdata[0]=outheader[0]\n",
    "\n",
    "    with open(ddir+filename_tr+\".csv\", 'w') as fpw:\n",
    "        writer = csv.writer(fpw, lineterminator='\\n')\n",
    "        writer.writerows(outdata)\n",
    "\n",
    "def converthtml2csv(filename_tr,writedown=False):\n",
    "    htmltext=openhtml(ddir,filename_tr)\n",
    "    soup = BeautifulSoup(htmltext, \"html.parser\")\n",
    "#    table=soup.body.div.div.main.find(\"div\", class_=\"_root_1orw9_14\").div\n",
    "    table=soup\n",
    "    souptable2csv(table,writedown,filename_tr)"
   ]
  },
  {
   "cell_type": "code",
   "execution_count": 66,
   "id": "13080d67",
   "metadata": {},
   "outputs": [],
   "source": [
    "filename_tr=\"/18/第18回東方Project人気投票_人妖\"\n",
    "converthtml2csv(filename_tr)"
   ]
  },
  {
   "cell_type": "code",
   "execution_count": 67,
   "id": "9f5fb882",
   "metadata": {},
   "outputs": [],
   "source": [
    "filename_tr=\"/17/人妖\"\n",
    "converthtml2csv(filename_tr)"
   ]
  },
  {
   "cell_type": "code",
   "execution_count": 69,
   "id": "97a0ff37",
   "metadata": {},
   "outputs": [],
   "source": [
    "filename_tr=\"/16/人妖部門投票結果 - 第16回 東方Project 人気投票\"\n",
    "converthtml2csv(filename_tr)"
   ]
  },
  {
   "cell_type": "code",
   "execution_count": 22,
   "id": "d6ccd2e0",
   "metadata": {},
   "outputs": [
    {
     "name": "stdout",
     "output_type": "stream",
     "text": [
      "data/4/第４回東方シリーズ人気投票 投票者アンケート結果.html\n",
      "data/4/第４回東方シリーズ人気投票 その他集計結果.html\n",
      "data/4/第４回東方シリーズ人気投票 キャラ部門集計結果.html\n",
      "data/4/第４回東方シリーズ人気投票 音楽部門集計結果.html\n",
      "data/3/第３回東方シリーズ人気投票 その他集計結果.html\n",
      "data/3/第３回東方シリーズ人気投票 音楽部門集計結果.html\n",
      "data/3/第３回東方シリーズ人気投票 キャラ部門集計結果.html\n",
      "data/3/第３回東方シリーズ人気投票 スペルカード部門集計結果.html\n",
      "data/3/第３回東方シリーズ人気投票 投票者アンケート結果.html\n",
      "data/2/第２回東方シリーズ人気投票 音楽部門結果.html\n",
      "data/2/第２回東方シリーズ人気投票 キャラ部門結果.html\n",
      "data/2/第２回東方シリーズ人気投票 その他集計結果.html\n",
      "data/2/第２回東方シリーズ人気投票 弾幕部門結果.html\n",
      "data/1/東方シリーズ音楽人気投票 [Vote Top]_iro.html\n",
      "data/1/東方シリーズキャラ人気投票 [Vote Top].html\n",
      "data/1/東方シリーズ音楽人気投票 [Vote Top].html\n"
     ]
    }
   ],
   "source": [
    "import glob\n",
    "htmlfiles=glob.glob(\"data/*/*.html\")\n",
    "\n",
    "for f in htmlfiles:\n",
    "    filename_tr=f[4:]\n",
    "    filename_tr=filename_tr.split(\".\")[0]\n",
    "    #print (filename_tr)\n",
    "    converthtml2csv(filename_tr)"
   ]
  },
  {
   "cell_type": "code",
   "execution_count": 23,
   "id": "4e0df13d",
   "metadata": {},
   "outputs": [
    {
     "name": "stdout",
     "output_type": "stream",
     "text": [
      "    76     55    593 data/1/東方シリーズキャラ人気投票 [Vote Top].csv\r\n",
      "   225    237   2480 data/1/東方シリーズ音楽人気投票 [Vote Top].csv\r\n",
      "   225    237   2480 data/1/東方シリーズ音楽人気投票 [Vote Top]_iro.csv\r\n",
      "   160    225   8124 data/10/第１０回東方シリーズ人気投票 キャラ部門集計結果.csv\r\n",
      "   432    823  27956 data/10/第１０回東方シリーズ人気投票 音楽部門集計結果.csv\r\n",
      "   216    228   5792 data/10/第１０回東方シリーズ人気投票 投票者アンケート結果.csv\r\n",
      "   268    264   5883 data/11/アンケート投票結果 - 第11回 東方Project 人気投票.csv\r\n",
      "   173    239   8701 data/11/キャラ部門投票結果 - 第11回 東方Project 人気投票.csv\r\n",
      "   916   1308  26604 data/11/音楽部門投票結果 - 第11回 東方Project 人気投票.csv\r\n",
      "     0      0      0 data/11/経緯報告書 - 第11回 東方Project 人気投票.csv\r\n",
      "   260    257   5976 data/12/アンケート部門集計結果 - 第12回 東方Project 人気投票.csv\r\n",
      "   476    858  27791 data/12/音楽部門投票結果 - 第12回 東方Project 人気投票.csv\r\n",
      "    42     47   1888 data/12/作品部門投票結果 - 第12回 東方Project 人気投票.csv\r\n",
      "   170    237   9271 data/12/人妖部門投票結果 - 第12回 東方Project 人気投票.csv\r\n",
      "   274    271   6368 data/13/アンケート集計結果 - 第13回 東方Project 人気投票.csv\r\n",
      "   438   1002  24687 data/13/ベストパートナー部門投票結果 - 第13回 東方Project 人気投票.csv\r\n",
      "   487    866  28412 data/13/音楽部門投票結果 - 第13回 東方Project 人気投票.csv\r\n",
      "    44     49   2075 data/13/作品部門投票結果 - 第13回 東方Project 人気投票.csv\r\n",
      "   176    243   9592 data/13/人妖部門投票結果 - 第13回 東方Project 人気投票.csv\r\n",
      "   275    272   6627 data/14/アンケート部門集計結果 - 第14回 東方Project 人気投票.csv\r\n",
      "   526    917  30695 data/14/音楽部門投票結果 - 第14回 東方Project 人気投票.csv\r\n",
      "    47     52   2342 data/14/作品部門投票結果 - 第14回 東方Project 人気投票.csv\r\n",
      "   187    264  10232 data/14/人妖部門投票結果 - 第14回 東方Project 人気投票.csv\r\n",
      "   270    268   4229 data/15/アンケート部門集計結果 - 第15回 東方Project 人気投票.csv\r\n",
      "   530    921  30812 data/15/音楽部門投票結果 - 第15回 東方Project 人気投票.csv\r\n",
      "    48     53   2391 data/15/作品部門投票結果 - 第15回 東方Project 人気投票.csv\r\n",
      "   187    263  10162 data/15/人妖部門投票結果 - 第15回 東方Project 人気投票.csv\r\n",
      "   237    235   4776 data/16/アンケート部門集計結果 - 第16回 東方Project 人気投票.csv\r\n",
      "   545    941  31869 data/16/音楽部門投票結果 - 第16回 東方Project 人気投票.csv\r\n",
      "    54     65   2764 data/16/作品部門投票結果 - 第16回 東方Project 人気投票.csv\r\n",
      "   199    285  10851 data/16/人妖部門投票結果 - 第16回 東方Project 人気投票.csv\r\n",
      "  1409   1591  23333 data/16ex/ベストパートナー部門投票結果 - 第16回 東方Project 人気投票Ex.csv\r\n",
      "   184    184   2198 data/17/アンケート.csv\r\n",
      "   568    967  26063 data/17/音楽.csv\r\n",
      "    55     66   2235 data/17/作品.csv\r\n",
      "   207    301   8912 data/17/人妖.csv\r\n",
      "   207    301   8912 data/17/第18回東方Project人気投票_人妖.csv\r\n",
      "   193    193   2352 data/18/第18回東方Project人気投票_アンケート.csv\r\n",
      "   580    984  26836 data/18/第18回東方Project人気投票_音楽.csv\r\n",
      "    58     70   2441 data/18/第18回東方Project人気投票_作品.csv\r\n",
      "   209    303   9108 data/18/第18回東方Project人気投票_人妖.csv\r\n",
      "    34     48   1151 data/2/第２回東方シリーズ人気投票 その他集計結果.csv\r\n",
      "    43     54   2003 data/2/第２回東方シリーズ人気投票 キャラ部門結果.csv\r\n",
      "   119    262   7141 data/2/第２回東方シリーズ人気投票 音楽部門結果.csv\r\n",
      "   149    149   8396 data/2/第２回東方シリーズ人気投票 弾幕部門結果.csv\r\n",
      "    52     78   1784 data/3/第３回東方シリーズ人気投票 その他集計結果.csv\r\n",
      "    61     78   2440 data/3/第３回東方シリーズ人気投票 キャラ部門集計結果.csv\r\n",
      "   258    280  14938 data/3/第３回東方シリーズ人気投票 スペルカード部門集計結果.csv\r\n",
      "   163    364   7864 data/3/第３回東方シリーズ人気投票 音楽部門集計結果.csv\r\n",
      "   102    112   2485 data/3/第３回東方シリーズ人気投票 投票者アンケート結果.csv\r\n",
      "    31     48   1058 data/4/第４回東方シリーズ人気投票 その他集計結果.csv\r\n",
      "    72     94   3200 data/4/第４回東方シリーズ人気投票 キャラ部門集計結果.csv\r\n",
      "   207    450  10288 data/4/第４回東方シリーズ人気投票 音楽部門集計結果.csv\r\n",
      "   161    177   4370 data/4/第４回東方シリーズ人気投票 投票者アンケート結果.csv\r\n",
      "    31     51   1107 data/5/第５回東方シリーズ人気投票 その他集計結果.csv\r\n",
      "    95    127   4560 data/5/第５回東方シリーズ人気投票 キャラ部門集計結果.csv\r\n",
      "   267    575  16743 data/5/第５回東方シリーズ人気投票 音楽部門集計結果.csv\r\n",
      "   154    154   4559 data/5/第５回東方シリーズ人気投票 投票者アンケート結果.csv\r\n",
      "    31     54   1089 data/6/第６回東方シリーズ人気投票 その他集計結果.csv\r\n",
      "   109    150   5496 data/6/第６回東方シリーズ人気投票 キャラ部門集計結果.csv\r\n",
      "   319    668  20144 data/6/第６回東方シリーズ人気投票 音楽部門集計結果.csv\r\n",
      "   183    208   5758 data/6/第６回東方シリーズ人気投票 投票者アンケート結果.csv\r\n",
      "   125    173   6369 data/7/第７回東方シリーズ人気投票 キャラ部門集計結果.csv\r\n",
      "   354    724  22636 data/7/第７回東方シリーズ人気投票 音楽部門集計結果.csv\r\n",
      "   227    241   6689 data/7/第７回東方シリーズ人気投票 投票者アンケート結果.csv\r\n",
      "   129    179   6624 data/8/第８回東方シリーズ人気投票 キャラ部門集計結果.csv\r\n",
      "   377    758  24118 data/8/第８回東方シリーズ人気投票 音楽部門集計結果.csv\r\n",
      "   216    215   6371 data/8/第８回東方シリーズ人気投票 投票者アンケート結果.csv\r\n",
      "   141    198   7275 data/9/第９回東方シリーズ人気投票 キャラ部門集計結果.csv\r\n",
      "   394    779  25671 data/9/第９回東方シリーズ人気投票 音楽部門集計結果.csv\r\n",
      "   418    419  12343 data/9/第９回東方シリーズ人気投票 投票者アンケート結果.csv\r\n",
      "    10     10    280 data/spell/アンケート・文花帖クリアシーン数結果.csv\r\n",
      "   421    461  28399 data/spell/スペルカード人気投票 系統別集計結果.csv\r\n",
      "    32     48    851 data/spell/スペルカード人気投票 使用者別集計結果.csv\r\n",
      "   421    461  28148 data/spell/スペルカード人気投票 集計結果.csv\r\n",
      " 17739  25789 767161 合計\r\n"
     ]
    }
   ],
   "source": [
    "!wc data/*/*.csv"
   ]
  },
  {
   "cell_type": "code",
   "execution_count": 74,
   "id": "7ebf2858",
   "metadata": {},
   "outputs": [
    {
     "data": {
      "text/plain": [
       "['data/spell/スペルカード人気投票 使用者別集計結果.html',\n",
       " 'data/spell/スペルカード人気投票 集計結果.html',\n",
       " 'data/spell/アンケート・文花帖クリアシーン数結果.html',\n",
       " 'data/spell/スペルカード人気投票 系統別集計結果.html',\n",
       " 'data/12/音楽部門投票結果 - 第12回 東方Project 人気投票.html',\n",
       " 'data/12/作品部門投票結果 - 第12回 東方Project 人気投票.html',\n",
       " 'data/12/人妖部門投票結果 - 第12回 東方Project 人気投票.html',\n",
       " 'data/12/アンケート部門集計結果 - 第12回 東方Project 人気投票.html',\n",
       " 'data/16/作品部門投票結果 - 第16回 東方Project 人気投票.html',\n",
       " 'data/16/人妖部門投票結果 - 第16回 東方Project 人気投票.html',\n",
       " 'data/16/アンケート部門集計結果 - 第16回 東方Project 人気投票.html',\n",
       " 'data/16/音楽部門投票結果 - 第16回 東方Project 人気投票.html',\n",
       " 'data/16ex/ベストパートナー部門投票結果 - 第16回 東方Project 人気投票Ex.html',\n",
       " 'data/10/第１０回東方シリーズ人気投票 投票者アンケート結果.html',\n",
       " 'data/10/第１０回東方シリーズ人気投票 キャラ部門集計結果.html',\n",
       " 'data/10/第１０回東方シリーズ人気投票 音楽部門集計結果.html',\n",
       " 'data/5/第５回東方シリーズ人気投票 投票者アンケート結果.html',\n",
       " 'data/5/第５回東方シリーズ人気投票 音楽部門集計結果.html',\n",
       " 'data/5/第５回東方シリーズ人気投票 その他集計結果.html',\n",
       " 'data/5/第５回東方シリーズ人気投票 キャラ部門集計結果.html',\n",
       " 'data/13/作品部門投票結果 - 第13回 東方Project 人気投票.html',\n",
       " 'data/13/アンケート集計結果 - 第13回 東方Project 人気投票.html',\n",
       " 'data/13/音楽部門投票結果 - 第13回 東方Project 人気投票.html',\n",
       " 'data/13/人妖部門投票結果 - 第13回 東方Project 人気投票.html',\n",
       " 'data/13/ベストパートナー部門投票結果 - 第13回 東方Project 人気投票.html',\n",
       " 'data/15/音楽部門投票結果 - 第15回 東方Project 人気投票.html',\n",
       " 'data/15/アンケート部門集計結果 - 第15回 東方Project 人気投票.html',\n",
       " 'data/15/人妖部門投票結果 - 第15回 東方Project 人気投票.html',\n",
       " 'data/15/作品部門投票結果 - 第15回 東方Project 人気投票.html',\n",
       " 'data/9/第９回東方シリーズ人気投票 音楽部門集計結果.html',\n",
       " 'data/9/第９回東方シリーズ人気投票 投票者アンケート結果.html',\n",
       " 'data/9/第９回東方シリーズ人気投票 キャラ部門集計結果.html',\n",
       " 'data/4/第４回東方シリーズ人気投票 投票者アンケート結果.html',\n",
       " 'data/4/第４回東方シリーズ人気投票 その他集計結果.html',\n",
       " 'data/4/第４回東方シリーズ人気投票 キャラ部門集計結果.html',\n",
       " 'data/4/第４回東方シリーズ人気投票 音楽部門集計結果.html',\n",
       " 'data/17/作品.html',\n",
       " 'data/17/音楽.html',\n",
       " 'data/17/アンケート.html',\n",
       " 'data/17/第18回東方Project人気投票_人妖.html',\n",
       " 'data/17/人妖.html',\n",
       " 'data/3/第３回東方シリーズ人気投票 その他集計結果.html',\n",
       " 'data/3/第３回東方シリーズ人気投票 音楽部門集計結果.html',\n",
       " 'data/3/第３回東方シリーズ人気投票 キャラ部門集計結果.html',\n",
       " 'data/3/第３回東方シリーズ人気投票 スペルカード部門集計結果.html',\n",
       " 'data/3/第３回東方シリーズ人気投票 投票者アンケート結果.html',\n",
       " 'data/2/第２回東方シリーズ人気投票 音楽部門結果.html',\n",
       " 'data/2/第２回東方シリーズ人気投票 キャラ部門結果.html',\n",
       " 'data/2/第２回東方シリーズ人気投票 その他集計結果.html',\n",
       " 'data/2/第２回東方シリーズ人気投票 弾幕部門結果.html',\n",
       " 'data/7/第７回東方シリーズ人気投票 キャラ部門集計結果.html',\n",
       " 'data/7/第７回東方シリーズ人気投票 音楽部門集計結果.html',\n",
       " 'data/7/第７回東方シリーズ人気投票 投票者アンケート結果.html',\n",
       " 'data/11/アンケート投票結果 - 第11回 東方Project 人気投票.html',\n",
       " 'data/11/経緯報告書 - 第11回 東方Project 人気投票.html',\n",
       " 'data/11/キャラ部門投票結果 - 第11回 東方Project 人気投票.html',\n",
       " 'data/11/音楽部門投票結果 - 第11回 東方Project 人気投票.html',\n",
       " 'data/18/第18回東方Project人気投票_人妖.html',\n",
       " 'data/18/第18回東方Project人気投票_音楽.html',\n",
       " 'data/18/第18回東方Project人気投票_作品.html',\n",
       " 'data/18/第18回東方Project人気投票_アンケート.html',\n",
       " 'data/8/第８回東方シリーズ人気投票 音楽部門集計結果.html',\n",
       " 'data/8/第８回東方シリーズ人気投票 キャラ部門集計結果.html',\n",
       " 'data/8/第８回東方シリーズ人気投票 投票者アンケート結果.html',\n",
       " 'data/6/第６回東方シリーズ人気投票 その他集計結果.html',\n",
       " 'data/6/第６回東方シリーズ人気投票 キャラ部門集計結果.html',\n",
       " 'data/6/第６回東方シリーズ人気投票 音楽部門集計結果.html',\n",
       " 'data/6/第６回東方シリーズ人気投票 投票者アンケート結果.html',\n",
       " 'data/14/音楽部門投票結果 - 第14回 東方Project 人気投票.html',\n",
       " 'data/14/アンケート部門集計結果 - 第14回 東方Project 人気投票.html',\n",
       " 'data/14/作品部門投票結果 - 第14回 東方Project 人気投票.html',\n",
       " 'data/14/人妖部門投票結果 - 第14回 東方Project 人気投票.html',\n",
       " 'data/1/東方シリーズ音楽人気投票 [Vote Top]_iro.html',\n",
       " 'data/1/東方シリーズキャラ人気投票 [Vote Top].html',\n",
       " 'data/1/東方シリーズ音楽人気投票 [Vote Top].html']"
      ]
     },
     "execution_count": 74,
     "metadata": {},
     "output_type": "execute_result"
    }
   ],
   "source": [
    "htmlfiles"
   ]
  },
  {
   "cell_type": "code",
   "execution_count": null,
   "id": "dea17f85",
   "metadata": {},
   "outputs": [],
   "source": []
  }
 ],
 "metadata": {
  "kernelspec": {
   "display_name": "Python 3 (ipykernel)",
   "language": "python",
   "name": "python3"
  },
  "language_info": {
   "codemirror_mode": {
    "name": "ipython",
    "version": 3
   },
   "file_extension": ".py",
   "mimetype": "text/x-python",
   "name": "python",
   "nbconvert_exporter": "python",
   "pygments_lexer": "ipython3",
   "version": "3.8.10"
  },
  "vscode": {
   "interpreter": {
    "hash": "916dbcbb3f70747c44a77c7bcd40155683ae19c65e1c03b4aa3499c5328201f1"
   }
  }
 },
 "nbformat": 4,
 "nbformat_minor": 5
}
