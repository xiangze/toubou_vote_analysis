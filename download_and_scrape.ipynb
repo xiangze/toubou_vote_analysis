{
 "cells": [
  {
   "cell_type": "markdown",
   "id": "f4d09d5c",
   "metadata": {},
   "source": [
    "## Download html files"
   ]
  },
  {
   "cell_type": "markdown",
   "id": "f4ece478",
   "metadata": {},
   "source": [
    "request,bsでは動的コンテンツをとってこれないのでseleniumを使う"
   ]
  },
  {
   "cell_type": "code",
   "execution_count": 2,
   "id": "29770ac6",
   "metadata": {},
   "outputs": [],
   "source": [
    "import requests"
   ]
  },
  {
   "cell_type": "code",
   "execution_count": 3,
   "id": "936dc284",
   "metadata": {},
   "outputs": [],
   "source": [
    "url=\"https://toho-vote.info/result\""
   ]
  },
  {
   "cell_type": "code",
   "execution_count": 4,
   "id": "9505ed63",
   "metadata": {},
   "outputs": [],
   "source": [
    "r=requests.get(url)"
   ]
  },
  {
   "cell_type": "code",
   "execution_count": 5,
   "id": "b0651a5d",
   "metadata": {},
   "outputs": [
    {
     "data": {
      "text/plain": [
       "<Response [200]>"
      ]
     },
     "execution_count": 5,
     "metadata": {},
     "output_type": "execute_result"
    }
   ],
   "source": [
    "r"
   ]
  },
  {
   "cell_type": "code",
   "execution_count": null,
   "id": "b725e260",
   "metadata": {},
   "outputs": [],
   "source": [
    "r.content"
   ]
  },
  {
   "cell_type": "code",
   "execution_count": null,
   "id": "98b009ea",
   "metadata": {},
   "outputs": [],
   "source": [
    "r.write()"
   ]
  },
  {
   "cell_type": "markdown",
   "id": "998d34f0",
   "metadata": {},
   "source": [
    "## htmlからcsvファイル作成(scraping)"
   ]
  },
  {
   "cell_type": "code",
   "execution_count": 4,
   "id": "0574b8f3",
   "metadata": {},
   "outputs": [],
   "source": [
    "from bs4 import BeautifulSoup  # BeautifulSoupクラスをインポート"
   ]
  },
  {
   "cell_type": "code",
   "execution_count": 16,
   "id": "8226b8f9",
   "metadata": {},
   "outputs": [],
   "source": [
    "ddir=\"data\"\n",
    "filename_tr=\"/18/第18回東方Project人気投票_人妖\"\n",
    "filename=ddir+filename_tr+\".html\""
   ]
  },
  {
   "cell_type": "code",
   "execution_count": 5,
   "id": "bdd16f64",
   "metadata": {},
   "outputs": [],
   "source": [
    "with open(ddir+filename,\"r\") as fp:\n",
    "    htmltext=fp.read()\n",
    "soup = BeautifulSoup(htmltext, \"html.parser\")"
   ]
  },
  {
   "cell_type": "markdown",
   "id": "564af34e",
   "metadata": {},
   "source": [
    "ブラウザのデバッガ\n",
    "document.querySelector(\"#app > div > main > div._container_1r0po_1._root_1orw9_14 > div > div > div > table\")\n",
    "の結果から"
   ]
  },
  {
   "cell_type": "code",
   "execution_count": 4,
   "id": "653fe5bf",
   "metadata": {},
   "outputs": [
    {
     "data": {
      "text/plain": [
       "<div class=\"_title_en_1h8e9_51\">Characters</div>"
      ]
     },
     "execution_count": 4,
     "metadata": {},
     "output_type": "execute_result"
    }
   ],
   "source": [
    "soup.body.div.div.main.find(\"div\", class_=\"_root_1orw9_14\").div.div"
   ]
  },
  {
   "cell_type": "code",
   "execution_count": 5,
   "id": "8485f38d",
   "metadata": {},
   "outputs": [
    {
     "data": {
      "text/plain": [
       "<header class=\"_title_1h8e9_1\"><h1>人妖部門</h1><div class=\"_title_en_1h8e9_51\">Characters</div></header>"
      ]
     },
     "execution_count": 5,
     "metadata": {},
     "output_type": "execute_result"
    }
   ],
   "source": [
    "soup.body.div.div.main.find(\"div\", class_=\"_root_1orw9_14\").div.header"
   ]
  },
  {
   "cell_type": "code",
   "execution_count": 6,
   "id": "f4bc35b1",
   "metadata": {},
   "outputs": [],
   "source": [
    "def get_tabledata(table):\n",
    "    return [[td.string for td in tr.find_all(\"td\")] for tr in table]"
   ]
  },
  {
   "cell_type": "code",
   "execution_count": 7,
   "id": "4f9e5a82",
   "metadata": {},
   "outputs": [],
   "source": [
    "table=soup.body.div.div.main.find(\"div\", class_=\"_root_1orw9_14\").div\n"
   ]
  },
  {
   "cell_type": "code",
   "execution_count": 8,
   "id": "7b64e7a4",
   "metadata": {},
   "outputs": [],
   "source": [
    "table_header=table.find_all(\"th\")\n",
    "table_contents=table.find_all(\"tr\")"
   ]
  },
  {
   "cell_type": "code",
   "execution_count": 9,
   "id": "868b7260",
   "metadata": {},
   "outputs": [
    {
     "data": {
      "text/plain": [
       "[<th>順位</th>,\n",
       " <th class=\"_rank_prev_1orw9_133\">前回</th>,\n",
       " <th class=\"_rank_prev2_1orw9_136\">前々</th>,\n",
       " <th class=\"_name_1orw9_101\">名前</th>,\n",
       " <th>ポイント</th>,\n",
       " <th>一推し</th>,\n",
       " <th>コメント</th>,\n",
       " <th>支援作品</th>]"
      ]
     },
     "execution_count": 9,
     "metadata": {},
     "output_type": "execute_result"
    }
   ],
   "source": [
    "table_header"
   ]
  },
  {
   "cell_type": "code",
   "execution_count": 61,
   "id": "d79072a8",
   "metadata": {},
   "outputs": [],
   "source": [
    "def get_tabledata(table):\n",
    "    return [[td.string for td in tr.find_all(\"td\")] for tr in table]    \n",
    "def get_tableheader(table):\n",
    "    return [[t.string for t in tr.find_all(\"th\")] for tr in table]    "
   ]
  },
  {
   "cell_type": "code",
   "execution_count": 12,
   "id": "a111e688",
   "metadata": {},
   "outputs": [],
   "source": [
    "outdata=get_tabledata(table_contents)"
   ]
  },
  {
   "cell_type": "code",
   "execution_count": 14,
   "id": "7226f7b6",
   "metadata": {},
   "outputs": [
    {
     "data": {
      "text/plain": [
       "[[], ['1', '5', '5', 'フランドール・スカーレット', '16,723', '3,730', '3,633', '19']]"
      ]
     },
     "execution_count": 14,
     "metadata": {},
     "output_type": "execute_result"
    }
   ],
   "source": [
    "outdata[0]=outheader\n",
    "outdata[:2]"
   ]
  },
  {
   "cell_type": "markdown",
   "id": "6b647b8c",
   "metadata": {},
   "source": [
    "### output"
   ]
  },
  {
   "cell_type": "code",
   "execution_count": 64,
   "id": "04200420",
   "metadata": {},
   "outputs": [
    {
     "ename": "NameError",
     "evalue": "name 'outdata' is not defined",
     "output_type": "error",
     "traceback": [
      "\u001b[0;31m---------------------------------------------------------------------------\u001b[0m",
      "\u001b[0;31mNameError\u001b[0m                                 Traceback (most recent call last)",
      "\u001b[0;32m/tmp/ipykernel_272522/3799491553.py\u001b[0m in \u001b[0;36m<module>\u001b[0;34m\u001b[0m\n\u001b[1;32m      2\u001b[0m \u001b[0;32mwith\u001b[0m \u001b[0mopen\u001b[0m\u001b[0;34m(\u001b[0m\u001b[0mddir\u001b[0m\u001b[0;34m+\u001b[0m\u001b[0mfilename_tr\u001b[0m\u001b[0;34m+\u001b[0m\u001b[0;34m\".csv\"\u001b[0m\u001b[0;34m,\u001b[0m \u001b[0;34m'w'\u001b[0m\u001b[0;34m)\u001b[0m \u001b[0;32mas\u001b[0m \u001b[0mfpw\u001b[0m\u001b[0;34m:\u001b[0m\u001b[0;34m\u001b[0m\u001b[0;34m\u001b[0m\u001b[0m\n\u001b[1;32m      3\u001b[0m     \u001b[0mwriter\u001b[0m \u001b[0;34m=\u001b[0m \u001b[0mcsv\u001b[0m\u001b[0;34m.\u001b[0m\u001b[0mwriter\u001b[0m\u001b[0;34m(\u001b[0m\u001b[0mfpw\u001b[0m\u001b[0;34m,\u001b[0m \u001b[0mlineterminator\u001b[0m\u001b[0;34m=\u001b[0m\u001b[0;34m'\\n'\u001b[0m\u001b[0;34m)\u001b[0m\u001b[0;34m\u001b[0m\u001b[0;34m\u001b[0m\u001b[0m\n\u001b[0;32m----> 4\u001b[0;31m     \u001b[0mwriter\u001b[0m\u001b[0;34m.\u001b[0m\u001b[0mwriterows\u001b[0m\u001b[0;34m(\u001b[0m\u001b[0moutdata\u001b[0m\u001b[0;34m)\u001b[0m\u001b[0;34m\u001b[0m\u001b[0;34m\u001b[0m\u001b[0m\n\u001b[0m",
      "\u001b[0;31mNameError\u001b[0m: name 'outdata' is not defined"
     ]
    }
   ],
   "source": [
    "import csv\n",
    "with open(ddir+filename_tr+\".csv\", 'w') as fpw:\n",
    "    writer = csv.writer(fpw, lineterminator='\\n')\n",
    "    writer.writerows(outdata)"
   ]
  },
  {
   "cell_type": "markdown",
   "id": "22bbb885",
   "metadata": {},
   "source": [
    "## 第16回以前の投票結果"
   ]
  },
  {
   "cell_type": "code",
   "execution_count": 65,
   "id": "652f1c1c",
   "metadata": {},
   "outputs": [],
   "source": [
    "def openhtml(ddir,filename_tr):\n",
    "    filename=ddir+filename_tr+\".html\"\n",
    "    with open(filename,\"r\") as fp:\n",
    "        htmltext=fp.read()\n",
    "    return htmltext\n",
    "\n",
    "def souptable2csv(table,writedown=False,filename_tr=\"\"):\n",
    "    table_header=table.find_all(\"th\")\n",
    "    table_contents=table.find_all(\"tr\")\n",
    "\n",
    "    outdata  =get_tabledata(table_contents)\n",
    "    outheader=get_tableheader(table_header)\n",
    "    outdata[0]=outheader[0]\n",
    "\n",
    "    with open(ddir+filename_tr+\".csv\", 'w') as fpw:\n",
    "        writer = csv.writer(fpw, lineterminator='\\n')\n",
    "        writer.writerows(outdata)\n",
    "\n",
    "def converthtml2csv(filename_tr,writedown=False):\n",
    "    htmltext=openhtml(ddir,filename_tr)\n",
    "    soup = BeautifulSoup(htmltext, \"html.parser\")\n",
    "#    table=soup.body.div.div.main.find(\"div\", class_=\"_root_1orw9_14\").div\n",
    "    table=soup\n",
    "    souptable2csv(table,writedown,filename_tr)\n",
    "   \n"
   ]
  },
  {
   "cell_type": "code",
   "execution_count": 66,
   "id": "130caacc",
   "metadata": {},
   "outputs": [],
   "source": [
    "filename_tr=\"/18/第18回東方Project人気投票_人妖\"\n",
    "converthtml2csv(filename_tr)"
   ]
  },
  {
   "cell_type": "code",
   "execution_count": 67,
   "id": "9f5fb882",
   "metadata": {},
   "outputs": [],
   "source": [
    "filename_tr=\"/17/人妖\"\n",
    "converthtml2csv(filename_tr)"
   ]
  },
  {
   "cell_type": "code",
   "execution_count": 69,
   "id": "97a0ff37",
   "metadata": {},
   "outputs": [],
   "source": [
    "filename_tr=\"/16/人妖部門投票結果 - 第16回 東方Project 人気投票\"\n",
    "converthtml2csv(filename_tr)"
   ]
  },
  {
   "cell_type": "code",
   "execution_count": 72,
   "id": "d6ccd2e0",
   "metadata": {},
   "outputs": [
    {
     "ename": "FileNotFoundError",
     "evalue": "[Errno 2] No such file or directory: 'data/spell/スペルカード人気投票 使用者別集計結果.html.html'",
     "output_type": "error",
     "traceback": [
      "\u001b[0;31m---------------------------------------------------------------------------\u001b[0m",
      "\u001b[0;31mFileNotFoundError\u001b[0m                         Traceback (most recent call last)",
      "\u001b[0;32m/tmp/ipykernel_272522/540058448.py\u001b[0m in \u001b[0;36m<module>\u001b[0;34m\u001b[0m\n\u001b[1;32m      5\u001b[0m     \u001b[0mfilename_tr\u001b[0m\u001b[0;34m=\u001b[0m\u001b[0mf\u001b[0m\u001b[0;34m[\u001b[0m\u001b[0;36m4\u001b[0m\u001b[0;34m:\u001b[0m\u001b[0;34m]\u001b[0m\u001b[0;34m\u001b[0m\u001b[0;34m\u001b[0m\u001b[0m\n\u001b[1;32m      6\u001b[0m     \u001b[0;31m#print (filename_tr)\u001b[0m\u001b[0;34m\u001b[0m\u001b[0;34m\u001b[0m\u001b[0;34m\u001b[0m\u001b[0m\n\u001b[0;32m----> 7\u001b[0;31m     \u001b[0mconverthtml2csv\u001b[0m\u001b[0;34m(\u001b[0m\u001b[0mfilename_tr\u001b[0m\u001b[0;34m)\u001b[0m\u001b[0;34m\u001b[0m\u001b[0;34m\u001b[0m\u001b[0m\n\u001b[0m",
      "\u001b[0;32m/tmp/ipykernel_272522/1771267615.py\u001b[0m in \u001b[0;36mconverthtml2csv\u001b[0;34m(filename_tr, writedown)\u001b[0m\n\u001b[1;32m     18\u001b[0m \u001b[0;34m\u001b[0m\u001b[0m\n\u001b[1;32m     19\u001b[0m \u001b[0;32mdef\u001b[0m \u001b[0mconverthtml2csv\u001b[0m\u001b[0;34m(\u001b[0m\u001b[0mfilename_tr\u001b[0m\u001b[0;34m,\u001b[0m\u001b[0mwritedown\u001b[0m\u001b[0;34m=\u001b[0m\u001b[0;32mFalse\u001b[0m\u001b[0;34m)\u001b[0m\u001b[0;34m:\u001b[0m\u001b[0;34m\u001b[0m\u001b[0;34m\u001b[0m\u001b[0m\n\u001b[0;32m---> 20\u001b[0;31m     \u001b[0mhtmltext\u001b[0m\u001b[0;34m=\u001b[0m\u001b[0mopenhtml\u001b[0m\u001b[0;34m(\u001b[0m\u001b[0mddir\u001b[0m\u001b[0;34m,\u001b[0m\u001b[0mfilename_tr\u001b[0m\u001b[0;34m)\u001b[0m\u001b[0;34m\u001b[0m\u001b[0;34m\u001b[0m\u001b[0m\n\u001b[0m\u001b[1;32m     21\u001b[0m     \u001b[0msoup\u001b[0m \u001b[0;34m=\u001b[0m \u001b[0mBeautifulSoup\u001b[0m\u001b[0;34m(\u001b[0m\u001b[0mhtmltext\u001b[0m\u001b[0;34m,\u001b[0m \u001b[0;34m\"html.parser\"\u001b[0m\u001b[0;34m)\u001b[0m\u001b[0;34m\u001b[0m\u001b[0;34m\u001b[0m\u001b[0m\n\u001b[1;32m     22\u001b[0m \u001b[0;31m#    table=soup.body.div.div.main.find(\"div\", class_=\"_root_1orw9_14\").div\u001b[0m\u001b[0;34m\u001b[0m\u001b[0;34m\u001b[0m\u001b[0;34m\u001b[0m\u001b[0m\n",
      "\u001b[0;32m/tmp/ipykernel_272522/1771267615.py\u001b[0m in \u001b[0;36mopenhtml\u001b[0;34m(ddir, filename_tr)\u001b[0m\n\u001b[1;32m      1\u001b[0m \u001b[0;32mdef\u001b[0m \u001b[0mopenhtml\u001b[0m\u001b[0;34m(\u001b[0m\u001b[0mddir\u001b[0m\u001b[0;34m,\u001b[0m\u001b[0mfilename_tr\u001b[0m\u001b[0;34m)\u001b[0m\u001b[0;34m:\u001b[0m\u001b[0;34m\u001b[0m\u001b[0;34m\u001b[0m\u001b[0m\n\u001b[1;32m      2\u001b[0m     \u001b[0mfilename\u001b[0m\u001b[0;34m=\u001b[0m\u001b[0mddir\u001b[0m\u001b[0;34m+\u001b[0m\u001b[0mfilename_tr\u001b[0m\u001b[0;34m+\u001b[0m\u001b[0;34m\".html\"\u001b[0m\u001b[0;34m\u001b[0m\u001b[0;34m\u001b[0m\u001b[0m\n\u001b[0;32m----> 3\u001b[0;31m     \u001b[0;32mwith\u001b[0m \u001b[0mopen\u001b[0m\u001b[0;34m(\u001b[0m\u001b[0mfilename\u001b[0m\u001b[0;34m,\u001b[0m\u001b[0;34m\"r\"\u001b[0m\u001b[0;34m)\u001b[0m \u001b[0;32mas\u001b[0m \u001b[0mfp\u001b[0m\u001b[0;34m:\u001b[0m\u001b[0;34m\u001b[0m\u001b[0;34m\u001b[0m\u001b[0m\n\u001b[0m\u001b[1;32m      4\u001b[0m         \u001b[0mhtmltext\u001b[0m\u001b[0;34m=\u001b[0m\u001b[0mfp\u001b[0m\u001b[0;34m.\u001b[0m\u001b[0mread\u001b[0m\u001b[0;34m(\u001b[0m\u001b[0;34m)\u001b[0m\u001b[0;34m\u001b[0m\u001b[0;34m\u001b[0m\u001b[0m\n\u001b[1;32m      5\u001b[0m     \u001b[0;32mreturn\u001b[0m \u001b[0mhtmltext\u001b[0m\u001b[0;34m\u001b[0m\u001b[0;34m\u001b[0m\u001b[0m\n",
      "\u001b[0;31mFileNotFoundError\u001b[0m: [Errno 2] No such file or directory: 'data/spell/スペルカード人気投票 使用者別集計結果.html.html'"
     ]
    }
   ],
   "source": [
    "import glob\n",
    "htmlfiles=glob.glob(\"data/*/*.html\")\n",
    "\n",
    "for f in htmlfiles:\n",
    "    filename_tr=f[4:]\n",
    "    #print (filename_tr)\n",
    "    converthtml2csv(filename_tr)"
   ]
  },
  {
   "cell_type": "code",
   "execution_count": null,
   "id": "7ebf2858",
   "metadata": {},
   "outputs": [],
   "source": []
  }
 ],
 "metadata": {
  "kernelspec": {
   "display_name": "Python 3 (ipykernel)",
   "language": "python",
   "name": "python3"
  },
  "language_info": {
   "codemirror_mode": {
    "name": "ipython",
    "version": 3
   },
   "file_extension": ".py",
   "mimetype": "text/x-python",
   "name": "python",
   "nbconvert_exporter": "python",
   "pygments_lexer": "ipython3",
   "version": "3.8.10"
  },
  "vscode": {
   "interpreter": {
    "hash": "916dbcbb3f70747c44a77c7bcd40155683ae19c65e1c03b4aa3499c5328201f1"
   }
  }
 },
 "nbformat": 4,
 "nbformat_minor": 5
}
