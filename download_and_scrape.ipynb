{
 "cells": [
  {
   "cell_type": "markdown",
   "id": "f4d09d5c",
   "metadata": {},
   "source": [
    "## Download html files"
   ]
  },
  {
   "cell_type": "markdown",
   "id": "f4ece478",
   "metadata": {},
   "source": [
    "request,bsでは動的コンテンツをとってこれないのでseleniumを使う"
   ]
  },
  {
   "cell_type": "code",
   "execution_count": 2,
   "id": "29770ac6",
   "metadata": {},
   "outputs": [],
   "source": [
    "import requests"
   ]
  },
  {
   "cell_type": "code",
   "execution_count": 3,
   "id": "936dc284",
   "metadata": {},
   "outputs": [],
   "source": [
    "url=\"https://toho-vote.info/result\""
   ]
  },
  {
   "cell_type": "code",
   "execution_count": 4,
   "id": "9505ed63",
   "metadata": {},
   "outputs": [],
   "source": [
    "r=requests.get(url)"
   ]
  },
  {
   "cell_type": "code",
   "execution_count": 5,
   "id": "b0651a5d",
   "metadata": {},
   "outputs": [
    {
     "data": {
      "text/plain": [
       "<Response [200]>"
      ]
     },
     "execution_count": 5,
     "metadata": {},
     "output_type": "execute_result"
    }
   ],
   "source": [
    "r"
   ]
  },
  {
   "cell_type": "code",
   "execution_count": 6,
   "id": "b725e260",
   "metadata": {},
   "outputs": [
    {
     "data": {
      "text/plain": [
       "b'<!DOCTYPE html>\\n<html lang=\"ja\">\\n  <head>\\n    <meta charset=\"UTF-8\" />\\n    <meta http-equiv=\"X-UA-Compatible\" content=\"IE=edge\">\\n    <meta name=\"viewport\" content=\"width=device-width, initial-scale=1.0\" />\\n\\n    <link rel=\"icon\" href=\"/favicon.ico\" type=\"image/x-icon\">\\n    <link rel=\"icon\" href=\"/icon.svg\" type=\"image/svg+xml\">\\n    <link rel=\"apple-touch-icon\" href=\"/apple-touch-icon.png\">\\n    <meta name=\"format-detection\" content=\"telephone=no\">\\n\\n    <title>\\xe7\\xac\\xac18\\xe5\\x9b\\x9e\\xe6\\x9d\\xb1\\xe6\\x96\\xb9Project\\xe4\\xba\\xba\\xe6\\xb0\\x97\\xe6\\x8a\\x95\\xe7\\xa5\\xa8</title>\\n    <meta name=\"description\" content=\"\\xe6\\x9d\\xb1\\xe6\\x96\\xb9Project\\xe3\\x81\\xab\\xe7\\x99\\xbb\\xe5\\xa0\\xb4\\xe3\\x81\\x99\\xe3\\x82\\x8b\\xe3\\x82\\xad\\xe3\\x83\\xa3\\xe3\\x83\\xa9\\xe3\\x82\\xaf\\xe3\\x82\\xbf\\xe3\\x83\\xbc\\xe3\\x82\\x84\\xe9\\x9f\\xb3\\xe6\\xa5\\xbd\\xe3\\x81\\xaa\\xe3\\x81\\xa9\\xe3\\x81\\xae\\xe4\\xba\\xba\\xe6\\xb0\\x97\\xe6\\x8a\\x95\\xe7\\xa5\\xa8\\xe3\\x82\\x92\\xe8\\xa1\\x8c\\xe3\\x81\\x86\\xe9\\x9d\\x9e\\xe5\\x85\\xac\\xe5\\xbc\\x8f\\xe3\\x81\\xae\\xe3\\x82\\xaa\\xe3\\x83\\xb3\\xe3\\x83\\xa9\\xe3\\x82\\xa4\\xe3\\x83\\xb3\\xe3\\x82\\xa4\\xe3\\x83\\x99\\xe3\\x83\\xb3\\xe3\\x83\\x88\\xe3\\x81\\xa7\\xe3\\x81\\x99\\xe3\\x80\\x82\">\\n    <meta name=\"author\" content=\"\\xe6\\x9d\\xb1\\xe6\\x96\\xb9Project\\xe4\\xba\\xba\\xe6\\xb0\\x97\\xe6\\x8a\\x95\\xe7\\xa5\\xa8\\xe5\\xae\\x9f\\xe8\\xa1\\x8c\\xe5\\xa7\\x94\\xe5\\x93\\xa1\\xe4\\xbc\\x9a\">\\n    \\n    <meta property=\"og:title\" content=\"\\xe7\\xac\\xac18\\xe5\\x9b\\x9e\\xe6\\x9d\\xb1\\xe6\\x96\\xb9Project\\xe4\\xba\\xba\\xe6\\xb0\\x97\\xe6\\x8a\\x95\\xe7\\xa5\\xa8\">\\n    <meta property=\"og:type\" content=\"website\">\\n    <meta property=\"og:url\" content=\"https://toho-vote.info\">\\n    <meta property=\"og:image\" content=\"https://toho-vote.info/keyvisual.png\">\\n    <meta property=\"og:description\" content=\"\\xe6\\x9d\\xb1\\xe6\\x96\\xb9Project\\xe3\\x81\\xab\\xe7\\x99\\xbb\\xe5\\xa0\\xb4\\xe3\\x81\\x99\\xe3\\x82\\x8b\\xe3\\x82\\xad\\xe3\\x83\\xa3\\xe3\\x83\\xa9\\xe3\\x82\\xaf\\xe3\\x82\\xbf\\xe3\\x83\\xbc\\xe3\\x82\\x84\\xe9\\x9f\\xb3\\xe6\\xa5\\xbd\\xe3\\x81\\xaa\\xe3\\x81\\xa9\\xe3\\x81\\xae\\xe4\\xba\\xba\\xe6\\xb0\\x97\\xe6\\x8a\\x95\\xe7\\xa5\\xa8\\xe3\\x82\\x92\\xe8\\xa1\\x8c\\xe3\\x81\\x86\\xe9\\x9d\\x9e\\xe5\\x85\\xac\\xe5\\xbc\\x8f\\xe3\\x81\\xae\\xe3\\x82\\xaa\\xe3\\x83\\xb3\\xe3\\x83\\xa9\\xe3\\x82\\xa4\\xe3\\x83\\xb3\\xe3\\x82\\xa4\\xe3\\x83\\x99\\xe3\\x83\\xb3\\xe3\\x83\\x88\\xe3\\x81\\xa7\\xe3\\x81\\x99\\xe3\\x80\\x82\">\\n\\n    <meta name=\"twitter:card\" content=\"summary\" />\\n    <meta name=\"twitter:site\" content=\"@toho_vote\" />\\n    <meta name=\"twitter:title\" content=\"\\xe7\\xac\\xac18\\xe5\\x9b\\x9e\\xe6\\x9d\\xb1\\xe6\\x96\\xb9Project\\xe4\\xba\\xba\\xe6\\xb0\\x97\\xe6\\x8a\\x95\\xe7\\xa5\\xa8\" />\\n    <meta name=\"twitter:description\" content=\"\\xe6\\x9d\\xb1\\xe6\\x96\\xb9Project\\xe3\\x81\\xab\\xe7\\x99\\xbb\\xe5\\xa0\\xb4\\xe3\\x81\\x99\\xe3\\x82\\x8b\\xe3\\x82\\xad\\xe3\\x83\\xa3\\xe3\\x83\\xa9\\xe3\\x82\\xaf\\xe3\\x82\\xbf\\xe3\\x83\\xbc\\xe3\\x82\\x84\\xe9\\x9f\\xb3\\xe6\\xa5\\xbd\\xe3\\x81\\xaa\\xe3\\x81\\xa9\\xe3\\x81\\xae\\xe4\\xba\\xba\\xe6\\xb0\\x97\\xe6\\x8a\\x95\\xe7\\xa5\\xa8\\xe3\\x82\\x92\\xe8\\xa1\\x8c\\xe3\\x81\\x86\\xe9\\x9d\\x9e\\xe5\\x85\\xac\\xe5\\xbc\\x8f\\xe3\\x81\\xae\\xe3\\x82\\xaa\\xe3\\x83\\xb3\\xe3\\x83\\xa9\\xe3\\x82\\xa4\\xe3\\x83\\xb3\\xe3\\x82\\xa4\\xe3\\x83\\x99\\xe3\\x83\\xb3\\xe3\\x83\\x88\\xe3\\x81\\xa7\\xe3\\x81\\x99\\xe3\\x80\\x82\" />\\n    <meta name=\"twitter:image\" content=\"https://toho-vote.info/keyvisual.png\" />\\n    <script type=\"module\" crossorigin src=\"/assets/index.0ff3c7e3.js\"></script>\\n    <link rel=\"stylesheet\" href=\"/assets/index.e93728e2.css\">\\n  </head>\\n  <body>\\n    <div id=\"app\"></div>\\n    \\n  </body>\\n</html>\\n'"
      ]
     },
     "execution_count": 6,
     "metadata": {},
     "output_type": "execute_result"
    }
   ],
   "source": [
    "r.content"
   ]
  },
  {
   "cell_type": "code",
   "execution_count": null,
   "id": "98b009ea",
   "metadata": {},
   "outputs": [],
   "source": [
    "r.write()"
   ]
  },
  {
   "cell_type": "markdown",
   "id": "998d34f0",
   "metadata": {},
   "source": [
    "## htmlからcsvファイル作成(scraping)"
   ]
  },
  {
   "cell_type": "code",
   "execution_count": 1,
   "id": "0574b8f3",
   "metadata": {},
   "outputs": [],
   "source": [
    "from bs4 import BeautifulSoup  # BeautifulSoupクラスをインポート"
   ]
  },
  {
   "cell_type": "code",
   "execution_count": 2,
   "id": "8226b8f9",
   "metadata": {},
   "outputs": [],
   "source": [
    "ddir=\"data\"\n",
    "filename=\"/18/第18回東方Project人気投票_人妖\"+\".html\""
   ]
  },
  {
   "cell_type": "code",
   "execution_count": 3,
   "id": "bdd16f64",
   "metadata": {},
   "outputs": [],
   "source": [
    "with open(ddir+filename,\"r\") as fp:\n",
    "    htmltext=fp.read()\n",
    "soup = BeautifulSoup(htmltext, \"html.parser\")"
   ]
  },
  {
   "cell_type": "code",
   "execution_count": 4,
   "id": "653fe5bf",
   "metadata": {},
   "outputs": [
    {
     "data": {
      "text/plain": [
       "<div class=\"_title_en_1h8e9_51\">Characters</div>"
      ]
     },
     "execution_count": 4,
     "metadata": {},
     "output_type": "execute_result"
    }
   ],
   "source": [
    "#document.querySelector(\"#app > div > main > div._container_1r0po_1._root_1orw9_14 > div > div > div > table\")\n",
    "soup.body.div.div.main.find(\"div\", class_=\"_root_1orw9_14\").div.div"
   ]
  },
  {
   "cell_type": "code",
   "execution_count": 44,
   "id": "2a9c63e2",
   "metadata": {},
   "outputs": [
    {
     "data": {
      "text/plain": [
       "<div class=\"_wrapper_1r0po_24\"><header class=\"_title_1h8e9_1\"><h1>人妖部門</h1><div class=\"_title_en_1h8e9_51\">Characters</div></header><div><div><p class=\"_count_1orw9_17\">投票数 51,652票</p><table class=\"_result_1orw9_33\"><thead><tr><th>順位</th><th class=\"_rank_prev_1orw9_133\">前回</th><th class=\"_rank_prev2_1orw9_136\">前々</th><th class=\"_name_1orw9_101\">名前</th><th>ポイント</th><th>一推し</th><th>コメント</th><th>支援作品</th></tr></thead><tbody><tr><td class=\"_rank_1orw9_70\"><div>1</div></td><td class=\"_rank_prev_1orw9_133\">5</td><td class=\"_rank_prev2_1orw9_136\">5</td><td class=\"_name_1orw9_101\"><span>フランドール・スカーレット</span></td><td><strong>16,723</strong></td><td>3,730</td><td>3,633</td><td>19</td></tr><tr><td class=\"_rank_1orw9_70\"><div>2</div></td><td class=\"_rank_prev_1orw9_133\">2</td><td class=\"_rank_prev2_1orw9_136\">4</td><td class=\"_name_1orw9_101\"><span>霧雨 魔理沙</span></td><td><strong>16,578</strong></td><td>3,267</td><td>3,160</td><td>25</td></tr><tr><td class=\"_rank_1orw9_70\"><div>3</div></td><td class=\"_rank_prev_1orw9_133\">3</td><td class=\"_rank_prev2_1orw9_136\">2</td><td class=\"_name_1orw9_101\"><span>博麗 霊夢</span></td><td><strong>15,679</strong></td><td>2,913</td><td>2,952</td><td>33</td></tr><tr><td class=\"_rank_1orw9_70\"><div>4</div></td><td class=\"_rank_prev_1orw9_133\">1</td><td class=\"_rank_prev2_1orw9_136\">1</td><td class=\"_name_1orw9_101\"><span>魂魄 妖夢</span></td><td><strong>15,323</strong></td><td>3,791</td><td>2,883</td><td>29</td></tr><tr><td class=\"_rank_1orw9_70\"><div>5</div></td><td class=\"_rank_prev_1orw9_133\">6</td><td class=\"_rank_prev2_1orw9_136\">7</td><td class=\"_name_1orw9_101\"><span>十六夜 咲夜</span></td><td><strong>13,787</strong></td><td>2,493</td><td>2,591</td><td>9</td></tr><tr><td class=\"_rank_1orw9_70\"><div>6</div></td><td class=\"_rank_prev_1orw9_133\">4</td><td class=\"_rank_prev2_1orw9_136\">3</td><td class=\"_name_1orw9_101\"><span>古明地 こいし</span></td><td><strong>13,150</strong></td><td>2,473</td><td>2,453</td><td>48</td></tr><tr><td class=\"_rank_1orw9_70\"><div>7</div></td><td class=\"_rank_prev_1orw9_133\">7</td><td class=\"_rank_prev2_1orw9_136\">6</td><td class=\"_name_1orw9_101\"><span>レミリア・スカーレット</span></td><td><strong>12,981</strong></td><td>2,215</td><td>2,429</td><td>8</td></tr><tr><td class=\"_rank_1orw9_70\"><div>8</div></td><td class=\"_rank_prev_1orw9_133\">8</td><td class=\"_rank_prev2_1orw9_136\">9</td><td class=\"_name_1orw9_101\"><span>藤原 妹紅</span></td><td><strong>8,728</strong></td><td>1,462</td><td>1,542</td><td>13</td></tr><tr><td class=\"_rank_1orw9_70\"><div>9</div></td><td class=\"_rank_prev_1orw9_133\">9</td><td class=\"_rank_prev2_1orw9_136\">8</td><td class=\"_name_1orw9_101\"><span>古明地 さとり</span></td><td><strong>7,600</strong></td><td>974</td><td>1,310</td><td>6</td></tr><tr><td class=\"_rank_1orw9_70\"><div>10</div></td><td class=\"_rank_prev_1orw9_133\">10</td><td class=\"_rank_prev2_1orw9_136\">13</td><td class=\"_name_1orw9_101\"><span>西行寺 幽々子</span></td><td><strong>6,960</strong></td><td>986</td><td>1,257</td><td>7</td></tr><tr><td class=\"_rank_1orw9_70\"><div>11</div></td><td class=\"_rank_prev_1orw9_133\">12</td><td class=\"_rank_prev2_1orw9_136\">11</td><td class=\"_name_1orw9_101\"><span>アリス・マーガトロイド</span></td><td><strong>6,909</strong></td><td>1,036</td><td>1,155</td><td>18</td></tr><tr><td class=\"_rank_1orw9_70\"><div>12</div></td><td class=\"_rank_prev_1orw9_133\">11</td><td class=\"_rank_prev2_1orw9_136\">10</td><td class=\"_name_1orw9_101\"><span>射命丸 文</span></td><td><strong>6,607</strong></td><td>965</td><td>1,065</td><td>9</td></tr><tr><td class=\"_rank_1orw9_70\"><div>13</div></td><td class=\"_rank_prev_1orw9_133\">14</td><td class=\"_rank_prev2_1orw9_136\">14</td><td class=\"_name_1orw9_101\"><span>鈴仙・優曇華院・イナバ</span></td><td><strong>6,575</strong></td><td>843</td><td>1,133</td><td>10</td></tr><tr><td class=\"_rank_1orw9_70\"><div>14</div></td><td class=\"_rank_prev_1orw9_133\">13</td><td class=\"_rank_prev2_1orw9_136\">12</td><td class=\"_name_1orw9_101\"><span>東風谷 早苗</span></td><td><strong>6,185</strong></td><td>950</td><td>1,046</td><td>10</td></tr><tr><td class=\"_rank_1orw9_70\"><div>15</div></td><td class=\"_rank_prev_1orw9_133\">18</td><td class=\"_rank_prev2_1orw9_136\">24</td><td class=\"_name_1orw9_101\"><span>チルノ</span></td><td><strong>5,850</strong></td><td>900</td><td>1,284</td><td>14</td></tr><tr><td class=\"_rank_1orw9_70\"><div>16</div></td><td class=\"_rank_prev_1orw9_133\">16</td><td class=\"_rank_prev2_1orw9_136\">15</td><td class=\"_name_1orw9_101\"><span>八雲 紫</span></td><td><strong>5,342</strong></td><td>643</td><td>918</td><td>7</td></tr><tr><td class=\"_rank_1orw9_70\"><div>17</div></td><td class=\"_rank_prev_1orw9_133\">21</td><td class=\"_rank_prev2_1orw9_136\">23</td><td class=\"_name_1orw9_101\"><span>ルーミア</span></td><td><strong>5,293</strong></td><td>772</td><td>1,142</td><td>8</td></tr><tr><td class=\"_rank_1orw9_70\"><div>18</div></td><td class=\"_rank_prev_1orw9_133\">15</td><td class=\"_rank_prev2_1orw9_136\">16</td><td class=\"_name_1orw9_101\"><span>比那名居 天子</span></td><td><strong>5,200</strong></td><td>785</td><td>852</td><td>7</td></tr><tr><td class=\"_rank_1orw9_70\"><div>19</div></td><td class=\"_rank_prev_1orw9_133\">19</td><td class=\"_rank_prev2_1orw9_136\">18</td><td class=\"_name_1orw9_101\"><span>パチュリー・ノーレッジ</span></td><td><strong>5,194</strong></td><td>688</td><td>815</td><td>2</td></tr><tr><td class=\"_rank_1orw9_70\"><div>20</div></td><td class=\"_rank_prev_1orw9_133\">22</td><td class=\"_rank_prev2_1orw9_136\">21</td><td class=\"_name_1orw9_101\"><span>洩矢 諏訪子</span></td><td><strong>5,013</strong></td><td>752</td><td>872</td><td>5</td></tr><tr><td class=\"_rank_1orw9_70\"><div>21</div></td><td class=\"_rank_prev_1orw9_133\">17</td><td class=\"_rank_prev2_1orw9_136\">17</td><td class=\"_name_1orw9_101\"><span>秦 こころ</span></td><td><strong>4,966</strong></td><td>679</td><td>912</td><td>3</td></tr><tr><td class=\"_rank_1orw9_70\"><div>22</div></td><td class=\"_rank_prev_1orw9_133\">25</td><td class=\"_rank_prev2_1orw9_136\">25</td><td class=\"_name_1orw9_101\"><span>紅 美鈴</span></td><td><strong>4,550</strong></td><td>640</td><td>830</td><td>5</td></tr><tr><td class=\"_rank_1orw9_70\"><div>23</div></td><td class=\"_rank_prev_1orw9_133\">23</td><td class=\"_rank_prev2_1orw9_136\">19</td><td class=\"_name_1orw9_101\"><span>四季映姫・ヤマザナドゥ</span></td><td><strong>4,417</strong></td><td>577</td><td>744</td><td>4</td></tr><tr><td class=\"_rank_1orw9_70\"><div>24</div></td><td class=\"_rank_prev_1orw9_133\">27</td><td class=\"_rank_prev2_1orw9_136\">22</td><td class=\"_name_1orw9_101\"><span>犬走 椛</span></td><td><strong>4,129</strong></td><td>616</td><td>787</td><td>5</td></tr><tr><td class=\"_rank_1orw9_70\"><div>25</div></td><td class=\"_rank_prev_1orw9_133\">20</td><td class=\"_rank_prev2_1orw9_136\">20</td><td class=\"_name_1orw9_101\"><span>多々良 小傘</span></td><td><strong>4,095</strong></td><td>568</td><td>738</td><td>9</td></tr><tr><td class=\"_rank_1orw9_70\"><div>26</div></td><td class=\"_rank_prev_1orw9_133\">24</td><td class=\"_rank_prev2_1orw9_136\">28</td><td class=\"_name_1orw9_101\"><span>風見 幽香</span></td><td><strong>4,058</strong></td><td>496</td><td>617</td><td>3</td></tr><tr><td class=\"_rank_1orw9_70\"><div>27</div></td><td class=\"_rank_prev_1orw9_133\">26</td><td class=\"_rank_prev2_1orw9_136\">29</td><td class=\"_name_1orw9_101\"><span>豊聡耳 神子</span></td><td><strong>3,650</strong></td><td>574</td><td>696</td><td>3</td></tr><tr><td class=\"_rank_1orw9_70\"><div>28</div></td><td class=\"_rank_prev_1orw9_133\">28</td><td class=\"_rank_prev2_1orw9_136\">26</td><td class=\"_name_1orw9_101\"><span>純狐</span></td><td><strong>3,522</strong></td><td>415</td><td>594</td><td>6</td></tr><tr><td class=\"_rank_1orw9_70\"><div>29</div></td><td class=\"_rank_prev_1orw9_133\">34</td><td class=\"_rank_prev2_1orw9_136\">42</td><td class=\"_name_1orw9_101\"><span>ヘカーティア・ラピスラズリ</span></td><td><strong>3,425</strong></td><td>328</td><td>646</td><td>2</td></tr><tr><td class=\"_rank_1orw9_70\"><div>30</div></td><td class=\"_rank_prev_1orw9_133\">30</td><td class=\"_rank_prev2_1orw9_136\">30</td><td class=\"_name_1orw9_101\"><span>依神紫苑</span></td><td><strong>3,412</strong></td><td>383</td><td>583</td><td>7</td></tr><tr><td class=\"_rank_1orw9_70\"><div>31</div></td><td class=\"_rank_prev_1orw9_133\">31</td><td class=\"_rank_prev2_1orw9_136\">31</td><td class=\"_name_1orw9_101\"><span>伊吹 萃香</span></td><td><strong>3,326</strong></td><td>430</td><td>546</td><td>5</td></tr><tr><td class=\"_rank_1orw9_70\"><div>32</div></td><td class=\"_rank_prev_1orw9_133\">29</td><td class=\"_rank_prev2_1orw9_136\">32</td><td class=\"_name_1orw9_101\"><span>鬼人 正邪</span></td><td><strong>3,285</strong></td><td>575</td><td>628</td><td>6</td></tr><tr><td class=\"_rank_1orw9_70\"><div>33</div></td><td class=\"_rank_prev_1orw9_133\">33</td><td class=\"_rank_prev2_1orw9_136\">40</td><td class=\"_name_1orw9_101\"><span>稀神 サグメ</span></td><td><strong>3,268</strong></td><td>369</td><td>585</td><td>3</td></tr><tr><td class=\"_rank_1orw9_70\"><div>34</div></td><td class=\"_rank_prev_1orw9_133\">37</td><td class=\"_rank_prev2_1orw9_136\">37</td><td class=\"_name_1orw9_101\"><span>八雲 藍</span></td><td><strong>3,212</strong></td><td>353</td><td>579</td><td>5</td></tr><tr><td class=\"_rank_1orw9_70\"><div>35</div></td><td class=\"_rank_prev_1orw9_133\">36</td><td class=\"_rank_prev2_1orw9_136\">33</td><td class=\"_name_1orw9_101\"><span>河城 にとり</span></td><td><strong>3,107</strong></td><td>416</td><td>514</td><td>3</td></tr><tr><td class=\"_rank_1orw9_70\"><div>36</div></td><td class=\"_rank_prev_1orw9_133\">39</td><td class=\"_rank_prev2_1orw9_136\">38</td><td class=\"_name_1orw9_101\"><span>霊烏路 空</span></td><td><strong>3,077</strong></td><td>438</td><td>532</td><td>6</td></tr><tr><td class=\"_rank_1orw9_70\"><div>37</div></td><td class=\"_rank_prev_1orw9_133\">32</td><td class=\"_rank_prev2_1orw9_136\">39</td><td class=\"_name_1orw9_101\"><span>物部 布都</span></td><td><strong>3,071</strong></td><td>409</td><td>573</td><td>6</td></tr><tr><td class=\"_rank_1orw9_70\"><div>38</div></td><td class=\"_rank_prev_1orw9_133\">41</td><td class=\"_rank_prev2_1orw9_136\">34</td><td class=\"_name_1orw9_101\"><span>水橋 パルスィ</span></td><td><strong>3,058</strong></td><td>426</td><td>576</td><td>6</td></tr><tr><td class=\"_rank_1orw9_70\"><div>39</div></td><td class=\"_rank_prev_1orw9_133\">40</td><td class=\"_rank_prev2_1orw9_136\">35</td><td class=\"_name_1orw9_101\"><span>茨木 華扇</span></td><td><strong>2,863</strong></td><td>290</td><td>471</td><td>11</td></tr><tr><td class=\"_rank_1orw9_70\"><div>40</div></td><td class=\"_rank_prev_1orw9_133\">35</td><td class=\"_rank_prev2_1orw9_136\">41</td><td class=\"_name_1orw9_101\"><span>蓬莱山 輝夜</span></td><td><strong>2,692</strong></td><td>294</td><td>422</td><td>5</td></tr><tr><td class=\"_rank_1orw9_70\"><div>41</div></td><td class=\"_rank_prev_1orw9_133\">38</td><td class=\"_rank_prev2_1orw9_136\">27</td><td class=\"_name_1orw9_101\"><span>宇佐見 蓮子</span></td><td><strong>2,611</strong></td><td>319</td><td>378</td><td>8</td></tr><tr><td class=\"_rank_1orw9_70\"><div>42</div></td><td class=\"_rank_prev_1orw9_133\">45</td><td class=\"_rank_prev2_1orw9_136\">50</td><td class=\"_name_1orw9_101\"><span>鍵山 雛</span></td><td><strong>2,552</strong></td><td>344</td><td>500</td><td>5</td></tr><tr><td class=\"_rank_1orw9_70\"><div>43</div></td><td class=\"_rank_prev_1orw9_133\">42</td><td class=\"_rank_prev2_1orw9_136\">43</td><td class=\"_name_1orw9_101\"><span>摩多羅隠岐奈</span></td><td><strong>2,493</strong></td><td>255</td><td>470</td><td>6</td></tr><tr><td class=\"_rank_1orw9_70\"><div>44</div></td><td class=\"_rank_prev_1orw9_133\">43</td><td class=\"_rank_prev2_1orw9_136\">45</td><td class=\"_name_1orw9_101\"><span>封獣 ぬえ</span></td><td><strong>2,215</strong></td><td>228</td><td>348</td><td>6</td></tr><tr><td class=\"_rank_1orw9_70\"><div>45</div></td><td class=\"_rank_prev_1orw9_133\">49</td><td class=\"_rank_prev2_1orw9_136\">47</td><td class=\"_name_1orw9_101\"><span>火焔猫 燐</span></td><td><strong>2,051</strong></td><td>205</td><td>307</td><td>12</td></tr><tr><td class=\"_rank_1orw9_70\"><div>46</div></td><td class=\"_rank_prev_1orw9_133\">48</td><td class=\"_rank_prev2_1orw9_136\">58</td><td class=\"_name_1orw9_101\"><span>八意 永琳</span></td><td><strong>2,011</strong></td><td>139</td><td>404</td><td>2</td></tr><tr><td class=\"_rank_1orw9_70\"><div>47</div></td><td class=\"_rank_prev_1orw9_133\">47</td><td class=\"_rank_prev2_1orw9_136\">44</td><td class=\"_name_1orw9_101\"><span>聖 白蓮</span></td><td><strong>1,994</strong></td><td>188</td><td>320</td><td>0</td></tr><tr><td class=\"_rank_1orw9_70\"><div>48</div></td><td class=\"_rank_prev_1orw9_133\">52</td><td class=\"_rank_prev2_1orw9_136\">48</td><td class=\"_name_1orw9_101\"><span>クラウンピース</span></td><td><strong>1,989</strong></td><td>170</td><td>340</td><td>2</td></tr><tr><td class=\"_rank_1orw9_70\"><div>49</div></td><td class=\"_rank_prev_1orw9_133\">63</td><td class=\"_rank_prev2_1orw9_136\">53</td><td class=\"_name_1orw9_101\"><span>ナズーリン</span></td><td><strong>1,949</strong></td><td>254</td><td>345</td><td>5</td></tr><tr><td class=\"_rank_1orw9_70\"><div>50</div></td><td class=\"_rank_prev_1orw9_133\">50</td><td class=\"_rank_prev2_1orw9_136\">51</td><td class=\"_name_1orw9_101\"><span>ドレミー・スイート</span></td><td><strong>1,902</strong></td><td>181</td><td>340</td><td>5</td></tr><tr><td class=\"_rank_1orw9_70\"><div>51</div></td><td class=\"_rank_prev_1orw9_133\">46</td><td class=\"_rank_prev2_1orw9_136\">36</td><td class=\"_name_1orw9_101\"><span>埴安神 袿姫</span></td><td><strong>1,890</strong></td><td>178</td><td>338</td><td>6</td></tr><tr><td class=\"_rank_1orw9_70\"><div>52</div></td><td class=\"_rank_prev_1orw9_133\">44</td><td class=\"_rank_prev2_1orw9_136 undefined\">-</td><td class=\"_name_1orw9_101\"><span>天弓 千亦</span></td><td><strong>1,887</strong></td><td>149</td><td>403</td><td>8</td></tr><tr><td class=\"_rank_1orw9_70\"><div>53</div></td><td class=\"_rank_prev_1orw9_133 undefined\">-</td><td class=\"_rank_prev2_1orw9_136 undefined\">-</td><td class=\"_name_1orw9_101\"><span>饕餮尤魔</span></td><td><strong>1,854</strong></td><td>143</td><td>342</td><td>7</td></tr><tr><td class=\"_rank_1orw9_70\"><div>54</div></td><td class=\"_rank_prev_1orw9_133\">67</td><td class=\"_rank_prev2_1orw9_136\">71</td><td class=\"_name_1orw9_101\"><span>小悪魔</span></td><td><strong>1,831</strong></td><td>127</td><td>353</td><td>7</td></tr><tr><td class=\"_rank_1orw9_70\"><div>55</div></td><td class=\"_rank_prev_1orw9_133\">53</td><td class=\"_rank_prev2_1orw9_136\">57</td><td class=\"_name_1orw9_101\"><span>上白沢 慧音</span></td><td><strong>1,812</strong></td><td>182</td><td>304</td><td>2</td></tr><tr><td class=\"_rank_1orw9_70\"><div>56</div></td><td class=\"_rank_prev_1orw9_133\">61</td><td class=\"_rank_prev2_1orw9_136\">61</td><td class=\"_name_1orw9_101\"><span>橙</span></td><td><strong>1,780</strong></td><td>198</td><td>365</td><td>9</td></tr><tr><td class=\"_rank_1orw9_70\"><div>57</div></td><td class=\"_rank_prev_1orw9_133\">55</td><td class=\"_rank_prev2_1orw9_136 undefined\">-</td><td class=\"_name_1orw9_101\"><span>菅牧 典</span></td><td><strong>1,778</strong></td><td>104</td><td>324</td><td>4</td></tr><tr><td class=\"_rank_1orw9_70\"><div>58</div></td><td class=\"_rank_prev_1orw9_133\">59</td><td class=\"_rank_prev2_1orw9_136\">59</td><td class=\"_name_1orw9_101\"><span>霍 青娥</span></td><td><strong>1,767</strong></td><td>185</td><td>308</td><td>3</td></tr><tr><td class=\"_rank_1orw9_70\"><div>59</div></td><td class=\"_rank_prev_1orw9_133\">51</td><td class=\"_rank_prev2_1orw9_136\">70</td><td class=\"_name_1orw9_101\"><span>村紗 水蜜</span></td><td><strong>1,714</strong></td><td>217</td><td>306</td><td>3</td></tr><tr><td class=\"_rank_1orw9_70\"><div>60</div></td><td class=\"_rank_prev_1orw9_133\">54</td><td class=\"_rank_prev2_1orw9_136\">49</td><td class=\"_name_1orw9_101\"><span>マエリベリー・ハーン</span></td><td><strong>1,668</strong></td><td>93</td><td>272</td><td>10</td></tr><tr><td class=\"_rank_1orw9_70\"><div>61</div></td><td class=\"_rank_prev_1orw9_133\">57</td><td class=\"_rank_prev2_1orw9_136 undefined\">-</td><td class=\"_name_1orw9_101\"><span>飯綱丸 龍</span></td><td><strong>1,610</strong></td><td>117</td><td>315</td><td>4</td></tr><tr><td class=\"_rank_1orw9_70\"><div>62</div></td><td class=\"_rank_prev_1orw9_133\">76</td><td class=\"_rank_prev2_1orw9_136\">63</td><td class=\"_name_1orw9_101\"><span>永江 衣玖</span></td><td><strong>1,593</strong></td><td>156</td><td>304</td><td>4</td></tr><tr><td class=\"_rank_1orw9_70\"><div>63</div></td><td class=\"_rank_prev_1orw9_133\">68</td><td class=\"_rank_prev2_1orw9_136\">56</td><td class=\"_name_1orw9_101\"><span>庭渡 久侘歌</span></td><td><strong>1,588</strong></td><td>158</td><td>323</td><td>4</td></tr><tr><td class=\"_rank_1orw9_70\"><div>64</div></td><td class=\"_rank_prev_1orw9_133\">58</td><td class=\"_rank_prev2_1orw9_136\">46</td><td class=\"_name_1orw9_101\"><span>吉弔 八千慧</span></td><td><strong>1,518</strong></td><td>109</td><td>275</td><td>1</td></tr><tr><td class=\"_rank_1orw9_70\"><div>65</div></td><td class=\"_rank_prev_1orw9_133\">56</td><td class=\"_rank_prev2_1orw9_136\">62</td><td class=\"_name_1orw9_101\"><span>宇佐見 菫子</span></td><td><strong>1,506</strong></td><td>151</td><td>265</td><td>3</td></tr><tr><td class=\"_rank_1orw9_70\"><div>66</div></td><td class=\"_rank_prev_1orw9_133\">60</td><td class=\"_rank_prev2_1orw9_136\">54</td><td class=\"_name_1orw9_101\"><span>大妖精</span></td><td><strong>1,464</strong></td><td>114</td><td>285</td><td>10</td></tr><tr><td class=\"_rank_1orw9_70\"><div>67</div></td><td class=\"_rank_prev_1orw9_133\">64</td><td class=\"_rank_prev2_1orw9_136\">74</td><td class=\"_name_1orw9_101\"><span>因幡 てゐ</span></td><td><strong>1,452</strong></td><td>125</td><td>236</td><td>2</td></tr><tr><td class=\"_rank_1orw9_70\"><div>68</div></td><td class=\"_rank_prev_1orw9_133\">80</td><td class=\"_rank_prev2_1orw9_136\">55</td><td class=\"_name_1orw9_101\"><span>依神女苑</span></td><td><strong>1,438</strong></td><td>149</td><td>241</td><td>4</td></tr><tr><td class=\"_rank_1orw9_70\"><div>69</div></td><td class=\"_rank_prev_1orw9_133\">71</td><td class=\"_rank_prev2_1orw9_136\">64</td><td class=\"_name_1orw9_101\"><span>ミスティア・ローレライ</span></td><td><strong>1,401</strong></td><td>180</td><td>245</td><td>10</td></tr><tr><td class=\"_rank_1orw9_70\"><div>70</div></td><td class=\"_rank_prev_1orw9_133\">66</td><td class=\"_rank_prev2_1orw9_136\">52</td><td class=\"_name_1orw9_101\"><span>今泉 影狼</span></td><td><strong>1,399</strong></td><td>128</td><td>238</td><td>4</td></tr><tr><td class=\"_rank_1orw9_70\"><div>71</div></td><td class=\"_rank_prev_1orw9_133\">64</td><td class=\"_rank_prev2_1orw9_136\">69</td><td class=\"_name_1orw9_101\"><span>赤蛮奇</span></td><td><strong>1,385</strong></td><td>148</td><td>258</td><td>4</td></tr><tr><td class=\"_rank_1orw9_70\"><div>72</div></td><td class=\"_rank_prev_1orw9_133\">69</td><td class=\"_rank_prev2_1orw9_136\">77</td><td class=\"_name_1orw9_101\"><span>星熊 勇儀</span></td><td><strong>1,366</strong></td><td>120</td><td>284</td><td>3</td></tr><tr><td class=\"_rank_1orw9_70\"><div>73</div></td><td class=\"_rank_prev_1orw9_133\">74</td><td class=\"_rank_prev2_1orw9_136\">66</td><td class=\"_name_1orw9_101\"><span>蘇我 屠自古</span></td><td><strong>1,286</strong></td><td>136</td><td>239</td><td>5</td></tr><tr><td class=\"_rank_1orw9_70\"><div>74</div></td><td class=\"_rank_prev_1orw9_133\">79</td><td class=\"_rank_prev2_1orw9_136\">75</td><td class=\"_name_1orw9_101\"><span>森近 霖之助</span></td><td><strong>1,278</strong></td><td>110</td><td>263</td><td>5</td></tr><tr><td class=\"_rank_1orw9_70\"><div>75</div></td><td class=\"_rank_prev_1orw9_133\">82</td><td class=\"_rank_prev2_1orw9_136\">81</td><td class=\"_name_1orw9_101\"><span>魅魔</span></td><td><strong>1,266</strong></td><td>126</td><td>305</td><td>6</td></tr><tr><td class=\"_rank_1orw9_70\"><div>76</div></td><td class=\"_rank_prev_1orw9_133\">69</td><td class=\"_rank_prev2_1orw9_136\">60</td><td class=\"_name_1orw9_101\"><span>本居 小鈴</span></td><td><strong>1,262</strong></td><td>106</td><td>229</td><td>3</td></tr><tr><td class=\"_rank_1orw9_70\"><div>77</div></td><td class=\"_rank_prev_1orw9_133\">72</td><td class=\"_rank_prev2_1orw9_136\">65</td><td class=\"_name_1orw9_101\"><span>小野塚 小町</span></td><td><strong>1,259</strong></td><td>99</td><td>227</td><td>4</td></tr><tr><td class=\"_rank_1orw9_70\"><div>78</div></td><td class=\"_rank_prev_1orw9_133\">81</td><td class=\"_rank_prev2_1orw9_136\">79</td><td class=\"_name_1orw9_101\"><span>二ッ岩 マミゾウ</span></td><td><strong>1,238</strong></td><td>130</td><td>206</td><td>3</td></tr><tr><td class=\"_rank_1orw9_70\"><div>79</div></td><td class=\"_rank_prev_1orw9_133\">78</td><td class=\"_rank_prev2_1orw9_136\">78</td><td class=\"_name_1orw9_101\"><span>八坂 神奈子</span></td><td><strong>1,222</strong></td><td>123</td><td>221</td><td>4</td></tr><tr><td class=\"_rank_1orw9_70\"><div>80</div></td><td class=\"_rank_prev_1orw9_133\">74</td><td class=\"_rank_prev2_1orw9_136\">73</td><td class=\"_name_1orw9_101\"><span>姫海棠 はたて</span></td><td><strong>1,201</strong></td><td>94</td><td>210</td><td>4</td></tr><tr><td class=\"_rank_1orw9_70\"><div>81</div></td><td class=\"_rank_prev_1orw9_133\">85</td><td class=\"_rank_prev2_1orw9_136\">94</td><td class=\"_name_1orw9_101\"><span>リグル・ナイトバグ</span></td><td><strong>1,164</strong></td><td>214</td><td>246</td><td>7</td></tr><tr><td class=\"_rank_1orw9_70\"><div>82</div></td><td class=\"_rank_prev_1orw9_133\">73</td><td class=\"_rank_prev2_1orw9_136\">67</td><td class=\"_name_1orw9_101\"><span>少名 針妙丸</span></td><td><strong>1,099</strong></td><td>121</td><td>186</td><td>4</td></tr><tr><td class=\"_rank_1orw9_70\"><div>83</div></td><td class=\"_rank_prev_1orw9_133\">62</td><td class=\"_rank_prev2_1orw9_136 undefined\">-</td><td class=\"_name_1orw9_101\"><span>姫虫 百々世</span></td><td><strong>1,040</strong></td><td>76</td><td>228</td><td>0</td></tr><tr><td class=\"_rank_1orw9_70\"><div>84</div></td><td class=\"_rank_prev_1orw9_133\">84</td><td class=\"_rank_prev2_1orw9_136\">84</td><td class=\"_name_1orw9_101\"><span>ルナサ・プリズムリバー</span></td><td><strong>1,038</strong></td><td>121</td><td>189</td><td>4</td></tr><tr><td class=\"_rank_1orw9_70\"><div>85</div></td><td class=\"_rank_prev_1orw9_133\">95</td><td class=\"_rank_prev2_1orw9_136\">86</td><td class=\"_name_1orw9_101\"><span>メディスン・メランコリー</span></td><td><strong>1,029</strong></td><td>96</td><td>201</td><td>0</td></tr><tr><td class=\"_rank_1orw9_70\"><div>86</div></td><td class=\"_rank_prev_1orw9_133\">87</td><td class=\"_rank_prev2_1orw9_136\">89</td><td class=\"_name_1orw9_101\"><span>宮古 芳香</span></td><td><strong>1,001</strong></td><td>96</td><td>207</td><td>2</td></tr><tr><td class=\"_rank_1orw9_70\"><div>87</div></td><td class=\"_rank_prev_1orw9_133\">83</td><td class=\"_rank_prev2_1orw9_136\">72</td><td class=\"_name_1orw9_101\"><span>稗田 阿求</span></td><td><strong>960</strong></td><td>81</td><td>158</td><td>4</td></tr><tr><td class=\"_rank_1orw9_70\"><div>88</div></td><td class=\"_rank_prev_1orw9_133\">86</td><td class=\"_rank_prev2_1orw9_136\">80</td><td class=\"_name_1orw9_101\"><span>堀川 雷鼓</span></td><td><strong>951</strong></td><td>93</td><td>182</td><td>1</td></tr><tr><td class=\"_rank_1orw9_70\"><div>89</div></td><td class=\"_rank_prev_1orw9_133\">93</td><td class=\"_rank_prev2_1orw9_136\">96</td><td class=\"_name_1orw9_101\"><span>秋 静葉</span></td><td><strong>934</strong></td><td>90</td><td>186</td><td>7</td></tr><tr><td class=\"_rank_1orw9_70\"><div>90</div></td><td class=\"_rank_prev_1orw9_133\">98</td><td class=\"_rank_prev2_1orw9_136\">88</td><td class=\"_name_1orw9_101\"><span>神綺</span></td><td><strong>921</strong></td><td>55</td><td>166</td><td>3</td></tr><tr><td class=\"_rank_1orw9_70\"><div>91</div></td><td class=\"_rank_prev_1orw9_133\">90</td><td class=\"_rank_prev2_1orw9_136\">98</td><td class=\"_name_1orw9_101\"><span>綿月 依姫</span></td><td><strong>898</strong></td><td>73</td><td>166</td><td>1</td></tr><tr><td class=\"_rank_1orw9_70\"><div>92</div></td><td class=\"_rank_prev_1orw9_133\">94</td><td class=\"_rank_prev2_1orw9_136\">97</td><td class=\"_name_1orw9_101\"><span>秋 穣子</span></td><td><strong>871</strong></td><td>81</td><td>169</td><td>5</td></tr><tr><td class=\"_rank_1orw9_70\"><div>93</div></td><td class=\"_rank_prev_1orw9_133\">88</td><td class=\"_rank_prev2_1orw9_136\">76</td><td class=\"_name_1orw9_101\"><span>驪駒 早鬼</span></td><td><strong>870</strong></td><td>43</td><td>163</td><td>2</td></tr><tr><td class=\"_rank_1orw9_70\"><div>94</div></td><td class=\"_rank_prev_1orw9_133\">77</td><td class=\"_rank_prev2_1orw9_136\">68</td><td class=\"_name_1orw9_101\"><span>杖刀偶 磨弓</span></td><td><strong>865</strong></td><td>77</td><td>161</td><td>5</td></tr><tr><td class=\"_rank_1orw9_70\"><div>95</div></td><td class=\"_rank_prev_1orw9_133\">96</td><td class=\"_rank_prev2_1orw9_136\">83</td><td class=\"_name_1orw9_101\"><span>高麗野あうん</span></td><td><strong>823</strong></td><td>64</td><td>190</td><td>1</td></tr><tr><td class=\"_rank_1orw9_70\"><div>96</div></td><td class=\"_rank_prev_1orw9_133\">91</td><td class=\"_rank_prev2_1orw9_136\">82</td><td class=\"_name_1orw9_101\"><span>リリーホワイト</span></td><td><strong>816</strong></td><td>90</td><td>151</td><td>4</td></tr><tr><td class=\"_rank_1orw9_70\"><div>97</div></td><td class=\"_rank_prev_1orw9_133\">97</td><td class=\"_rank_prev2_1orw9_136\">89</td><td class=\"_name_1orw9_101\"><span>わかさぎ姫</span></td><td><strong>798</strong></td><td>75</td><td>171</td><td>1</td></tr><tr><td class=\"_rank_1orw9_70\"><div>98</div></td><td class=\"_rank_prev_1orw9_133\">99</td><td class=\"_rank_prev2_1orw9_136\">85</td><td class=\"_name_1orw9_101\"><span>寅丸 星</span></td><td><strong>776</strong></td><td>86</td><td>140</td><td>3</td></tr><tr><td class=\"_rank_1orw9_70\"><div>99</div></td><td class=\"_rank_prev_1orw9_133\">92</td><td class=\"_rank_prev2_1orw9_136\">93</td><td class=\"_name_1orw9_101\"><span>奥野田 美宵</span></td><td><strong>739</strong></td><td>41</td><td>173</td><td>2</td></tr><tr><td class=\"_rank_1orw9_70\"><div>100</div></td><td class=\"_rank_prev_1orw9_133\">101</td><td class=\"_rank_prev2_1orw9_136\">91</td><td class=\"_name_1orw9_101\"><span>岡崎 夢美</span></td><td><strong>735</strong></td><td>54</td><td>123</td><td>8</td></tr><tr><td class=\"_rank_1orw9_70\"><div>101</div></td><td class=\"_rank_prev_1orw9_133\">103</td><td class=\"_rank_prev2_1orw9_136\">100</td><td class=\"_name_1orw9_101\"><span>レティ・ホワイトロック</span></td><td><strong>691</strong></td><td>86</td><td>151</td><td>2</td></tr><tr><td class=\"_rank_1orw9_70\"><div>102</div></td><td class=\"_rank_prev_1orw9_133\">104</td><td class=\"_rank_prev2_1orw9_136\">102</td><td class=\"_name_1orw9_101\"><span>黒谷 ヤマメ</span></td><td><strong>669</strong></td><td>75</td><td>137</td><td>5</td></tr><tr><td class=\"_rank_1orw9_70\"><div>103</div></td><td class=\"_rank_prev_1orw9_133\">100</td><td class=\"_rank_prev2_1orw9_136\">108</td><td class=\"_name_1orw9_101\"><span>丁礼田舞</span></td><td><strong>656</strong></td><td>38</td><td>129</td><td>1</td></tr><tr><td class=\"_rank_1orw9_70\"><div>104</div></td><td class=\"_rank_prev_1orw9_133\">109</td><td class=\"_rank_prev2_1orw9_136\">92</td><td class=\"_name_1orw9_101\"><span>易者</span></td><td><strong>628</strong></td><td>30</td><td>156</td><td>3</td></tr><tr><td class=\"_rank_1orw9_70\"><div>105</div></td><td class=\"_rank_prev_1orw9_133\">102</td><td class=\"_rank_prev2_1orw9_136\">87</td><td class=\"_name_1orw9_101\"><span>幽谷 響子</span></td><td><strong>620</strong></td><td>53</td><td>120</td><td>1</td></tr><tr><td class=\"_rank_1orw9_70\"><div>106</div></td><td class=\"_rank_prev_1orw9_133\">89</td><td class=\"_rank_prev2_1orw9_136 undefined\">-</td><td class=\"_name_1orw9_101\"><span>豪徳寺 ミケ</span></td><td><strong>619</strong></td><td>27</td><td>123</td><td>0</td></tr><tr><td class=\"_rank_1orw9_70\"><div>107</div></td><td class=\"_rank_prev_1orw9_133\">105</td><td class=\"_rank_prev2_1orw9_136\">109</td><td class=\"_name_1orw9_101\"><span>爾子田里乃</span></td><td><strong>564</strong></td><td>32</td><td>101</td><td>0</td></tr><tr><td class=\"_rank_1orw9_70\"><div>108</div></td><td class=\"_rank_prev_1orw9_133\">107</td><td class=\"_rank_prev2_1orw9_136\">114</td><td class=\"_name_1orw9_101\"><span>綿月 豊姫</span></td><td><strong>561</strong></td><td>34</td><td>112</td><td>0</td></tr><tr><td class=\"_rank_1orw9_70\"><div>109</div></td><td class=\"_rank_prev_1orw9_133\">111</td><td class=\"_rank_prev2_1orw9_136\">111</td><td class=\"_name_1orw9_101\"><span>メルラン・プリズムリバー</span></td><td><strong>535</strong></td><td>63</td><td>90</td><td>0</td></tr><tr><td class=\"_rank_1orw9_70\"><div>110</div></td><td class=\"_rank_prev_1orw9_133\">110</td><td class=\"_rank_prev2_1orw9_136\">99</td><td class=\"_name_1orw9_101\"><span>ルナチャイルド</span></td><td><strong>519</strong></td><td>32</td><td>97</td><td>2</td></tr><tr><td class=\"_rank_1orw9_70\"><div>111</div></td><td class=\"_rank_prev_1orw9_133\">114</td><td class=\"_rank_prev2_1orw9_136\">101</td><td class=\"_name_1orw9_101\"><span>スターサファイア</span></td><td><strong>513</strong></td><td>38</td><td>93</td><td>5</td></tr><tr><td class=\"_rank_1orw9_70\"><div>112</div></td><td class=\"_rank_prev_1orw9_133\">121</td><td class=\"_rank_prev2_1orw9_136\">107</td><td class=\"_name_1orw9_101\"><span>エタニティラルバ</span></td><td><strong>499</strong></td><td>34</td><td>114</td><td>2</td></tr><tr><td class=\"_rank_1orw9_70\"><div>113</div></td><td class=\"_rank_prev_1orw9_133\">113</td><td class=\"_rank_prev2_1orw9_136\">104</td><td class=\"_name_1orw9_101\"><span>幻月</span></td><td><strong>490</strong></td><td>44</td><td>98</td><td>2</td></tr><tr><td class=\"_rank_1orw9_70\"><div>114</div></td><td class=\"_rank_prev_1orw9_133\">112</td><td class=\"_rank_prev2_1orw9_136\">105</td><td class=\"_name_1orw9_101\"><span>雲居 一輪</span></td><td><strong>485</strong></td><td>59</td><td>82</td><td>3</td></tr><tr><td class=\"_rank_1orw9_70\"><div>115</div></td><td class=\"_rank_prev_1orw9_133\">116</td><td class=\"_rank_prev2_1orw9_136\">117</td><td class=\"_name_1orw9_101\"><span>アリスの人形（上海、蓬莱、大江戸 他）</span></td><td><strong>474</strong></td><td>13</td><td>117</td><td>0</td></tr><tr><td class=\"_rank_1orw9_70\"><div>116</div></td><td class=\"_rank_prev_1orw9_133\">108</td><td class=\"_rank_prev2_1orw9_136\">95</td><td class=\"_name_1orw9_101\"><span>清蘭</span></td><td><strong>448</strong></td><td>32</td><td>83</td><td>3</td></tr><tr><td class=\"_rank_1orw9_70\"><div>117</div></td><td class=\"_rank_prev_1orw9_133\">115</td><td class=\"_rank_prev2_1orw9_136\">106</td><td class=\"_name_1orw9_101\"><span>九十九 弁々</span></td><td><strong>446</strong></td><td>32</td><td>96</td><td>3</td></tr><tr><td class=\"_rank_1orw9_70\"><div>118</div></td><td class=\"_rank_prev_1orw9_133\">118</td><td class=\"_rank_prev2_1orw9_136\">115</td><td class=\"_name_1orw9_101\"><span>名無しの本読み妖怪</span></td><td><strong>444</strong></td><td>37</td><td>104</td><td>2</td></tr><tr><td class=\"_rank_1orw9_70\"><div>119</div></td><td class=\"_rank_prev_1orw9_133\">117</td><td class=\"_rank_prev2_1orw9_136\">112</td><td class=\"_name_1orw9_101\"><span>リリカ・プリズムリバー</span></td><td><strong>437</strong></td><td>33</td><td>67</td><td>1</td></tr><tr><td class=\"_rank_1orw9_70\"><div>120</div></td><td class=\"_rank_prev_1orw9_133\">122</td><td class=\"_rank_prev2_1orw9_136\">112</td><td class=\"_name_1orw9_101\"><span>鈴瑚</span></td><td><strong>418</strong></td><td>37</td><td>77</td><td>0</td></tr><tr><td class=\"_rank_1orw9_70\"><div>121</div></td><td class=\"_rank_prev_1orw9_133\">120</td><td class=\"_rank_prev2_1orw9_136\">103</td><td class=\"_name_1orw9_101\"><span>サニーミルク</span></td><td><strong>415</strong></td><td>34</td><td>68</td><td>4</td></tr><tr><td class=\"_rank_1orw9_70\"><div>122</div></td><td class=\"_rank_prev_1orw9_133\">119</td><td class=\"_rank_prev2_1orw9_136 undefined\">-</td><td class=\"_name_1orw9_101\"><span>山城 たかね</span></td><td><strong>374</strong></td><td>21</td><td>81</td><td>6</td></tr><tr><td class=\"_rank_1orw9_70\"><div>123</div></td><td class=\"_rank_prev_1orw9_133\">106</td><td class=\"_rank_prev2_1orw9_136 undefined\">-</td><td class=\"_name_1orw9_101\"><span>玉造 魅須丸</span></td><td><strong>363</strong></td><td>16</td><td>70</td><td>1</td></tr><tr><td class=\"_rank_1orw9_70\"><div>124</div></td><td class=\"_rank_prev_1orw9_133\">125</td><td class=\"_rank_prev2_1orw9_136\">110</td><td class=\"_name_1orw9_101\"><span>矢田寺成美</span></td><td><strong>345</strong></td><td>19</td><td>81</td><td>5</td></tr><tr><td class=\"_rank_1orw9_70\"><div>125</div></td><td class=\"_rank_prev_1orw9_133\">128</td><td class=\"_rank_prev2_1orw9_136\">119</td><td class=\"_name_1orw9_101\"><span>蓬莱人形ジャケットイラストの娘</span></td><td><strong>329</strong></td><td>32</td><td>58</td><td>2</td></tr><tr><td class=\"_rank_1orw9_70\"><div>125</div></td><td class=\"_rank_prev_1orw9_133\">123</td><td class=\"_rank_prev2_1orw9_136\">121</td><td class=\"_name_1orw9_101\"><span>レイセン</span></td><td><strong>329</strong></td><td>21</td><td>67</td><td>1</td></tr><tr><td class=\"_rank_1orw9_70\"><div>127</div></td><td class=\"_rank_prev_1orw9_133\">126</td><td class=\"_rank_prev2_1orw9_136\">118</td><td class=\"_name_1orw9_101\"><span>カナ・アナベラル</span></td><td><strong>326</strong></td><td>33</td><td>69</td><td>4</td></tr><tr><td class=\"_rank_1orw9_70\"><div>128</div></td><td class=\"_rank_prev_1orw9_133\">127</td><td class=\"_rank_prev2_1orw9_136\">119</td><td class=\"_name_1orw9_101\"><span>夢月</span></td><td><strong>299</strong></td><td>10</td><td>70</td><td>0</td></tr><tr><td class=\"_rank_1orw9_70\"><div>129</div></td><td class=\"_rank_prev_1orw9_133\">133</td><td class=\"_rank_prev2_1orw9_136\">124</td><td class=\"_name_1orw9_101\"><span>サリエル</span></td><td><strong>293</strong></td><td>32</td><td>55</td><td>6</td></tr><tr><td class=\"_rank_1orw9_70\"><div>130</div></td><td class=\"_rank_prev_1orw9_133\">124</td><td class=\"_rank_prev2_1orw9_136\">123</td><td class=\"_name_1orw9_101\"><span>九十九 八橋</span></td><td><strong>283</strong></td><td>28</td><td>64</td><td>5</td></tr><tr><td class=\"_rank_1orw9_70\"><div>131</div></td><td class=\"_rank_prev_1orw9_133\">137</td><td class=\"_rank_prev2_1orw9_136\">126</td><td class=\"_name_1orw9_101\"><span>キスメ</span></td><td><strong>280</strong></td><td>29</td><td>58</td><td>0</td></tr><tr><td class=\"_rank_1orw9_70\"><div>132</div></td><td class=\"_rank_prev_1orw9_133\">129</td><td class=\"_rank_prev2_1orw9_136\">128</td><td class=\"_name_1orw9_101\"><span>夢子</span></td><td><strong>272</strong></td><td>15</td><td>47</td><td>1</td></tr><tr><td class=\"_rank_1orw9_70\"><div>133</div></td><td class=\"_rank_prev_1orw9_133\">130</td><td class=\"_rank_prev2_1orw9_136\">127</td><td class=\"_name_1orw9_101\"><span>抗鬱薬おじさん</span></td><td><strong>265</strong></td><td>6</td><td>51</td><td>0</td></tr><tr><td class=\"_rank_1orw9_70\"><div>134</div></td><td class=\"_rank_prev_1orw9_133\">143</td><td class=\"_rank_prev2_1orw9_136\">125</td><td class=\"_name_1orw9_101\"><span>戎 瓔花</span></td><td><strong>259</strong></td><td>22</td><td>70</td><td>2</td></tr><tr><td class=\"_rank_1orw9_70\"><div>135</div></td><td class=\"_rank_prev_1orw9_133\">131</td><td class=\"_rank_prev2_1orw9_136\">130</td><td class=\"_name_1orw9_101\"><span>くるみ</span></td><td><strong>231</strong></td><td>18</td><td>38</td><td>1</td></tr><tr><td class=\"_rank_1orw9_70\"><div>136</div></td><td class=\"_rank_prev_1orw9_133\">132</td><td class=\"_rank_prev2_1orw9_136\">138</td><td class=\"_name_1orw9_101\"><span>魂魄 妖忌</span></td><td><strong>222</strong></td><td>7</td><td>61</td><td>0</td></tr><tr><td class=\"_rank_1orw9_70\"><div>137</div></td><td class=\"_rank_prev_1orw9_133\">165</td><td class=\"_rank_prev2_1orw9_136\">154</td><td class=\"_name_1orw9_101\"><span>ルイズ</span></td><td><strong>221</strong></td><td>24</td><td>33</td><td>1</td></tr><tr><td class=\"_rank_1orw9_70\"><div>138</div></td><td class=\"_rank_prev_1orw9_133 undefined\">-</td><td class=\"_rank_prev2_1orw9_136 undefined\">-</td><td class=\"_name_1orw9_101\"><span>宮出口瑞霊</span></td><td><strong>219</strong></td><td>7</td><td>63</td><td>2</td></tr><tr><td class=\"_rank_1orw9_70\"><div>139</div></td><td class=\"_rank_prev_1orw9_133\">135</td><td class=\"_rank_prev2_1orw9_136\">129</td><td class=\"_name_1orw9_101\"><span>北白河 ちゆり</span></td><td><strong>207</strong></td><td>18</td><td>38</td><td>5</td></tr><tr><td class=\"_rank_1orw9_70\"><div>140</div></td><td class=\"_rank_prev_1orw9_133\">136</td><td class=\"_rank_prev2_1orw9_136\">121</td><td class=\"_name_1orw9_101\"><span>牛崎 潤美</span></td><td><strong>193</strong></td><td>13</td><td>44</td><td>0</td></tr><tr><td class=\"_rank_1orw9_70\"><div>141</div></td><td class=\"_rank_prev_1orw9_133\">153</td><td class=\"_rank_prev2_1orw9_136\">145</td><td class=\"_name_1orw9_101\"><span>小兎姫</span></td><td><strong>182</strong></td><td>22</td><td>43</td><td>0</td></tr><tr><td class=\"_rank_1orw9_70\"><div>142</div></td><td class=\"_rank_prev_1orw9_133\">134</td><td class=\"_rank_prev2_1orw9_136\">131</td><td class=\"_name_1orw9_101\"><span>坂田ネムノ</span></td><td><strong>180</strong></td><td>12</td><td>32</td><td>0</td></tr><tr><td class=\"_rank_1orw9_70\"><div>143</div></td><td class=\"_rank_prev_1orw9_133\">138</td><td class=\"_rank_prev2_1orw9_136 undefined\">-</td><td class=\"_name_1orw9_101\"><span>駒草 山如</span></td><td><strong>174</strong></td><td>10</td><td>37</td><td>1</td></tr><tr><td class=\"_rank_1orw9_70\"><div>144</div></td><td class=\"_rank_prev_1orw9_133\">142</td><td class=\"_rank_prev2_1orw9_136\">136</td><td class=\"_name_1orw9_101\"><span>コンガラ</span></td><td><strong>163</strong></td><td>12</td><td>36</td><td>5</td></tr><tr><td class=\"_rank_1orw9_70\"><div>145</div></td><td class=\"_rank_prev_1orw9_133\">139</td><td class=\"_rank_prev2_1orw9_136\">136</td><td class=\"_name_1orw9_101\"><span>毛玉</span></td><td><strong>162</strong></td><td>7</td><td>35</td><td>1</td></tr><tr><td class=\"_rank_1orw9_70\"><div>146</div></td><td class=\"_rank_prev_1orw9_133\">139</td><td class=\"_rank_prev2_1orw9_136\">134</td><td class=\"_name_1orw9_101\"><span>雲山</span></td><td><strong>156</strong></td><td>10</td><td>39</td><td>0</td></tr><tr><td class=\"_rank_1orw9_70\"><div>147</div></td><td class=\"_rank_prev_1orw9_133\">145</td><td class=\"_rank_prev2_1orw9_136\">132</td><td class=\"_name_1orw9_101\"><span>マイ</span></td><td><strong>155</strong></td><td>9</td><td>29</td><td>0</td></tr><tr><td class=\"_rank_1orw9_70\"><div>148</div></td><td class=\"_rank_prev_1orw9_133\">148</td><td class=\"_rank_prev2_1orw9_136\">116</td><td class=\"_name_1orw9_101\"><span>カワウソ霊</span></td><td><strong>152</strong></td><td>6</td><td>49</td><td>0</td></tr><tr><td class=\"_rank_1orw9_70\"><div>148</div></td><td class=\"_rank_prev_1orw9_133\">144</td><td class=\"_rank_prev2_1orw9_136\">134</td><td class=\"_name_1orw9_101\"><span>エリス</span></td><td><strong>152</strong></td><td>8</td><td>34</td><td>0</td></tr><tr><td class=\"_rank_1orw9_70\"><div>150</div></td><td class=\"_rank_prev_1orw9_133\">141</td><td class=\"_rank_prev2_1orw9_136\">133</td><td class=\"_name_1orw9_101\"><span>エレン</span></td><td><strong>151</strong></td><td>14</td><td>27</td><td>3</td></tr><tr><td class=\"_rank_1orw9_70\"><div>151</div></td><td class=\"_rank_prev_1orw9_133\">146</td><td class=\"_rank_prev2_1orw9_136\">139</td><td class=\"_name_1orw9_101\"><span>エリー</span></td><td><strong>150</strong></td><td>6</td><td>32</td><td>0</td></tr><tr><td class=\"_rank_1orw9_70\"><div>152</div></td><td class=\"_rank_prev_1orw9_133\">149</td><td class=\"_rank_prev2_1orw9_136\">139</td><td class=\"_name_1orw9_101\"><span>影華扇（断善修悪の怪腕 - 茨木童子の腕）</span></td><td><strong>139</strong></td><td>2</td><td>32</td><td>2</td></tr><tr><td class=\"_rank_1orw9_70\"><div>153</div></td><td class=\"_rank_prev_1orw9_133\">146</td><td class=\"_rank_prev2_1orw9_136\">141</td><td class=\"_name_1orw9_101\"><span>ユキ</span></td><td><strong>137</strong></td><td>13</td><td>34</td><td>0</td></tr><tr><td class=\"_rank_1orw9_70\"><div>154</div></td><td class=\"_rank_prev_1orw9_133\">150</td><td class=\"_rank_prev2_1orw9_136\">144</td><td class=\"_name_1orw9_101\"><span>大ナマズ</span></td><td><strong>135</strong></td><td>11</td><td>30</td><td>0</td></tr><tr><td class=\"_rank_1orw9_70\"><div>155</div></td><td class=\"_rank_prev_1orw9_133\">151</td><td class=\"_rank_prev2_1orw9_136\">143</td><td class=\"_name_1orw9_101\"><span>るーこと</span></td><td><strong>133</strong></td><td>13</td><td>35</td><td>0</td></tr><tr><td class=\"_rank_1orw9_70\"><div>156</div></td><td class=\"_rank_prev_1orw9_133\">155</td><td class=\"_rank_prev2_1orw9_136\">145</td><td class=\"_name_1orw9_101\"><span>里香</span></td><td><strong>125</strong></td><td>10</td><td>37</td><td>9</td></tr><tr><td class=\"_rank_1orw9_70\"><div>157</div></td><td class=\"_rank_prev_1orw9_133\">154</td><td class=\"_rank_prev2_1orw9_136\">142</td><td class=\"_name_1orw9_101\"><span>蓬莱人形レーベルイラストの娘</span></td><td><strong>124</strong></td><td>2</td><td>26</td><td>1</td></tr><tr><td class=\"_rank_1orw9_70\"><div>158</div></td><td class=\"_rank_prev_1orw9_133\">158</td><td class=\"_rank_prev2_1orw9_136\">152</td><td class=\"_name_1orw9_101\"><span>レイラ・プリズムリバー</span></td><td><strong>123</strong></td><td>9</td><td>21</td><td>1</td></tr><tr><td class=\"_rank_1orw9_70\"><div>159</div></td><td class=\"_rank_prev_1orw9_133\">157</td><td class=\"_rank_prev2_1orw9_136\">151</td><td class=\"_name_1orw9_101\"><span>明羅</span></td><td><strong>109</strong></td><td>10</td><td>27</td><td>3</td></tr><tr><td class=\"_rank_1orw9_70\"><div>160</div></td><td class=\"_rank_prev_1orw9_133\">161</td><td class=\"_rank_prev2_1orw9_136\">157</td><td class=\"_name_1orw9_101\"><span>朝倉 理香子</span></td><td><strong>101</strong></td><td>10</td><td>27</td><td>1</td></tr><tr><td class=\"_rank_1orw9_70\"><div>161</div></td><td class=\"_rank_prev_1orw9_133\">162</td><td class=\"_rank_prev2_1orw9_136\">150</td><td class=\"_name_1orw9_101\"><span>核熱造神ヒソウテンソク</span></td><td><strong>96</strong></td><td>7</td><td>18</td><td>0</td></tr><tr><td class=\"_rank_1orw9_70\"><div>162</div></td><td class=\"_rank_prev_1orw9_133\">152</td><td class=\"_rank_prev2_1orw9_136\">149</td><td class=\"_name_1orw9_101\"><span>UFO（赤・青・緑、その他）</span></td><td><strong>94</strong></td><td>3</td><td>29</td><td>0</td></tr><tr><td class=\"_rank_1orw9_70\"><div>163</div></td><td class=\"_rank_prev_1orw9_133\">170</td><td class=\"_rank_prev2_1orw9_136\">162</td><td class=\"_name_1orw9_101\"><span>なめえもん</span></td><td><strong>91</strong></td><td>5</td><td>29</td><td>0</td></tr><tr><td class=\"_rank_1orw9_70\"><div>163</div></td><td class=\"_rank_prev_1orw9_133\">156</td><td class=\"_rank_prev2_1orw9_136\">157</td><td class=\"_name_1orw9_101\"><span>旧作名無し中ボス</span></td><td><strong>91</strong></td><td>11</td><td>18</td><td>0</td></tr><tr><td class=\"_rank_1orw9_70\"><div>165</div></td><td class=\"_rank_prev_1orw9_133\">162</td><td class=\"_rank_prev2_1orw9_136\">154</td><td class=\"_name_1orw9_101\"><span>ユウゲンマガン</span></td><td><strong>85</strong></td><td>7</td><td>18</td><td>1</td></tr><tr><td class=\"_rank_1orw9_70\"><div>166</div></td><td class=\"_rank_prev_1orw9_133\">166</td><td class=\"_rank_prev2_1orw9_136\">159</td><td class=\"_name_1orw9_101\"><span>シンギョク</span></td><td><strong>78</strong></td><td>11</td><td>14</td><td>0</td></tr><tr><td class=\"_rank_1orw9_70\"><div>166</div></td><td class=\"_rank_prev_1orw9_133\">168</td><td class=\"_rank_prev2_1orw9_136\">170</td><td class=\"_name_1orw9_101\"><span>ツチノコ</span></td><td><strong>78</strong></td><td>2</td><td>23</td><td>0</td></tr><tr><td class=\"_rank_1orw9_70\"><div>168</div></td><td class=\"_rank_prev_1orw9_133\">160</td><td class=\"_rank_prev2_1orw9_136\">164</td><td class=\"_name_1orw9_101\"><span>玄爺</span></td><td><strong>77</strong></td><td>4</td><td>20</td><td>0</td></tr><tr><td class=\"_rank_1orw9_70\"><div>169</div></td><td class=\"_rank_prev_1orw9_133\">173</td><td class=\"_rank_prev2_1orw9_136\">183</td><td class=\"_name_1orw9_101\"><span>カラス（地獄鴉、紫・文の使い魔 他）</span></td><td><strong>76</strong></td><td>6</td><td>15</td><td>0</td></tr><tr><td class=\"_rank_1orw9_70\"><div>170</div></td><td class=\"_rank_prev_1orw9_133\">198</td><td class=\"_rank_prev2_1orw9_136\">196</td><td class=\"_name_1orw9_101\"><span>ヤマネ</span></td><td><strong>69</strong></td><td>28</td><td>7</td><td>0</td></tr><tr><td class=\"_rank_1orw9_70\"><div>171</div></td><td class=\"_rank_prev_1orw9_133\">169</td><td class=\"_rank_prev2_1orw9_136\">167</td><td class=\"_name_1orw9_101\"><span>ミミちゃん</span></td><td><strong>67</strong></td><td>5</td><td>16</td><td>0</td></tr><tr><td class=\"_rank_1orw9_70\"><div>172</div></td><td class=\"_rank_prev_1orw9_133\">164</td><td class=\"_rank_prev2_1orw9_136\">161</td><td class=\"_name_1orw9_101\"><span>嫦娥</span></td><td><strong>66</strong></td><td>0</td><td>29</td><td>1</td></tr><tr><td class=\"_rank_1orw9_70\"><div>173</div></td><td class=\"_rank_prev_1orw9_133\">166</td><td class=\"_rank_prev2_1orw9_136\">156</td><td class=\"_name_1orw9_101\"><span>オレンジ</span></td><td><strong>62</strong></td><td>6</td><td>12</td><td>0</td></tr><tr><td class=\"_rank_1orw9_70\"><div>174</div></td><td class=\"_rank_prev_1orw9_133\">184</td><td class=\"_rank_prev2_1orw9_136\">174</td><td class=\"_name_1orw9_101\"><span>都市伝説の怪異（お菊さん、八尺さま 他）</span></td><td><strong>61</strong></td><td>1</td><td>19</td><td>0</td></tr><tr><td class=\"_rank_1orw9_70\"><div>175</div></td><td class=\"_rank_prev_1orw9_133\">159</td><td class=\"_rank_prev2_1orw9_136\">148</td><td class=\"_name_1orw9_101\"><span>妖精（メイド妖精・ひまわり妖精 他）</span></td><td><strong>57</strong></td><td>3</td><td>16</td><td>0</td></tr><tr><td class=\"_rank_1orw9_70\"><div>176</div></td><td class=\"_rank_prev_1orw9_133\">175</td><td class=\"_rank_prev2_1orw9_136\">159</td><td class=\"_name_1orw9_101\"><span>キクリ</span></td><td><strong>53</strong></td><td>7</td><td>15</td><td>1</td></tr><tr><td class=\"_rank_1orw9_70\"><div>177</div></td><td class=\"_rank_prev_1orw9_133\">176</td><td class=\"_rank_prev2_1orw9_136\">145</td><td class=\"_name_1orw9_101\"><span>オオカミ霊</span></td><td><strong>50</strong></td><td>6</td><td>13</td><td>0</td></tr><tr><td class=\"_rank_1orw9_70\"><div>178</div></td><td class=\"_rank_prev_1orw9_133\">176</td><td class=\"_rank_prev2_1orw9_136\">171</td><td class=\"_name_1orw9_101\"><span>華扇の動物（久米、竿打、雷獣、彭祖、人面犬 他）</span></td><td><strong>49</strong></td><td>2</td><td>11</td><td>2</td></tr><tr><td class=\"_rank_1orw9_70\"><div>179</div></td><td class=\"_rank_prev_1orw9_133\">171</td><td class=\"_rank_prev2_1orw9_136\">163</td><td class=\"_name_1orw9_101\"><span>チュパカブラ</span></td><td><strong>47</strong></td><td>2</td><td>10</td><td>0</td></tr><tr><td class=\"_rank_1orw9_70\"><div>180</div></td><td class=\"_rank_prev_1orw9_133\">179</td><td class=\"_rank_prev2_1orw9_136\">168</td><td class=\"_name_1orw9_101\"><span>河童（山童含む）</span></td><td><strong>42</strong></td><td>1</td><td>8</td><td>0</td></tr><tr><td class=\"_rank_1orw9_70\"><div>181</div></td><td class=\"_rank_prev_1orw9_133\">174</td><td class=\"_rank_prev2_1orw9_136\">165</td><td class=\"_name_1orw9_101\"><span>サラ</span></td><td><strong>41</strong></td><td>4</td><td>10</td><td>0</td></tr><tr><td class=\"_rank_1orw9_70\"><div>181</div></td><td class=\"_rank_prev_1orw9_133\">179</td><td class=\"_rank_prev2_1orw9_136\">169</td><td class=\"_name_1orw9_101\"><span>兎（玉兎、永遠亭の妖怪兎 他）</span></td><td><strong>41</strong></td><td>0</td><td>15</td><td>1</td></tr><tr><td class=\"_rank_1orw9_70\"><div>183</div></td><td class=\"_rank_prev_1orw9_133\">172</td><td class=\"_rank_prev2_1orw9_136\">153</td><td class=\"_name_1orw9_101\"><span>オオワシ霊</span></td><td><strong>40</strong></td><td>1</td><td>12</td><td>0</td></tr><tr><td class=\"_rank_1orw9_70\"><div>183</div></td><td class=\"_rank_prev_1orw9_133\">179</td><td class=\"_rank_prev2_1orw9_136\">173</td><td class=\"_name_1orw9_101\"><span>里の人間（文花帖、求聞史紀、鈴奈庵などで登場した人間）</span></td><td><strong>40</strong></td><td>2</td><td>12</td><td>0</td></tr><tr><td class=\"_rank_1orw9_70\"><div>185</div></td><td class=\"_rank_prev_1orw9_133\">178</td><td class=\"_rank_prev2_1orw9_136\">172</td><td class=\"_name_1orw9_101\"><span>龍（子龍、邪龍 他）</span></td><td><strong>36</strong></td><td>0</td><td>10</td><td>0</td></tr><tr><td class=\"_rank_1orw9_70\"><div>186</div></td><td class=\"_rank_prev_1orw9_133\">186</td><td class=\"_rank_prev2_1orw9_136\">180</td><td class=\"_name_1orw9_101\"><span>ケセランパサラン</span></td><td><strong>34</strong></td><td>0</td><td>3</td><td>0</td></tr><tr><td class=\"_rank_1orw9_70\"><div>187</div></td><td class=\"_rank_prev_1orw9_133\">187</td><td class=\"_rank_prev2_1orw9_136\">178</td><td class=\"_name_1orw9_101\"><span>岩笠</span></td><td><strong>29</strong></td><td>3</td><td>7</td><td>0</td></tr><tr><td class=\"_rank_1orw9_70\"><div>187</div></td><td class=\"_rank_prev_1orw9_133\">182</td><td class=\"_rank_prev2_1orw9_136\">166</td><td class=\"_name_1orw9_101\"><span>狐（妖怪狐、狐の子他）</span></td><td><strong>29</strong></td><td>0</td><td>3</td><td>1</td></tr><tr><td class=\"_rank_1orw9_70\"><div>189</div></td><td class=\"_rank_prev_1orw9_133\">182</td><td class=\"_rank_prev2_1orw9_136\">178</td><td class=\"_name_1orw9_101\"><span>酒虫</span></td><td><strong>27</strong></td><td>1</td><td>9</td><td>0</td></tr><tr><td class=\"_rank_1orw9_70\"><div>190</div></td><td class=\"_rank_prev_1orw9_133\">189</td><td class=\"_rank_prev2_1orw9_136\">175</td><td class=\"_name_1orw9_101\"><span>万歳楽</span></td><td><strong>26</strong></td><td>2</td><td>5</td><td>0</td></tr><tr><td class=\"_rank_1orw9_70\"><div>191</div></td><td class=\"_rank_prev_1orw9_133\">185</td><td class=\"_rank_prev2_1orw9_136\">177</td><td class=\"_name_1orw9_101\"><span>ホフゴブリン</span></td><td><strong>25</strong></td><td>1</td><td>8</td><td>0</td></tr><tr><td class=\"_rank_1orw9_70\"><div>191</div></td><td class=\"_rank_prev_1orw9_133\">188</td><td class=\"_rank_prev2_1orw9_136\">180</td><td class=\"_name_1orw9_101\"><span>天狗（香霖堂の天狗、大天狗 他）</span></td><td><strong>25</strong></td><td>2</td><td>3</td><td>0</td></tr><tr><td class=\"_rank_1orw9_70\"><div>193</div></td><td class=\"_rank_prev_1orw9_133\">189</td><td class=\"_rank_prev2_1orw9_136\">182</td><td class=\"_name_1orw9_101\"><span>命蓮</span></td><td><strong>21</strong></td><td>0</td><td>5</td><td>0</td></tr><tr><td class=\"_rank_1orw9_70\"><div>194</div></td><td class=\"_rank_prev_1orw9_133\">192</td><td class=\"_rank_prev2_1orw9_136\">183</td><td class=\"_name_1orw9_101\"><span>神降ろしの神霊（天照、伊豆能売 他）</span></td><td><strong>20</strong></td><td>1</td><td>3</td><td>0</td></tr><tr><td class=\"_rank_1orw9_70\"><div>195</div></td><td class=\"_rank_prev_1orw9_133\">198</td><td class=\"_rank_prev2_1orw9_136\">191</td><td class=\"_name_1orw9_101\"><span>毘沙門天</span></td><td><strong>18</strong></td><td>2</td><td>4</td><td>0</td></tr><tr><td class=\"_rank_1orw9_70\"><div>195</div></td><td class=\"_rank_prev_1orw9_133\">191</td><td class=\"_rank_prev2_1orw9_136\">188</td><td class=\"_name_1orw9_101\"><span>木花咲耶姫</span></td><td><strong>18</strong></td><td>0</td><td>5</td><td>0</td></tr><tr><td class=\"_rank_1orw9_70\"><div>197</div></td><td class=\"_rank_prev_1orw9_133\">198</td><td class=\"_rank_prev2_1orw9_136\">188</td><td class=\"_name_1orw9_101\"><span>仙台四郎（福の神）</span></td><td><strong>17</strong></td><td>0</td><td>5</td><td>0</td></tr><tr><td class=\"_rank_1orw9_70\"><div>198</div></td><td class=\"_rank_prev_1orw9_133\">197</td><td class=\"_rank_prev2_1orw9_136\">175</td><td class=\"_name_1orw9_101\"><span>ウワバミ</span></td><td><strong>15</strong></td><td>0</td><td>2</td><td>0</td></tr><tr><td class=\"_rank_1orw9_70\"><div>198</div></td><td class=\"_rank_prev_1orw9_133\">202</td><td class=\"_rank_prev2_1orw9_136\">185</td><td class=\"_name_1orw9_101\"><span>狸（化け狸、野鉄砲他）</span></td><td><strong>15</strong></td><td>0</td><td>4</td><td>0</td></tr><tr><td class=\"_rank_1orw9_70\"><div>200</div></td><td class=\"_rank_prev_1orw9_133\">193</td><td class=\"_rank_prev2_1orw9_136\">185</td><td class=\"_name_1orw9_101\"><span>幽霊（怨霊、神霊、化け化け含む）</span></td><td><strong>13</strong></td><td>1</td><td>4</td><td>0</td></tr><tr><td class=\"_rank_1orw9_70\"><div>201</div></td><td class=\"_rank_prev_1orw9_133\">194</td><td class=\"_rank_prev2_1orw9_136\">191</td><td class=\"_name_1orw9_101\"><span>塩屋敷の旦那</span></td><td><strong>12</strong></td><td>1</td><td>2</td><td>0</td></tr><tr><td class=\"_rank_1orw9_70\"><div>202</div></td><td class=\"_rank_prev_1orw9_133\">194</td><td class=\"_rank_prev2_1orw9_136\">191</td><td class=\"_name_1orw9_101\"><span>月の都の門番</span></td><td><strong>10</strong></td><td>2</td><td>1</td><td>0</td></tr><tr><td class=\"_rank_1orw9_70\"><div>202</div></td><td class=\"_rank_prev_1orw9_133\">206</td><td class=\"_rank_prev2_1orw9_136\">191</td><td class=\"_name_1orw9_101\"><span>沓頬</span></td><td><strong>10</strong></td><td>2</td><td>1</td><td>0</td></tr><tr><td class=\"_rank_1orw9_70\"><div>204</div></td><td class=\"_rank_prev_1orw9_133\">194</td><td class=\"_rank_prev2_1orw9_136\">187</td><td class=\"_name_1orw9_101\"><span>運松</span></td><td><strong>9</strong></td><td>1</td><td>2</td><td>0</td></tr><tr><td class=\"_rank_1orw9_70\"><div>205</div></td><td class=\"_rank_prev_1orw9_133\">198</td><td class=\"_rank_prev2_1orw9_136\">190</td><td class=\"_name_1orw9_101\"><span>小鈴の両親</span></td><td><strong>8</strong></td><td>0</td><td>1</td><td>0</td></tr><tr><td class=\"_rank_1orw9_70\"><div>206</div></td><td class=\"_rank_prev_1orw9_133\">204</td><td class=\"_rank_prev2_1orw9_136\">198</td><td class=\"_name_1orw9_101\"><span>水江浦島子</span></td><td><strong>7</strong></td><td>0</td><td>2</td><td>0</td></tr><tr><td class=\"_rank_1orw9_70\"><div>207</div></td><td class=\"_rank_prev_1orw9_133\">205</td><td class=\"_rank_prev2_1orw9_136\">195</td><td class=\"_name_1orw9_101\"><span>煙々羅</span></td><td><strong>6</strong></td><td>0</td><td>1</td><td>0</td></tr><tr><td class=\"_rank_1orw9_70\"><div>208</div></td><td class=\"_rank_prev_1orw9_133\">203</td><td class=\"_rank_prev2_1orw9_136\">196</td><td class=\"_name_1orw9_101\"><span>座敷童</span></td><td><strong>5</strong></td><td>0</td><td>3</td><td>0</td></tr></tbody></table></div></div></div>"
      ]
     },
     "execution_count": 44,
     "metadata": {},
     "output_type": "execute_result"
    }
   ],
   "source": [
    "#document.querySelector(\"#app > div > main > div._container_1r0po_1._root_1orw9_14 > div > div > div > table\")\n",
    "#soup.body.div.div.main.find(\"div\", class_=\"_root_1orw9_14\").div.header\n",
    "soup.body.div.div.main.find(\"div\", class_=\"_root_1orw9_14\").div"
   ]
  },
  {
   "cell_type": "code",
   "execution_count": 5,
   "id": "8485f38d",
   "metadata": {},
   "outputs": [
    {
     "data": {
      "text/plain": [
       "<header class=\"_title_1h8e9_1\"><h1>人妖部門</h1><div class=\"_title_en_1h8e9_51\">Characters</div></header>"
      ]
     },
     "execution_count": 5,
     "metadata": {},
     "output_type": "execute_result"
    }
   ],
   "source": [
    "soup.body.div.div.main.find(\"div\", class_=\"_root_1orw9_14\").div.header"
   ]
  },
  {
   "cell_type": "code",
   "execution_count": 35,
   "id": "f4bc35b1",
   "metadata": {},
   "outputs": [],
   "source": [
    "def get_tabledata(table):\n",
    "#    for tr in table:        print(tr)\n",
    "    return [[td.string for td in tr.find_all(\"td\")] for tr in table]\n",
    "#tr.find_all(\"td\")"
   ]
  },
  {
   "cell_type": "code",
   "execution_count": 42,
   "id": "75ec8554",
   "metadata": {},
   "outputs": [],
   "source": [
    "table_contents=soup.body.div.div.main.find(\"div\", class_=\"_root_1orw9_14\").div.find_all(\"tr\")"
   ]
  },
  {
   "cell_type": "code",
   "execution_count": 43,
   "id": "fbaaed1b",
   "metadata": {},
   "outputs": [
    {
     "data": {
      "text/plain": [
       "[<tr><th>順位</th><th class=\"_rank_prev_1orw9_133\">前回</th><th class=\"_rank_prev2_1orw9_136\">前々</th><th class=\"_name_1orw9_101\">名前</th><th>ポイント</th><th>一推し</th><th>コメント</th><th>支援作品</th></tr>,\n",
       " <tr><td class=\"_rank_1orw9_70\"><div>1</div></td><td class=\"_rank_prev_1orw9_133\">5</td><td class=\"_rank_prev2_1orw9_136\">5</td><td class=\"_name_1orw9_101\"><span>フランドール・スカーレット</span></td><td><strong>16,723</strong></td><td>3,730</td><td>3,633</td><td>19</td></tr>,\n",
       " <tr><td class=\"_rank_1orw9_70\"><div>2</div></td><td class=\"_rank_prev_1orw9_133\">2</td><td class=\"_rank_prev2_1orw9_136\">4</td><td class=\"_name_1orw9_101\"><span>霧雨 魔理沙</span></td><td><strong>16,578</strong></td><td>3,267</td><td>3,160</td><td>25</td></tr>,\n",
       " <tr><td class=\"_rank_1orw9_70\"><div>3</div></td><td class=\"_rank_prev_1orw9_133\">3</td><td class=\"_rank_prev2_1orw9_136\">2</td><td class=\"_name_1orw9_101\"><span>博麗 霊夢</span></td><td><strong>15,679</strong></td><td>2,913</td><td>2,952</td><td>33</td></tr>,\n",
       " <tr><td class=\"_rank_1orw9_70\"><div>4</div></td><td class=\"_rank_prev_1orw9_133\">1</td><td class=\"_rank_prev2_1orw9_136\">1</td><td class=\"_name_1orw9_101\"><span>魂魄 妖夢</span></td><td><strong>15,323</strong></td><td>3,791</td><td>2,883</td><td>29</td></tr>,\n",
       " <tr><td class=\"_rank_1orw9_70\"><div>5</div></td><td class=\"_rank_prev_1orw9_133\">6</td><td class=\"_rank_prev2_1orw9_136\">7</td><td class=\"_name_1orw9_101\"><span>十六夜 咲夜</span></td><td><strong>13,787</strong></td><td>2,493</td><td>2,591</td><td>9</td></tr>,\n",
       " <tr><td class=\"_rank_1orw9_70\"><div>6</div></td><td class=\"_rank_prev_1orw9_133\">4</td><td class=\"_rank_prev2_1orw9_136\">3</td><td class=\"_name_1orw9_101\"><span>古明地 こいし</span></td><td><strong>13,150</strong></td><td>2,473</td><td>2,453</td><td>48</td></tr>,\n",
       " <tr><td class=\"_rank_1orw9_70\"><div>7</div></td><td class=\"_rank_prev_1orw9_133\">7</td><td class=\"_rank_prev2_1orw9_136\">6</td><td class=\"_name_1orw9_101\"><span>レミリア・スカーレット</span></td><td><strong>12,981</strong></td><td>2,215</td><td>2,429</td><td>8</td></tr>,\n",
       " <tr><td class=\"_rank_1orw9_70\"><div>8</div></td><td class=\"_rank_prev_1orw9_133\">8</td><td class=\"_rank_prev2_1orw9_136\">9</td><td class=\"_name_1orw9_101\"><span>藤原 妹紅</span></td><td><strong>8,728</strong></td><td>1,462</td><td>1,542</td><td>13</td></tr>,\n",
       " <tr><td class=\"_rank_1orw9_70\"><div>9</div></td><td class=\"_rank_prev_1orw9_133\">9</td><td class=\"_rank_prev2_1orw9_136\">8</td><td class=\"_name_1orw9_101\"><span>古明地 さとり</span></td><td><strong>7,600</strong></td><td>974</td><td>1,310</td><td>6</td></tr>,\n",
       " <tr><td class=\"_rank_1orw9_70\"><div>10</div></td><td class=\"_rank_prev_1orw9_133\">10</td><td class=\"_rank_prev2_1orw9_136\">13</td><td class=\"_name_1orw9_101\"><span>西行寺 幽々子</span></td><td><strong>6,960</strong></td><td>986</td><td>1,257</td><td>7</td></tr>,\n",
       " <tr><td class=\"_rank_1orw9_70\"><div>11</div></td><td class=\"_rank_prev_1orw9_133\">12</td><td class=\"_rank_prev2_1orw9_136\">11</td><td class=\"_name_1orw9_101\"><span>アリス・マーガトロイド</span></td><td><strong>6,909</strong></td><td>1,036</td><td>1,155</td><td>18</td></tr>,\n",
       " <tr><td class=\"_rank_1orw9_70\"><div>12</div></td><td class=\"_rank_prev_1orw9_133\">11</td><td class=\"_rank_prev2_1orw9_136\">10</td><td class=\"_name_1orw9_101\"><span>射命丸 文</span></td><td><strong>6,607</strong></td><td>965</td><td>1,065</td><td>9</td></tr>,\n",
       " <tr><td class=\"_rank_1orw9_70\"><div>13</div></td><td class=\"_rank_prev_1orw9_133\">14</td><td class=\"_rank_prev2_1orw9_136\">14</td><td class=\"_name_1orw9_101\"><span>鈴仙・優曇華院・イナバ</span></td><td><strong>6,575</strong></td><td>843</td><td>1,133</td><td>10</td></tr>,\n",
       " <tr><td class=\"_rank_1orw9_70\"><div>14</div></td><td class=\"_rank_prev_1orw9_133\">13</td><td class=\"_rank_prev2_1orw9_136\">12</td><td class=\"_name_1orw9_101\"><span>東風谷 早苗</span></td><td><strong>6,185</strong></td><td>950</td><td>1,046</td><td>10</td></tr>,\n",
       " <tr><td class=\"_rank_1orw9_70\"><div>15</div></td><td class=\"_rank_prev_1orw9_133\">18</td><td class=\"_rank_prev2_1orw9_136\">24</td><td class=\"_name_1orw9_101\"><span>チルノ</span></td><td><strong>5,850</strong></td><td>900</td><td>1,284</td><td>14</td></tr>,\n",
       " <tr><td class=\"_rank_1orw9_70\"><div>16</div></td><td class=\"_rank_prev_1orw9_133\">16</td><td class=\"_rank_prev2_1orw9_136\">15</td><td class=\"_name_1orw9_101\"><span>八雲 紫</span></td><td><strong>5,342</strong></td><td>643</td><td>918</td><td>7</td></tr>,\n",
       " <tr><td class=\"_rank_1orw9_70\"><div>17</div></td><td class=\"_rank_prev_1orw9_133\">21</td><td class=\"_rank_prev2_1orw9_136\">23</td><td class=\"_name_1orw9_101\"><span>ルーミア</span></td><td><strong>5,293</strong></td><td>772</td><td>1,142</td><td>8</td></tr>,\n",
       " <tr><td class=\"_rank_1orw9_70\"><div>18</div></td><td class=\"_rank_prev_1orw9_133\">15</td><td class=\"_rank_prev2_1orw9_136\">16</td><td class=\"_name_1orw9_101\"><span>比那名居 天子</span></td><td><strong>5,200</strong></td><td>785</td><td>852</td><td>7</td></tr>,\n",
       " <tr><td class=\"_rank_1orw9_70\"><div>19</div></td><td class=\"_rank_prev_1orw9_133\">19</td><td class=\"_rank_prev2_1orw9_136\">18</td><td class=\"_name_1orw9_101\"><span>パチュリー・ノーレッジ</span></td><td><strong>5,194</strong></td><td>688</td><td>815</td><td>2</td></tr>,\n",
       " <tr><td class=\"_rank_1orw9_70\"><div>20</div></td><td class=\"_rank_prev_1orw9_133\">22</td><td class=\"_rank_prev2_1orw9_136\">21</td><td class=\"_name_1orw9_101\"><span>洩矢 諏訪子</span></td><td><strong>5,013</strong></td><td>752</td><td>872</td><td>5</td></tr>,\n",
       " <tr><td class=\"_rank_1orw9_70\"><div>21</div></td><td class=\"_rank_prev_1orw9_133\">17</td><td class=\"_rank_prev2_1orw9_136\">17</td><td class=\"_name_1orw9_101\"><span>秦 こころ</span></td><td><strong>4,966</strong></td><td>679</td><td>912</td><td>3</td></tr>,\n",
       " <tr><td class=\"_rank_1orw9_70\"><div>22</div></td><td class=\"_rank_prev_1orw9_133\">25</td><td class=\"_rank_prev2_1orw9_136\">25</td><td class=\"_name_1orw9_101\"><span>紅 美鈴</span></td><td><strong>4,550</strong></td><td>640</td><td>830</td><td>5</td></tr>,\n",
       " <tr><td class=\"_rank_1orw9_70\"><div>23</div></td><td class=\"_rank_prev_1orw9_133\">23</td><td class=\"_rank_prev2_1orw9_136\">19</td><td class=\"_name_1orw9_101\"><span>四季映姫・ヤマザナドゥ</span></td><td><strong>4,417</strong></td><td>577</td><td>744</td><td>4</td></tr>,\n",
       " <tr><td class=\"_rank_1orw9_70\"><div>24</div></td><td class=\"_rank_prev_1orw9_133\">27</td><td class=\"_rank_prev2_1orw9_136\">22</td><td class=\"_name_1orw9_101\"><span>犬走 椛</span></td><td><strong>4,129</strong></td><td>616</td><td>787</td><td>5</td></tr>,\n",
       " <tr><td class=\"_rank_1orw9_70\"><div>25</div></td><td class=\"_rank_prev_1orw9_133\">20</td><td class=\"_rank_prev2_1orw9_136\">20</td><td class=\"_name_1orw9_101\"><span>多々良 小傘</span></td><td><strong>4,095</strong></td><td>568</td><td>738</td><td>9</td></tr>,\n",
       " <tr><td class=\"_rank_1orw9_70\"><div>26</div></td><td class=\"_rank_prev_1orw9_133\">24</td><td class=\"_rank_prev2_1orw9_136\">28</td><td class=\"_name_1orw9_101\"><span>風見 幽香</span></td><td><strong>4,058</strong></td><td>496</td><td>617</td><td>3</td></tr>,\n",
       " <tr><td class=\"_rank_1orw9_70\"><div>27</div></td><td class=\"_rank_prev_1orw9_133\">26</td><td class=\"_rank_prev2_1orw9_136\">29</td><td class=\"_name_1orw9_101\"><span>豊聡耳 神子</span></td><td><strong>3,650</strong></td><td>574</td><td>696</td><td>3</td></tr>,\n",
       " <tr><td class=\"_rank_1orw9_70\"><div>28</div></td><td class=\"_rank_prev_1orw9_133\">28</td><td class=\"_rank_prev2_1orw9_136\">26</td><td class=\"_name_1orw9_101\"><span>純狐</span></td><td><strong>3,522</strong></td><td>415</td><td>594</td><td>6</td></tr>,\n",
       " <tr><td class=\"_rank_1orw9_70\"><div>29</div></td><td class=\"_rank_prev_1orw9_133\">34</td><td class=\"_rank_prev2_1orw9_136\">42</td><td class=\"_name_1orw9_101\"><span>ヘカーティア・ラピスラズリ</span></td><td><strong>3,425</strong></td><td>328</td><td>646</td><td>2</td></tr>,\n",
       " <tr><td class=\"_rank_1orw9_70\"><div>30</div></td><td class=\"_rank_prev_1orw9_133\">30</td><td class=\"_rank_prev2_1orw9_136\">30</td><td class=\"_name_1orw9_101\"><span>依神紫苑</span></td><td><strong>3,412</strong></td><td>383</td><td>583</td><td>7</td></tr>,\n",
       " <tr><td class=\"_rank_1orw9_70\"><div>31</div></td><td class=\"_rank_prev_1orw9_133\">31</td><td class=\"_rank_prev2_1orw9_136\">31</td><td class=\"_name_1orw9_101\"><span>伊吹 萃香</span></td><td><strong>3,326</strong></td><td>430</td><td>546</td><td>5</td></tr>,\n",
       " <tr><td class=\"_rank_1orw9_70\"><div>32</div></td><td class=\"_rank_prev_1orw9_133\">29</td><td class=\"_rank_prev2_1orw9_136\">32</td><td class=\"_name_1orw9_101\"><span>鬼人 正邪</span></td><td><strong>3,285</strong></td><td>575</td><td>628</td><td>6</td></tr>,\n",
       " <tr><td class=\"_rank_1orw9_70\"><div>33</div></td><td class=\"_rank_prev_1orw9_133\">33</td><td class=\"_rank_prev2_1orw9_136\">40</td><td class=\"_name_1orw9_101\"><span>稀神 サグメ</span></td><td><strong>3,268</strong></td><td>369</td><td>585</td><td>3</td></tr>,\n",
       " <tr><td class=\"_rank_1orw9_70\"><div>34</div></td><td class=\"_rank_prev_1orw9_133\">37</td><td class=\"_rank_prev2_1orw9_136\">37</td><td class=\"_name_1orw9_101\"><span>八雲 藍</span></td><td><strong>3,212</strong></td><td>353</td><td>579</td><td>5</td></tr>,\n",
       " <tr><td class=\"_rank_1orw9_70\"><div>35</div></td><td class=\"_rank_prev_1orw9_133\">36</td><td class=\"_rank_prev2_1orw9_136\">33</td><td class=\"_name_1orw9_101\"><span>河城 にとり</span></td><td><strong>3,107</strong></td><td>416</td><td>514</td><td>3</td></tr>,\n",
       " <tr><td class=\"_rank_1orw9_70\"><div>36</div></td><td class=\"_rank_prev_1orw9_133\">39</td><td class=\"_rank_prev2_1orw9_136\">38</td><td class=\"_name_1orw9_101\"><span>霊烏路 空</span></td><td><strong>3,077</strong></td><td>438</td><td>532</td><td>6</td></tr>,\n",
       " <tr><td class=\"_rank_1orw9_70\"><div>37</div></td><td class=\"_rank_prev_1orw9_133\">32</td><td class=\"_rank_prev2_1orw9_136\">39</td><td class=\"_name_1orw9_101\"><span>物部 布都</span></td><td><strong>3,071</strong></td><td>409</td><td>573</td><td>6</td></tr>,\n",
       " <tr><td class=\"_rank_1orw9_70\"><div>38</div></td><td class=\"_rank_prev_1orw9_133\">41</td><td class=\"_rank_prev2_1orw9_136\">34</td><td class=\"_name_1orw9_101\"><span>水橋 パルスィ</span></td><td><strong>3,058</strong></td><td>426</td><td>576</td><td>6</td></tr>,\n",
       " <tr><td class=\"_rank_1orw9_70\"><div>39</div></td><td class=\"_rank_prev_1orw9_133\">40</td><td class=\"_rank_prev2_1orw9_136\">35</td><td class=\"_name_1orw9_101\"><span>茨木 華扇</span></td><td><strong>2,863</strong></td><td>290</td><td>471</td><td>11</td></tr>,\n",
       " <tr><td class=\"_rank_1orw9_70\"><div>40</div></td><td class=\"_rank_prev_1orw9_133\">35</td><td class=\"_rank_prev2_1orw9_136\">41</td><td class=\"_name_1orw9_101\"><span>蓬莱山 輝夜</span></td><td><strong>2,692</strong></td><td>294</td><td>422</td><td>5</td></tr>,\n",
       " <tr><td class=\"_rank_1orw9_70\"><div>41</div></td><td class=\"_rank_prev_1orw9_133\">38</td><td class=\"_rank_prev2_1orw9_136\">27</td><td class=\"_name_1orw9_101\"><span>宇佐見 蓮子</span></td><td><strong>2,611</strong></td><td>319</td><td>378</td><td>8</td></tr>,\n",
       " <tr><td class=\"_rank_1orw9_70\"><div>42</div></td><td class=\"_rank_prev_1orw9_133\">45</td><td class=\"_rank_prev2_1orw9_136\">50</td><td class=\"_name_1orw9_101\"><span>鍵山 雛</span></td><td><strong>2,552</strong></td><td>344</td><td>500</td><td>5</td></tr>,\n",
       " <tr><td class=\"_rank_1orw9_70\"><div>43</div></td><td class=\"_rank_prev_1orw9_133\">42</td><td class=\"_rank_prev2_1orw9_136\">43</td><td class=\"_name_1orw9_101\"><span>摩多羅隠岐奈</span></td><td><strong>2,493</strong></td><td>255</td><td>470</td><td>6</td></tr>,\n",
       " <tr><td class=\"_rank_1orw9_70\"><div>44</div></td><td class=\"_rank_prev_1orw9_133\">43</td><td class=\"_rank_prev2_1orw9_136\">45</td><td class=\"_name_1orw9_101\"><span>封獣 ぬえ</span></td><td><strong>2,215</strong></td><td>228</td><td>348</td><td>6</td></tr>,\n",
       " <tr><td class=\"_rank_1orw9_70\"><div>45</div></td><td class=\"_rank_prev_1orw9_133\">49</td><td class=\"_rank_prev2_1orw9_136\">47</td><td class=\"_name_1orw9_101\"><span>火焔猫 燐</span></td><td><strong>2,051</strong></td><td>205</td><td>307</td><td>12</td></tr>,\n",
       " <tr><td class=\"_rank_1orw9_70\"><div>46</div></td><td class=\"_rank_prev_1orw9_133\">48</td><td class=\"_rank_prev2_1orw9_136\">58</td><td class=\"_name_1orw9_101\"><span>八意 永琳</span></td><td><strong>2,011</strong></td><td>139</td><td>404</td><td>2</td></tr>,\n",
       " <tr><td class=\"_rank_1orw9_70\"><div>47</div></td><td class=\"_rank_prev_1orw9_133\">47</td><td class=\"_rank_prev2_1orw9_136\">44</td><td class=\"_name_1orw9_101\"><span>聖 白蓮</span></td><td><strong>1,994</strong></td><td>188</td><td>320</td><td>0</td></tr>,\n",
       " <tr><td class=\"_rank_1orw9_70\"><div>48</div></td><td class=\"_rank_prev_1orw9_133\">52</td><td class=\"_rank_prev2_1orw9_136\">48</td><td class=\"_name_1orw9_101\"><span>クラウンピース</span></td><td><strong>1,989</strong></td><td>170</td><td>340</td><td>2</td></tr>,\n",
       " <tr><td class=\"_rank_1orw9_70\"><div>49</div></td><td class=\"_rank_prev_1orw9_133\">63</td><td class=\"_rank_prev2_1orw9_136\">53</td><td class=\"_name_1orw9_101\"><span>ナズーリン</span></td><td><strong>1,949</strong></td><td>254</td><td>345</td><td>5</td></tr>,\n",
       " <tr><td class=\"_rank_1orw9_70\"><div>50</div></td><td class=\"_rank_prev_1orw9_133\">50</td><td class=\"_rank_prev2_1orw9_136\">51</td><td class=\"_name_1orw9_101\"><span>ドレミー・スイート</span></td><td><strong>1,902</strong></td><td>181</td><td>340</td><td>5</td></tr>,\n",
       " <tr><td class=\"_rank_1orw9_70\"><div>51</div></td><td class=\"_rank_prev_1orw9_133\">46</td><td class=\"_rank_prev2_1orw9_136\">36</td><td class=\"_name_1orw9_101\"><span>埴安神 袿姫</span></td><td><strong>1,890</strong></td><td>178</td><td>338</td><td>6</td></tr>,\n",
       " <tr><td class=\"_rank_1orw9_70\"><div>52</div></td><td class=\"_rank_prev_1orw9_133\">44</td><td class=\"_rank_prev2_1orw9_136 undefined\">-</td><td class=\"_name_1orw9_101\"><span>天弓 千亦</span></td><td><strong>1,887</strong></td><td>149</td><td>403</td><td>8</td></tr>,\n",
       " <tr><td class=\"_rank_1orw9_70\"><div>53</div></td><td class=\"_rank_prev_1orw9_133 undefined\">-</td><td class=\"_rank_prev2_1orw9_136 undefined\">-</td><td class=\"_name_1orw9_101\"><span>饕餮尤魔</span></td><td><strong>1,854</strong></td><td>143</td><td>342</td><td>7</td></tr>,\n",
       " <tr><td class=\"_rank_1orw9_70\"><div>54</div></td><td class=\"_rank_prev_1orw9_133\">67</td><td class=\"_rank_prev2_1orw9_136\">71</td><td class=\"_name_1orw9_101\"><span>小悪魔</span></td><td><strong>1,831</strong></td><td>127</td><td>353</td><td>7</td></tr>,\n",
       " <tr><td class=\"_rank_1orw9_70\"><div>55</div></td><td class=\"_rank_prev_1orw9_133\">53</td><td class=\"_rank_prev2_1orw9_136\">57</td><td class=\"_name_1orw9_101\"><span>上白沢 慧音</span></td><td><strong>1,812</strong></td><td>182</td><td>304</td><td>2</td></tr>,\n",
       " <tr><td class=\"_rank_1orw9_70\"><div>56</div></td><td class=\"_rank_prev_1orw9_133\">61</td><td class=\"_rank_prev2_1orw9_136\">61</td><td class=\"_name_1orw9_101\"><span>橙</span></td><td><strong>1,780</strong></td><td>198</td><td>365</td><td>9</td></tr>,\n",
       " <tr><td class=\"_rank_1orw9_70\"><div>57</div></td><td class=\"_rank_prev_1orw9_133\">55</td><td class=\"_rank_prev2_1orw9_136 undefined\">-</td><td class=\"_name_1orw9_101\"><span>菅牧 典</span></td><td><strong>1,778</strong></td><td>104</td><td>324</td><td>4</td></tr>,\n",
       " <tr><td class=\"_rank_1orw9_70\"><div>58</div></td><td class=\"_rank_prev_1orw9_133\">59</td><td class=\"_rank_prev2_1orw9_136\">59</td><td class=\"_name_1orw9_101\"><span>霍 青娥</span></td><td><strong>1,767</strong></td><td>185</td><td>308</td><td>3</td></tr>,\n",
       " <tr><td class=\"_rank_1orw9_70\"><div>59</div></td><td class=\"_rank_prev_1orw9_133\">51</td><td class=\"_rank_prev2_1orw9_136\">70</td><td class=\"_name_1orw9_101\"><span>村紗 水蜜</span></td><td><strong>1,714</strong></td><td>217</td><td>306</td><td>3</td></tr>,\n",
       " <tr><td class=\"_rank_1orw9_70\"><div>60</div></td><td class=\"_rank_prev_1orw9_133\">54</td><td class=\"_rank_prev2_1orw9_136\">49</td><td class=\"_name_1orw9_101\"><span>マエリベリー・ハーン</span></td><td><strong>1,668</strong></td><td>93</td><td>272</td><td>10</td></tr>,\n",
       " <tr><td class=\"_rank_1orw9_70\"><div>61</div></td><td class=\"_rank_prev_1orw9_133\">57</td><td class=\"_rank_prev2_1orw9_136 undefined\">-</td><td class=\"_name_1orw9_101\"><span>飯綱丸 龍</span></td><td><strong>1,610</strong></td><td>117</td><td>315</td><td>4</td></tr>,\n",
       " <tr><td class=\"_rank_1orw9_70\"><div>62</div></td><td class=\"_rank_prev_1orw9_133\">76</td><td class=\"_rank_prev2_1orw9_136\">63</td><td class=\"_name_1orw9_101\"><span>永江 衣玖</span></td><td><strong>1,593</strong></td><td>156</td><td>304</td><td>4</td></tr>,\n",
       " <tr><td class=\"_rank_1orw9_70\"><div>63</div></td><td class=\"_rank_prev_1orw9_133\">68</td><td class=\"_rank_prev2_1orw9_136\">56</td><td class=\"_name_1orw9_101\"><span>庭渡 久侘歌</span></td><td><strong>1,588</strong></td><td>158</td><td>323</td><td>4</td></tr>,\n",
       " <tr><td class=\"_rank_1orw9_70\"><div>64</div></td><td class=\"_rank_prev_1orw9_133\">58</td><td class=\"_rank_prev2_1orw9_136\">46</td><td class=\"_name_1orw9_101\"><span>吉弔 八千慧</span></td><td><strong>1,518</strong></td><td>109</td><td>275</td><td>1</td></tr>,\n",
       " <tr><td class=\"_rank_1orw9_70\"><div>65</div></td><td class=\"_rank_prev_1orw9_133\">56</td><td class=\"_rank_prev2_1orw9_136\">62</td><td class=\"_name_1orw9_101\"><span>宇佐見 菫子</span></td><td><strong>1,506</strong></td><td>151</td><td>265</td><td>3</td></tr>,\n",
       " <tr><td class=\"_rank_1orw9_70\"><div>66</div></td><td class=\"_rank_prev_1orw9_133\">60</td><td class=\"_rank_prev2_1orw9_136\">54</td><td class=\"_name_1orw9_101\"><span>大妖精</span></td><td><strong>1,464</strong></td><td>114</td><td>285</td><td>10</td></tr>,\n",
       " <tr><td class=\"_rank_1orw9_70\"><div>67</div></td><td class=\"_rank_prev_1orw9_133\">64</td><td class=\"_rank_prev2_1orw9_136\">74</td><td class=\"_name_1orw9_101\"><span>因幡 てゐ</span></td><td><strong>1,452</strong></td><td>125</td><td>236</td><td>2</td></tr>,\n",
       " <tr><td class=\"_rank_1orw9_70\"><div>68</div></td><td class=\"_rank_prev_1orw9_133\">80</td><td class=\"_rank_prev2_1orw9_136\">55</td><td class=\"_name_1orw9_101\"><span>依神女苑</span></td><td><strong>1,438</strong></td><td>149</td><td>241</td><td>4</td></tr>,\n",
       " <tr><td class=\"_rank_1orw9_70\"><div>69</div></td><td class=\"_rank_prev_1orw9_133\">71</td><td class=\"_rank_prev2_1orw9_136\">64</td><td class=\"_name_1orw9_101\"><span>ミスティア・ローレライ</span></td><td><strong>1,401</strong></td><td>180</td><td>245</td><td>10</td></tr>,\n",
       " <tr><td class=\"_rank_1orw9_70\"><div>70</div></td><td class=\"_rank_prev_1orw9_133\">66</td><td class=\"_rank_prev2_1orw9_136\">52</td><td class=\"_name_1orw9_101\"><span>今泉 影狼</span></td><td><strong>1,399</strong></td><td>128</td><td>238</td><td>4</td></tr>,\n",
       " <tr><td class=\"_rank_1orw9_70\"><div>71</div></td><td class=\"_rank_prev_1orw9_133\">64</td><td class=\"_rank_prev2_1orw9_136\">69</td><td class=\"_name_1orw9_101\"><span>赤蛮奇</span></td><td><strong>1,385</strong></td><td>148</td><td>258</td><td>4</td></tr>,\n",
       " <tr><td class=\"_rank_1orw9_70\"><div>72</div></td><td class=\"_rank_prev_1orw9_133\">69</td><td class=\"_rank_prev2_1orw9_136\">77</td><td class=\"_name_1orw9_101\"><span>星熊 勇儀</span></td><td><strong>1,366</strong></td><td>120</td><td>284</td><td>3</td></tr>,\n",
       " <tr><td class=\"_rank_1orw9_70\"><div>73</div></td><td class=\"_rank_prev_1orw9_133\">74</td><td class=\"_rank_prev2_1orw9_136\">66</td><td class=\"_name_1orw9_101\"><span>蘇我 屠自古</span></td><td><strong>1,286</strong></td><td>136</td><td>239</td><td>5</td></tr>,\n",
       " <tr><td class=\"_rank_1orw9_70\"><div>74</div></td><td class=\"_rank_prev_1orw9_133\">79</td><td class=\"_rank_prev2_1orw9_136\">75</td><td class=\"_name_1orw9_101\"><span>森近 霖之助</span></td><td><strong>1,278</strong></td><td>110</td><td>263</td><td>5</td></tr>,\n",
       " <tr><td class=\"_rank_1orw9_70\"><div>75</div></td><td class=\"_rank_prev_1orw9_133\">82</td><td class=\"_rank_prev2_1orw9_136\">81</td><td class=\"_name_1orw9_101\"><span>魅魔</span></td><td><strong>1,266</strong></td><td>126</td><td>305</td><td>6</td></tr>,\n",
       " <tr><td class=\"_rank_1orw9_70\"><div>76</div></td><td class=\"_rank_prev_1orw9_133\">69</td><td class=\"_rank_prev2_1orw9_136\">60</td><td class=\"_name_1orw9_101\"><span>本居 小鈴</span></td><td><strong>1,262</strong></td><td>106</td><td>229</td><td>3</td></tr>,\n",
       " <tr><td class=\"_rank_1orw9_70\"><div>77</div></td><td class=\"_rank_prev_1orw9_133\">72</td><td class=\"_rank_prev2_1orw9_136\">65</td><td class=\"_name_1orw9_101\"><span>小野塚 小町</span></td><td><strong>1,259</strong></td><td>99</td><td>227</td><td>4</td></tr>,\n",
       " <tr><td class=\"_rank_1orw9_70\"><div>78</div></td><td class=\"_rank_prev_1orw9_133\">81</td><td class=\"_rank_prev2_1orw9_136\">79</td><td class=\"_name_1orw9_101\"><span>二ッ岩 マミゾウ</span></td><td><strong>1,238</strong></td><td>130</td><td>206</td><td>3</td></tr>,\n",
       " <tr><td class=\"_rank_1orw9_70\"><div>79</div></td><td class=\"_rank_prev_1orw9_133\">78</td><td class=\"_rank_prev2_1orw9_136\">78</td><td class=\"_name_1orw9_101\"><span>八坂 神奈子</span></td><td><strong>1,222</strong></td><td>123</td><td>221</td><td>4</td></tr>,\n",
       " <tr><td class=\"_rank_1orw9_70\"><div>80</div></td><td class=\"_rank_prev_1orw9_133\">74</td><td class=\"_rank_prev2_1orw9_136\">73</td><td class=\"_name_1orw9_101\"><span>姫海棠 はたて</span></td><td><strong>1,201</strong></td><td>94</td><td>210</td><td>4</td></tr>,\n",
       " <tr><td class=\"_rank_1orw9_70\"><div>81</div></td><td class=\"_rank_prev_1orw9_133\">85</td><td class=\"_rank_prev2_1orw9_136\">94</td><td class=\"_name_1orw9_101\"><span>リグル・ナイトバグ</span></td><td><strong>1,164</strong></td><td>214</td><td>246</td><td>7</td></tr>,\n",
       " <tr><td class=\"_rank_1orw9_70\"><div>82</div></td><td class=\"_rank_prev_1orw9_133\">73</td><td class=\"_rank_prev2_1orw9_136\">67</td><td class=\"_name_1orw9_101\"><span>少名 針妙丸</span></td><td><strong>1,099</strong></td><td>121</td><td>186</td><td>4</td></tr>,\n",
       " <tr><td class=\"_rank_1orw9_70\"><div>83</div></td><td class=\"_rank_prev_1orw9_133\">62</td><td class=\"_rank_prev2_1orw9_136 undefined\">-</td><td class=\"_name_1orw9_101\"><span>姫虫 百々世</span></td><td><strong>1,040</strong></td><td>76</td><td>228</td><td>0</td></tr>,\n",
       " <tr><td class=\"_rank_1orw9_70\"><div>84</div></td><td class=\"_rank_prev_1orw9_133\">84</td><td class=\"_rank_prev2_1orw9_136\">84</td><td class=\"_name_1orw9_101\"><span>ルナサ・プリズムリバー</span></td><td><strong>1,038</strong></td><td>121</td><td>189</td><td>4</td></tr>,\n",
       " <tr><td class=\"_rank_1orw9_70\"><div>85</div></td><td class=\"_rank_prev_1orw9_133\">95</td><td class=\"_rank_prev2_1orw9_136\">86</td><td class=\"_name_1orw9_101\"><span>メディスン・メランコリー</span></td><td><strong>1,029</strong></td><td>96</td><td>201</td><td>0</td></tr>,\n",
       " <tr><td class=\"_rank_1orw9_70\"><div>86</div></td><td class=\"_rank_prev_1orw9_133\">87</td><td class=\"_rank_prev2_1orw9_136\">89</td><td class=\"_name_1orw9_101\"><span>宮古 芳香</span></td><td><strong>1,001</strong></td><td>96</td><td>207</td><td>2</td></tr>,\n",
       " <tr><td class=\"_rank_1orw9_70\"><div>87</div></td><td class=\"_rank_prev_1orw9_133\">83</td><td class=\"_rank_prev2_1orw9_136\">72</td><td class=\"_name_1orw9_101\"><span>稗田 阿求</span></td><td><strong>960</strong></td><td>81</td><td>158</td><td>4</td></tr>,\n",
       " <tr><td class=\"_rank_1orw9_70\"><div>88</div></td><td class=\"_rank_prev_1orw9_133\">86</td><td class=\"_rank_prev2_1orw9_136\">80</td><td class=\"_name_1orw9_101\"><span>堀川 雷鼓</span></td><td><strong>951</strong></td><td>93</td><td>182</td><td>1</td></tr>,\n",
       " <tr><td class=\"_rank_1orw9_70\"><div>89</div></td><td class=\"_rank_prev_1orw9_133\">93</td><td class=\"_rank_prev2_1orw9_136\">96</td><td class=\"_name_1orw9_101\"><span>秋 静葉</span></td><td><strong>934</strong></td><td>90</td><td>186</td><td>7</td></tr>,\n",
       " <tr><td class=\"_rank_1orw9_70\"><div>90</div></td><td class=\"_rank_prev_1orw9_133\">98</td><td class=\"_rank_prev2_1orw9_136\">88</td><td class=\"_name_1orw9_101\"><span>神綺</span></td><td><strong>921</strong></td><td>55</td><td>166</td><td>3</td></tr>,\n",
       " <tr><td class=\"_rank_1orw9_70\"><div>91</div></td><td class=\"_rank_prev_1orw9_133\">90</td><td class=\"_rank_prev2_1orw9_136\">98</td><td class=\"_name_1orw9_101\"><span>綿月 依姫</span></td><td><strong>898</strong></td><td>73</td><td>166</td><td>1</td></tr>,\n",
       " <tr><td class=\"_rank_1orw9_70\"><div>92</div></td><td class=\"_rank_prev_1orw9_133\">94</td><td class=\"_rank_prev2_1orw9_136\">97</td><td class=\"_name_1orw9_101\"><span>秋 穣子</span></td><td><strong>871</strong></td><td>81</td><td>169</td><td>5</td></tr>,\n",
       " <tr><td class=\"_rank_1orw9_70\"><div>93</div></td><td class=\"_rank_prev_1orw9_133\">88</td><td class=\"_rank_prev2_1orw9_136\">76</td><td class=\"_name_1orw9_101\"><span>驪駒 早鬼</span></td><td><strong>870</strong></td><td>43</td><td>163</td><td>2</td></tr>,\n",
       " <tr><td class=\"_rank_1orw9_70\"><div>94</div></td><td class=\"_rank_prev_1orw9_133\">77</td><td class=\"_rank_prev2_1orw9_136\">68</td><td class=\"_name_1orw9_101\"><span>杖刀偶 磨弓</span></td><td><strong>865</strong></td><td>77</td><td>161</td><td>5</td></tr>,\n",
       " <tr><td class=\"_rank_1orw9_70\"><div>95</div></td><td class=\"_rank_prev_1orw9_133\">96</td><td class=\"_rank_prev2_1orw9_136\">83</td><td class=\"_name_1orw9_101\"><span>高麗野あうん</span></td><td><strong>823</strong></td><td>64</td><td>190</td><td>1</td></tr>,\n",
       " <tr><td class=\"_rank_1orw9_70\"><div>96</div></td><td class=\"_rank_prev_1orw9_133\">91</td><td class=\"_rank_prev2_1orw9_136\">82</td><td class=\"_name_1orw9_101\"><span>リリーホワイト</span></td><td><strong>816</strong></td><td>90</td><td>151</td><td>4</td></tr>,\n",
       " <tr><td class=\"_rank_1orw9_70\"><div>97</div></td><td class=\"_rank_prev_1orw9_133\">97</td><td class=\"_rank_prev2_1orw9_136\">89</td><td class=\"_name_1orw9_101\"><span>わかさぎ姫</span></td><td><strong>798</strong></td><td>75</td><td>171</td><td>1</td></tr>,\n",
       " <tr><td class=\"_rank_1orw9_70\"><div>98</div></td><td class=\"_rank_prev_1orw9_133\">99</td><td class=\"_rank_prev2_1orw9_136\">85</td><td class=\"_name_1orw9_101\"><span>寅丸 星</span></td><td><strong>776</strong></td><td>86</td><td>140</td><td>3</td></tr>,\n",
       " <tr><td class=\"_rank_1orw9_70\"><div>99</div></td><td class=\"_rank_prev_1orw9_133\">92</td><td class=\"_rank_prev2_1orw9_136\">93</td><td class=\"_name_1orw9_101\"><span>奥野田 美宵</span></td><td><strong>739</strong></td><td>41</td><td>173</td><td>2</td></tr>,\n",
       " <tr><td class=\"_rank_1orw9_70\"><div>100</div></td><td class=\"_rank_prev_1orw9_133\">101</td><td class=\"_rank_prev2_1orw9_136\">91</td><td class=\"_name_1orw9_101\"><span>岡崎 夢美</span></td><td><strong>735</strong></td><td>54</td><td>123</td><td>8</td></tr>,\n",
       " <tr><td class=\"_rank_1orw9_70\"><div>101</div></td><td class=\"_rank_prev_1orw9_133\">103</td><td class=\"_rank_prev2_1orw9_136\">100</td><td class=\"_name_1orw9_101\"><span>レティ・ホワイトロック</span></td><td><strong>691</strong></td><td>86</td><td>151</td><td>2</td></tr>,\n",
       " <tr><td class=\"_rank_1orw9_70\"><div>102</div></td><td class=\"_rank_prev_1orw9_133\">104</td><td class=\"_rank_prev2_1orw9_136\">102</td><td class=\"_name_1orw9_101\"><span>黒谷 ヤマメ</span></td><td><strong>669</strong></td><td>75</td><td>137</td><td>5</td></tr>,\n",
       " <tr><td class=\"_rank_1orw9_70\"><div>103</div></td><td class=\"_rank_prev_1orw9_133\">100</td><td class=\"_rank_prev2_1orw9_136\">108</td><td class=\"_name_1orw9_101\"><span>丁礼田舞</span></td><td><strong>656</strong></td><td>38</td><td>129</td><td>1</td></tr>,\n",
       " <tr><td class=\"_rank_1orw9_70\"><div>104</div></td><td class=\"_rank_prev_1orw9_133\">109</td><td class=\"_rank_prev2_1orw9_136\">92</td><td class=\"_name_1orw9_101\"><span>易者</span></td><td><strong>628</strong></td><td>30</td><td>156</td><td>3</td></tr>,\n",
       " <tr><td class=\"_rank_1orw9_70\"><div>105</div></td><td class=\"_rank_prev_1orw9_133\">102</td><td class=\"_rank_prev2_1orw9_136\">87</td><td class=\"_name_1orw9_101\"><span>幽谷 響子</span></td><td><strong>620</strong></td><td>53</td><td>120</td><td>1</td></tr>,\n",
       " <tr><td class=\"_rank_1orw9_70\"><div>106</div></td><td class=\"_rank_prev_1orw9_133\">89</td><td class=\"_rank_prev2_1orw9_136 undefined\">-</td><td class=\"_name_1orw9_101\"><span>豪徳寺 ミケ</span></td><td><strong>619</strong></td><td>27</td><td>123</td><td>0</td></tr>,\n",
       " <tr><td class=\"_rank_1orw9_70\"><div>107</div></td><td class=\"_rank_prev_1orw9_133\">105</td><td class=\"_rank_prev2_1orw9_136\">109</td><td class=\"_name_1orw9_101\"><span>爾子田里乃</span></td><td><strong>564</strong></td><td>32</td><td>101</td><td>0</td></tr>,\n",
       " <tr><td class=\"_rank_1orw9_70\"><div>108</div></td><td class=\"_rank_prev_1orw9_133\">107</td><td class=\"_rank_prev2_1orw9_136\">114</td><td class=\"_name_1orw9_101\"><span>綿月 豊姫</span></td><td><strong>561</strong></td><td>34</td><td>112</td><td>0</td></tr>,\n",
       " <tr><td class=\"_rank_1orw9_70\"><div>109</div></td><td class=\"_rank_prev_1orw9_133\">111</td><td class=\"_rank_prev2_1orw9_136\">111</td><td class=\"_name_1orw9_101\"><span>メルラン・プリズムリバー</span></td><td><strong>535</strong></td><td>63</td><td>90</td><td>0</td></tr>,\n",
       " <tr><td class=\"_rank_1orw9_70\"><div>110</div></td><td class=\"_rank_prev_1orw9_133\">110</td><td class=\"_rank_prev2_1orw9_136\">99</td><td class=\"_name_1orw9_101\"><span>ルナチャイルド</span></td><td><strong>519</strong></td><td>32</td><td>97</td><td>2</td></tr>,\n",
       " <tr><td class=\"_rank_1orw9_70\"><div>111</div></td><td class=\"_rank_prev_1orw9_133\">114</td><td class=\"_rank_prev2_1orw9_136\">101</td><td class=\"_name_1orw9_101\"><span>スターサファイア</span></td><td><strong>513</strong></td><td>38</td><td>93</td><td>5</td></tr>,\n",
       " <tr><td class=\"_rank_1orw9_70\"><div>112</div></td><td class=\"_rank_prev_1orw9_133\">121</td><td class=\"_rank_prev2_1orw9_136\">107</td><td class=\"_name_1orw9_101\"><span>エタニティラルバ</span></td><td><strong>499</strong></td><td>34</td><td>114</td><td>2</td></tr>,\n",
       " <tr><td class=\"_rank_1orw9_70\"><div>113</div></td><td class=\"_rank_prev_1orw9_133\">113</td><td class=\"_rank_prev2_1orw9_136\">104</td><td class=\"_name_1orw9_101\"><span>幻月</span></td><td><strong>490</strong></td><td>44</td><td>98</td><td>2</td></tr>,\n",
       " <tr><td class=\"_rank_1orw9_70\"><div>114</div></td><td class=\"_rank_prev_1orw9_133\">112</td><td class=\"_rank_prev2_1orw9_136\">105</td><td class=\"_name_1orw9_101\"><span>雲居 一輪</span></td><td><strong>485</strong></td><td>59</td><td>82</td><td>3</td></tr>,\n",
       " <tr><td class=\"_rank_1orw9_70\"><div>115</div></td><td class=\"_rank_prev_1orw9_133\">116</td><td class=\"_rank_prev2_1orw9_136\">117</td><td class=\"_name_1orw9_101\"><span>アリスの人形（上海、蓬莱、大江戸 他）</span></td><td><strong>474</strong></td><td>13</td><td>117</td><td>0</td></tr>,\n",
       " <tr><td class=\"_rank_1orw9_70\"><div>116</div></td><td class=\"_rank_prev_1orw9_133\">108</td><td class=\"_rank_prev2_1orw9_136\">95</td><td class=\"_name_1orw9_101\"><span>清蘭</span></td><td><strong>448</strong></td><td>32</td><td>83</td><td>3</td></tr>,\n",
       " <tr><td class=\"_rank_1orw9_70\"><div>117</div></td><td class=\"_rank_prev_1orw9_133\">115</td><td class=\"_rank_prev2_1orw9_136\">106</td><td class=\"_name_1orw9_101\"><span>九十九 弁々</span></td><td><strong>446</strong></td><td>32</td><td>96</td><td>3</td></tr>,\n",
       " <tr><td class=\"_rank_1orw9_70\"><div>118</div></td><td class=\"_rank_prev_1orw9_133\">118</td><td class=\"_rank_prev2_1orw9_136\">115</td><td class=\"_name_1orw9_101\"><span>名無しの本読み妖怪</span></td><td><strong>444</strong></td><td>37</td><td>104</td><td>2</td></tr>,\n",
       " <tr><td class=\"_rank_1orw9_70\"><div>119</div></td><td class=\"_rank_prev_1orw9_133\">117</td><td class=\"_rank_prev2_1orw9_136\">112</td><td class=\"_name_1orw9_101\"><span>リリカ・プリズムリバー</span></td><td><strong>437</strong></td><td>33</td><td>67</td><td>1</td></tr>,\n",
       " <tr><td class=\"_rank_1orw9_70\"><div>120</div></td><td class=\"_rank_prev_1orw9_133\">122</td><td class=\"_rank_prev2_1orw9_136\">112</td><td class=\"_name_1orw9_101\"><span>鈴瑚</span></td><td><strong>418</strong></td><td>37</td><td>77</td><td>0</td></tr>,\n",
       " <tr><td class=\"_rank_1orw9_70\"><div>121</div></td><td class=\"_rank_prev_1orw9_133\">120</td><td class=\"_rank_prev2_1orw9_136\">103</td><td class=\"_name_1orw9_101\"><span>サニーミルク</span></td><td><strong>415</strong></td><td>34</td><td>68</td><td>4</td></tr>,\n",
       " <tr><td class=\"_rank_1orw9_70\"><div>122</div></td><td class=\"_rank_prev_1orw9_133\">119</td><td class=\"_rank_prev2_1orw9_136 undefined\">-</td><td class=\"_name_1orw9_101\"><span>山城 たかね</span></td><td><strong>374</strong></td><td>21</td><td>81</td><td>6</td></tr>,\n",
       " <tr><td class=\"_rank_1orw9_70\"><div>123</div></td><td class=\"_rank_prev_1orw9_133\">106</td><td class=\"_rank_prev2_1orw9_136 undefined\">-</td><td class=\"_name_1orw9_101\"><span>玉造 魅須丸</span></td><td><strong>363</strong></td><td>16</td><td>70</td><td>1</td></tr>,\n",
       " <tr><td class=\"_rank_1orw9_70\"><div>124</div></td><td class=\"_rank_prev_1orw9_133\">125</td><td class=\"_rank_prev2_1orw9_136\">110</td><td class=\"_name_1orw9_101\"><span>矢田寺成美</span></td><td><strong>345</strong></td><td>19</td><td>81</td><td>5</td></tr>,\n",
       " <tr><td class=\"_rank_1orw9_70\"><div>125</div></td><td class=\"_rank_prev_1orw9_133\">128</td><td class=\"_rank_prev2_1orw9_136\">119</td><td class=\"_name_1orw9_101\"><span>蓬莱人形ジャケットイラストの娘</span></td><td><strong>329</strong></td><td>32</td><td>58</td><td>2</td></tr>,\n",
       " <tr><td class=\"_rank_1orw9_70\"><div>125</div></td><td class=\"_rank_prev_1orw9_133\">123</td><td class=\"_rank_prev2_1orw9_136\">121</td><td class=\"_name_1orw9_101\"><span>レイセン</span></td><td><strong>329</strong></td><td>21</td><td>67</td><td>1</td></tr>,\n",
       " <tr><td class=\"_rank_1orw9_70\"><div>127</div></td><td class=\"_rank_prev_1orw9_133\">126</td><td class=\"_rank_prev2_1orw9_136\">118</td><td class=\"_name_1orw9_101\"><span>カナ・アナベラル</span></td><td><strong>326</strong></td><td>33</td><td>69</td><td>4</td></tr>,\n",
       " <tr><td class=\"_rank_1orw9_70\"><div>128</div></td><td class=\"_rank_prev_1orw9_133\">127</td><td class=\"_rank_prev2_1orw9_136\">119</td><td class=\"_name_1orw9_101\"><span>夢月</span></td><td><strong>299</strong></td><td>10</td><td>70</td><td>0</td></tr>,\n",
       " <tr><td class=\"_rank_1orw9_70\"><div>129</div></td><td class=\"_rank_prev_1orw9_133\">133</td><td class=\"_rank_prev2_1orw9_136\">124</td><td class=\"_name_1orw9_101\"><span>サリエル</span></td><td><strong>293</strong></td><td>32</td><td>55</td><td>6</td></tr>,\n",
       " <tr><td class=\"_rank_1orw9_70\"><div>130</div></td><td class=\"_rank_prev_1orw9_133\">124</td><td class=\"_rank_prev2_1orw9_136\">123</td><td class=\"_name_1orw9_101\"><span>九十九 八橋</span></td><td><strong>283</strong></td><td>28</td><td>64</td><td>5</td></tr>,\n",
       " <tr><td class=\"_rank_1orw9_70\"><div>131</div></td><td class=\"_rank_prev_1orw9_133\">137</td><td class=\"_rank_prev2_1orw9_136\">126</td><td class=\"_name_1orw9_101\"><span>キスメ</span></td><td><strong>280</strong></td><td>29</td><td>58</td><td>0</td></tr>,\n",
       " <tr><td class=\"_rank_1orw9_70\"><div>132</div></td><td class=\"_rank_prev_1orw9_133\">129</td><td class=\"_rank_prev2_1orw9_136\">128</td><td class=\"_name_1orw9_101\"><span>夢子</span></td><td><strong>272</strong></td><td>15</td><td>47</td><td>1</td></tr>,\n",
       " <tr><td class=\"_rank_1orw9_70\"><div>133</div></td><td class=\"_rank_prev_1orw9_133\">130</td><td class=\"_rank_prev2_1orw9_136\">127</td><td class=\"_name_1orw9_101\"><span>抗鬱薬おじさん</span></td><td><strong>265</strong></td><td>6</td><td>51</td><td>0</td></tr>,\n",
       " <tr><td class=\"_rank_1orw9_70\"><div>134</div></td><td class=\"_rank_prev_1orw9_133\">143</td><td class=\"_rank_prev2_1orw9_136\">125</td><td class=\"_name_1orw9_101\"><span>戎 瓔花</span></td><td><strong>259</strong></td><td>22</td><td>70</td><td>2</td></tr>,\n",
       " <tr><td class=\"_rank_1orw9_70\"><div>135</div></td><td class=\"_rank_prev_1orw9_133\">131</td><td class=\"_rank_prev2_1orw9_136\">130</td><td class=\"_name_1orw9_101\"><span>くるみ</span></td><td><strong>231</strong></td><td>18</td><td>38</td><td>1</td></tr>,\n",
       " <tr><td class=\"_rank_1orw9_70\"><div>136</div></td><td class=\"_rank_prev_1orw9_133\">132</td><td class=\"_rank_prev2_1orw9_136\">138</td><td class=\"_name_1orw9_101\"><span>魂魄 妖忌</span></td><td><strong>222</strong></td><td>7</td><td>61</td><td>0</td></tr>,\n",
       " <tr><td class=\"_rank_1orw9_70\"><div>137</div></td><td class=\"_rank_prev_1orw9_133\">165</td><td class=\"_rank_prev2_1orw9_136\">154</td><td class=\"_name_1orw9_101\"><span>ルイズ</span></td><td><strong>221</strong></td><td>24</td><td>33</td><td>1</td></tr>,\n",
       " <tr><td class=\"_rank_1orw9_70\"><div>138</div></td><td class=\"_rank_prev_1orw9_133 undefined\">-</td><td class=\"_rank_prev2_1orw9_136 undefined\">-</td><td class=\"_name_1orw9_101\"><span>宮出口瑞霊</span></td><td><strong>219</strong></td><td>7</td><td>63</td><td>2</td></tr>,\n",
       " <tr><td class=\"_rank_1orw9_70\"><div>139</div></td><td class=\"_rank_prev_1orw9_133\">135</td><td class=\"_rank_prev2_1orw9_136\">129</td><td class=\"_name_1orw9_101\"><span>北白河 ちゆり</span></td><td><strong>207</strong></td><td>18</td><td>38</td><td>5</td></tr>,\n",
       " <tr><td class=\"_rank_1orw9_70\"><div>140</div></td><td class=\"_rank_prev_1orw9_133\">136</td><td class=\"_rank_prev2_1orw9_136\">121</td><td class=\"_name_1orw9_101\"><span>牛崎 潤美</span></td><td><strong>193</strong></td><td>13</td><td>44</td><td>0</td></tr>,\n",
       " <tr><td class=\"_rank_1orw9_70\"><div>141</div></td><td class=\"_rank_prev_1orw9_133\">153</td><td class=\"_rank_prev2_1orw9_136\">145</td><td class=\"_name_1orw9_101\"><span>小兎姫</span></td><td><strong>182</strong></td><td>22</td><td>43</td><td>0</td></tr>,\n",
       " <tr><td class=\"_rank_1orw9_70\"><div>142</div></td><td class=\"_rank_prev_1orw9_133\">134</td><td class=\"_rank_prev2_1orw9_136\">131</td><td class=\"_name_1orw9_101\"><span>坂田ネムノ</span></td><td><strong>180</strong></td><td>12</td><td>32</td><td>0</td></tr>,\n",
       " <tr><td class=\"_rank_1orw9_70\"><div>143</div></td><td class=\"_rank_prev_1orw9_133\">138</td><td class=\"_rank_prev2_1orw9_136 undefined\">-</td><td class=\"_name_1orw9_101\"><span>駒草 山如</span></td><td><strong>174</strong></td><td>10</td><td>37</td><td>1</td></tr>,\n",
       " <tr><td class=\"_rank_1orw9_70\"><div>144</div></td><td class=\"_rank_prev_1orw9_133\">142</td><td class=\"_rank_prev2_1orw9_136\">136</td><td class=\"_name_1orw9_101\"><span>コンガラ</span></td><td><strong>163</strong></td><td>12</td><td>36</td><td>5</td></tr>,\n",
       " <tr><td class=\"_rank_1orw9_70\"><div>145</div></td><td class=\"_rank_prev_1orw9_133\">139</td><td class=\"_rank_prev2_1orw9_136\">136</td><td class=\"_name_1orw9_101\"><span>毛玉</span></td><td><strong>162</strong></td><td>7</td><td>35</td><td>1</td></tr>,\n",
       " <tr><td class=\"_rank_1orw9_70\"><div>146</div></td><td class=\"_rank_prev_1orw9_133\">139</td><td class=\"_rank_prev2_1orw9_136\">134</td><td class=\"_name_1orw9_101\"><span>雲山</span></td><td><strong>156</strong></td><td>10</td><td>39</td><td>0</td></tr>,\n",
       " <tr><td class=\"_rank_1orw9_70\"><div>147</div></td><td class=\"_rank_prev_1orw9_133\">145</td><td class=\"_rank_prev2_1orw9_136\">132</td><td class=\"_name_1orw9_101\"><span>マイ</span></td><td><strong>155</strong></td><td>9</td><td>29</td><td>0</td></tr>,\n",
       " <tr><td class=\"_rank_1orw9_70\"><div>148</div></td><td class=\"_rank_prev_1orw9_133\">148</td><td class=\"_rank_prev2_1orw9_136\">116</td><td class=\"_name_1orw9_101\"><span>カワウソ霊</span></td><td><strong>152</strong></td><td>6</td><td>49</td><td>0</td></tr>,\n",
       " <tr><td class=\"_rank_1orw9_70\"><div>148</div></td><td class=\"_rank_prev_1orw9_133\">144</td><td class=\"_rank_prev2_1orw9_136\">134</td><td class=\"_name_1orw9_101\"><span>エリス</span></td><td><strong>152</strong></td><td>8</td><td>34</td><td>0</td></tr>,\n",
       " <tr><td class=\"_rank_1orw9_70\"><div>150</div></td><td class=\"_rank_prev_1orw9_133\">141</td><td class=\"_rank_prev2_1orw9_136\">133</td><td class=\"_name_1orw9_101\"><span>エレン</span></td><td><strong>151</strong></td><td>14</td><td>27</td><td>3</td></tr>,\n",
       " <tr><td class=\"_rank_1orw9_70\"><div>151</div></td><td class=\"_rank_prev_1orw9_133\">146</td><td class=\"_rank_prev2_1orw9_136\">139</td><td class=\"_name_1orw9_101\"><span>エリー</span></td><td><strong>150</strong></td><td>6</td><td>32</td><td>0</td></tr>,\n",
       " <tr><td class=\"_rank_1orw9_70\"><div>152</div></td><td class=\"_rank_prev_1orw9_133\">149</td><td class=\"_rank_prev2_1orw9_136\">139</td><td class=\"_name_1orw9_101\"><span>影華扇（断善修悪の怪腕 - 茨木童子の腕）</span></td><td><strong>139</strong></td><td>2</td><td>32</td><td>2</td></tr>,\n",
       " <tr><td class=\"_rank_1orw9_70\"><div>153</div></td><td class=\"_rank_prev_1orw9_133\">146</td><td class=\"_rank_prev2_1orw9_136\">141</td><td class=\"_name_1orw9_101\"><span>ユキ</span></td><td><strong>137</strong></td><td>13</td><td>34</td><td>0</td></tr>,\n",
       " <tr><td class=\"_rank_1orw9_70\"><div>154</div></td><td class=\"_rank_prev_1orw9_133\">150</td><td class=\"_rank_prev2_1orw9_136\">144</td><td class=\"_name_1orw9_101\"><span>大ナマズ</span></td><td><strong>135</strong></td><td>11</td><td>30</td><td>0</td></tr>,\n",
       " <tr><td class=\"_rank_1orw9_70\"><div>155</div></td><td class=\"_rank_prev_1orw9_133\">151</td><td class=\"_rank_prev2_1orw9_136\">143</td><td class=\"_name_1orw9_101\"><span>るーこと</span></td><td><strong>133</strong></td><td>13</td><td>35</td><td>0</td></tr>,\n",
       " <tr><td class=\"_rank_1orw9_70\"><div>156</div></td><td class=\"_rank_prev_1orw9_133\">155</td><td class=\"_rank_prev2_1orw9_136\">145</td><td class=\"_name_1orw9_101\"><span>里香</span></td><td><strong>125</strong></td><td>10</td><td>37</td><td>9</td></tr>,\n",
       " <tr><td class=\"_rank_1orw9_70\"><div>157</div></td><td class=\"_rank_prev_1orw9_133\">154</td><td class=\"_rank_prev2_1orw9_136\">142</td><td class=\"_name_1orw9_101\"><span>蓬莱人形レーベルイラストの娘</span></td><td><strong>124</strong></td><td>2</td><td>26</td><td>1</td></tr>,\n",
       " <tr><td class=\"_rank_1orw9_70\"><div>158</div></td><td class=\"_rank_prev_1orw9_133\">158</td><td class=\"_rank_prev2_1orw9_136\">152</td><td class=\"_name_1orw9_101\"><span>レイラ・プリズムリバー</span></td><td><strong>123</strong></td><td>9</td><td>21</td><td>1</td></tr>,\n",
       " <tr><td class=\"_rank_1orw9_70\"><div>159</div></td><td class=\"_rank_prev_1orw9_133\">157</td><td class=\"_rank_prev2_1orw9_136\">151</td><td class=\"_name_1orw9_101\"><span>明羅</span></td><td><strong>109</strong></td><td>10</td><td>27</td><td>3</td></tr>,\n",
       " <tr><td class=\"_rank_1orw9_70\"><div>160</div></td><td class=\"_rank_prev_1orw9_133\">161</td><td class=\"_rank_prev2_1orw9_136\">157</td><td class=\"_name_1orw9_101\"><span>朝倉 理香子</span></td><td><strong>101</strong></td><td>10</td><td>27</td><td>1</td></tr>,\n",
       " <tr><td class=\"_rank_1orw9_70\"><div>161</div></td><td class=\"_rank_prev_1orw9_133\">162</td><td class=\"_rank_prev2_1orw9_136\">150</td><td class=\"_name_1orw9_101\"><span>核熱造神ヒソウテンソク</span></td><td><strong>96</strong></td><td>7</td><td>18</td><td>0</td></tr>,\n",
       " <tr><td class=\"_rank_1orw9_70\"><div>162</div></td><td class=\"_rank_prev_1orw9_133\">152</td><td class=\"_rank_prev2_1orw9_136\">149</td><td class=\"_name_1orw9_101\"><span>UFO（赤・青・緑、その他）</span></td><td><strong>94</strong></td><td>3</td><td>29</td><td>0</td></tr>,\n",
       " <tr><td class=\"_rank_1orw9_70\"><div>163</div></td><td class=\"_rank_prev_1orw9_133\">170</td><td class=\"_rank_prev2_1orw9_136\">162</td><td class=\"_name_1orw9_101\"><span>なめえもん</span></td><td><strong>91</strong></td><td>5</td><td>29</td><td>0</td></tr>,\n",
       " <tr><td class=\"_rank_1orw9_70\"><div>163</div></td><td class=\"_rank_prev_1orw9_133\">156</td><td class=\"_rank_prev2_1orw9_136\">157</td><td class=\"_name_1orw9_101\"><span>旧作名無し中ボス</span></td><td><strong>91</strong></td><td>11</td><td>18</td><td>0</td></tr>,\n",
       " <tr><td class=\"_rank_1orw9_70\"><div>165</div></td><td class=\"_rank_prev_1orw9_133\">162</td><td class=\"_rank_prev2_1orw9_136\">154</td><td class=\"_name_1orw9_101\"><span>ユウゲンマガン</span></td><td><strong>85</strong></td><td>7</td><td>18</td><td>1</td></tr>,\n",
       " <tr><td class=\"_rank_1orw9_70\"><div>166</div></td><td class=\"_rank_prev_1orw9_133\">166</td><td class=\"_rank_prev2_1orw9_136\">159</td><td class=\"_name_1orw9_101\"><span>シンギョク</span></td><td><strong>78</strong></td><td>11</td><td>14</td><td>0</td></tr>,\n",
       " <tr><td class=\"_rank_1orw9_70\"><div>166</div></td><td class=\"_rank_prev_1orw9_133\">168</td><td class=\"_rank_prev2_1orw9_136\">170</td><td class=\"_name_1orw9_101\"><span>ツチノコ</span></td><td><strong>78</strong></td><td>2</td><td>23</td><td>0</td></tr>,\n",
       " <tr><td class=\"_rank_1orw9_70\"><div>168</div></td><td class=\"_rank_prev_1orw9_133\">160</td><td class=\"_rank_prev2_1orw9_136\">164</td><td class=\"_name_1orw9_101\"><span>玄爺</span></td><td><strong>77</strong></td><td>4</td><td>20</td><td>0</td></tr>,\n",
       " <tr><td class=\"_rank_1orw9_70\"><div>169</div></td><td class=\"_rank_prev_1orw9_133\">173</td><td class=\"_rank_prev2_1orw9_136\">183</td><td class=\"_name_1orw9_101\"><span>カラス（地獄鴉、紫・文の使い魔 他）</span></td><td><strong>76</strong></td><td>6</td><td>15</td><td>0</td></tr>,\n",
       " <tr><td class=\"_rank_1orw9_70\"><div>170</div></td><td class=\"_rank_prev_1orw9_133\">198</td><td class=\"_rank_prev2_1orw9_136\">196</td><td class=\"_name_1orw9_101\"><span>ヤマネ</span></td><td><strong>69</strong></td><td>28</td><td>7</td><td>0</td></tr>,\n",
       " <tr><td class=\"_rank_1orw9_70\"><div>171</div></td><td class=\"_rank_prev_1orw9_133\">169</td><td class=\"_rank_prev2_1orw9_136\">167</td><td class=\"_name_1orw9_101\"><span>ミミちゃん</span></td><td><strong>67</strong></td><td>5</td><td>16</td><td>0</td></tr>,\n",
       " <tr><td class=\"_rank_1orw9_70\"><div>172</div></td><td class=\"_rank_prev_1orw9_133\">164</td><td class=\"_rank_prev2_1orw9_136\">161</td><td class=\"_name_1orw9_101\"><span>嫦娥</span></td><td><strong>66</strong></td><td>0</td><td>29</td><td>1</td></tr>,\n",
       " <tr><td class=\"_rank_1orw9_70\"><div>173</div></td><td class=\"_rank_prev_1orw9_133\">166</td><td class=\"_rank_prev2_1orw9_136\">156</td><td class=\"_name_1orw9_101\"><span>オレンジ</span></td><td><strong>62</strong></td><td>6</td><td>12</td><td>0</td></tr>,\n",
       " <tr><td class=\"_rank_1orw9_70\"><div>174</div></td><td class=\"_rank_prev_1orw9_133\">184</td><td class=\"_rank_prev2_1orw9_136\">174</td><td class=\"_name_1orw9_101\"><span>都市伝説の怪異（お菊さん、八尺さま 他）</span></td><td><strong>61</strong></td><td>1</td><td>19</td><td>0</td></tr>,\n",
       " <tr><td class=\"_rank_1orw9_70\"><div>175</div></td><td class=\"_rank_prev_1orw9_133\">159</td><td class=\"_rank_prev2_1orw9_136\">148</td><td class=\"_name_1orw9_101\"><span>妖精（メイド妖精・ひまわり妖精 他）</span></td><td><strong>57</strong></td><td>3</td><td>16</td><td>0</td></tr>,\n",
       " <tr><td class=\"_rank_1orw9_70\"><div>176</div></td><td class=\"_rank_prev_1orw9_133\">175</td><td class=\"_rank_prev2_1orw9_136\">159</td><td class=\"_name_1orw9_101\"><span>キクリ</span></td><td><strong>53</strong></td><td>7</td><td>15</td><td>1</td></tr>,\n",
       " <tr><td class=\"_rank_1orw9_70\"><div>177</div></td><td class=\"_rank_prev_1orw9_133\">176</td><td class=\"_rank_prev2_1orw9_136\">145</td><td class=\"_name_1orw9_101\"><span>オオカミ霊</span></td><td><strong>50</strong></td><td>6</td><td>13</td><td>0</td></tr>,\n",
       " <tr><td class=\"_rank_1orw9_70\"><div>178</div></td><td class=\"_rank_prev_1orw9_133\">176</td><td class=\"_rank_prev2_1orw9_136\">171</td><td class=\"_name_1orw9_101\"><span>華扇の動物（久米、竿打、雷獣、彭祖、人面犬 他）</span></td><td><strong>49</strong></td><td>2</td><td>11</td><td>2</td></tr>,\n",
       " <tr><td class=\"_rank_1orw9_70\"><div>179</div></td><td class=\"_rank_prev_1orw9_133\">171</td><td class=\"_rank_prev2_1orw9_136\">163</td><td class=\"_name_1orw9_101\"><span>チュパカブラ</span></td><td><strong>47</strong></td><td>2</td><td>10</td><td>0</td></tr>,\n",
       " <tr><td class=\"_rank_1orw9_70\"><div>180</div></td><td class=\"_rank_prev_1orw9_133\">179</td><td class=\"_rank_prev2_1orw9_136\">168</td><td class=\"_name_1orw9_101\"><span>河童（山童含む）</span></td><td><strong>42</strong></td><td>1</td><td>8</td><td>0</td></tr>,\n",
       " <tr><td class=\"_rank_1orw9_70\"><div>181</div></td><td class=\"_rank_prev_1orw9_133\">174</td><td class=\"_rank_prev2_1orw9_136\">165</td><td class=\"_name_1orw9_101\"><span>サラ</span></td><td><strong>41</strong></td><td>4</td><td>10</td><td>0</td></tr>,\n",
       " <tr><td class=\"_rank_1orw9_70\"><div>181</div></td><td class=\"_rank_prev_1orw9_133\">179</td><td class=\"_rank_prev2_1orw9_136\">169</td><td class=\"_name_1orw9_101\"><span>兎（玉兎、永遠亭の妖怪兎 他）</span></td><td><strong>41</strong></td><td>0</td><td>15</td><td>1</td></tr>,\n",
       " <tr><td class=\"_rank_1orw9_70\"><div>183</div></td><td class=\"_rank_prev_1orw9_133\">172</td><td class=\"_rank_prev2_1orw9_136\">153</td><td class=\"_name_1orw9_101\"><span>オオワシ霊</span></td><td><strong>40</strong></td><td>1</td><td>12</td><td>0</td></tr>,\n",
       " <tr><td class=\"_rank_1orw9_70\"><div>183</div></td><td class=\"_rank_prev_1orw9_133\">179</td><td class=\"_rank_prev2_1orw9_136\">173</td><td class=\"_name_1orw9_101\"><span>里の人間（文花帖、求聞史紀、鈴奈庵などで登場した人間）</span></td><td><strong>40</strong></td><td>2</td><td>12</td><td>0</td></tr>,\n",
       " <tr><td class=\"_rank_1orw9_70\"><div>185</div></td><td class=\"_rank_prev_1orw9_133\">178</td><td class=\"_rank_prev2_1orw9_136\">172</td><td class=\"_name_1orw9_101\"><span>龍（子龍、邪龍 他）</span></td><td><strong>36</strong></td><td>0</td><td>10</td><td>0</td></tr>,\n",
       " <tr><td class=\"_rank_1orw9_70\"><div>186</div></td><td class=\"_rank_prev_1orw9_133\">186</td><td class=\"_rank_prev2_1orw9_136\">180</td><td class=\"_name_1orw9_101\"><span>ケセランパサラン</span></td><td><strong>34</strong></td><td>0</td><td>3</td><td>0</td></tr>,\n",
       " <tr><td class=\"_rank_1orw9_70\"><div>187</div></td><td class=\"_rank_prev_1orw9_133\">187</td><td class=\"_rank_prev2_1orw9_136\">178</td><td class=\"_name_1orw9_101\"><span>岩笠</span></td><td><strong>29</strong></td><td>3</td><td>7</td><td>0</td></tr>,\n",
       " <tr><td class=\"_rank_1orw9_70\"><div>187</div></td><td class=\"_rank_prev_1orw9_133\">182</td><td class=\"_rank_prev2_1orw9_136\">166</td><td class=\"_name_1orw9_101\"><span>狐（妖怪狐、狐の子他）</span></td><td><strong>29</strong></td><td>0</td><td>3</td><td>1</td></tr>,\n",
       " <tr><td class=\"_rank_1orw9_70\"><div>189</div></td><td class=\"_rank_prev_1orw9_133\">182</td><td class=\"_rank_prev2_1orw9_136\">178</td><td class=\"_name_1orw9_101\"><span>酒虫</span></td><td><strong>27</strong></td><td>1</td><td>9</td><td>0</td></tr>,\n",
       " <tr><td class=\"_rank_1orw9_70\"><div>190</div></td><td class=\"_rank_prev_1orw9_133\">189</td><td class=\"_rank_prev2_1orw9_136\">175</td><td class=\"_name_1orw9_101\"><span>万歳楽</span></td><td><strong>26</strong></td><td>2</td><td>5</td><td>0</td></tr>,\n",
       " <tr><td class=\"_rank_1orw9_70\"><div>191</div></td><td class=\"_rank_prev_1orw9_133\">185</td><td class=\"_rank_prev2_1orw9_136\">177</td><td class=\"_name_1orw9_101\"><span>ホフゴブリン</span></td><td><strong>25</strong></td><td>1</td><td>8</td><td>0</td></tr>,\n",
       " <tr><td class=\"_rank_1orw9_70\"><div>191</div></td><td class=\"_rank_prev_1orw9_133\">188</td><td class=\"_rank_prev2_1orw9_136\">180</td><td class=\"_name_1orw9_101\"><span>天狗（香霖堂の天狗、大天狗 他）</span></td><td><strong>25</strong></td><td>2</td><td>3</td><td>0</td></tr>,\n",
       " <tr><td class=\"_rank_1orw9_70\"><div>193</div></td><td class=\"_rank_prev_1orw9_133\">189</td><td class=\"_rank_prev2_1orw9_136\">182</td><td class=\"_name_1orw9_101\"><span>命蓮</span></td><td><strong>21</strong></td><td>0</td><td>5</td><td>0</td></tr>,\n",
       " <tr><td class=\"_rank_1orw9_70\"><div>194</div></td><td class=\"_rank_prev_1orw9_133\">192</td><td class=\"_rank_prev2_1orw9_136\">183</td><td class=\"_name_1orw9_101\"><span>神降ろしの神霊（天照、伊豆能売 他）</span></td><td><strong>20</strong></td><td>1</td><td>3</td><td>0</td></tr>,\n",
       " <tr><td class=\"_rank_1orw9_70\"><div>195</div></td><td class=\"_rank_prev_1orw9_133\">198</td><td class=\"_rank_prev2_1orw9_136\">191</td><td class=\"_name_1orw9_101\"><span>毘沙門天</span></td><td><strong>18</strong></td><td>2</td><td>4</td><td>0</td></tr>,\n",
       " <tr><td class=\"_rank_1orw9_70\"><div>195</div></td><td class=\"_rank_prev_1orw9_133\">191</td><td class=\"_rank_prev2_1orw9_136\">188</td><td class=\"_name_1orw9_101\"><span>木花咲耶姫</span></td><td><strong>18</strong></td><td>0</td><td>5</td><td>0</td></tr>,\n",
       " <tr><td class=\"_rank_1orw9_70\"><div>197</div></td><td class=\"_rank_prev_1orw9_133\">198</td><td class=\"_rank_prev2_1orw9_136\">188</td><td class=\"_name_1orw9_101\"><span>仙台四郎（福の神）</span></td><td><strong>17</strong></td><td>0</td><td>5</td><td>0</td></tr>,\n",
       " <tr><td class=\"_rank_1orw9_70\"><div>198</div></td><td class=\"_rank_prev_1orw9_133\">197</td><td class=\"_rank_prev2_1orw9_136\">175</td><td class=\"_name_1orw9_101\"><span>ウワバミ</span></td><td><strong>15</strong></td><td>0</td><td>2</td><td>0</td></tr>,\n",
       " <tr><td class=\"_rank_1orw9_70\"><div>198</div></td><td class=\"_rank_prev_1orw9_133\">202</td><td class=\"_rank_prev2_1orw9_136\">185</td><td class=\"_name_1orw9_101\"><span>狸（化け狸、野鉄砲他）</span></td><td><strong>15</strong></td><td>0</td><td>4</td><td>0</td></tr>,\n",
       " <tr><td class=\"_rank_1orw9_70\"><div>200</div></td><td class=\"_rank_prev_1orw9_133\">193</td><td class=\"_rank_prev2_1orw9_136\">185</td><td class=\"_name_1orw9_101\"><span>幽霊（怨霊、神霊、化け化け含む）</span></td><td><strong>13</strong></td><td>1</td><td>4</td><td>0</td></tr>,\n",
       " <tr><td class=\"_rank_1orw9_70\"><div>201</div></td><td class=\"_rank_prev_1orw9_133\">194</td><td class=\"_rank_prev2_1orw9_136\">191</td><td class=\"_name_1orw9_101\"><span>塩屋敷の旦那</span></td><td><strong>12</strong></td><td>1</td><td>2</td><td>0</td></tr>,\n",
       " <tr><td class=\"_rank_1orw9_70\"><div>202</div></td><td class=\"_rank_prev_1orw9_133\">194</td><td class=\"_rank_prev2_1orw9_136\">191</td><td class=\"_name_1orw9_101\"><span>月の都の門番</span></td><td><strong>10</strong></td><td>2</td><td>1</td><td>0</td></tr>,\n",
       " <tr><td class=\"_rank_1orw9_70\"><div>202</div></td><td class=\"_rank_prev_1orw9_133\">206</td><td class=\"_rank_prev2_1orw9_136\">191</td><td class=\"_name_1orw9_101\"><span>沓頬</span></td><td><strong>10</strong></td><td>2</td><td>1</td><td>0</td></tr>,\n",
       " <tr><td class=\"_rank_1orw9_70\"><div>204</div></td><td class=\"_rank_prev_1orw9_133\">194</td><td class=\"_rank_prev2_1orw9_136\">187</td><td class=\"_name_1orw9_101\"><span>運松</span></td><td><strong>9</strong></td><td>1</td><td>2</td><td>0</td></tr>,\n",
       " <tr><td class=\"_rank_1orw9_70\"><div>205</div></td><td class=\"_rank_prev_1orw9_133\">198</td><td class=\"_rank_prev2_1orw9_136\">190</td><td class=\"_name_1orw9_101\"><span>小鈴の両親</span></td><td><strong>8</strong></td><td>0</td><td>1</td><td>0</td></tr>,\n",
       " <tr><td class=\"_rank_1orw9_70\"><div>206</div></td><td class=\"_rank_prev_1orw9_133\">204</td><td class=\"_rank_prev2_1orw9_136\">198</td><td class=\"_name_1orw9_101\"><span>水江浦島子</span></td><td><strong>7</strong></td><td>0</td><td>2</td><td>0</td></tr>,\n",
       " <tr><td class=\"_rank_1orw9_70\"><div>207</div></td><td class=\"_rank_prev_1orw9_133\">205</td><td class=\"_rank_prev2_1orw9_136\">195</td><td class=\"_name_1orw9_101\"><span>煙々羅</span></td><td><strong>6</strong></td><td>0</td><td>1</td><td>0</td></tr>,\n",
       " <tr><td class=\"_rank_1orw9_70\"><div>208</div></td><td class=\"_rank_prev_1orw9_133\">203</td><td class=\"_rank_prev2_1orw9_136\">196</td><td class=\"_name_1orw9_101\"><span>座敷童</span></td><td><strong>5</strong></td><td>0</td><td>3</td><td>0</td></tr>]"
      ]
     },
     "execution_count": 43,
     "metadata": {},
     "output_type": "execute_result"
    }
   ],
   "source": [
    "table_contents"
   ]
  },
  {
   "cell_type": "code",
   "execution_count": 41,
   "id": "b6b542f0",
   "metadata": {},
   "outputs": [
    {
     "data": {
      "text/plain": [
       "[[],\n",
       " ['1', '5', '5', 'フランドール・スカーレット', '16,723', '3,730', '3,633', '19'],\n",
       " ['2', '2', '4', '霧雨 魔理沙', '16,578', '3,267', '3,160', '25'],\n",
       " ['3', '3', '2', '博麗 霊夢', '15,679', '2,913', '2,952', '33'],\n",
       " ['4', '1', '1', '魂魄 妖夢', '15,323', '3,791', '2,883', '29'],\n",
       " ['5', '6', '7', '十六夜 咲夜', '13,787', '2,493', '2,591', '9'],\n",
       " ['6', '4', '3', '古明地 こいし', '13,150', '2,473', '2,453', '48'],\n",
       " ['7', '7', '6', 'レミリア・スカーレット', '12,981', '2,215', '2,429', '8'],\n",
       " ['8', '8', '9', '藤原 妹紅', '8,728', '1,462', '1,542', '13'],\n",
       " ['9', '9', '8', '古明地 さとり', '7,600', '974', '1,310', '6'],\n",
       " ['10', '10', '13', '西行寺 幽々子', '6,960', '986', '1,257', '7'],\n",
       " ['11', '12', '11', 'アリス・マーガトロイド', '6,909', '1,036', '1,155', '18'],\n",
       " ['12', '11', '10', '射命丸 文', '6,607', '965', '1,065', '9'],\n",
       " ['13', '14', '14', '鈴仙・優曇華院・イナバ', '6,575', '843', '1,133', '10'],\n",
       " ['14', '13', '12', '東風谷 早苗', '6,185', '950', '1,046', '10'],\n",
       " ['15', '18', '24', 'チルノ', '5,850', '900', '1,284', '14'],\n",
       " ['16', '16', '15', '八雲 紫', '5,342', '643', '918', '7'],\n",
       " ['17', '21', '23', 'ルーミア', '5,293', '772', '1,142', '8'],\n",
       " ['18', '15', '16', '比那名居 天子', '5,200', '785', '852', '7'],\n",
       " ['19', '19', '18', 'パチュリー・ノーレッジ', '5,194', '688', '815', '2'],\n",
       " ['20', '22', '21', '洩矢 諏訪子', '5,013', '752', '872', '5'],\n",
       " ['21', '17', '17', '秦 こころ', '4,966', '679', '912', '3'],\n",
       " ['22', '25', '25', '紅 美鈴', '4,550', '640', '830', '5'],\n",
       " ['23', '23', '19', '四季映姫・ヤマザナドゥ', '4,417', '577', '744', '4'],\n",
       " ['24', '27', '22', '犬走 椛', '4,129', '616', '787', '5'],\n",
       " ['25', '20', '20', '多々良 小傘', '4,095', '568', '738', '9'],\n",
       " ['26', '24', '28', '風見 幽香', '4,058', '496', '617', '3'],\n",
       " ['27', '26', '29', '豊聡耳 神子', '3,650', '574', '696', '3'],\n",
       " ['28', '28', '26', '純狐', '3,522', '415', '594', '6'],\n",
       " ['29', '34', '42', 'ヘカーティア・ラピスラズリ', '3,425', '328', '646', '2'],\n",
       " ['30', '30', '30', '依神紫苑', '3,412', '383', '583', '7'],\n",
       " ['31', '31', '31', '伊吹 萃香', '3,326', '430', '546', '5'],\n",
       " ['32', '29', '32', '鬼人 正邪', '3,285', '575', '628', '6'],\n",
       " ['33', '33', '40', '稀神 サグメ', '3,268', '369', '585', '3'],\n",
       " ['34', '37', '37', '八雲 藍', '3,212', '353', '579', '5'],\n",
       " ['35', '36', '33', '河城 にとり', '3,107', '416', '514', '3'],\n",
       " ['36', '39', '38', '霊烏路 空', '3,077', '438', '532', '6'],\n",
       " ['37', '32', '39', '物部 布都', '3,071', '409', '573', '6'],\n",
       " ['38', '41', '34', '水橋 パルスィ', '3,058', '426', '576', '6'],\n",
       " ['39', '40', '35', '茨木 華扇', '2,863', '290', '471', '11'],\n",
       " ['40', '35', '41', '蓬莱山 輝夜', '2,692', '294', '422', '5'],\n",
       " ['41', '38', '27', '宇佐見 蓮子', '2,611', '319', '378', '8'],\n",
       " ['42', '45', '50', '鍵山 雛', '2,552', '344', '500', '5'],\n",
       " ['43', '42', '43', '摩多羅隠岐奈', '2,493', '255', '470', '6'],\n",
       " ['44', '43', '45', '封獣 ぬえ', '2,215', '228', '348', '6'],\n",
       " ['45', '49', '47', '火焔猫 燐', '2,051', '205', '307', '12'],\n",
       " ['46', '48', '58', '八意 永琳', '2,011', '139', '404', '2'],\n",
       " ['47', '47', '44', '聖 白蓮', '1,994', '188', '320', '0'],\n",
       " ['48', '52', '48', 'クラウンピース', '1,989', '170', '340', '2'],\n",
       " ['49', '63', '53', 'ナズーリン', '1,949', '254', '345', '5'],\n",
       " ['50', '50', '51', 'ドレミー・スイート', '1,902', '181', '340', '5'],\n",
       " ['51', '46', '36', '埴安神 袿姫', '1,890', '178', '338', '6'],\n",
       " ['52', '44', '-', '天弓 千亦', '1,887', '149', '403', '8'],\n",
       " ['53', '-', '-', '饕餮尤魔', '1,854', '143', '342', '7'],\n",
       " ['54', '67', '71', '小悪魔', '1,831', '127', '353', '7'],\n",
       " ['55', '53', '57', '上白沢 慧音', '1,812', '182', '304', '2'],\n",
       " ['56', '61', '61', '橙', '1,780', '198', '365', '9'],\n",
       " ['57', '55', '-', '菅牧 典', '1,778', '104', '324', '4'],\n",
       " ['58', '59', '59', '霍 青娥', '1,767', '185', '308', '3'],\n",
       " ['59', '51', '70', '村紗 水蜜', '1,714', '217', '306', '3'],\n",
       " ['60', '54', '49', 'マエリベリー・ハーン', '1,668', '93', '272', '10'],\n",
       " ['61', '57', '-', '飯綱丸 龍', '1,610', '117', '315', '4'],\n",
       " ['62', '76', '63', '永江 衣玖', '1,593', '156', '304', '4'],\n",
       " ['63', '68', '56', '庭渡 久侘歌', '1,588', '158', '323', '4'],\n",
       " ['64', '58', '46', '吉弔 八千慧', '1,518', '109', '275', '1'],\n",
       " ['65', '56', '62', '宇佐見 菫子', '1,506', '151', '265', '3'],\n",
       " ['66', '60', '54', '大妖精', '1,464', '114', '285', '10'],\n",
       " ['67', '64', '74', '因幡 てゐ', '1,452', '125', '236', '2'],\n",
       " ['68', '80', '55', '依神女苑', '1,438', '149', '241', '4'],\n",
       " ['69', '71', '64', 'ミスティア・ローレライ', '1,401', '180', '245', '10'],\n",
       " ['70', '66', '52', '今泉 影狼', '1,399', '128', '238', '4'],\n",
       " ['71', '64', '69', '赤蛮奇', '1,385', '148', '258', '4'],\n",
       " ['72', '69', '77', '星熊 勇儀', '1,366', '120', '284', '3'],\n",
       " ['73', '74', '66', '蘇我 屠自古', '1,286', '136', '239', '5'],\n",
       " ['74', '79', '75', '森近 霖之助', '1,278', '110', '263', '5'],\n",
       " ['75', '82', '81', '魅魔', '1,266', '126', '305', '6'],\n",
       " ['76', '69', '60', '本居 小鈴', '1,262', '106', '229', '3'],\n",
       " ['77', '72', '65', '小野塚 小町', '1,259', '99', '227', '4'],\n",
       " ['78', '81', '79', '二ッ岩 マミゾウ', '1,238', '130', '206', '3'],\n",
       " ['79', '78', '78', '八坂 神奈子', '1,222', '123', '221', '4'],\n",
       " ['80', '74', '73', '姫海棠 はたて', '1,201', '94', '210', '4'],\n",
       " ['81', '85', '94', 'リグル・ナイトバグ', '1,164', '214', '246', '7'],\n",
       " ['82', '73', '67', '少名 針妙丸', '1,099', '121', '186', '4'],\n",
       " ['83', '62', '-', '姫虫 百々世', '1,040', '76', '228', '0'],\n",
       " ['84', '84', '84', 'ルナサ・プリズムリバー', '1,038', '121', '189', '4'],\n",
       " ['85', '95', '86', 'メディスン・メランコリー', '1,029', '96', '201', '0'],\n",
       " ['86', '87', '89', '宮古 芳香', '1,001', '96', '207', '2'],\n",
       " ['87', '83', '72', '稗田 阿求', '960', '81', '158', '4'],\n",
       " ['88', '86', '80', '堀川 雷鼓', '951', '93', '182', '1'],\n",
       " ['89', '93', '96', '秋 静葉', '934', '90', '186', '7'],\n",
       " ['90', '98', '88', '神綺', '921', '55', '166', '3'],\n",
       " ['91', '90', '98', '綿月 依姫', '898', '73', '166', '1'],\n",
       " ['92', '94', '97', '秋 穣子', '871', '81', '169', '5'],\n",
       " ['93', '88', '76', '驪駒 早鬼', '870', '43', '163', '2'],\n",
       " ['94', '77', '68', '杖刀偶 磨弓', '865', '77', '161', '5'],\n",
       " ['95', '96', '83', '高麗野あうん', '823', '64', '190', '1'],\n",
       " ['96', '91', '82', 'リリーホワイト', '816', '90', '151', '4'],\n",
       " ['97', '97', '89', 'わかさぎ姫', '798', '75', '171', '1'],\n",
       " ['98', '99', '85', '寅丸 星', '776', '86', '140', '3'],\n",
       " ['99', '92', '93', '奥野田 美宵', '739', '41', '173', '2'],\n",
       " ['100', '101', '91', '岡崎 夢美', '735', '54', '123', '8'],\n",
       " ['101', '103', '100', 'レティ・ホワイトロック', '691', '86', '151', '2'],\n",
       " ['102', '104', '102', '黒谷 ヤマメ', '669', '75', '137', '5'],\n",
       " ['103', '100', '108', '丁礼田舞', '656', '38', '129', '1'],\n",
       " ['104', '109', '92', '易者', '628', '30', '156', '3'],\n",
       " ['105', '102', '87', '幽谷 響子', '620', '53', '120', '1'],\n",
       " ['106', '89', '-', '豪徳寺 ミケ', '619', '27', '123', '0'],\n",
       " ['107', '105', '109', '爾子田里乃', '564', '32', '101', '0'],\n",
       " ['108', '107', '114', '綿月 豊姫', '561', '34', '112', '0'],\n",
       " ['109', '111', '111', 'メルラン・プリズムリバー', '535', '63', '90', '0'],\n",
       " ['110', '110', '99', 'ルナチャイルド', '519', '32', '97', '2'],\n",
       " ['111', '114', '101', 'スターサファイア', '513', '38', '93', '5'],\n",
       " ['112', '121', '107', 'エタニティラルバ', '499', '34', '114', '2'],\n",
       " ['113', '113', '104', '幻月', '490', '44', '98', '2'],\n",
       " ['114', '112', '105', '雲居 一輪', '485', '59', '82', '3'],\n",
       " ['115', '116', '117', 'アリスの人形（上海、蓬莱、大江戸 他）', '474', '13', '117', '0'],\n",
       " ['116', '108', '95', '清蘭', '448', '32', '83', '3'],\n",
       " ['117', '115', '106', '九十九 弁々', '446', '32', '96', '3'],\n",
       " ['118', '118', '115', '名無しの本読み妖怪', '444', '37', '104', '2'],\n",
       " ['119', '117', '112', 'リリカ・プリズムリバー', '437', '33', '67', '1'],\n",
       " ['120', '122', '112', '鈴瑚', '418', '37', '77', '0'],\n",
       " ['121', '120', '103', 'サニーミルク', '415', '34', '68', '4'],\n",
       " ['122', '119', '-', '山城 たかね', '374', '21', '81', '6'],\n",
       " ['123', '106', '-', '玉造 魅須丸', '363', '16', '70', '1'],\n",
       " ['124', '125', '110', '矢田寺成美', '345', '19', '81', '5'],\n",
       " ['125', '128', '119', '蓬莱人形ジャケットイラストの娘', '329', '32', '58', '2'],\n",
       " ['125', '123', '121', 'レイセン', '329', '21', '67', '1'],\n",
       " ['127', '126', '118', 'カナ・アナベラル', '326', '33', '69', '4'],\n",
       " ['128', '127', '119', '夢月', '299', '10', '70', '0'],\n",
       " ['129', '133', '124', 'サリエル', '293', '32', '55', '6'],\n",
       " ['130', '124', '123', '九十九 八橋', '283', '28', '64', '5'],\n",
       " ['131', '137', '126', 'キスメ', '280', '29', '58', '0'],\n",
       " ['132', '129', '128', '夢子', '272', '15', '47', '1'],\n",
       " ['133', '130', '127', '抗鬱薬おじさん', '265', '6', '51', '0'],\n",
       " ['134', '143', '125', '戎 瓔花', '259', '22', '70', '2'],\n",
       " ['135', '131', '130', 'くるみ', '231', '18', '38', '1'],\n",
       " ['136', '132', '138', '魂魄 妖忌', '222', '7', '61', '0'],\n",
       " ['137', '165', '154', 'ルイズ', '221', '24', '33', '1'],\n",
       " ['138', '-', '-', '宮出口瑞霊', '219', '7', '63', '2'],\n",
       " ['139', '135', '129', '北白河 ちゆり', '207', '18', '38', '5'],\n",
       " ['140', '136', '121', '牛崎 潤美', '193', '13', '44', '0'],\n",
       " ['141', '153', '145', '小兎姫', '182', '22', '43', '0'],\n",
       " ['142', '134', '131', '坂田ネムノ', '180', '12', '32', '0'],\n",
       " ['143', '138', '-', '駒草 山如', '174', '10', '37', '1'],\n",
       " ['144', '142', '136', 'コンガラ', '163', '12', '36', '5'],\n",
       " ['145', '139', '136', '毛玉', '162', '7', '35', '1'],\n",
       " ['146', '139', '134', '雲山', '156', '10', '39', '0'],\n",
       " ['147', '145', '132', 'マイ', '155', '9', '29', '0'],\n",
       " ['148', '148', '116', 'カワウソ霊', '152', '6', '49', '0'],\n",
       " ['148', '144', '134', 'エリス', '152', '8', '34', '0'],\n",
       " ['150', '141', '133', 'エレン', '151', '14', '27', '3'],\n",
       " ['151', '146', '139', 'エリー', '150', '6', '32', '0'],\n",
       " ['152', '149', '139', '影華扇（断善修悪の怪腕 - 茨木童子の腕）', '139', '2', '32', '2'],\n",
       " ['153', '146', '141', 'ユキ', '137', '13', '34', '0'],\n",
       " ['154', '150', '144', '大ナマズ', '135', '11', '30', '0'],\n",
       " ['155', '151', '143', 'るーこと', '133', '13', '35', '0'],\n",
       " ['156', '155', '145', '里香', '125', '10', '37', '9'],\n",
       " ['157', '154', '142', '蓬莱人形レーベルイラストの娘', '124', '2', '26', '1'],\n",
       " ['158', '158', '152', 'レイラ・プリズムリバー', '123', '9', '21', '1'],\n",
       " ['159', '157', '151', '明羅', '109', '10', '27', '3'],\n",
       " ['160', '161', '157', '朝倉 理香子', '101', '10', '27', '1'],\n",
       " ['161', '162', '150', '核熱造神ヒソウテンソク', '96', '7', '18', '0'],\n",
       " ['162', '152', '149', 'UFO（赤・青・緑、その他）', '94', '3', '29', '0'],\n",
       " ['163', '170', '162', 'なめえもん', '91', '5', '29', '0'],\n",
       " ['163', '156', '157', '旧作名無し中ボス', '91', '11', '18', '0'],\n",
       " ['165', '162', '154', 'ユウゲンマガン', '85', '7', '18', '1'],\n",
       " ['166', '166', '159', 'シンギョク', '78', '11', '14', '0'],\n",
       " ['166', '168', '170', 'ツチノコ', '78', '2', '23', '0'],\n",
       " ['168', '160', '164', '玄爺', '77', '4', '20', '0'],\n",
       " ['169', '173', '183', 'カラス（地獄鴉、紫・文の使い魔 他）', '76', '6', '15', '0'],\n",
       " ['170', '198', '196', 'ヤマネ', '69', '28', '7', '0'],\n",
       " ['171', '169', '167', 'ミミちゃん', '67', '5', '16', '0'],\n",
       " ['172', '164', '161', '嫦娥', '66', '0', '29', '1'],\n",
       " ['173', '166', '156', 'オレンジ', '62', '6', '12', '0'],\n",
       " ['174', '184', '174', '都市伝説の怪異（お菊さん、八尺さま 他）', '61', '1', '19', '0'],\n",
       " ['175', '159', '148', '妖精（メイド妖精・ひまわり妖精 他）', '57', '3', '16', '0'],\n",
       " ['176', '175', '159', 'キクリ', '53', '7', '15', '1'],\n",
       " ['177', '176', '145', 'オオカミ霊', '50', '6', '13', '0'],\n",
       " ['178', '176', '171', '華扇の動物（久米、竿打、雷獣、彭祖、人面犬 他）', '49', '2', '11', '2'],\n",
       " ['179', '171', '163', 'チュパカブラ', '47', '2', '10', '0'],\n",
       " ['180', '179', '168', '河童（山童含む）', '42', '1', '8', '0'],\n",
       " ['181', '174', '165', 'サラ', '41', '4', '10', '0'],\n",
       " ['181', '179', '169', '兎（玉兎、永遠亭の妖怪兎 他）', '41', '0', '15', '1'],\n",
       " ['183', '172', '153', 'オオワシ霊', '40', '1', '12', '0'],\n",
       " ['183', '179', '173', '里の人間（文花帖、求聞史紀、鈴奈庵などで登場した人間）', '40', '2', '12', '0'],\n",
       " ['185', '178', '172', '龍（子龍、邪龍 他）', '36', '0', '10', '0'],\n",
       " ['186', '186', '180', 'ケセランパサラン', '34', '0', '3', '0'],\n",
       " ['187', '187', '178', '岩笠', '29', '3', '7', '0'],\n",
       " ['187', '182', '166', '狐（妖怪狐、狐の子他）', '29', '0', '3', '1'],\n",
       " ['189', '182', '178', '酒虫', '27', '1', '9', '0'],\n",
       " ['190', '189', '175', '万歳楽', '26', '2', '5', '0'],\n",
       " ['191', '185', '177', 'ホフゴブリン', '25', '1', '8', '0'],\n",
       " ['191', '188', '180', '天狗（香霖堂の天狗、大天狗 他）', '25', '2', '3', '0'],\n",
       " ['193', '189', '182', '命蓮', '21', '0', '5', '0'],\n",
       " ['194', '192', '183', '神降ろしの神霊（天照、伊豆能売 他）', '20', '1', '3', '0'],\n",
       " ['195', '198', '191', '毘沙門天', '18', '2', '4', '0'],\n",
       " ['195', '191', '188', '木花咲耶姫', '18', '0', '5', '0'],\n",
       " ['197', '198', '188', '仙台四郎（福の神）', '17', '0', '5', '0'],\n",
       " ['198', '197', '175', 'ウワバミ', '15', '0', '2', '0'],\n",
       " ['198', '202', '185', '狸（化け狸、野鉄砲他）', '15', '0', '4', '0'],\n",
       " ['200', '193', '185', '幽霊（怨霊、神霊、化け化け含む）', '13', '1', '4', '0'],\n",
       " ['201', '194', '191', '塩屋敷の旦那', '12', '1', '2', '0'],\n",
       " ['202', '194', '191', '月の都の門番', '10', '2', '1', '0'],\n",
       " ['202', '206', '191', '沓頬', '10', '2', '1', '0'],\n",
       " ['204', '194', '187', '運松', '9', '1', '2', '0'],\n",
       " ['205', '198', '190', '小鈴の両親', '8', '0', '1', '0'],\n",
       " ['206', '204', '198', '水江浦島子', '7', '0', '2', '0'],\n",
       " ['207', '205', '195', '煙々羅', '6', '0', '1', '0'],\n",
       " ['208', '203', '196', '座敷童', '5', '0', '3', '0'],\n",
       " [],\n",
       " [],\n",
       " [],\n",
       " [],\n",
       " [],\n",
       " [],\n",
       " [],\n",
       " []]"
      ]
     },
     "execution_count": 41,
     "metadata": {},
     "output_type": "execute_result"
    }
   ],
   "source": [
    "get_tabledata(table_contents)"
   ]
  },
  {
   "cell_type": "code",
   "execution_count": null,
   "id": "65b9a05d",
   "metadata": {},
   "outputs": [],
   "source": []
  },
  {
   "cell_type": "code",
   "execution_count": null,
   "id": "04200420",
   "metadata": {},
   "outputs": [],
   "source": []
  }
 ],
 "metadata": {
  "kernelspec": {
   "display_name": "Python 3 (ipykernel)",
   "language": "python",
   "name": "python3"
  },
  "language_info": {
   "codemirror_mode": {
    "name": "ipython",
    "version": 3
   },
   "file_extension": ".py",
   "mimetype": "text/x-python",
   "name": "python",
   "nbconvert_exporter": "python",
   "pygments_lexer": "ipython3",
   "version": "3.8.10"
  }
 },
 "nbformat": 4,
 "nbformat_minor": 5
}
