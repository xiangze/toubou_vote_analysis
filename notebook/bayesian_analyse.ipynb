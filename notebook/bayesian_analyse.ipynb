{
 "cells": [
  {
   "cell_type": "code",
   "execution_count": 1,
   "id": "7514bc94",
   "metadata": {},
   "outputs": [],
   "source": [
    "import stan\n",
    "import pandas as pd\n",
    "import numpy as np"
   ]
  },
  {
   "cell_type": "markdown",
   "id": "950e2645",
   "metadata": {},
   "source": [
    "#https://pystan.readthedocs.io/en/latest/"
   ]
  },
  {
   "cell_type": "code",
   "execution_count": 2,
   "id": "94ec5eee",
   "metadata": {},
   "outputs": [],
   "source": [
    "def choosename(df:pd.DataFrame) ->pd.DataFrame : \n",
    "    return pd.DataFrame([df['番号'],df['charid']]).T"
   ]
  },
  {
   "cell_type": "code",
   "execution_count": 15,
   "id": "c7d510a6",
   "metadata": {},
   "outputs": [],
   "source": [
    "#model_fname=\"model/charpower_void.stan\"\n",
    "\n",
    "model_fname=\"model/charpower0.stan\"\n",
    "with open(model_fname) as f:\n",
    "     model_code=f.read()\n"
   ]
  },
  {
   "cell_type": "code",
   "execution_count": 4,
   "id": "f3409cd0",
   "metadata": {},
   "outputs": [],
   "source": [
    "char_points_ratio=pd.read_csv(\"data/char_points_ratio.csv\")\n",
    "\n",
    "#only for length\n",
    "integertitledata=pd.read_csv(\"data/integertitles.csv\")\n",
    "nonintegertitledata=pd.read_csv(\"data/nonintegertitles.csv\")\n",
    "#indexdata\n",
    "mainchartable=choosename(pd.read_csv(\"data/mainchar_integer_list.csv\"))\n",
    "bosschartable=choosename(pd.read_csv(\"data/bosslist.csv\"))\n",
    "subchardata=choosename(pd.read_csv(\"data/char_noninteger_list.csv\"))\n"
   ]
  },
  {
   "cell_type": "code",
   "execution_count": 5,
   "id": "10f89737",
   "metadata": {},
   "outputs": [
    {
     "name": "stdout",
     "output_type": "stream",
     "text": [
      "   Unnamed: 0           名前         1         2         3         4         5  \\\n",
      "0           0       十六夜 咲夜  0.174632  0.148538  0.119437  0.066389  0.043986   \n",
      "1           1       霧雨 魔理沙  0.174632  0.140111  0.160269  0.074140  0.053930   \n",
      "2           2        博麗 霊夢  0.113971  0.077166  0.086974  0.070948  0.054767   \n",
      "3           3          チルノ  0.093750  0.017119  0.010821  0.018806  0.028938   \n",
      "4           4  パチュリー・ノーレッジ  0.084559  0.051356  0.021233  0.042341  0.034503   \n",
      "\n",
      "          6         7         8         9        10        11        12  \\\n",
      "0  0.041815  0.034421  0.034349  0.033745  0.032236  0.033342  0.031858   \n",
      "1  0.041407  0.034437  0.031998  0.031373  0.035802  0.038609  0.034277   \n",
      "2  0.044170  0.039348  0.038753  0.037450  0.040317  0.039170  0.048207   \n",
      "3  0.020041  0.016506  0.015151  0.014084  0.011058  0.011080  0.010234   \n",
      "4  0.026553  0.021677  0.020374  0.018668  0.016752  0.015082  0.014046   \n",
      "\n",
      "         13        14        15        16        17        18  \n",
      "0  0.031279  0.028652  0.028881  0.031512  0.034703  0.037877  \n",
      "1  0.033953  0.032413  0.033570  0.034614  0.040944  0.045544  \n",
      "2  0.040313  0.037626  0.038856  0.035766  0.039516  0.043074  \n",
      "3  0.010118  0.010923  0.012773  0.012119  0.014644  0.016072  \n",
      "4  0.013883  0.013262  0.013614  0.014173  0.014304  0.014269  \n"
     ]
    }
   ],
   "source": [
    "print(char_points_ratio.head())\n",
    "char_points_ratio=char_points_ratio[char_points_ratio.columns[2:]]"
   ]
  },
  {
   "cell_type": "code",
   "execution_count": 13,
   "id": "71dd9152",
   "metadata": {},
   "outputs": [],
   "source": [
    "T=18\n",
    "TM=5\n",
    "data={\n",
    "        \"T\":T,#num of elections\n",
    "        \"TM\":TM,#time window size\n",
    "        \"Nchar\":len(char_points_ratio),# num. of characters \n",
    "        \"Ninttitle\":len(integertitledata),# num. of integer titles\n",
    "        \"Nnoninttitle\":len(nonintegertitledata),# num. of integer titles\n",
    "\n",
    "        \"Nmain\":len(mainchartable),#  num. of integer main characters \n",
    "        \"Nboss\":len(char_points_ratio),#  num. of integer bosses\n",
    "        \"Nsub\":len(subchardata),#  num. of noninteger characters \n",
    "\n",
    "        \"chars_vote_normal\":char_points_ratio.to_numpy(),# normalized vote num. 0:vote,1:rate\n",
    "        \"mainchars\":mainchartable.to_numpy(),\n",
    "        \"bosschars\":bosschartable.to_numpy(),\n",
    "        \"subchars\":subchardata.to_numpy()\n",
    "}"
   ]
  },
  {
   "cell_type": "code",
   "execution_count": 16,
   "id": "2f817f9b",
   "metadata": {},
   "outputs": [
    {
     "ename": "RuntimeError",
     "evalue": "asyncio.run() cannot be called from a running event loop",
     "output_type": "error",
     "traceback": [
      "\u001b[0;31m---------------------------------------------------------------------------\u001b[0m",
      "\u001b[0;31mRuntimeError\u001b[0m                              Traceback (most recent call last)",
      "\u001b[0;32m/tmp/ipykernel_312740/1060462603.py\u001b[0m in \u001b[0;36m<module>\u001b[0;34m\u001b[0m\n\u001b[0;32m----> 1\u001b[0;31m \u001b[0mposterior\u001b[0m \u001b[0;34m=\u001b[0m \u001b[0mstan\u001b[0m\u001b[0;34m.\u001b[0m\u001b[0mbuild\u001b[0m\u001b[0;34m(\u001b[0m\u001b[0mmodel_code\u001b[0m\u001b[0;34m,\u001b[0m \u001b[0mdata\u001b[0m\u001b[0;34m=\u001b[0m\u001b[0mdata\u001b[0m\u001b[0;34m)\u001b[0m\u001b[0;34m\u001b[0m\u001b[0;34m\u001b[0m\u001b[0m\n\u001b[0m\u001b[1;32m      2\u001b[0m \u001b[0;34m\u001b[0m\u001b[0m\n\u001b[1;32m      3\u001b[0m \u001b[0mfit\u001b[0m \u001b[0;34m=\u001b[0m \u001b[0mposterior\u001b[0m\u001b[0;34m.\u001b[0m\u001b[0msample\u001b[0m\u001b[0;34m(\u001b[0m\u001b[0mnum_chains\u001b[0m\u001b[0;34m=\u001b[0m\u001b[0;36m4\u001b[0m\u001b[0;34m,\u001b[0m \u001b[0mnum_samples\u001b[0m\u001b[0;34m=\u001b[0m\u001b[0;36m1000\u001b[0m\u001b[0;34m)\u001b[0m\u001b[0;34m\u001b[0m\u001b[0;34m\u001b[0m\u001b[0m\n",
      "\u001b[0;32m~/.local/lib/python3.8/site-packages/stan/model.py\u001b[0m in \u001b[0;36mbuild\u001b[0;34m(program_code, data, random_seed)\u001b[0m\n\u001b[1;32m    516\u001b[0m \u001b[0;34m\u001b[0m\u001b[0m\n\u001b[1;32m    517\u001b[0m     \u001b[0;32mtry\u001b[0m\u001b[0;34m:\u001b[0m\u001b[0;34m\u001b[0m\u001b[0;34m\u001b[0m\u001b[0m\n\u001b[0;32m--> 518\u001b[0;31m         \u001b[0;32mreturn\u001b[0m \u001b[0masyncio\u001b[0m\u001b[0;34m.\u001b[0m\u001b[0mrun\u001b[0m\u001b[0;34m(\u001b[0m\u001b[0mgo\u001b[0m\u001b[0;34m(\u001b[0m\u001b[0;34m)\u001b[0m\u001b[0;34m)\u001b[0m\u001b[0;34m\u001b[0m\u001b[0;34m\u001b[0m\u001b[0m\n\u001b[0m\u001b[1;32m    519\u001b[0m     \u001b[0;32mexcept\u001b[0m \u001b[0mKeyboardInterrupt\u001b[0m\u001b[0;34m:\u001b[0m\u001b[0;34m\u001b[0m\u001b[0;34m\u001b[0m\u001b[0m\n\u001b[1;32m    520\u001b[0m         \u001b[0;32mreturn\u001b[0m  \u001b[0;31m# type: ignore\u001b[0m\u001b[0;34m\u001b[0m\u001b[0;34m\u001b[0m\u001b[0m\n",
      "\u001b[0;32m/usr/lib/python3.8/asyncio/runners.py\u001b[0m in \u001b[0;36mrun\u001b[0;34m(main, debug)\u001b[0m\n\u001b[1;32m     31\u001b[0m     \"\"\"\n\u001b[1;32m     32\u001b[0m     \u001b[0;32mif\u001b[0m \u001b[0mevents\u001b[0m\u001b[0;34m.\u001b[0m\u001b[0m_get_running_loop\u001b[0m\u001b[0;34m(\u001b[0m\u001b[0;34m)\u001b[0m \u001b[0;32mis\u001b[0m \u001b[0;32mnot\u001b[0m \u001b[0;32mNone\u001b[0m\u001b[0;34m:\u001b[0m\u001b[0;34m\u001b[0m\u001b[0;34m\u001b[0m\u001b[0m\n\u001b[0;32m---> 33\u001b[0;31m         raise RuntimeError(\n\u001b[0m\u001b[1;32m     34\u001b[0m             \"asyncio.run() cannot be called from a running event loop\")\n\u001b[1;32m     35\u001b[0m \u001b[0;34m\u001b[0m\u001b[0m\n",
      "\u001b[0;31mRuntimeError\u001b[0m: asyncio.run() cannot be called from a running event loop"
     ]
    }
   ],
   "source": [
    "posterior = stan.build(model_code, data=data)\n",
    "\n",
    "fit = posterior.sample(num_chains=4, num_samples=1000)"
   ]
  },
  {
   "cell_type": "code",
   "execution_count": null,
   "id": "aa4a6179",
   "metadata": {},
   "outputs": [],
   "source": []
  }
 ],
 "metadata": {
  "kernelspec": {
   "display_name": "Python 3 (ipykernel)",
   "language": "python",
   "name": "python3"
  },
  "language_info": {
   "codemirror_mode": {
    "name": "ipython",
    "version": 3
   },
   "file_extension": ".py",
   "mimetype": "text/x-python",
   "name": "python",
   "nbconvert_exporter": "python",
   "pygments_lexer": "ipython3",
   "version": "3.8.10"
  }
 },
 "nbformat": 4,
 "nbformat_minor": 5
}
