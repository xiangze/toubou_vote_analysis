{
 "cells": [
  {
   "cell_type": "markdown",
   "id": "43b2e77e",
   "metadata": {},
   "source": [
    "# 相関"
   ]
  },
  {
   "cell_type": "markdown",
   "id": "a232745b",
   "metadata": {},
   "source": [
    "作品ごとのポイントとキャラ、音楽の作品ごとポイント集計値のxyプロットで相関関係を概観する。"
   ]
  },
  {
   "cell_type": "code",
   "execution_count": 3,
   "id": "cef85772",
   "metadata": {},
   "outputs": [],
   "source": [
    "from bs4 import BeautifulSoup \n",
    "import pandas as pd"
   ]
  },
  {
   "cell_type": "code",
   "execution_count": null,
   "id": "9dcccd9b",
   "metadata": {},
   "outputs": [],
   "source": [
    "import glob\n",
    "import matplotlib as mpl\n",
    "import matplotlib.pyplot as plt  # これを呼ばないと matplotlib.font_manager にアクセスできない\n",
    "import numpy as np"
   ]
  },
  {
   "cell_type": "markdown",
   "id": "d0474a81",
   "metadata": {},
   "source": [
    "plot日本語化"
   ]
  },
  {
   "cell_type": "code",
   "execution_count": null,
   "id": "3e108bab",
   "metadata": {},
   "outputs": [],
   "source": [
    "plt.rcParams['font.family'] = 'Noto Sans CJK JP'\n",
    "\n",
    "import shutil\n",
    "from pathlib import Path\n",
    "\n",
    "config_dir = Path(mpl.get_configdir())\n",
    "config_dir.mkdir(exist_ok=True, parents=True)\n",
    "\n",
    "default_config_path = Path(mpl.__file__).parent / \"mpl-data/matplotlibrc\"\n",
    "config_path = config_dir / \"matplotlibrc\"\n",
    "shutil.copyfile(default_config_path, config_path)"
   ]
  },
  {
   "cell_type": "code",
   "execution_count": 1,
   "id": "d8d9b290",
   "metadata": {},
   "outputs": [
    {
     "name": "stdout",
     "output_type": "stream",
     "text": [
      "--2022-11-26 12:27:10--  https://w.atwiki.jp/toho/pages/842.html\n",
      "w.atwiki.jp (w.atwiki.jp) をDNSに問いあわせています... 18.65.216.60, 18.65.216.71, 18.65.216.77, ...\n",
      "w.atwiki.jp (w.atwiki.jp)|18.65.216.60|:443 に接続しています... 接続しました。\n",
      "HTTP による接続要求を送信しました、応答を待っています... 403 Forbidden\n",
      "2022-11-26 12:27:10 エラー 403: Forbidden。\n",
      "\n"
     ]
    }
   ],
   "source": [
    "!wget https://w.atwiki.jp/toho/pages/842.html "
   ]
  },
  {
   "cell_type": "code",
   "execution_count": 4,
   "id": "5da3eeaa",
   "metadata": {},
   "outputs": [],
   "source": [
    "filename=\"842.html\"\n",
    "with open(filename,\"r\") as fp:\n",
    "    htmltext=fp.read()\n",
    "soup = BeautifulSoup(htmltext, \"html.parser\")"
   ]
  },
  {
   "cell_type": "code",
   "execution_count": 5,
   "id": "83d8b4b9",
   "metadata": {},
   "outputs": [],
   "source": [
    "titles=soup.find_all(\"h4\")\n",
    "titles=[t.string for t in titles]"
   ]
  },
  {
   "cell_type": "code",
   "execution_count": 162,
   "id": "2419b5b6",
   "metadata": {},
   "outputs": [],
   "source": [
    "tables=soup.find_all(\"table\")"
   ]
  },
  {
   "cell_type": "code",
   "execution_count": 163,
   "id": "390fa664",
   "metadata": {},
   "outputs": [],
   "source": [
    "tables= [ pd.read_html(str(t))[0] for t in tables]"
   ]
  },
  {
   "cell_type": "code",
   "execution_count": 164,
   "id": "ddb90f7c",
   "metadata": {},
   "outputs": [],
   "source": [
    "for i,[title,t] in enumerate(zip(titles,tables)):\n",
    "    t.columns=t.iloc[0]\n",
    "    t[\"title\"]=title\n",
    "    t=t.drop([0])\n",
    "tables=[t.drop([0]) for t in tables]"
   ]
  },
  {
   "cell_type": "code",
   "execution_count": 165,
   "id": "2ae81f31",
   "metadata": {},
   "outputs": [
    {
     "data": {
      "text/html": [
       "<div>\n",
       "<style scoped>\n",
       "    .dataframe tbody tr th:only-of-type {\n",
       "        vertical-align: middle;\n",
       "    }\n",
       "\n",
       "    .dataframe tbody tr th {\n",
       "        vertical-align: top;\n",
       "    }\n",
       "\n",
       "    .dataframe thead th {\n",
       "        text-align: right;\n",
       "    }\n",
       "</style>\n",
       "<table border=\"1\" class=\"dataframe\">\n",
       "  <thead>\n",
       "    <tr style=\"text-align: right;\">\n",
       "      <th></th>\n",
       "      <th>Number</th>\n",
       "      <th>Track Name</th>\n",
       "      <th>Notes</th>\n",
       "      <th>title</th>\n",
       "    </tr>\n",
       "  </thead>\n",
       "  <tbody>\n",
       "    <tr>\n",
       "      <th>1</th>\n",
       "      <td>01</td>\n",
       "      <td>赤より紅い夢</td>\n",
       "      <td>タイトル画面テーマ</td>\n",
       "      <td>東方紅魔郷　～ the Embodiment of Scarlet Devil.</td>\n",
       "    </tr>\n",
       "    <tr>\n",
       "      <th>2</th>\n",
       "      <td>02</td>\n",
       "      <td>ほおずきみたいに紅い魂</td>\n",
       "      <td>１面テーマ</td>\n",
       "      <td>東方紅魔郷　～ the Embodiment of Scarlet Devil.</td>\n",
       "    </tr>\n",
       "    <tr>\n",
       "      <th>3</th>\n",
       "      <td>03</td>\n",
       "      <td>妖魔夜行</td>\n",
       "      <td>１面ボス・ルーミアのテーマ</td>\n",
       "      <td>東方紅魔郷　～ the Embodiment of Scarlet Devil.</td>\n",
       "    </tr>\n",
       "    <tr>\n",
       "      <th>4</th>\n",
       "      <td>04</td>\n",
       "      <td>ルーネイトエルフ</td>\n",
       "      <td>２面テーマ</td>\n",
       "      <td>東方紅魔郷　～ the Embodiment of Scarlet Devil.</td>\n",
       "    </tr>\n",
       "    <tr>\n",
       "      <th>5</th>\n",
       "      <td>05</td>\n",
       "      <td>おてんば恋娘</td>\n",
       "      <td>２面ボス・チルノのテーマ</td>\n",
       "      <td>東方紅魔郷　～ the Embodiment of Scarlet Devil.</td>\n",
       "    </tr>\n",
       "    <tr>\n",
       "      <th>6</th>\n",
       "      <td>06</td>\n",
       "      <td>上海紅茶館　～ Chinese Tea</td>\n",
       "      <td>３面テーマ</td>\n",
       "      <td>東方紅魔郷　～ the Embodiment of Scarlet Devil.</td>\n",
       "    </tr>\n",
       "    <tr>\n",
       "      <th>7</th>\n",
       "      <td>07</td>\n",
       "      <td>明治十七年の上海アリス</td>\n",
       "      <td>３面ボス・紅 美鈴のテーマ</td>\n",
       "      <td>東方紅魔郷　～ the Embodiment of Scarlet Devil.</td>\n",
       "    </tr>\n",
       "    <tr>\n",
       "      <th>8</th>\n",
       "      <td>08</td>\n",
       "      <td>ヴワル魔法図書館</td>\n",
       "      <td>４面テーマ</td>\n",
       "      <td>東方紅魔郷　～ the Embodiment of Scarlet Devil.</td>\n",
       "    </tr>\n",
       "    <tr>\n",
       "      <th>9</th>\n",
       "      <td>09</td>\n",
       "      <td>ラクトガール　～ 少女密室</td>\n",
       "      <td>４面ボス・パチュリー・ノーレッジのテーマ</td>\n",
       "      <td>東方紅魔郷　～ the Embodiment of Scarlet Devil.</td>\n",
       "    </tr>\n",
       "    <tr>\n",
       "      <th>10</th>\n",
       "      <td>10</td>\n",
       "      <td>メイドと血の懐中時計</td>\n",
       "      <td>５面テーマ</td>\n",
       "      <td>東方紅魔郷　～ the Embodiment of Scarlet Devil.</td>\n",
       "    </tr>\n",
       "    <tr>\n",
       "      <th>11</th>\n",
       "      <td>11</td>\n",
       "      <td>月時計　～ ルナ・ダイアル</td>\n",
       "      <td>５面ボス・十六夜 咲夜のテーマ</td>\n",
       "      <td>東方紅魔郷　～ the Embodiment of Scarlet Devil.</td>\n",
       "    </tr>\n",
       "    <tr>\n",
       "      <th>12</th>\n",
       "      <td>12</td>\n",
       "      <td>ツェペシュの幼き末裔</td>\n",
       "      <td>６面テーマ</td>\n",
       "      <td>東方紅魔郷　～ the Embodiment of Scarlet Devil.</td>\n",
       "    </tr>\n",
       "    <tr>\n",
       "      <th>13</th>\n",
       "      <td>13</td>\n",
       "      <td>亡き王女の為のセプテット</td>\n",
       "      <td>６面ボス・レミリア・スカーレットのテーマ</td>\n",
       "      <td>東方紅魔郷　～ the Embodiment of Scarlet Devil.</td>\n",
       "    </tr>\n",
       "    <tr>\n",
       "      <th>14</th>\n",
       "      <td>14</td>\n",
       "      <td>魔法少女達の百年祭</td>\n",
       "      <td>EXTRAステージテーマ</td>\n",
       "      <td>東方紅魔郷　～ the Embodiment of Scarlet Devil.</td>\n",
       "    </tr>\n",
       "    <tr>\n",
       "      <th>15</th>\n",
       "      <td>15</td>\n",
       "      <td>U.N.オーエンは彼女なのか？</td>\n",
       "      <td>EXTRAステージボス・フランドール・スカーレットのテーマ</td>\n",
       "      <td>東方紅魔郷　～ the Embodiment of Scarlet Devil.</td>\n",
       "    </tr>\n",
       "    <tr>\n",
       "      <th>16</th>\n",
       "      <td>16</td>\n",
       "      <td>紅より儚い永遠</td>\n",
       "      <td>エンディングテーマ</td>\n",
       "      <td>東方紅魔郷　～ the Embodiment of Scarlet Devil.</td>\n",
       "    </tr>\n",
       "    <tr>\n",
       "      <th>17</th>\n",
       "      <td>17</td>\n",
       "      <td>紅楼　～ Eastern Dream...</td>\n",
       "      <td>スタッフロールテーマ</td>\n",
       "      <td>東方紅魔郷　～ the Embodiment of Scarlet Devil.</td>\n",
       "    </tr>\n",
       "  </tbody>\n",
       "</table>\n",
       "</div>"
      ],
      "text/plain": [
       "0  Number             Track Name                          Notes  \\\n",
       "1      01                 赤より紅い夢                      タイトル画面テーマ   \n",
       "2      02            ほおずきみたいに紅い魂                          １面テーマ   \n",
       "3      03                   妖魔夜行                  １面ボス・ルーミアのテーマ   \n",
       "4      04               ルーネイトエルフ                          ２面テーマ   \n",
       "5      05                 おてんば恋娘                   ２面ボス・チルノのテーマ   \n",
       "6      06    上海紅茶館　～ Chinese Tea                          ３面テーマ   \n",
       "7      07            明治十七年の上海アリス                  ３面ボス・紅 美鈴のテーマ   \n",
       "8      08               ヴワル魔法図書館                          ４面テーマ   \n",
       "9      09          ラクトガール　～ 少女密室           ４面ボス・パチュリー・ノーレッジのテーマ   \n",
       "10     10             メイドと血の懐中時計                          ５面テーマ   \n",
       "11     11          月時計　～ ルナ・ダイアル                ５面ボス・十六夜 咲夜のテーマ   \n",
       "12     12             ツェペシュの幼き末裔                          ６面テーマ   \n",
       "13     13           亡き王女の為のセプテット           ６面ボス・レミリア・スカーレットのテーマ   \n",
       "14     14              魔法少女達の百年祭                   EXTRAステージテーマ   \n",
       "15     15        U.N.オーエンは彼女なのか？  EXTRAステージボス・フランドール・スカーレットのテーマ   \n",
       "16     16                紅より儚い永遠                      エンディングテーマ   \n",
       "17     17  紅楼　～ Eastern Dream...                     スタッフロールテーマ   \n",
       "\n",
       "0                                      title  \n",
       "1   東方紅魔郷　～ the Embodiment of Scarlet Devil.  \n",
       "2   東方紅魔郷　～ the Embodiment of Scarlet Devil.  \n",
       "3   東方紅魔郷　～ the Embodiment of Scarlet Devil.  \n",
       "4   東方紅魔郷　～ the Embodiment of Scarlet Devil.  \n",
       "5   東方紅魔郷　～ the Embodiment of Scarlet Devil.  \n",
       "6   東方紅魔郷　～ the Embodiment of Scarlet Devil.  \n",
       "7   東方紅魔郷　～ the Embodiment of Scarlet Devil.  \n",
       "8   東方紅魔郷　～ the Embodiment of Scarlet Devil.  \n",
       "9   東方紅魔郷　～ the Embodiment of Scarlet Devil.  \n",
       "10  東方紅魔郷　～ the Embodiment of Scarlet Devil.  \n",
       "11  東方紅魔郷　～ the Embodiment of Scarlet Devil.  \n",
       "12  東方紅魔郷　～ the Embodiment of Scarlet Devil.  \n",
       "13  東方紅魔郷　～ the Embodiment of Scarlet Devil.  \n",
       "14  東方紅魔郷　～ the Embodiment of Scarlet Devil.  \n",
       "15  東方紅魔郷　～ the Embodiment of Scarlet Devil.  \n",
       "16  東方紅魔郷　～ the Embodiment of Scarlet Devil.  \n",
       "17  東方紅魔郷　～ the Embodiment of Scarlet Devil.  "
      ]
     },
     "execution_count": 165,
     "metadata": {},
     "output_type": "execute_result"
    }
   ],
   "source": [
    "tables[0]"
   ]
  },
  {
   "cell_type": "code",
   "execution_count": 166,
   "id": "55adaa59",
   "metadata": {},
   "outputs": [],
   "source": [
    "totaltable=pd.concat(tables)"
   ]
  },
  {
   "cell_type": "code",
   "execution_count": 167,
   "id": "44e987ed",
   "metadata": {},
   "outputs": [
    {
     "data": {
      "text/html": [
       "<div>\n",
       "<style scoped>\n",
       "    .dataframe tbody tr th:only-of-type {\n",
       "        vertical-align: middle;\n",
       "    }\n",
       "\n",
       "    .dataframe tbody tr th {\n",
       "        vertical-align: top;\n",
       "    }\n",
       "\n",
       "    .dataframe thead th {\n",
       "        text-align: right;\n",
       "    }\n",
       "</style>\n",
       "<table border=\"1\" class=\"dataframe\">\n",
       "  <thead>\n",
       "    <tr style=\"text-align: right;\">\n",
       "      <th></th>\n",
       "      <th>Number</th>\n",
       "      <th>Track Name</th>\n",
       "      <th>Notes</th>\n",
       "      <th>title</th>\n",
       "    </tr>\n",
       "  </thead>\n",
       "  <tbody>\n",
       "    <tr>\n",
       "      <th>1</th>\n",
       "      <td>01</td>\n",
       "      <td>赤より紅い夢</td>\n",
       "      <td>タイトル画面テーマ</td>\n",
       "      <td>東方紅魔郷　～ the Embodiment of Scarlet Devil.</td>\n",
       "    </tr>\n",
       "    <tr>\n",
       "      <th>2</th>\n",
       "      <td>02</td>\n",
       "      <td>ほおずきみたいに紅い魂</td>\n",
       "      <td>１面テーマ</td>\n",
       "      <td>東方紅魔郷　～ the Embodiment of Scarlet Devil.</td>\n",
       "    </tr>\n",
       "    <tr>\n",
       "      <th>3</th>\n",
       "      <td>03</td>\n",
       "      <td>妖魔夜行</td>\n",
       "      <td>１面ボス・ルーミアのテーマ</td>\n",
       "      <td>東方紅魔郷　～ the Embodiment of Scarlet Devil.</td>\n",
       "    </tr>\n",
       "    <tr>\n",
       "      <th>4</th>\n",
       "      <td>04</td>\n",
       "      <td>ルーネイトエルフ</td>\n",
       "      <td>２面テーマ</td>\n",
       "      <td>東方紅魔郷　～ the Embodiment of Scarlet Devil.</td>\n",
       "    </tr>\n",
       "    <tr>\n",
       "      <th>5</th>\n",
       "      <td>05</td>\n",
       "      <td>おてんば恋娘</td>\n",
       "      <td>２面ボス・チルノのテーマ</td>\n",
       "      <td>東方紅魔郷　～ the Embodiment of Scarlet Devil.</td>\n",
       "    </tr>\n",
       "    <tr>\n",
       "      <th>6</th>\n",
       "      <td>06</td>\n",
       "      <td>上海紅茶館　～ Chinese Tea</td>\n",
       "      <td>３面テーマ</td>\n",
       "      <td>東方紅魔郷　～ the Embodiment of Scarlet Devil.</td>\n",
       "    </tr>\n",
       "    <tr>\n",
       "      <th>7</th>\n",
       "      <td>07</td>\n",
       "      <td>明治十七年の上海アリス</td>\n",
       "      <td>３面ボス・紅 美鈴のテーマ</td>\n",
       "      <td>東方紅魔郷　～ the Embodiment of Scarlet Devil.</td>\n",
       "    </tr>\n",
       "    <tr>\n",
       "      <th>8</th>\n",
       "      <td>08</td>\n",
       "      <td>ヴワル魔法図書館</td>\n",
       "      <td>４面テーマ</td>\n",
       "      <td>東方紅魔郷　～ the Embodiment of Scarlet Devil.</td>\n",
       "    </tr>\n",
       "    <tr>\n",
       "      <th>9</th>\n",
       "      <td>09</td>\n",
       "      <td>ラクトガール　～ 少女密室</td>\n",
       "      <td>４面ボス・パチュリー・ノーレッジのテーマ</td>\n",
       "      <td>東方紅魔郷　～ the Embodiment of Scarlet Devil.</td>\n",
       "    </tr>\n",
       "    <tr>\n",
       "      <th>10</th>\n",
       "      <td>10</td>\n",
       "      <td>メイドと血の懐中時計</td>\n",
       "      <td>５面テーマ</td>\n",
       "      <td>東方紅魔郷　～ the Embodiment of Scarlet Devil.</td>\n",
       "    </tr>\n",
       "    <tr>\n",
       "      <th>11</th>\n",
       "      <td>11</td>\n",
       "      <td>月時計　～ ルナ・ダイアル</td>\n",
       "      <td>５面ボス・十六夜 咲夜のテーマ</td>\n",
       "      <td>東方紅魔郷　～ the Embodiment of Scarlet Devil.</td>\n",
       "    </tr>\n",
       "    <tr>\n",
       "      <th>12</th>\n",
       "      <td>12</td>\n",
       "      <td>ツェペシュの幼き末裔</td>\n",
       "      <td>６面テーマ</td>\n",
       "      <td>東方紅魔郷　～ the Embodiment of Scarlet Devil.</td>\n",
       "    </tr>\n",
       "    <tr>\n",
       "      <th>13</th>\n",
       "      <td>13</td>\n",
       "      <td>亡き王女の為のセプテット</td>\n",
       "      <td>６面ボス・レミリア・スカーレットのテーマ</td>\n",
       "      <td>東方紅魔郷　～ the Embodiment of Scarlet Devil.</td>\n",
       "    </tr>\n",
       "    <tr>\n",
       "      <th>14</th>\n",
       "      <td>14</td>\n",
       "      <td>魔法少女達の百年祭</td>\n",
       "      <td>EXTRAステージテーマ</td>\n",
       "      <td>東方紅魔郷　～ the Embodiment of Scarlet Devil.</td>\n",
       "    </tr>\n",
       "    <tr>\n",
       "      <th>15</th>\n",
       "      <td>15</td>\n",
       "      <td>U.N.オーエンは彼女なのか？</td>\n",
       "      <td>EXTRAステージボス・フランドール・スカーレットのテーマ</td>\n",
       "      <td>東方紅魔郷　～ the Embodiment of Scarlet Devil.</td>\n",
       "    </tr>\n",
       "    <tr>\n",
       "      <th>16</th>\n",
       "      <td>16</td>\n",
       "      <td>紅より儚い永遠</td>\n",
       "      <td>エンディングテーマ</td>\n",
       "      <td>東方紅魔郷　～ the Embodiment of Scarlet Devil.</td>\n",
       "    </tr>\n",
       "    <tr>\n",
       "      <th>17</th>\n",
       "      <td>17</td>\n",
       "      <td>紅楼　～ Eastern Dream...</td>\n",
       "      <td>スタッフロールテーマ</td>\n",
       "      <td>東方紅魔郷　～ the Embodiment of Scarlet Devil.</td>\n",
       "    </tr>\n",
       "    <tr>\n",
       "      <th>1</th>\n",
       "      <td>01</td>\n",
       "      <td>妖々夢　～ Snow or Cherry Petal</td>\n",
       "      <td>タイトル画面テーマ</td>\n",
       "      <td>東方妖々夢　～ Perfect Cherry Blossom.</td>\n",
       "    </tr>\n",
       "    <tr>\n",
       "      <th>2</th>\n",
       "      <td>02</td>\n",
       "      <td>無何有の郷　～ Deep Mountain</td>\n",
       "      <td>１面テーマ</td>\n",
       "      <td>東方妖々夢　～ Perfect Cherry Blossom.</td>\n",
       "    </tr>\n",
       "    <tr>\n",
       "      <th>3</th>\n",
       "      <td>03</td>\n",
       "      <td>クリスタライズシルバー</td>\n",
       "      <td>１面ボス・レティ・ホワイトロックのテーマ</td>\n",
       "      <td>東方妖々夢　～ Perfect Cherry Blossom.</td>\n",
       "    </tr>\n",
       "  </tbody>\n",
       "</table>\n",
       "</div>"
      ],
      "text/plain": [
       "0  Number                  Track Name                          Notes  \\\n",
       "1      01                      赤より紅い夢                      タイトル画面テーマ   \n",
       "2      02                 ほおずきみたいに紅い魂                          １面テーマ   \n",
       "3      03                        妖魔夜行                  １面ボス・ルーミアのテーマ   \n",
       "4      04                    ルーネイトエルフ                          ２面テーマ   \n",
       "5      05                      おてんば恋娘                   ２面ボス・チルノのテーマ   \n",
       "6      06         上海紅茶館　～ Chinese Tea                          ３面テーマ   \n",
       "7      07                 明治十七年の上海アリス                  ３面ボス・紅 美鈴のテーマ   \n",
       "8      08                    ヴワル魔法図書館                          ４面テーマ   \n",
       "9      09               ラクトガール　～ 少女密室           ４面ボス・パチュリー・ノーレッジのテーマ   \n",
       "10     10                  メイドと血の懐中時計                          ５面テーマ   \n",
       "11     11               月時計　～ ルナ・ダイアル                ５面ボス・十六夜 咲夜のテーマ   \n",
       "12     12                  ツェペシュの幼き末裔                          ６面テーマ   \n",
       "13     13                亡き王女の為のセプテット           ６面ボス・レミリア・スカーレットのテーマ   \n",
       "14     14                   魔法少女達の百年祭                   EXTRAステージテーマ   \n",
       "15     15             U.N.オーエンは彼女なのか？  EXTRAステージボス・フランドール・スカーレットのテーマ   \n",
       "16     16                     紅より儚い永遠                      エンディングテーマ   \n",
       "17     17       紅楼　～ Eastern Dream...                     スタッフロールテーマ   \n",
       "1      01  妖々夢　～ Snow or Cherry Petal                      タイトル画面テーマ   \n",
       "2      02       無何有の郷　～ Deep Mountain                          １面テーマ   \n",
       "3      03                 クリスタライズシルバー           １面ボス・レティ・ホワイトロックのテーマ   \n",
       "\n",
       "0                                      title  \n",
       "1   東方紅魔郷　～ the Embodiment of Scarlet Devil.  \n",
       "2   東方紅魔郷　～ the Embodiment of Scarlet Devil.  \n",
       "3   東方紅魔郷　～ the Embodiment of Scarlet Devil.  \n",
       "4   東方紅魔郷　～ the Embodiment of Scarlet Devil.  \n",
       "5   東方紅魔郷　～ the Embodiment of Scarlet Devil.  \n",
       "6   東方紅魔郷　～ the Embodiment of Scarlet Devil.  \n",
       "7   東方紅魔郷　～ the Embodiment of Scarlet Devil.  \n",
       "8   東方紅魔郷　～ the Embodiment of Scarlet Devil.  \n",
       "9   東方紅魔郷　～ the Embodiment of Scarlet Devil.  \n",
       "10  東方紅魔郷　～ the Embodiment of Scarlet Devil.  \n",
       "11  東方紅魔郷　～ the Embodiment of Scarlet Devil.  \n",
       "12  東方紅魔郷　～ the Embodiment of Scarlet Devil.  \n",
       "13  東方紅魔郷　～ the Embodiment of Scarlet Devil.  \n",
       "14  東方紅魔郷　～ the Embodiment of Scarlet Devil.  \n",
       "15  東方紅魔郷　～ the Embodiment of Scarlet Devil.  \n",
       "16  東方紅魔郷　～ the Embodiment of Scarlet Devil.  \n",
       "17  東方紅魔郷　～ the Embodiment of Scarlet Devil.  \n",
       "1            東方妖々夢　～ Perfect Cherry Blossom.  \n",
       "2            東方妖々夢　～ Perfect Cherry Blossom.  \n",
       "3            東方妖々夢　～ Perfect Cherry Blossom.  "
      ]
     },
     "execution_count": 167,
     "metadata": {},
     "output_type": "execute_result"
    }
   ],
   "source": [
    "totaltable[:20]"
   ]
  },
  {
   "cell_type": "code",
   "execution_count": 168,
   "id": "1d54281d",
   "metadata": {},
   "outputs": [],
   "source": [
    "totaltable.to_csv(\"data/music_title.csv\")"
   ]
  },
  {
   "cell_type": "code",
   "execution_count": 170,
   "id": "3340afcf",
   "metadata": {},
   "outputs": [
    {
     "data": {
      "text/html": [
       "<div>\n",
       "<style scoped>\n",
       "    .dataframe tbody tr th:only-of-type {\n",
       "        vertical-align: middle;\n",
       "    }\n",
       "\n",
       "    .dataframe tbody tr th {\n",
       "        vertical-align: top;\n",
       "    }\n",
       "\n",
       "    .dataframe thead th {\n",
       "        text-align: right;\n",
       "    }\n",
       "</style>\n",
       "<table border=\"1\" class=\"dataframe\">\n",
       "  <thead>\n",
       "    <tr style=\"text-align: right;\">\n",
       "      <th></th>\n",
       "      <th>Number</th>\n",
       "      <th>Track Name</th>\n",
       "      <th>Notes</th>\n",
       "      <th>title</th>\n",
       "    </tr>\n",
       "  </thead>\n",
       "  <tbody>\n",
       "    <tr>\n",
       "      <th>1</th>\n",
       "      <td>01</td>\n",
       "      <td>赤より紅い夢</td>\n",
       "      <td>タイトル画面</td>\n",
       "      <td>東方紅魔郷　～ the Embodiment of Scarlet Devil.</td>\n",
       "    </tr>\n",
       "    <tr>\n",
       "      <th>2</th>\n",
       "      <td>02</td>\n",
       "      <td>ほおずきみたいに紅い魂</td>\n",
       "      <td>１面</td>\n",
       "      <td>東方紅魔郷　～ the Embodiment of Scarlet Devil.</td>\n",
       "    </tr>\n",
       "    <tr>\n",
       "      <th>3</th>\n",
       "      <td>03</td>\n",
       "      <td>妖魔夜行</td>\n",
       "      <td>１面ボス・ルーミアの</td>\n",
       "      <td>東方紅魔郷　～ the Embodiment of Scarlet Devil.</td>\n",
       "    </tr>\n",
       "    <tr>\n",
       "      <th>4</th>\n",
       "      <td>04</td>\n",
       "      <td>ルーネイトエルフ</td>\n",
       "      <td>２面</td>\n",
       "      <td>東方紅魔郷　～ the Embodiment of Scarlet Devil.</td>\n",
       "    </tr>\n",
       "    <tr>\n",
       "      <th>5</th>\n",
       "      <td>05</td>\n",
       "      <td>おてんば恋娘</td>\n",
       "      <td>２面ボス・チルノの</td>\n",
       "      <td>東方紅魔郷　～ the Embodiment of Scarlet Devil.</td>\n",
       "    </tr>\n",
       "    <tr>\n",
       "      <th>6</th>\n",
       "      <td>06</td>\n",
       "      <td>上海紅茶館　～ Chinese Tea</td>\n",
       "      <td>３面</td>\n",
       "      <td>東方紅魔郷　～ the Embodiment of Scarlet Devil.</td>\n",
       "    </tr>\n",
       "    <tr>\n",
       "      <th>7</th>\n",
       "      <td>07</td>\n",
       "      <td>明治十七年の上海アリス</td>\n",
       "      <td>３面ボス・紅 美鈴の</td>\n",
       "      <td>東方紅魔郷　～ the Embodiment of Scarlet Devil.</td>\n",
       "    </tr>\n",
       "    <tr>\n",
       "      <th>8</th>\n",
       "      <td>08</td>\n",
       "      <td>ヴワル魔法図書館</td>\n",
       "      <td>４面</td>\n",
       "      <td>東方紅魔郷　～ the Embodiment of Scarlet Devil.</td>\n",
       "    </tr>\n",
       "    <tr>\n",
       "      <th>9</th>\n",
       "      <td>09</td>\n",
       "      <td>ラクトガール　～ 少女密室</td>\n",
       "      <td>４面ボス・パチュリー・ノーレッジの</td>\n",
       "      <td>東方紅魔郷　～ the Embodiment of Scarlet Devil.</td>\n",
       "    </tr>\n",
       "    <tr>\n",
       "      <th>10</th>\n",
       "      <td>10</td>\n",
       "      <td>メイドと血の懐中時計</td>\n",
       "      <td>５面</td>\n",
       "      <td>東方紅魔郷　～ the Embodiment of Scarlet Devil.</td>\n",
       "    </tr>\n",
       "    <tr>\n",
       "      <th>11</th>\n",
       "      <td>11</td>\n",
       "      <td>月時計　～ ルナ・ダイアル</td>\n",
       "      <td>５面ボス・十六夜 咲夜の</td>\n",
       "      <td>東方紅魔郷　～ the Embodiment of Scarlet Devil.</td>\n",
       "    </tr>\n",
       "    <tr>\n",
       "      <th>12</th>\n",
       "      <td>12</td>\n",
       "      <td>ツェペシュの幼き末裔</td>\n",
       "      <td>６面</td>\n",
       "      <td>東方紅魔郷　～ the Embodiment of Scarlet Devil.</td>\n",
       "    </tr>\n",
       "    <tr>\n",
       "      <th>13</th>\n",
       "      <td>13</td>\n",
       "      <td>亡き王女の為のセプテット</td>\n",
       "      <td>６面ボス・レミリア・スカーレットの</td>\n",
       "      <td>東方紅魔郷　～ the Embodiment of Scarlet Devil.</td>\n",
       "    </tr>\n",
       "    <tr>\n",
       "      <th>14</th>\n",
       "      <td>14</td>\n",
       "      <td>魔法少女達の百年祭</td>\n",
       "      <td>EXTRAステージ</td>\n",
       "      <td>東方紅魔郷　～ the Embodiment of Scarlet Devil.</td>\n",
       "    </tr>\n",
       "    <tr>\n",
       "      <th>15</th>\n",
       "      <td>15</td>\n",
       "      <td>U.N.オーエンは彼女なのか？</td>\n",
       "      <td>EXTRAステージボス・フランドール・スカーレットの</td>\n",
       "      <td>東方紅魔郷　～ the Embodiment of Scarlet Devil.</td>\n",
       "    </tr>\n",
       "    <tr>\n",
       "      <th>16</th>\n",
       "      <td>16</td>\n",
       "      <td>紅より儚い永遠</td>\n",
       "      <td>エンディング</td>\n",
       "      <td>東方紅魔郷　～ the Embodiment of Scarlet Devil.</td>\n",
       "    </tr>\n",
       "    <tr>\n",
       "      <th>17</th>\n",
       "      <td>17</td>\n",
       "      <td>紅楼　～ Eastern Dream...</td>\n",
       "      <td>スタッフロール</td>\n",
       "      <td>東方紅魔郷　～ the Embodiment of Scarlet Devil.</td>\n",
       "    </tr>\n",
       "  </tbody>\n",
       "</table>\n",
       "</div>"
      ],
      "text/plain": [
       "0  Number             Track Name                       Notes  \\\n",
       "1      01                 赤より紅い夢                      タイトル画面   \n",
       "2      02            ほおずきみたいに紅い魂                          １面   \n",
       "3      03                   妖魔夜行                  １面ボス・ルーミアの   \n",
       "4      04               ルーネイトエルフ                          ２面   \n",
       "5      05                 おてんば恋娘                   ２面ボス・チルノの   \n",
       "6      06    上海紅茶館　～ Chinese Tea                          ３面   \n",
       "7      07            明治十七年の上海アリス                  ３面ボス・紅 美鈴の   \n",
       "8      08               ヴワル魔法図書館                          ４面   \n",
       "9      09          ラクトガール　～ 少女密室           ４面ボス・パチュリー・ノーレッジの   \n",
       "10     10             メイドと血の懐中時計                          ５面   \n",
       "11     11          月時計　～ ルナ・ダイアル                ５面ボス・十六夜 咲夜の   \n",
       "12     12             ツェペシュの幼き末裔                          ６面   \n",
       "13     13           亡き王女の為のセプテット           ６面ボス・レミリア・スカーレットの   \n",
       "14     14              魔法少女達の百年祭                   EXTRAステージ   \n",
       "15     15        U.N.オーエンは彼女なのか？  EXTRAステージボス・フランドール・スカーレットの   \n",
       "16     16                紅より儚い永遠                      エンディング   \n",
       "17     17  紅楼　～ Eastern Dream...                     スタッフロール   \n",
       "\n",
       "0                                      title  \n",
       "1   東方紅魔郷　～ the Embodiment of Scarlet Devil.  \n",
       "2   東方紅魔郷　～ the Embodiment of Scarlet Devil.  \n",
       "3   東方紅魔郷　～ the Embodiment of Scarlet Devil.  \n",
       "4   東方紅魔郷　～ the Embodiment of Scarlet Devil.  \n",
       "5   東方紅魔郷　～ the Embodiment of Scarlet Devil.  \n",
       "6   東方紅魔郷　～ the Embodiment of Scarlet Devil.  \n",
       "7   東方紅魔郷　～ the Embodiment of Scarlet Devil.  \n",
       "8   東方紅魔郷　～ the Embodiment of Scarlet Devil.  \n",
       "9   東方紅魔郷　～ the Embodiment of Scarlet Devil.  \n",
       "10  東方紅魔郷　～ the Embodiment of Scarlet Devil.  \n",
       "11  東方紅魔郷　～ the Embodiment of Scarlet Devil.  \n",
       "12  東方紅魔郷　～ the Embodiment of Scarlet Devil.  \n",
       "13  東方紅魔郷　～ the Embodiment of Scarlet Devil.  \n",
       "14  東方紅魔郷　～ the Embodiment of Scarlet Devil.  \n",
       "15  東方紅魔郷　～ the Embodiment of Scarlet Devil.  \n",
       "16  東方紅魔郷　～ the Embodiment of Scarlet Devil.  \n",
       "17  東方紅魔郷　～ the Embodiment of Scarlet Devil.  "
      ]
     },
     "execution_count": 170,
     "metadata": {},
     "output_type": "execute_result"
    }
   ],
   "source": [
    "tables[0].replace(\"テーマ\",\"\",regex=True)"
   ]
  },
  {
   "cell_type": "markdown",
   "id": "bd1b3332",
   "metadata": {},
   "source": [
    "### タイトル英語部分除去"
   ]
  },
  {
   "cell_type": "code",
   "execution_count": 193,
   "id": "28c1b7d9",
   "metadata": {},
   "outputs": [],
   "source": [
    "totaltable[\"title\"]=totaltable[\"title\"].replace('\\u3000.*',\"\",regex=True)\n",
    "totaltable[\"title\"]=totaltable[\"title\"].replace('～.*',\"\",regex=True)\n",
    "totaltable[\"title\"]=totaltable[\"title\"].replace(' - .*',\"\",regex=True)"
   ]
  },
  {
   "cell_type": "code",
   "execution_count": 194,
   "id": "d052891f",
   "metadata": {},
   "outputs": [
    {
     "data": {
      "text/plain": [
       "array(['東方紅魔郷', '東方妖々夢', '東方永夜抄', '東方萃夢想', '東方花映塚', '東方文花帖', '東方風神録',\n",
       "       '東方緋想天', '東方地霊殿', '東方星蓮船', '東方非想天則', 'ダブルスポイラー', '妖精大戦争', '東方神霊廟',\n",
       "       '東方心綺楼', '東方輝針城', '弾幕アマノジャク', '東方深秘録', '東方紺珠伝', '東方天空璋', '東方憑依華',\n",
       "       '秘封ナイトメアダイアリー', '東方鬼形獣', '東方虹龍洞', '東方剛欲異聞', '東方靈異伝', '東方封魔録',\n",
       "       '東方夢時空', '東方幻想郷', '東方怪綺談', '秋霜玉', '稀翁玉', 'トルテルマジック', 'Cradle',\n",
       "       '黄昏酒場', '神魔討綺伝 ', '東方幻想麻雀', 'メニュー'], dtype=object)"
      ]
     },
     "execution_count": 194,
     "metadata": {},
     "output_type": "execute_result"
    }
   ],
   "source": [
    "totaltable[\"title\"].unique()"
   ]
  },
  {
   "cell_type": "code",
   "execution_count": 210,
   "id": "bcb1ab22",
   "metadata": {},
   "outputs": [],
   "source": [
    "#全角半角を揃える\n",
    "totaltable=totaltable.replace(\"　～ \",\" 〜 \",regex=True)\n",
    "totaltable=totaltable.replace(\"　〜 \",\" 〜 \",regex=True)"
   ]
  },
  {
   "cell_type": "code",
   "execution_count": 207,
   "id": "69dd0501",
   "metadata": {},
   "outputs": [],
   "source": [
    "totaltable.columns=['Number', '名前', 'Notes', 'title']"
   ]
  },
  {
   "cell_type": "code",
   "execution_count": 197,
   "id": "781c49db",
   "metadata": {},
   "outputs": [],
   "source": [
    "music_points_ratio=pd.read_csv(\"data/music_points_ratio.csv\")\n",
    "#music_title=pd.read_csv(\"data/music_title.csv\")"
   ]
  },
  {
   "cell_type": "code",
   "execution_count": 201,
   "id": "45495a02",
   "metadata": {
    "scrolled": true
   },
   "outputs": [
    {
     "data": {
      "text/html": [
       "<div>\n",
       "<style scoped>\n",
       "    .dataframe tbody tr th:only-of-type {\n",
       "        vertical-align: middle;\n",
       "    }\n",
       "\n",
       "    .dataframe tbody tr th {\n",
       "        vertical-align: top;\n",
       "    }\n",
       "\n",
       "    .dataframe thead th {\n",
       "        text-align: right;\n",
       "    }\n",
       "</style>\n",
       "<table border=\"1\" class=\"dataframe\">\n",
       "  <thead>\n",
       "    <tr style=\"text-align: right;\">\n",
       "      <th></th>\n",
       "      <th>Unnamed: 0</th>\n",
       "      <th>名前</th>\n",
       "      <th>1</th>\n",
       "      <th>2</th>\n",
       "      <th>3</th>\n",
       "      <th>4</th>\n",
       "      <th>5</th>\n",
       "      <th>6</th>\n",
       "      <th>7</th>\n",
       "      <th>8</th>\n",
       "      <th>9</th>\n",
       "      <th>11</th>\n",
       "      <th>12</th>\n",
       "      <th>13</th>\n",
       "      <th>14</th>\n",
       "      <th>15</th>\n",
       "      <th>16</th>\n",
       "      <th>17</th>\n",
       "      <th>18</th>\n",
       "    </tr>\n",
       "  </thead>\n",
       "  <tbody>\n",
       "    <tr>\n",
       "      <th>0</th>\n",
       "      <td>0</td>\n",
       "      <td>亡き王女の為のセプテット</td>\n",
       "      <td>0.119469</td>\n",
       "      <td>0.087164</td>\n",
       "      <td>0.048581</td>\n",
       "      <td>0.043529</td>\n",
       "      <td>0.042536</td>\n",
       "      <td>0.038133</td>\n",
       "      <td>0.034467</td>\n",
       "      <td>0.033908</td>\n",
       "      <td>0.032834</td>\n",
       "      <td>0.033786</td>\n",
       "      <td>0.036179</td>\n",
       "      <td>0.035007</td>\n",
       "      <td>0.031909</td>\n",
       "      <td>0.032294</td>\n",
       "      <td>0.032965</td>\n",
       "      <td>0.034265</td>\n",
       "      <td>0.037977</td>\n",
       "    </tr>\n",
       "    <tr>\n",
       "      <th>1</th>\n",
       "      <td>1</td>\n",
       "      <td>U.N.オーエンは彼女なのか？</td>\n",
       "      <td>0.113569</td>\n",
       "      <td>0.081247</td>\n",
       "      <td>0.056283</td>\n",
       "      <td>0.046090</td>\n",
       "      <td>0.059066</td>\n",
       "      <td>0.034963</td>\n",
       "      <td>0.028999</td>\n",
       "      <td>0.028934</td>\n",
       "      <td>0.030196</td>\n",
       "      <td>0.036179</td>\n",
       "      <td>0.037559</td>\n",
       "      <td>0.035553</td>\n",
       "      <td>0.032676</td>\n",
       "      <td>0.031015</td>\n",
       "      <td>0.034282</td>\n",
       "      <td>0.042743</td>\n",
       "      <td>0.054399</td>\n",
       "    </tr>\n",
       "    <tr>\n",
       "      <th>2</th>\n",
       "      <td>2</td>\n",
       "      <td>明治十七年の上海アリス</td>\n",
       "      <td>0.072271</td>\n",
       "      <td>0.036641</td>\n",
       "      <td>0.018471</td>\n",
       "      <td>0.010242</td>\n",
       "      <td>0.006845</td>\n",
       "      <td>0.006566</td>\n",
       "      <td>0.005165</td>\n",
       "      <td>0.005034</td>\n",
       "      <td>0.005406</td>\n",
       "      <td>0.006173</td>\n",
       "      <td>0.006149</td>\n",
       "      <td>0.006122</td>\n",
       "      <td>0.006130</td>\n",
       "      <td>0.006933</td>\n",
       "      <td>0.007310</td>\n",
       "      <td>0.008114</td>\n",
       "      <td>0.009505</td>\n",
       "    </tr>\n",
       "    <tr>\n",
       "      <th>3</th>\n",
       "      <td>3</td>\n",
       "      <td>上海紅茶館 〜 Chinese Tea</td>\n",
       "      <td>0.069322</td>\n",
       "      <td>0.035503</td>\n",
       "      <td>0.022351</td>\n",
       "      <td>0.000000</td>\n",
       "      <td>0.025480</td>\n",
       "      <td>0.019565</td>\n",
       "      <td>0.017053</td>\n",
       "      <td>0.017199</td>\n",
       "      <td>0.015953</td>\n",
       "      <td>0.017860</td>\n",
       "      <td>0.018910</td>\n",
       "      <td>0.018843</td>\n",
       "      <td>0.017403</td>\n",
       "      <td>0.017491</td>\n",
       "      <td>0.018357</td>\n",
       "      <td>0.019593</td>\n",
       "      <td>0.020649</td>\n",
       "    </tr>\n",
       "    <tr>\n",
       "      <th>4</th>\n",
       "      <td>4</td>\n",
       "      <td>月時計 〜 ルナ・ダイアル</td>\n",
       "      <td>0.066372</td>\n",
       "      <td>0.029813</td>\n",
       "      <td>0.022293</td>\n",
       "      <td>0.000000</td>\n",
       "      <td>0.014687</td>\n",
       "      <td>0.011909</td>\n",
       "      <td>0.010710</td>\n",
       "      <td>0.010873</td>\n",
       "      <td>0.010427</td>\n",
       "      <td>0.010618</td>\n",
       "      <td>0.012662</td>\n",
       "      <td>0.012755</td>\n",
       "      <td>0.011374</td>\n",
       "      <td>0.011045</td>\n",
       "      <td>0.011751</td>\n",
       "      <td>0.013554</td>\n",
       "      <td>0.016455</td>\n",
       "    </tr>\n",
       "    <tr>\n",
       "      <th>...</th>\n",
       "      <td>...</td>\n",
       "      <td>...</td>\n",
       "      <td>...</td>\n",
       "      <td>...</td>\n",
       "      <td>...</td>\n",
       "      <td>...</td>\n",
       "      <td>...</td>\n",
       "      <td>...</td>\n",
       "      <td>...</td>\n",
       "      <td>...</td>\n",
       "      <td>...</td>\n",
       "      <td>...</td>\n",
       "      <td>...</td>\n",
       "      <td>...</td>\n",
       "      <td>...</td>\n",
       "      <td>...</td>\n",
       "      <td>...</td>\n",
       "      <td>...</td>\n",
       "      <td>...</td>\n",
       "    </tr>\n",
       "    <tr>\n",
       "      <th>681</th>\n",
       "      <td>681</td>\n",
       "      <td>大地の底、剛欲の海</td>\n",
       "      <td>0.000000</td>\n",
       "      <td>0.000000</td>\n",
       "      <td>0.000000</td>\n",
       "      <td>0.000000</td>\n",
       "      <td>0.000000</td>\n",
       "      <td>0.000000</td>\n",
       "      <td>0.000000</td>\n",
       "      <td>0.000000</td>\n",
       "      <td>0.000000</td>\n",
       "      <td>0.000000</td>\n",
       "      <td>0.000000</td>\n",
       "      <td>0.000000</td>\n",
       "      <td>0.000000</td>\n",
       "      <td>0.000000</td>\n",
       "      <td>0.000000</td>\n",
       "      <td>0.000000</td>\n",
       "      <td>0.000267</td>\n",
       "    </tr>\n",
       "    <tr>\n",
       "      <th>682</th>\n",
       "      <td>682</td>\n",
       "      <td>七ツ石の狼、雲を取りに駆ける</td>\n",
       "      <td>0.000000</td>\n",
       "      <td>0.000000</td>\n",
       "      <td>0.000000</td>\n",
       "      <td>0.000000</td>\n",
       "      <td>0.000000</td>\n",
       "      <td>0.000000</td>\n",
       "      <td>0.000000</td>\n",
       "      <td>0.000000</td>\n",
       "      <td>0.000000</td>\n",
       "      <td>0.000000</td>\n",
       "      <td>0.000000</td>\n",
       "      <td>0.000000</td>\n",
       "      <td>0.000000</td>\n",
       "      <td>0.000000</td>\n",
       "      <td>0.000000</td>\n",
       "      <td>0.000000</td>\n",
       "      <td>0.000264</td>\n",
       "    </tr>\n",
       "    <tr>\n",
       "      <th>683</th>\n",
       "      <td>683</td>\n",
       "      <td>ワクワクする見慣れた幻想郷</td>\n",
       "      <td>0.000000</td>\n",
       "      <td>0.000000</td>\n",
       "      <td>0.000000</td>\n",
       "      <td>0.000000</td>\n",
       "      <td>0.000000</td>\n",
       "      <td>0.000000</td>\n",
       "      <td>0.000000</td>\n",
       "      <td>0.000000</td>\n",
       "      <td>0.000000</td>\n",
       "      <td>0.000000</td>\n",
       "      <td>0.000000</td>\n",
       "      <td>0.000000</td>\n",
       "      <td>0.000000</td>\n",
       "      <td>0.000000</td>\n",
       "      <td>0.000000</td>\n",
       "      <td>0.000000</td>\n",
       "      <td>0.000214</td>\n",
       "    </tr>\n",
       "    <tr>\n",
       "      <th>684</th>\n",
       "      <td>684</td>\n",
       "      <td>東方剛欲異聞</td>\n",
       "      <td>0.000000</td>\n",
       "      <td>0.000000</td>\n",
       "      <td>0.000000</td>\n",
       "      <td>0.000000</td>\n",
       "      <td>0.000000</td>\n",
       "      <td>0.000000</td>\n",
       "      <td>0.000000</td>\n",
       "      <td>0.000000</td>\n",
       "      <td>0.000000</td>\n",
       "      <td>0.000000</td>\n",
       "      <td>0.000000</td>\n",
       "      <td>0.000000</td>\n",
       "      <td>0.000000</td>\n",
       "      <td>0.000000</td>\n",
       "      <td>0.000000</td>\n",
       "      <td>0.000000</td>\n",
       "      <td>0.000150</td>\n",
       "    </tr>\n",
       "    <tr>\n",
       "      <th>685</th>\n",
       "      <td>685</td>\n",
       "      <td>天理人欲</td>\n",
       "      <td>0.000000</td>\n",
       "      <td>0.000000</td>\n",
       "      <td>0.000000</td>\n",
       "      <td>0.000000</td>\n",
       "      <td>0.000000</td>\n",
       "      <td>0.000000</td>\n",
       "      <td>0.000000</td>\n",
       "      <td>0.000000</td>\n",
       "      <td>0.000000</td>\n",
       "      <td>0.000000</td>\n",
       "      <td>0.000000</td>\n",
       "      <td>0.000000</td>\n",
       "      <td>0.000000</td>\n",
       "      <td>0.000000</td>\n",
       "      <td>0.000000</td>\n",
       "      <td>0.000000</td>\n",
       "      <td>0.000112</td>\n",
       "    </tr>\n",
       "  </tbody>\n",
       "</table>\n",
       "<p>686 rows × 19 columns</p>\n",
       "</div>"
      ],
      "text/plain": [
       "     Unnamed: 0                   名前         1         2         3         4  \\\n",
       "0             0         亡き王女の為のセプテット  0.119469  0.087164  0.048581  0.043529   \n",
       "1             1      U.N.オーエンは彼女なのか？  0.113569  0.081247  0.056283  0.046090   \n",
       "2             2          明治十七年の上海アリス  0.072271  0.036641  0.018471  0.010242   \n",
       "3             3  上海紅茶館 〜 Chinese Tea  0.069322  0.035503  0.022351  0.000000   \n",
       "4             4        月時計 〜 ルナ・ダイアル  0.066372  0.029813  0.022293  0.000000   \n",
       "..          ...                  ...       ...       ...       ...       ...   \n",
       "681         681            大地の底、剛欲の海  0.000000  0.000000  0.000000  0.000000   \n",
       "682         682       七ツ石の狼、雲を取りに駆ける  0.000000  0.000000  0.000000  0.000000   \n",
       "683         683        ワクワクする見慣れた幻想郷  0.000000  0.000000  0.000000  0.000000   \n",
       "684         684               東方剛欲異聞  0.000000  0.000000  0.000000  0.000000   \n",
       "685         685                 天理人欲  0.000000  0.000000  0.000000  0.000000   \n",
       "\n",
       "            5         6         7         8         9        11        12  \\\n",
       "0    0.042536  0.038133  0.034467  0.033908  0.032834  0.033786  0.036179   \n",
       "1    0.059066  0.034963  0.028999  0.028934  0.030196  0.036179  0.037559   \n",
       "2    0.006845  0.006566  0.005165  0.005034  0.005406  0.006173  0.006149   \n",
       "3    0.025480  0.019565  0.017053  0.017199  0.015953  0.017860  0.018910   \n",
       "4    0.014687  0.011909  0.010710  0.010873  0.010427  0.010618  0.012662   \n",
       "..        ...       ...       ...       ...       ...       ...       ...   \n",
       "681  0.000000  0.000000  0.000000  0.000000  0.000000  0.000000  0.000000   \n",
       "682  0.000000  0.000000  0.000000  0.000000  0.000000  0.000000  0.000000   \n",
       "683  0.000000  0.000000  0.000000  0.000000  0.000000  0.000000  0.000000   \n",
       "684  0.000000  0.000000  0.000000  0.000000  0.000000  0.000000  0.000000   \n",
       "685  0.000000  0.000000  0.000000  0.000000  0.000000  0.000000  0.000000   \n",
       "\n",
       "           13        14        15        16        17        18  \n",
       "0    0.035007  0.031909  0.032294  0.032965  0.034265  0.037977  \n",
       "1    0.035553  0.032676  0.031015  0.034282  0.042743  0.054399  \n",
       "2    0.006122  0.006130  0.006933  0.007310  0.008114  0.009505  \n",
       "3    0.018843  0.017403  0.017491  0.018357  0.019593  0.020649  \n",
       "4    0.012755  0.011374  0.011045  0.011751  0.013554  0.016455  \n",
       "..        ...       ...       ...       ...       ...       ...  \n",
       "681  0.000000  0.000000  0.000000  0.000000  0.000000  0.000267  \n",
       "682  0.000000  0.000000  0.000000  0.000000  0.000000  0.000264  \n",
       "683  0.000000  0.000000  0.000000  0.000000  0.000000  0.000214  \n",
       "684  0.000000  0.000000  0.000000  0.000000  0.000000  0.000150  \n",
       "685  0.000000  0.000000  0.000000  0.000000  0.000000  0.000112  \n",
       "\n",
       "[686 rows x 19 columns]"
      ]
     },
     "execution_count": 201,
     "metadata": {},
     "output_type": "execute_result"
    }
   ],
   "source": [
    "music_points_ratio"
   ]
  },
  {
   "cell_type": "code",
   "execution_count": 212,
   "id": "a5cea6ae",
   "metadata": {},
   "outputs": [],
   "source": [
    "music_points_ratio_subtitle=pd.merge(music_points_ratio,totaltable,on=\"名前\",how=\"outer\")"
   ]
  },
  {
   "cell_type": "code",
   "execution_count": 217,
   "id": "7677082f",
   "metadata": {},
   "outputs": [
    {
     "data": {
      "text/html": [
       "<div>\n",
       "<style scoped>\n",
       "    .dataframe tbody tr th:only-of-type {\n",
       "        vertical-align: middle;\n",
       "    }\n",
       "\n",
       "    .dataframe tbody tr th {\n",
       "        vertical-align: top;\n",
       "    }\n",
       "\n",
       "    .dataframe thead th {\n",
       "        text-align: right;\n",
       "    }\n",
       "</style>\n",
       "<table border=\"1\" class=\"dataframe\">\n",
       "  <thead>\n",
       "    <tr style=\"text-align: right;\">\n",
       "      <th></th>\n",
       "      <th>Unnamed: 0</th>\n",
       "      <th>1</th>\n",
       "      <th>2</th>\n",
       "      <th>3</th>\n",
       "      <th>4</th>\n",
       "      <th>5</th>\n",
       "      <th>6</th>\n",
       "      <th>7</th>\n",
       "      <th>8</th>\n",
       "      <th>9</th>\n",
       "      <th>11</th>\n",
       "      <th>12</th>\n",
       "      <th>13</th>\n",
       "      <th>14</th>\n",
       "      <th>15</th>\n",
       "      <th>16</th>\n",
       "      <th>17</th>\n",
       "      <th>18</th>\n",
       "    </tr>\n",
       "    <tr>\n",
       "      <th>title</th>\n",
       "      <th></th>\n",
       "      <th></th>\n",
       "      <th></th>\n",
       "      <th></th>\n",
       "      <th></th>\n",
       "      <th></th>\n",
       "      <th></th>\n",
       "      <th></th>\n",
       "      <th></th>\n",
       "      <th></th>\n",
       "      <th></th>\n",
       "      <th></th>\n",
       "      <th></th>\n",
       "      <th></th>\n",
       "      <th></th>\n",
       "      <th></th>\n",
       "      <th></th>\n",
       "      <th></th>\n",
       "    </tr>\n",
       "  </thead>\n",
       "  <tbody>\n",
       "    <tr>\n",
       "      <th>Cradle</th>\n",
       "      <td>131.0</td>\n",
       "      <td>0.000000</td>\n",
       "      <td>0.000000</td>\n",
       "      <td>0.050724</td>\n",
       "      <td>0.000000</td>\n",
       "      <td>0.009402</td>\n",
       "      <td>0.007345</td>\n",
       "      <td>0.005253</td>\n",
       "      <td>0.004498</td>\n",
       "      <td>0.004107</td>\n",
       "      <td>0.004097</td>\n",
       "      <td>0.004002</td>\n",
       "      <td>0.004440</td>\n",
       "      <td>0.004172</td>\n",
       "      <td>0.004039</td>\n",
       "      <td>0.003365</td>\n",
       "      <td>0.003420</td>\n",
       "      <td>0.003075</td>\n",
       "    </tr>\n",
       "    <tr>\n",
       "      <th>ダブルスポイラー</th>\n",
       "      <td>2574.0</td>\n",
       "      <td>0.000000</td>\n",
       "      <td>0.000000</td>\n",
       "      <td>0.000000</td>\n",
       "      <td>0.000000</td>\n",
       "      <td>0.012242</td>\n",
       "      <td>0.008863</td>\n",
       "      <td>0.006615</td>\n",
       "      <td>0.027892</td>\n",
       "      <td>0.022421</td>\n",
       "      <td>0.013974</td>\n",
       "      <td>0.011428</td>\n",
       "      <td>0.011257</td>\n",
       "      <td>0.010466</td>\n",
       "      <td>0.010956</td>\n",
       "      <td>0.009735</td>\n",
       "      <td>0.008427</td>\n",
       "      <td>0.006938</td>\n",
       "    </tr>\n",
       "    <tr>\n",
       "      <th>トルテルマジック</th>\n",
       "      <td>201.0</td>\n",
       "      <td>0.007375</td>\n",
       "      <td>0.004779</td>\n",
       "      <td>0.002953</td>\n",
       "      <td>0.001707</td>\n",
       "      <td>0.000771</td>\n",
       "      <td>0.000724</td>\n",
       "      <td>0.000694</td>\n",
       "      <td>0.000671</td>\n",
       "      <td>0.000623</td>\n",
       "      <td>0.000752</td>\n",
       "      <td>0.000696</td>\n",
       "      <td>0.000785</td>\n",
       "      <td>0.000745</td>\n",
       "      <td>0.000752</td>\n",
       "      <td>0.000732</td>\n",
       "      <td>0.000624</td>\n",
       "      <td>0.000746</td>\n",
       "    </tr>\n",
       "    <tr>\n",
       "      <th>メニュー</th>\n",
       "      <td>1643.0</td>\n",
       "      <td>0.001475</td>\n",
       "      <td>0.000000</td>\n",
       "      <td>0.000811</td>\n",
       "      <td>0.001014</td>\n",
       "      <td>0.000508</td>\n",
       "      <td>0.000724</td>\n",
       "      <td>0.000532</td>\n",
       "      <td>0.000551</td>\n",
       "      <td>0.000528</td>\n",
       "      <td>0.000914</td>\n",
       "      <td>0.000923</td>\n",
       "      <td>0.000789</td>\n",
       "      <td>0.000891</td>\n",
       "      <td>0.001133</td>\n",
       "      <td>0.001056</td>\n",
       "      <td>0.001043</td>\n",
       "      <td>0.000916</td>\n",
       "    </tr>\n",
       "    <tr>\n",
       "      <th>妖精大戦争</th>\n",
       "      <td>4438.0</td>\n",
       "      <td>0.000000</td>\n",
       "      <td>0.000000</td>\n",
       "      <td>0.000000</td>\n",
       "      <td>0.000000</td>\n",
       "      <td>0.000132</td>\n",
       "      <td>0.000203</td>\n",
       "      <td>0.000856</td>\n",
       "      <td>0.026149</td>\n",
       "      <td>0.022246</td>\n",
       "      <td>0.018338</td>\n",
       "      <td>0.016334</td>\n",
       "      <td>0.015659</td>\n",
       "      <td>0.014559</td>\n",
       "      <td>0.013732</td>\n",
       "      <td>0.011919</td>\n",
       "      <td>0.009549</td>\n",
       "      <td>0.008551</td>\n",
       "    </tr>\n",
       "    <tr>\n",
       "      <th>弾幕アマノジャク</th>\n",
       "      <td>3830.0</td>\n",
       "      <td>0.000000</td>\n",
       "      <td>0.000000</td>\n",
       "      <td>0.000000</td>\n",
       "      <td>0.000000</td>\n",
       "      <td>0.012242</td>\n",
       "      <td>0.008863</td>\n",
       "      <td>0.006615</td>\n",
       "      <td>0.010984</td>\n",
       "      <td>0.010548</td>\n",
       "      <td>0.024598</td>\n",
       "      <td>0.019668</td>\n",
       "      <td>0.020372</td>\n",
       "      <td>0.018713</td>\n",
       "      <td>0.017917</td>\n",
       "      <td>0.016649</td>\n",
       "      <td>0.015249</td>\n",
       "      <td>0.012707</td>\n",
       "    </tr>\n",
       "    <tr>\n",
       "      <th>東方剛欲異聞</th>\n",
       "      <td>1347.0</td>\n",
       "      <td>0.000000</td>\n",
       "      <td>0.000000</td>\n",
       "      <td>0.000000</td>\n",
       "      <td>0.000000</td>\n",
       "      <td>0.000000</td>\n",
       "      <td>0.000000</td>\n",
       "      <td>0.000000</td>\n",
       "      <td>0.000000</td>\n",
       "      <td>0.000000</td>\n",
       "      <td>0.000000</td>\n",
       "      <td>0.000000</td>\n",
       "      <td>0.000000</td>\n",
       "      <td>0.000000</td>\n",
       "      <td>0.000000</td>\n",
       "      <td>0.000000</td>\n",
       "      <td>0.000000</td>\n",
       "      <td>0.004617</td>\n",
       "    </tr>\n",
       "    <tr>\n",
       "      <th>東方地霊殿</th>\n",
       "      <td>6929.0</td>\n",
       "      <td>0.000000</td>\n",
       "      <td>0.000000</td>\n",
       "      <td>0.000000</td>\n",
       "      <td>0.000000</td>\n",
       "      <td>0.000132</td>\n",
       "      <td>0.129284</td>\n",
       "      <td>0.113244</td>\n",
       "      <td>0.112702</td>\n",
       "      <td>0.102927</td>\n",
       "      <td>0.094955</td>\n",
       "      <td>0.085020</td>\n",
       "      <td>0.081726</td>\n",
       "      <td>0.076229</td>\n",
       "      <td>0.076874</td>\n",
       "      <td>0.076502</td>\n",
       "      <td>0.067095</td>\n",
       "      <td>0.070123</td>\n",
       "    </tr>\n",
       "    <tr>\n",
       "      <th>東方夢時空</th>\n",
       "      <td>4799.0</td>\n",
       "      <td>0.004425</td>\n",
       "      <td>0.006145</td>\n",
       "      <td>0.002664</td>\n",
       "      <td>0.004854</td>\n",
       "      <td>0.007842</td>\n",
       "      <td>0.011769</td>\n",
       "      <td>0.010825</td>\n",
       "      <td>0.011570</td>\n",
       "      <td>0.010888</td>\n",
       "      <td>0.009648</td>\n",
       "      <td>0.008635</td>\n",
       "      <td>0.008839</td>\n",
       "      <td>0.008234</td>\n",
       "      <td>0.008611</td>\n",
       "      <td>0.008610</td>\n",
       "      <td>0.007547</td>\n",
       "      <td>0.006677</td>\n",
       "    </tr>\n",
       "    <tr>\n",
       "      <th>東方天空璋</th>\n",
       "      <td>10233.0</td>\n",
       "      <td>0.000000</td>\n",
       "      <td>0.000000</td>\n",
       "      <td>0.000000</td>\n",
       "      <td>0.000000</td>\n",
       "      <td>0.000000</td>\n",
       "      <td>0.000000</td>\n",
       "      <td>0.000000</td>\n",
       "      <td>0.000000</td>\n",
       "      <td>0.000000</td>\n",
       "      <td>0.000000</td>\n",
       "      <td>0.000000</td>\n",
       "      <td>0.000000</td>\n",
       "      <td>0.038286</td>\n",
       "      <td>0.031425</td>\n",
       "      <td>0.023491</td>\n",
       "      <td>0.020491</td>\n",
       "      <td>0.017689</td>\n",
       "    </tr>\n",
       "    <tr>\n",
       "      <th>東方妖々夢</th>\n",
       "      <td>1457.0</td>\n",
       "      <td>0.134218</td>\n",
       "      <td>0.497497</td>\n",
       "      <td>0.312565</td>\n",
       "      <td>0.095060</td>\n",
       "      <td>0.204314</td>\n",
       "      <td>0.161646</td>\n",
       "      <td>0.135117</td>\n",
       "      <td>0.123530</td>\n",
       "      <td>0.121568</td>\n",
       "      <td>0.112131</td>\n",
       "      <td>0.104872</td>\n",
       "      <td>0.104654</td>\n",
       "      <td>0.099127</td>\n",
       "      <td>0.097786</td>\n",
       "      <td>0.094763</td>\n",
       "      <td>0.101089</td>\n",
       "      <td>0.098189</td>\n",
       "    </tr>\n",
       "    <tr>\n",
       "      <th>東方封魔録</th>\n",
       "      <td>4192.0</td>\n",
       "      <td>0.011799</td>\n",
       "      <td>0.005462</td>\n",
       "      <td>0.004690</td>\n",
       "      <td>0.001760</td>\n",
       "      <td>0.001918</td>\n",
       "      <td>0.001924</td>\n",
       "      <td>0.001920</td>\n",
       "      <td>0.002154</td>\n",
       "      <td>0.002150</td>\n",
       "      <td>0.001865</td>\n",
       "      <td>0.001911</td>\n",
       "      <td>0.002231</td>\n",
       "      <td>0.001927</td>\n",
       "      <td>0.002266</td>\n",
       "      <td>0.002345</td>\n",
       "      <td>0.002009</td>\n",
       "      <td>0.002036</td>\n",
       "    </tr>\n",
       "    <tr>\n",
       "      <th>東方幻想郷</th>\n",
       "      <td>5483.0</td>\n",
       "      <td>0.017699</td>\n",
       "      <td>0.011607</td>\n",
       "      <td>0.008512</td>\n",
       "      <td>0.004641</td>\n",
       "      <td>0.013295</td>\n",
       "      <td>0.016551</td>\n",
       "      <td>0.015358</td>\n",
       "      <td>0.014224</td>\n",
       "      <td>0.014045</td>\n",
       "      <td>0.012433</td>\n",
       "      <td>0.012202</td>\n",
       "      <td>0.012240</td>\n",
       "      <td>0.011471</td>\n",
       "      <td>0.011511</td>\n",
       "      <td>0.011459</td>\n",
       "      <td>0.012450</td>\n",
       "      <td>0.011485</td>\n",
       "    </tr>\n",
       "    <tr>\n",
       "      <th>東方幻想麻雀</th>\n",
       "      <td>432.0</td>\n",
       "      <td>0.000000</td>\n",
       "      <td>0.000000</td>\n",
       "      <td>0.000000</td>\n",
       "      <td>0.000000</td>\n",
       "      <td>0.000000</td>\n",
       "      <td>0.000000</td>\n",
       "      <td>0.001242</td>\n",
       "      <td>0.001147</td>\n",
       "      <td>0.001384</td>\n",
       "      <td>0.000914</td>\n",
       "      <td>0.000674</td>\n",
       "      <td>0.000703</td>\n",
       "      <td>0.000635</td>\n",
       "      <td>0.000583</td>\n",
       "      <td>0.000656</td>\n",
       "      <td>0.000415</td>\n",
       "      <td>0.000423</td>\n",
       "    </tr>\n",
       "    <tr>\n",
       "      <th>東方心綺楼</th>\n",
       "      <td>995.0</td>\n",
       "      <td>0.000000</td>\n",
       "      <td>0.000000</td>\n",
       "      <td>0.000000</td>\n",
       "      <td>0.000000</td>\n",
       "      <td>0.000000</td>\n",
       "      <td>0.000000</td>\n",
       "      <td>0.000000</td>\n",
       "      <td>0.000000</td>\n",
       "      <td>0.000000</td>\n",
       "      <td>0.006732</td>\n",
       "      <td>0.004835</td>\n",
       "      <td>0.005146</td>\n",
       "      <td>0.004935</td>\n",
       "      <td>0.004561</td>\n",
       "      <td>0.003513</td>\n",
       "      <td>0.003633</td>\n",
       "      <td>0.003187</td>\n",
       "    </tr>\n",
       "    <tr>\n",
       "      <th>東方怪綺談</th>\n",
       "      <td>3665.0</td>\n",
       "      <td>0.051622</td>\n",
       "      <td>0.022986</td>\n",
       "      <td>0.011465</td>\n",
       "      <td>0.011789</td>\n",
       "      <td>0.014837</td>\n",
       "      <td>0.016637</td>\n",
       "      <td>0.021284</td>\n",
       "      <td>0.018857</td>\n",
       "      <td>0.018291</td>\n",
       "      <td>0.014061</td>\n",
       "      <td>0.011546</td>\n",
       "      <td>0.012359</td>\n",
       "      <td>0.011912</td>\n",
       "      <td>0.012599</td>\n",
       "      <td>0.011715</td>\n",
       "      <td>0.009903</td>\n",
       "      <td>0.008824</td>\n",
       "    </tr>\n",
       "    <tr>\n",
       "      <th>東方憑依華</th>\n",
       "      <td>591.0</td>\n",
       "      <td>0.000000</td>\n",
       "      <td>0.000000</td>\n",
       "      <td>0.000000</td>\n",
       "      <td>0.000000</td>\n",
       "      <td>0.000000</td>\n",
       "      <td>0.000000</td>\n",
       "      <td>0.000000</td>\n",
       "      <td>0.000000</td>\n",
       "      <td>0.000000</td>\n",
       "      <td>0.000000</td>\n",
       "      <td>0.000000</td>\n",
       "      <td>0.000000</td>\n",
       "      <td>0.009967</td>\n",
       "      <td>0.013844</td>\n",
       "      <td>0.010719</td>\n",
       "      <td>0.009953</td>\n",
       "      <td>0.009743</td>\n",
       "    </tr>\n",
       "    <tr>\n",
       "      <th>東方文花帖</th>\n",
       "      <td>1750.0</td>\n",
       "      <td>0.000000</td>\n",
       "      <td>0.000000</td>\n",
       "      <td>0.000000</td>\n",
       "      <td>0.050731</td>\n",
       "      <td>0.060326</td>\n",
       "      <td>0.036575</td>\n",
       "      <td>0.025682</td>\n",
       "      <td>0.022779</td>\n",
       "      <td>0.022882</td>\n",
       "      <td>0.017990</td>\n",
       "      <td>0.017499</td>\n",
       "      <td>0.017801</td>\n",
       "      <td>0.015097</td>\n",
       "      <td>0.015656</td>\n",
       "      <td>0.013820</td>\n",
       "      <td>0.012544</td>\n",
       "      <td>0.011373</td>\n",
       "    </tr>\n",
       "    <tr>\n",
       "      <th>東方星蓮船</th>\n",
       "      <td>7615.0</td>\n",
       "      <td>0.000000</td>\n",
       "      <td>0.000000</td>\n",
       "      <td>0.000000</td>\n",
       "      <td>0.000000</td>\n",
       "      <td>0.000132</td>\n",
       "      <td>0.000203</td>\n",
       "      <td>0.107083</td>\n",
       "      <td>0.100185</td>\n",
       "      <td>0.077882</td>\n",
       "      <td>0.058235</td>\n",
       "      <td>0.049624</td>\n",
       "      <td>0.048084</td>\n",
       "      <td>0.044271</td>\n",
       "      <td>0.043284</td>\n",
       "      <td>0.039963</td>\n",
       "      <td>0.034258</td>\n",
       "      <td>0.031541</td>\n",
       "    </tr>\n",
       "    <tr>\n",
       "      <th>東方永夜抄</th>\n",
       "      <td>3133.0</td>\n",
       "      <td>0.000000</td>\n",
       "      <td>0.000000</td>\n",
       "      <td>0.363231</td>\n",
       "      <td>0.077777</td>\n",
       "      <td>0.127609</td>\n",
       "      <td>0.111985</td>\n",
       "      <td>0.089002</td>\n",
       "      <td>0.083066</td>\n",
       "      <td>0.078567</td>\n",
       "      <td>0.085214</td>\n",
       "      <td>0.081475</td>\n",
       "      <td>0.082900</td>\n",
       "      <td>0.077671</td>\n",
       "      <td>0.076835</td>\n",
       "      <td>0.076138</td>\n",
       "      <td>0.078917</td>\n",
       "      <td>0.079866</td>\n",
       "    </tr>\n",
       "    <tr>\n",
       "      <th>東方深秘録</th>\n",
       "      <td>493.0</td>\n",
       "      <td>0.000000</td>\n",
       "      <td>0.000000</td>\n",
       "      <td>0.000000</td>\n",
       "      <td>0.000000</td>\n",
       "      <td>0.000000</td>\n",
       "      <td>0.000000</td>\n",
       "      <td>0.000000</td>\n",
       "      <td>0.000000</td>\n",
       "      <td>0.000000</td>\n",
       "      <td>0.004712</td>\n",
       "      <td>0.002576</td>\n",
       "      <td>0.001745</td>\n",
       "      <td>0.001557</td>\n",
       "      <td>0.001257</td>\n",
       "      <td>0.001156</td>\n",
       "      <td>0.001162</td>\n",
       "      <td>0.000975</td>\n",
       "    </tr>\n",
       "    <tr>\n",
       "      <th>東方神霊廟</th>\n",
       "      <td>8444.0</td>\n",
       "      <td>0.000000</td>\n",
       "      <td>0.000000</td>\n",
       "      <td>0.000000</td>\n",
       "      <td>0.000000</td>\n",
       "      <td>0.000132</td>\n",
       "      <td>0.000203</td>\n",
       "      <td>0.000256</td>\n",
       "      <td>0.000240</td>\n",
       "      <td>0.066519</td>\n",
       "      <td>0.045032</td>\n",
       "      <td>0.038662</td>\n",
       "      <td>0.037260</td>\n",
       "      <td>0.035993</td>\n",
       "      <td>0.034280</td>\n",
       "      <td>0.033333</td>\n",
       "      <td>0.029554</td>\n",
       "      <td>0.027003</td>\n",
       "    </tr>\n",
       "    <tr>\n",
       "      <th>東方紅魔郷</th>\n",
       "      <td>606.0</td>\n",
       "      <td>0.573746</td>\n",
       "      <td>0.368457</td>\n",
       "      <td>0.221540</td>\n",
       "      <td>0.131708</td>\n",
       "      <td>0.190718</td>\n",
       "      <td>0.149020</td>\n",
       "      <td>0.132321</td>\n",
       "      <td>0.130317</td>\n",
       "      <td>0.129482</td>\n",
       "      <td>0.141193</td>\n",
       "      <td>0.160231</td>\n",
       "      <td>0.159443</td>\n",
       "      <td>0.148188</td>\n",
       "      <td>0.150634</td>\n",
       "      <td>0.158557</td>\n",
       "      <td>0.177917</td>\n",
       "      <td>0.209684</td>\n",
       "    </tr>\n",
       "    <tr>\n",
       "      <th>東方紺珠伝</th>\n",
       "      <td>9628.0</td>\n",
       "      <td>0.000000</td>\n",
       "      <td>0.000000</td>\n",
       "      <td>0.000000</td>\n",
       "      <td>0.000000</td>\n",
       "      <td>0.000000</td>\n",
       "      <td>0.000000</td>\n",
       "      <td>0.000000</td>\n",
       "      <td>0.000000</td>\n",
       "      <td>0.000000</td>\n",
       "      <td>0.000000</td>\n",
       "      <td>0.061316</td>\n",
       "      <td>0.060592</td>\n",
       "      <td>0.059906</td>\n",
       "      <td>0.059394</td>\n",
       "      <td>0.052983</td>\n",
       "      <td>0.048122</td>\n",
       "      <td>0.042976</td>\n",
       "    </tr>\n",
       "    <tr>\n",
       "      <th>東方緋想天</th>\n",
       "      <td>1133.0</td>\n",
       "      <td>0.000000</td>\n",
       "      <td>0.000000</td>\n",
       "      <td>0.000000</td>\n",
       "      <td>0.000000</td>\n",
       "      <td>0.000000</td>\n",
       "      <td>0.017789</td>\n",
       "      <td>0.012603</td>\n",
       "      <td>0.012692</td>\n",
       "      <td>0.010740</td>\n",
       "      <td>0.009325</td>\n",
       "      <td>0.008728</td>\n",
       "      <td>0.008738</td>\n",
       "      <td>0.010166</td>\n",
       "      <td>0.009194</td>\n",
       "      <td>0.007806</td>\n",
       "      <td>0.008085</td>\n",
       "      <td>0.006788</td>\n",
       "    </tr>\n",
       "    <tr>\n",
       "      <th>東方花映塚</th>\n",
       "      <td>3852.0</td>\n",
       "      <td>0.000000</td>\n",
       "      <td>0.114247</td>\n",
       "      <td>0.080834</td>\n",
       "      <td>0.022725</td>\n",
       "      <td>0.084960</td>\n",
       "      <td>0.075970</td>\n",
       "      <td>0.059340</td>\n",
       "      <td>0.054402</td>\n",
       "      <td>0.052142</td>\n",
       "      <td>0.052429</td>\n",
       "      <td>0.053834</td>\n",
       "      <td>0.054265</td>\n",
       "      <td>0.051795</td>\n",
       "      <td>0.051193</td>\n",
       "      <td>0.051183</td>\n",
       "      <td>0.059147</td>\n",
       "      <td>0.057666</td>\n",
       "    </tr>\n",
       "    <tr>\n",
       "      <th>東方萃夢想</th>\n",
       "      <td>812.0</td>\n",
       "      <td>0.000000</td>\n",
       "      <td>0.000000</td>\n",
       "      <td>0.000000</td>\n",
       "      <td>0.010829</td>\n",
       "      <td>0.022284</td>\n",
       "      <td>0.015523</td>\n",
       "      <td>0.015003</td>\n",
       "      <td>0.013483</td>\n",
       "      <td>0.012182</td>\n",
       "      <td>0.011743</td>\n",
       "      <td>0.006304</td>\n",
       "      <td>0.006308</td>\n",
       "      <td>0.006205</td>\n",
       "      <td>0.006064</td>\n",
       "      <td>0.005346</td>\n",
       "      <td>0.004776</td>\n",
       "      <td>0.004330</td>\n",
       "    </tr>\n",
       "    <tr>\n",
       "      <th>東方虹龍洞</th>\n",
       "      <td>11271.0</td>\n",
       "      <td>0.000000</td>\n",
       "      <td>0.000000</td>\n",
       "      <td>0.000000</td>\n",
       "      <td>0.000000</td>\n",
       "      <td>0.000000</td>\n",
       "      <td>0.000000</td>\n",
       "      <td>0.000000</td>\n",
       "      <td>0.000000</td>\n",
       "      <td>0.000000</td>\n",
       "      <td>0.000000</td>\n",
       "      <td>0.000000</td>\n",
       "      <td>0.000000</td>\n",
       "      <td>0.000000</td>\n",
       "      <td>0.000000</td>\n",
       "      <td>0.000000</td>\n",
       "      <td>0.030405</td>\n",
       "      <td>0.020699</td>\n",
       "    </tr>\n",
       "    <tr>\n",
       "      <th>東方輝針城</th>\n",
       "      <td>8933.0</td>\n",
       "      <td>0.000000</td>\n",
       "      <td>0.000000</td>\n",
       "      <td>0.000000</td>\n",
       "      <td>0.000000</td>\n",
       "      <td>0.000132</td>\n",
       "      <td>0.000203</td>\n",
       "      <td>0.000256</td>\n",
       "      <td>0.000240</td>\n",
       "      <td>0.000237</td>\n",
       "      <td>0.059646</td>\n",
       "      <td>0.046837</td>\n",
       "      <td>0.044772</td>\n",
       "      <td>0.044589</td>\n",
       "      <td>0.042554</td>\n",
       "      <td>0.037927</td>\n",
       "      <td>0.031249</td>\n",
       "      <td>0.024703</td>\n",
       "    </tr>\n",
       "    <tr>\n",
       "      <th>東方靈異伝</th>\n",
       "      <td>2130.0</td>\n",
       "      <td>0.020649</td>\n",
       "      <td>0.010014</td>\n",
       "      <td>0.005038</td>\n",
       "      <td>0.004694</td>\n",
       "      <td>0.001937</td>\n",
       "      <td>0.001495</td>\n",
       "      <td>0.001862</td>\n",
       "      <td>0.001883</td>\n",
       "      <td>0.002181</td>\n",
       "      <td>0.002555</td>\n",
       "      <td>0.002222</td>\n",
       "      <td>0.002653</td>\n",
       "      <td>0.002933</td>\n",
       "      <td>0.003276</td>\n",
       "      <td>0.003213</td>\n",
       "      <td>0.003041</td>\n",
       "      <td>0.002611</td>\n",
       "    </tr>\n",
       "    <tr>\n",
       "      <th>東方非想天則</th>\n",
       "      <td>3588.0</td>\n",
       "      <td>0.156342</td>\n",
       "      <td>0.077606</td>\n",
       "      <td>0.043486</td>\n",
       "      <td>0.022885</td>\n",
       "      <td>0.075332</td>\n",
       "      <td>0.084616</td>\n",
       "      <td>0.110917</td>\n",
       "      <td>0.100391</td>\n",
       "      <td>0.084170</td>\n",
       "      <td>0.058987</td>\n",
       "      <td>0.065458</td>\n",
       "      <td>0.064251</td>\n",
       "      <td>0.061754</td>\n",
       "      <td>0.062435</td>\n",
       "      <td>0.062374</td>\n",
       "      <td>0.061860</td>\n",
       "      <td>0.062783</td>\n",
       "    </tr>\n",
       "    <tr>\n",
       "      <th>東方風神録</th>\n",
       "      <td>5463.0</td>\n",
       "      <td>0.000000</td>\n",
       "      <td>0.000000</td>\n",
       "      <td>0.000000</td>\n",
       "      <td>0.000000</td>\n",
       "      <td>0.193069</td>\n",
       "      <td>0.165735</td>\n",
       "      <td>0.144460</td>\n",
       "      <td>0.143138</td>\n",
       "      <td>0.136446</td>\n",
       "      <td>0.101986</td>\n",
       "      <td>0.097157</td>\n",
       "      <td>0.096388</td>\n",
       "      <td>0.088379</td>\n",
       "      <td>0.090107</td>\n",
       "      <td>0.088713</td>\n",
       "      <td>0.084112</td>\n",
       "      <td>0.089427</td>\n",
       "    </tr>\n",
       "    <tr>\n",
       "      <th>東方鬼形獣</th>\n",
       "      <td>9056.0</td>\n",
       "      <td>0.000000</td>\n",
       "      <td>0.000000</td>\n",
       "      <td>0.000000</td>\n",
       "      <td>0.000000</td>\n",
       "      <td>0.000000</td>\n",
       "      <td>0.000000</td>\n",
       "      <td>0.000000</td>\n",
       "      <td>0.000000</td>\n",
       "      <td>0.000000</td>\n",
       "      <td>0.000000</td>\n",
       "      <td>0.000000</td>\n",
       "      <td>0.000000</td>\n",
       "      <td>0.000000</td>\n",
       "      <td>0.000000</td>\n",
       "      <td>0.017121</td>\n",
       "      <td>0.011173</td>\n",
       "      <td>0.008783</td>\n",
       "    </tr>\n",
       "    <tr>\n",
       "      <th>神魔討綺伝</th>\n",
       "      <td>441.0</td>\n",
       "      <td>0.000000</td>\n",
       "      <td>0.000000</td>\n",
       "      <td>0.000000</td>\n",
       "      <td>0.000000</td>\n",
       "      <td>0.000000</td>\n",
       "      <td>0.000000</td>\n",
       "      <td>0.000355</td>\n",
       "      <td>0.000381</td>\n",
       "      <td>0.000372</td>\n",
       "      <td>0.000292</td>\n",
       "      <td>0.000180</td>\n",
       "      <td>0.000183</td>\n",
       "      <td>0.000212</td>\n",
       "      <td>0.000297</td>\n",
       "      <td>0.000260</td>\n",
       "      <td>0.000162</td>\n",
       "      <td>0.000194</td>\n",
       "    </tr>\n",
       "    <tr>\n",
       "      <th>秋霜玉</th>\n",
       "      <td>2489.0</td>\n",
       "      <td>0.042773</td>\n",
       "      <td>0.028448</td>\n",
       "      <td>0.012044</td>\n",
       "      <td>0.009869</td>\n",
       "      <td>0.004344</td>\n",
       "      <td>0.003894</td>\n",
       "      <td>0.003928</td>\n",
       "      <td>0.003882</td>\n",
       "      <td>0.004031</td>\n",
       "      <td>0.003102</td>\n",
       "      <td>0.002622</td>\n",
       "      <td>0.002844</td>\n",
       "      <td>0.002659</td>\n",
       "      <td>0.003136</td>\n",
       "      <td>0.002561</td>\n",
       "      <td>0.002345</td>\n",
       "      <td>0.002262</td>\n",
       "    </tr>\n",
       "    <tr>\n",
       "      <th>秘封ナイトメアダイアリー</th>\n",
       "      <td>4862.0</td>\n",
       "      <td>0.000000</td>\n",
       "      <td>0.000000</td>\n",
       "      <td>0.000000</td>\n",
       "      <td>0.000000</td>\n",
       "      <td>0.000000</td>\n",
       "      <td>0.000000</td>\n",
       "      <td>0.000000</td>\n",
       "      <td>0.000000</td>\n",
       "      <td>0.000000</td>\n",
       "      <td>0.000000</td>\n",
       "      <td>0.005521</td>\n",
       "      <td>0.005236</td>\n",
       "      <td>0.014113</td>\n",
       "      <td>0.015735</td>\n",
       "      <td>0.010839</td>\n",
       "      <td>0.009279</td>\n",
       "      <td>0.008104</td>\n",
       "    </tr>\n",
       "    <tr>\n",
       "      <th>稀翁玉</th>\n",
       "      <td>1780.0</td>\n",
       "      <td>0.002950</td>\n",
       "      <td>0.001821</td>\n",
       "      <td>0.001042</td>\n",
       "      <td>0.000000</td>\n",
       "      <td>0.000470</td>\n",
       "      <td>0.000382</td>\n",
       "      <td>0.000365</td>\n",
       "      <td>0.000471</td>\n",
       "      <td>0.000470</td>\n",
       "      <td>0.000429</td>\n",
       "      <td>0.000419</td>\n",
       "      <td>0.000381</td>\n",
       "      <td>0.000388</td>\n",
       "      <td>0.000527</td>\n",
       "      <td>0.000504</td>\n",
       "      <td>0.000393</td>\n",
       "      <td>0.000394</td>\n",
       "    </tr>\n",
       "    <tr>\n",
       "      <th>黄昏酒場</th>\n",
       "      <td>326.0</td>\n",
       "      <td>0.000000</td>\n",
       "      <td>0.000000</td>\n",
       "      <td>0.000000</td>\n",
       "      <td>0.000000</td>\n",
       "      <td>0.000583</td>\n",
       "      <td>0.001207</td>\n",
       "      <td>0.000845</td>\n",
       "      <td>0.000766</td>\n",
       "      <td>0.000694</td>\n",
       "      <td>0.000479</td>\n",
       "      <td>0.000441</td>\n",
       "      <td>0.000527</td>\n",
       "      <td>0.000512</td>\n",
       "      <td>0.000482</td>\n",
       "      <td>0.000444</td>\n",
       "      <td>0.000336</td>\n",
       "      <td>0.000305</td>\n",
       "    </tr>\n",
       "  </tbody>\n",
       "</table>\n",
       "</div>"
      ],
      "text/plain": [
       "              Unnamed: 0         1         2         3         4         5  \\\n",
       "title                                                                        \n",
       "Cradle             131.0  0.000000  0.000000  0.050724  0.000000  0.009402   \n",
       "ダブルスポイラー          2574.0  0.000000  0.000000  0.000000  0.000000  0.012242   \n",
       "トルテルマジック           201.0  0.007375  0.004779  0.002953  0.001707  0.000771   \n",
       "メニュー              1643.0  0.001475  0.000000  0.000811  0.001014  0.000508   \n",
       "妖精大戦争             4438.0  0.000000  0.000000  0.000000  0.000000  0.000132   \n",
       "弾幕アマノジャク          3830.0  0.000000  0.000000  0.000000  0.000000  0.012242   \n",
       "東方剛欲異聞            1347.0  0.000000  0.000000  0.000000  0.000000  0.000000   \n",
       "東方地霊殿             6929.0  0.000000  0.000000  0.000000  0.000000  0.000132   \n",
       "東方夢時空             4799.0  0.004425  0.006145  0.002664  0.004854  0.007842   \n",
       "東方天空璋            10233.0  0.000000  0.000000  0.000000  0.000000  0.000000   \n",
       "東方妖々夢             1457.0  0.134218  0.497497  0.312565  0.095060  0.204314   \n",
       "東方封魔録             4192.0  0.011799  0.005462  0.004690  0.001760  0.001918   \n",
       "東方幻想郷             5483.0  0.017699  0.011607  0.008512  0.004641  0.013295   \n",
       "東方幻想麻雀             432.0  0.000000  0.000000  0.000000  0.000000  0.000000   \n",
       "東方心綺楼              995.0  0.000000  0.000000  0.000000  0.000000  0.000000   \n",
       "東方怪綺談             3665.0  0.051622  0.022986  0.011465  0.011789  0.014837   \n",
       "東方憑依華              591.0  0.000000  0.000000  0.000000  0.000000  0.000000   \n",
       "東方文花帖             1750.0  0.000000  0.000000  0.000000  0.050731  0.060326   \n",
       "東方星蓮船             7615.0  0.000000  0.000000  0.000000  0.000000  0.000132   \n",
       "東方永夜抄             3133.0  0.000000  0.000000  0.363231  0.077777  0.127609   \n",
       "東方深秘録              493.0  0.000000  0.000000  0.000000  0.000000  0.000000   \n",
       "東方神霊廟             8444.0  0.000000  0.000000  0.000000  0.000000  0.000132   \n",
       "東方紅魔郷              606.0  0.573746  0.368457  0.221540  0.131708  0.190718   \n",
       "東方紺珠伝             9628.0  0.000000  0.000000  0.000000  0.000000  0.000000   \n",
       "東方緋想天             1133.0  0.000000  0.000000  0.000000  0.000000  0.000000   \n",
       "東方花映塚             3852.0  0.000000  0.114247  0.080834  0.022725  0.084960   \n",
       "東方萃夢想              812.0  0.000000  0.000000  0.000000  0.010829  0.022284   \n",
       "東方虹龍洞            11271.0  0.000000  0.000000  0.000000  0.000000  0.000000   \n",
       "東方輝針城             8933.0  0.000000  0.000000  0.000000  0.000000  0.000132   \n",
       "東方靈異伝             2130.0  0.020649  0.010014  0.005038  0.004694  0.001937   \n",
       "東方非想天則            3588.0  0.156342  0.077606  0.043486  0.022885  0.075332   \n",
       "東方風神録             5463.0  0.000000  0.000000  0.000000  0.000000  0.193069   \n",
       "東方鬼形獣             9056.0  0.000000  0.000000  0.000000  0.000000  0.000000   \n",
       "神魔討綺伝              441.0  0.000000  0.000000  0.000000  0.000000  0.000000   \n",
       "秋霜玉               2489.0  0.042773  0.028448  0.012044  0.009869  0.004344   \n",
       "秘封ナイトメアダイアリー      4862.0  0.000000  0.000000  0.000000  0.000000  0.000000   \n",
       "稀翁玉               1780.0  0.002950  0.001821  0.001042  0.000000  0.000470   \n",
       "黄昏酒場               326.0  0.000000  0.000000  0.000000  0.000000  0.000583   \n",
       "\n",
       "                     6         7         8         9        11        12  \\\n",
       "title                                                                      \n",
       "Cradle        0.007345  0.005253  0.004498  0.004107  0.004097  0.004002   \n",
       "ダブルスポイラー      0.008863  0.006615  0.027892  0.022421  0.013974  0.011428   \n",
       "トルテルマジック      0.000724  0.000694  0.000671  0.000623  0.000752  0.000696   \n",
       "メニュー          0.000724  0.000532  0.000551  0.000528  0.000914  0.000923   \n",
       "妖精大戦争         0.000203  0.000856  0.026149  0.022246  0.018338  0.016334   \n",
       "弾幕アマノジャク      0.008863  0.006615  0.010984  0.010548  0.024598  0.019668   \n",
       "東方剛欲異聞        0.000000  0.000000  0.000000  0.000000  0.000000  0.000000   \n",
       "東方地霊殿         0.129284  0.113244  0.112702  0.102927  0.094955  0.085020   \n",
       "東方夢時空         0.011769  0.010825  0.011570  0.010888  0.009648  0.008635   \n",
       "東方天空璋         0.000000  0.000000  0.000000  0.000000  0.000000  0.000000   \n",
       "東方妖々夢         0.161646  0.135117  0.123530  0.121568  0.112131  0.104872   \n",
       "東方封魔録         0.001924  0.001920  0.002154  0.002150  0.001865  0.001911   \n",
       "東方幻想郷         0.016551  0.015358  0.014224  0.014045  0.012433  0.012202   \n",
       "東方幻想麻雀        0.000000  0.001242  0.001147  0.001384  0.000914  0.000674   \n",
       "東方心綺楼         0.000000  0.000000  0.000000  0.000000  0.006732  0.004835   \n",
       "東方怪綺談         0.016637  0.021284  0.018857  0.018291  0.014061  0.011546   \n",
       "東方憑依華         0.000000  0.000000  0.000000  0.000000  0.000000  0.000000   \n",
       "東方文花帖         0.036575  0.025682  0.022779  0.022882  0.017990  0.017499   \n",
       "東方星蓮船         0.000203  0.107083  0.100185  0.077882  0.058235  0.049624   \n",
       "東方永夜抄         0.111985  0.089002  0.083066  0.078567  0.085214  0.081475   \n",
       "東方深秘録         0.000000  0.000000  0.000000  0.000000  0.004712  0.002576   \n",
       "東方神霊廟         0.000203  0.000256  0.000240  0.066519  0.045032  0.038662   \n",
       "東方紅魔郷         0.149020  0.132321  0.130317  0.129482  0.141193  0.160231   \n",
       "東方紺珠伝         0.000000  0.000000  0.000000  0.000000  0.000000  0.061316   \n",
       "東方緋想天         0.017789  0.012603  0.012692  0.010740  0.009325  0.008728   \n",
       "東方花映塚         0.075970  0.059340  0.054402  0.052142  0.052429  0.053834   \n",
       "東方萃夢想         0.015523  0.015003  0.013483  0.012182  0.011743  0.006304   \n",
       "東方虹龍洞         0.000000  0.000000  0.000000  0.000000  0.000000  0.000000   \n",
       "東方輝針城         0.000203  0.000256  0.000240  0.000237  0.059646  0.046837   \n",
       "東方靈異伝         0.001495  0.001862  0.001883  0.002181  0.002555  0.002222   \n",
       "東方非想天則        0.084616  0.110917  0.100391  0.084170  0.058987  0.065458   \n",
       "東方風神録         0.165735  0.144460  0.143138  0.136446  0.101986  0.097157   \n",
       "東方鬼形獣         0.000000  0.000000  0.000000  0.000000  0.000000  0.000000   \n",
       "神魔討綺伝         0.000000  0.000355  0.000381  0.000372  0.000292  0.000180   \n",
       "秋霜玉           0.003894  0.003928  0.003882  0.004031  0.003102  0.002622   \n",
       "秘封ナイトメアダイアリー  0.000000  0.000000  0.000000  0.000000  0.000000  0.005521   \n",
       "稀翁玉           0.000382  0.000365  0.000471  0.000470  0.000429  0.000419   \n",
       "黄昏酒場          0.001207  0.000845  0.000766  0.000694  0.000479  0.000441   \n",
       "\n",
       "                    13        14        15        16        17        18  \n",
       "title                                                                     \n",
       "Cradle        0.004440  0.004172  0.004039  0.003365  0.003420  0.003075  \n",
       "ダブルスポイラー      0.011257  0.010466  0.010956  0.009735  0.008427  0.006938  \n",
       "トルテルマジック      0.000785  0.000745  0.000752  0.000732  0.000624  0.000746  \n",
       "メニュー          0.000789  0.000891  0.001133  0.001056  0.001043  0.000916  \n",
       "妖精大戦争         0.015659  0.014559  0.013732  0.011919  0.009549  0.008551  \n",
       "弾幕アマノジャク      0.020372  0.018713  0.017917  0.016649  0.015249  0.012707  \n",
       "東方剛欲異聞        0.000000  0.000000  0.000000  0.000000  0.000000  0.004617  \n",
       "東方地霊殿         0.081726  0.076229  0.076874  0.076502  0.067095  0.070123  \n",
       "東方夢時空         0.008839  0.008234  0.008611  0.008610  0.007547  0.006677  \n",
       "東方天空璋         0.000000  0.038286  0.031425  0.023491  0.020491  0.017689  \n",
       "東方妖々夢         0.104654  0.099127  0.097786  0.094763  0.101089  0.098189  \n",
       "東方封魔録         0.002231  0.001927  0.002266  0.002345  0.002009  0.002036  \n",
       "東方幻想郷         0.012240  0.011471  0.011511  0.011459  0.012450  0.011485  \n",
       "東方幻想麻雀        0.000703  0.000635  0.000583  0.000656  0.000415  0.000423  \n",
       "東方心綺楼         0.005146  0.004935  0.004561  0.003513  0.003633  0.003187  \n",
       "東方怪綺談         0.012359  0.011912  0.012599  0.011715  0.009903  0.008824  \n",
       "東方憑依華         0.000000  0.009967  0.013844  0.010719  0.009953  0.009743  \n",
       "東方文花帖         0.017801  0.015097  0.015656  0.013820  0.012544  0.011373  \n",
       "東方星蓮船         0.048084  0.044271  0.043284  0.039963  0.034258  0.031541  \n",
       "東方永夜抄         0.082900  0.077671  0.076835  0.076138  0.078917  0.079866  \n",
       "東方深秘録         0.001745  0.001557  0.001257  0.001156  0.001162  0.000975  \n",
       "東方神霊廟         0.037260  0.035993  0.034280  0.033333  0.029554  0.027003  \n",
       "東方紅魔郷         0.159443  0.148188  0.150634  0.158557  0.177917  0.209684  \n",
       "東方紺珠伝         0.060592  0.059906  0.059394  0.052983  0.048122  0.042976  \n",
       "東方緋想天         0.008738  0.010166  0.009194  0.007806  0.008085  0.006788  \n",
       "東方花映塚         0.054265  0.051795  0.051193  0.051183  0.059147  0.057666  \n",
       "東方萃夢想         0.006308  0.006205  0.006064  0.005346  0.004776  0.004330  \n",
       "東方虹龍洞         0.000000  0.000000  0.000000  0.000000  0.030405  0.020699  \n",
       "東方輝針城         0.044772  0.044589  0.042554  0.037927  0.031249  0.024703  \n",
       "東方靈異伝         0.002653  0.002933  0.003276  0.003213  0.003041  0.002611  \n",
       "東方非想天則        0.064251  0.061754  0.062435  0.062374  0.061860  0.062783  \n",
       "東方風神録         0.096388  0.088379  0.090107  0.088713  0.084112  0.089427  \n",
       "東方鬼形獣         0.000000  0.000000  0.000000  0.017121  0.011173  0.008783  \n",
       "神魔討綺伝         0.000183  0.000212  0.000297  0.000260  0.000162  0.000194  \n",
       "秋霜玉           0.002844  0.002659  0.003136  0.002561  0.002345  0.002262  \n",
       "秘封ナイトメアダイアリー  0.005236  0.014113  0.015735  0.010839  0.009279  0.008104  \n",
       "稀翁玉           0.000381  0.000388  0.000527  0.000504  0.000393  0.000394  \n",
       "黄昏酒場          0.000527  0.000512  0.000482  0.000444  0.000336  0.000305  "
      ]
     },
     "execution_count": 217,
     "metadata": {},
     "output_type": "execute_result"
    }
   ],
   "source": [
    "music_points_ratio_subtitle=music_points_ratio_subtitle.groupby(['title']).sum()\n",
    "music_points_ratio_subtitle"
   ]
  },
  {
   "cell_type": "code",
   "execution_count": 228,
   "id": "804521b8",
   "metadata": {},
   "outputs": [],
   "source": [
    "music_points_ratio_subtitle=music_points_ratio_subtitle.drop(\"Unnamed: 0\",axis=1)"
   ]
  },
  {
   "cell_type": "code",
   "execution_count": 236,
   "id": "50255c8f",
   "metadata": {},
   "outputs": [
    {
     "data": {
      "text/plain": [
       "<AxesSubplot:>"
      ]
     },
     "execution_count": 236,
     "metadata": {},
     "output_type": "execute_result"
    },
    {
     "data": {
      "image/png": "[encoded data removed]",
      "text/plain": [
       "<Figure size 720x720 with 1 Axes>"
      ]
     },
     "metadata": {
      "needs_background": "light"
     },
     "output_type": "display_data"
    }
   ],
   "source": [
    "music_points_ratio_subtitle.T.plot(figsize=(10,10))"
   ]
  },
  {
   "cell_type": "markdown",
   "id": "c956ae69",
   "metadata": {},
   "source": [
    "やはり近年の紅魔郷人気が目立つ"
   ]
  },
  {
   "cell_type": "markdown",
   "id": "3f946ea9",
   "metadata": {},
   "source": [
    "# 作品の投票と音楽の投票の相関を見る"
   ]
  },
  {
   "cell_type": "code",
   "execution_count": 239,
   "id": "d40338c1",
   "metadata": {
    "scrolled": true
   },
   "outputs": [
    {
     "data": {
      "text/html": [
       "<div>\n",
       "<style scoped>\n",
       "    .dataframe tbody tr th:only-of-type {\n",
       "        vertical-align: middle;\n",
       "    }\n",
       "\n",
       "    .dataframe tbody tr th {\n",
       "        vertical-align: top;\n",
       "    }\n",
       "\n",
       "    .dataframe thead th {\n",
       "        text-align: right;\n",
       "    }\n",
       "</style>\n",
       "<table border=\"1\" class=\"dataframe\">\n",
       "  <thead>\n",
       "    <tr style=\"text-align: right;\">\n",
       "      <th></th>\n",
       "      <th>Unnamed: 0</th>\n",
       "      <th>名前</th>\n",
       "      <th>12</th>\n",
       "      <th>13</th>\n",
       "      <th>14</th>\n",
       "      <th>15</th>\n",
       "      <th>16</th>\n",
       "      <th>17</th>\n",
       "      <th>18</th>\n",
       "    </tr>\n",
       "  </thead>\n",
       "  <tbody>\n",
       "    <tr>\n",
       "      <th>0</th>\n",
       "      <td>0</td>\n",
       "      <td>東方紅魔郷</td>\n",
       "      <td>0.111847</td>\n",
       "      <td>0.112262</td>\n",
       "      <td>0.102363</td>\n",
       "      <td>0.105599</td>\n",
       "      <td>0.108930</td>\n",
       "      <td>0.115853</td>\n",
       "      <td>0.142244</td>\n",
       "    </tr>\n",
       "    <tr>\n",
       "      <th>1</th>\n",
       "      <td>1</td>\n",
       "      <td>東方永夜抄</td>\n",
       "      <td>0.100213</td>\n",
       "      <td>0.101560</td>\n",
       "      <td>0.096241</td>\n",
       "      <td>0.096502</td>\n",
       "      <td>0.095184</td>\n",
       "      <td>0.097291</td>\n",
       "      <td>0.096774</td>\n",
       "    </tr>\n",
       "    <tr>\n",
       "      <th>2</th>\n",
       "      <td>2</td>\n",
       "      <td>東方妖々夢</td>\n",
       "      <td>0.089872</td>\n",
       "      <td>0.090694</td>\n",
       "      <td>0.084319</td>\n",
       "      <td>0.083494</td>\n",
       "      <td>0.082593</td>\n",
       "      <td>0.084051</td>\n",
       "      <td>0.086252</td>\n",
       "    </tr>\n",
       "    <tr>\n",
       "      <th>3</th>\n",
       "      <td>3</td>\n",
       "      <td>東方風神録</td>\n",
       "      <td>0.079220</td>\n",
       "      <td>0.079698</td>\n",
       "      <td>0.073878</td>\n",
       "      <td>0.075428</td>\n",
       "      <td>0.078724</td>\n",
       "      <td>0.077559</td>\n",
       "      <td>0.079972</td>\n",
       "    </tr>\n",
       "    <tr>\n",
       "      <th>4</th>\n",
       "      <td>4</td>\n",
       "      <td>東方地霊殿</td>\n",
       "      <td>0.068308</td>\n",
       "      <td>0.066046</td>\n",
       "      <td>0.060757</td>\n",
       "      <td>0.063530</td>\n",
       "      <td>0.064347</td>\n",
       "      <td>0.060517</td>\n",
       "      <td>0.062246</td>\n",
       "    </tr>\n",
       "    <tr>\n",
       "      <th>5</th>\n",
       "      <td>5</td>\n",
       "      <td>東方紺珠伝</td>\n",
       "      <td>0.058307</td>\n",
       "      <td>0.059633</td>\n",
       "      <td>0.060022</td>\n",
       "      <td>0.060188</td>\n",
       "      <td>0.060861</td>\n",
       "      <td>0.055453</td>\n",
       "      <td>0.048781</td>\n",
       "    </tr>\n",
       "    <tr>\n",
       "      <th>6</th>\n",
       "      <td>6</td>\n",
       "      <td>東方鈴奈庵</td>\n",
       "      <td>0.043567</td>\n",
       "      <td>0.046449</td>\n",
       "      <td>0.045372</td>\n",
       "      <td>0.039334</td>\n",
       "      <td>0.030129</td>\n",
       "      <td>0.023493</td>\n",
       "      <td>0.020588</td>\n",
       "    </tr>\n",
       "    <tr>\n",
       "      <th>7</th>\n",
       "      <td>7</td>\n",
       "      <td>東方輝針城</td>\n",
       "      <td>0.040094</td>\n",
       "      <td>0.039324</td>\n",
       "      <td>0.036088</td>\n",
       "      <td>0.035346</td>\n",
       "      <td>0.030464</td>\n",
       "      <td>0.025543</td>\n",
       "      <td>0.020289</td>\n",
       "    </tr>\n",
       "    <tr>\n",
       "      <th>8</th>\n",
       "      <td>8</td>\n",
       "      <td>東方星蓮船</td>\n",
       "      <td>0.037675</td>\n",
       "      <td>0.035748</td>\n",
       "      <td>0.031748</td>\n",
       "      <td>0.031346</td>\n",
       "      <td>0.030282</td>\n",
       "      <td>0.027710</td>\n",
       "      <td>0.024292</td>\n",
       "    </tr>\n",
       "    <tr>\n",
       "      <th>9</th>\n",
       "      <td>9</td>\n",
       "      <td>東方非想天則</td>\n",
       "      <td>0.033472</td>\n",
       "      <td>0.032207</td>\n",
       "      <td>0.029815</td>\n",
       "      <td>0.025848</td>\n",
       "      <td>0.023710</td>\n",
       "      <td>0.018811</td>\n",
       "      <td>0.016000</td>\n",
       "    </tr>\n",
       "    <tr>\n",
       "      <th>10</th>\n",
       "      <td>10</td>\n",
       "      <td>東方深秘録</td>\n",
       "      <td>0.030237</td>\n",
       "      <td>0.031270</td>\n",
       "      <td>0.020450</td>\n",
       "      <td>0.015382</td>\n",
       "      <td>0.011368</td>\n",
       "      <td>0.008949</td>\n",
       "      <td>0.008265</td>\n",
       "    </tr>\n",
       "    <tr>\n",
       "      <th>11</th>\n",
       "      <td>11</td>\n",
       "      <td>東方神霊廟</td>\n",
       "      <td>0.028713</td>\n",
       "      <td>0.027200</td>\n",
       "      <td>0.025354</td>\n",
       "      <td>0.025900</td>\n",
       "      <td>0.026729</td>\n",
       "      <td>0.026846</td>\n",
       "      <td>0.023599</td>\n",
       "    </tr>\n",
       "    <tr>\n",
       "      <th>12</th>\n",
       "      <td>12</td>\n",
       "      <td>東方茨歌仙</td>\n",
       "      <td>0.027045</td>\n",
       "      <td>0.028814</td>\n",
       "      <td>0.026029</td>\n",
       "      <td>0.026584</td>\n",
       "      <td>0.027932</td>\n",
       "      <td>0.024671</td>\n",
       "      <td>0.024482</td>\n",
       "    </tr>\n",
       "    <tr>\n",
       "      <th>13</th>\n",
       "      <td>13</td>\n",
       "      <td>東方花映塚</td>\n",
       "      <td>0.024813</td>\n",
       "      <td>0.023667</td>\n",
       "      <td>0.021367</td>\n",
       "      <td>0.022919</td>\n",
       "      <td>0.020118</td>\n",
       "      <td>0.021276</td>\n",
       "      <td>0.022436</td>\n",
       "    </tr>\n",
       "    <tr>\n",
       "      <th>14</th>\n",
       "      <td>14</td>\n",
       "      <td>東方緋想天</td>\n",
       "      <td>0.019166</td>\n",
       "      <td>0.018243</td>\n",
       "      <td>0.017631</td>\n",
       "      <td>0.015886</td>\n",
       "      <td>0.013689</td>\n",
       "      <td>0.013556</td>\n",
       "      <td>0.012785</td>\n",
       "    </tr>\n",
       "    <tr>\n",
       "      <th>15</th>\n",
       "      <td>15</td>\n",
       "      <td>弾幕アマノジャク</td>\n",
       "      <td>0.017599</td>\n",
       "      <td>0.015596</td>\n",
       "      <td>0.014761</td>\n",
       "      <td>0.012053</td>\n",
       "      <td>0.009323</td>\n",
       "      <td>0.009065</td>\n",
       "      <td>0.007796</td>\n",
       "    </tr>\n",
       "    <tr>\n",
       "      <th>16</th>\n",
       "      <td>16</td>\n",
       "      <td>東方儚月抄</td>\n",
       "      <td>0.015151</td>\n",
       "      <td>0.013461</td>\n",
       "      <td>0.012335</td>\n",
       "      <td>0.012763</td>\n",
       "      <td>0.011683</td>\n",
       "      <td>0.010734</td>\n",
       "      <td>0.011684</td>\n",
       "    </tr>\n",
       "    <tr>\n",
       "      <th>17</th>\n",
       "      <td>17</td>\n",
       "      <td>東方心綺楼</td>\n",
       "      <td>0.014414</td>\n",
       "      <td>0.012194</td>\n",
       "      <td>0.009465</td>\n",
       "      <td>0.008220</td>\n",
       "      <td>0.007652</td>\n",
       "      <td>0.007322</td>\n",
       "      <td>0.006511</td>\n",
       "    </tr>\n",
       "    <tr>\n",
       "      <th>18</th>\n",
       "      <td>18</td>\n",
       "      <td>東方三月精</td>\n",
       "      <td>0.014147</td>\n",
       "      <td>0.012932</td>\n",
       "      <td>0.013050</td>\n",
       "      <td>0.015886</td>\n",
       "      <td>0.011721</td>\n",
       "      <td>0.009571</td>\n",
       "      <td>0.008625</td>\n",
       "    </tr>\n",
       "    <tr>\n",
       "      <th>19</th>\n",
       "      <td>19</td>\n",
       "      <td>東方求聞史紀 / 東方求聞口授</td>\n",
       "      <td>0.013887</td>\n",
       "      <td>0.011552</td>\n",
       "      <td>0.010230</td>\n",
       "      <td>0.010285</td>\n",
       "      <td>0.008817</td>\n",
       "      <td>0.007098</td>\n",
       "      <td>0.006675</td>\n",
       "    </tr>\n",
       "    <tr>\n",
       "      <th>20</th>\n",
       "      <td>20</td>\n",
       "      <td>東方香霖堂</td>\n",
       "      <td>0.013555</td>\n",
       "      <td>0.011951</td>\n",
       "      <td>0.010643</td>\n",
       "      <td>0.009820</td>\n",
       "      <td>0.008922</td>\n",
       "      <td>0.007413</td>\n",
       "      <td>0.005519</td>\n",
       "    </tr>\n",
       "    <tr>\n",
       "      <th>21</th>\n",
       "      <td>21</td>\n",
       "      <td>大空魔術</td>\n",
       "      <td>0.011706</td>\n",
       "      <td>0.011873</td>\n",
       "      <td>0.012818</td>\n",
       "      <td>0.013072</td>\n",
       "      <td>0.012858</td>\n",
       "      <td>0.008907</td>\n",
       "      <td>0.008054</td>\n",
       "    </tr>\n",
       "    <tr>\n",
       "      <th>22</th>\n",
       "      <td>22</td>\n",
       "      <td>東方文花帖</td>\n",
       "      <td>0.010645</td>\n",
       "      <td>0.010640</td>\n",
       "      <td>0.008760</td>\n",
       "      <td>0.009253</td>\n",
       "      <td>0.007661</td>\n",
       "      <td>0.007587</td>\n",
       "      <td>0.006491</td>\n",
       "    </tr>\n",
       "    <tr>\n",
       "      <th>23</th>\n",
       "      <td>23</td>\n",
       "      <td>ダブルスポイラー</td>\n",
       "      <td>0.010226</td>\n",
       "      <td>0.010571</td>\n",
       "      <td>0.009294</td>\n",
       "      <td>0.008233</td>\n",
       "      <td>0.006763</td>\n",
       "      <td>0.005537</td>\n",
       "      <td>0.004622</td>\n",
       "    </tr>\n",
       "    <tr>\n",
       "      <th>24</th>\n",
       "      <td>24</td>\n",
       "      <td>蓬莱人形</td>\n",
       "      <td>0.009251</td>\n",
       "      <td>0.010085</td>\n",
       "      <td>0.010915</td>\n",
       "      <td>0.012789</td>\n",
       "      <td>0.012591</td>\n",
       "      <td>0.010734</td>\n",
       "      <td>0.010426</td>\n",
       "    </tr>\n",
       "    <tr>\n",
       "      <th>25</th>\n",
       "      <td>25</td>\n",
       "      <td>妖精大戦争</td>\n",
       "      <td>0.009222</td>\n",
       "      <td>0.009764</td>\n",
       "      <td>0.008619</td>\n",
       "      <td>0.008866</td>\n",
       "      <td>0.007375</td>\n",
       "      <td>0.007571</td>\n",
       "      <td>0.006403</td>\n",
       "    </tr>\n",
       "    <tr>\n",
       "      <th>26</th>\n",
       "      <td>26</td>\n",
       "      <td>東方幻想郷</td>\n",
       "      <td>0.007879</td>\n",
       "      <td>0.008410</td>\n",
       "      <td>0.008247</td>\n",
       "      <td>0.008840</td>\n",
       "      <td>0.010919</td>\n",
       "      <td>0.015847</td>\n",
       "      <td>0.018059</td>\n",
       "    </tr>\n",
       "    <tr>\n",
       "      <th>27</th>\n",
       "      <td>27</td>\n",
       "      <td>東方怪綺談</td>\n",
       "      <td>0.007366</td>\n",
       "      <td>0.007247</td>\n",
       "      <td>0.007491</td>\n",
       "      <td>0.008336</td>\n",
       "      <td>0.007824</td>\n",
       "      <td>0.007729</td>\n",
       "      <td>0.007769</td>\n",
       "    </tr>\n",
       "    <tr>\n",
       "      <th>28</th>\n",
       "      <td>28</td>\n",
       "      <td>東方萃夢想</td>\n",
       "      <td>0.007287</td>\n",
       "      <td>0.007039</td>\n",
       "      <td>0.006394</td>\n",
       "      <td>0.006298</td>\n",
       "      <td>0.007002</td>\n",
       "      <td>0.006226</td>\n",
       "      <td>0.006756</td>\n",
       "    </tr>\n",
       "    <tr>\n",
       "      <th>29</th>\n",
       "      <td>29</td>\n",
       "      <td>蓮台野夜行</td>\n",
       "      <td>0.006174</td>\n",
       "      <td>0.005554</td>\n",
       "      <td>0.005125</td>\n",
       "      <td>0.006027</td>\n",
       "      <td>0.005330</td>\n",
       "      <td>0.004773</td>\n",
       "      <td>0.004187</td>\n",
       "    </tr>\n",
       "    <tr>\n",
       "      <th>30</th>\n",
       "      <td>30</td>\n",
       "      <td>東方夢時空</td>\n",
       "      <td>0.005683</td>\n",
       "      <td>0.005476</td>\n",
       "      <td>0.005176</td>\n",
       "      <td>0.006130</td>\n",
       "      <td>0.006267</td>\n",
       "      <td>0.006716</td>\n",
       "      <td>0.006532</td>\n",
       "    </tr>\n",
       "    <tr>\n",
       "      <th>31</th>\n",
       "      <td>31</td>\n",
       "      <td>卯酉東海道</td>\n",
       "      <td>0.005568</td>\n",
       "      <td>0.005520</td>\n",
       "      <td>0.005709</td>\n",
       "      <td>0.006723</td>\n",
       "      <td>0.006620</td>\n",
       "      <td>0.005404</td>\n",
       "      <td>0.005648</td>\n",
       "    </tr>\n",
       "    <tr>\n",
       "      <th>32</th>\n",
       "      <td>32</td>\n",
       "      <td>The Grimoire of Marisa</td>\n",
       "      <td>0.004427</td>\n",
       "      <td>0.004392</td>\n",
       "      <td>0.004199</td>\n",
       "      <td>0.004091</td>\n",
       "      <td>0.003286</td>\n",
       "      <td>0.002964</td>\n",
       "      <td>0.003113</td>\n",
       "    </tr>\n",
       "    <tr>\n",
       "      <th>33</th>\n",
       "      <td>33</td>\n",
       "      <td>夢違科学世紀</td>\n",
       "      <td>0.004174</td>\n",
       "      <td>0.004105</td>\n",
       "      <td>0.004068</td>\n",
       "      <td>0.004839</td>\n",
       "      <td>0.004996</td>\n",
       "      <td>0.003868</td>\n",
       "      <td>0.003419</td>\n",
       "    </tr>\n",
       "    <tr>\n",
       "      <th>34</th>\n",
       "      <td>34</td>\n",
       "      <td>東方靈異伝</td>\n",
       "      <td>0.004058</td>\n",
       "      <td>0.004183</td>\n",
       "      <td>0.004420</td>\n",
       "      <td>0.005833</td>\n",
       "      <td>0.005999</td>\n",
       "      <td>0.008069</td>\n",
       "      <td>0.009101</td>\n",
       "    </tr>\n",
       "    <tr>\n",
       "      <th>35</th>\n",
       "      <td>35</td>\n",
       "      <td>伊弉諾物質</td>\n",
       "      <td>0.003770</td>\n",
       "      <td>0.003359</td>\n",
       "      <td>0.003474</td>\n",
       "      <td>0.003626</td>\n",
       "      <td>0.003640</td>\n",
       "      <td>0.003420</td>\n",
       "      <td>0.002637</td>\n",
       "    </tr>\n",
       "    <tr>\n",
       "      <th>36</th>\n",
       "      <td>36</td>\n",
       "      <td>鳥船遺跡</td>\n",
       "      <td>0.003228</td>\n",
       "      <td>0.002656</td>\n",
       "      <td>0.002739</td>\n",
       "      <td>0.002645</td>\n",
       "      <td>0.002971</td>\n",
       "      <td>0.002524</td>\n",
       "      <td>0.002127</td>\n",
       "    </tr>\n",
       "    <tr>\n",
       "      <th>37</th>\n",
       "      <td>37</td>\n",
       "      <td>東方文花帖（書籍）</td>\n",
       "      <td>0.002939</td>\n",
       "      <td>0.002968</td>\n",
       "      <td>0.002276</td>\n",
       "      <td>0.002594</td>\n",
       "      <td>0.001681</td>\n",
       "      <td>0.001918</td>\n",
       "      <td>0.001794</td>\n",
       "    </tr>\n",
       "    <tr>\n",
       "      <th>38</th>\n",
       "      <td>38</td>\n",
       "      <td>幺樂団の歴史</td>\n",
       "      <td>0.001892</td>\n",
       "      <td>0.001935</td>\n",
       "      <td>0.001782</td>\n",
       "      <td>0.002155</td>\n",
       "      <td>0.002188</td>\n",
       "      <td>0.001801</td>\n",
       "      <td>0.001706</td>\n",
       "    </tr>\n",
       "    <tr>\n",
       "      <th>39</th>\n",
       "      <td>39</td>\n",
       "      <td>東方封魔録</td>\n",
       "      <td>0.001805</td>\n",
       "      <td>0.002178</td>\n",
       "      <td>0.002618</td>\n",
       "      <td>0.002749</td>\n",
       "      <td>0.003544</td>\n",
       "      <td>0.005222</td>\n",
       "      <td>0.005791</td>\n",
       "    </tr>\n",
       "    <tr>\n",
       "      <th>40</th>\n",
       "      <td>40</td>\n",
       "      <td>未知の花　魅知の旅</td>\n",
       "      <td>0.001401</td>\n",
       "      <td>0.001493</td>\n",
       "      <td>0.001682</td>\n",
       "      <td>0.003033</td>\n",
       "      <td>0.002417</td>\n",
       "      <td>0.001992</td>\n",
       "      <td>0.001455</td>\n",
       "    </tr>\n",
       "    <tr>\n",
       "      <th>41</th>\n",
       "      <td>41</td>\n",
       "      <td>燕石博物誌</td>\n",
       "      <td>0.000000</td>\n",
       "      <td>0.005685</td>\n",
       "      <td>0.004803</td>\n",
       "      <td>0.005188</td>\n",
       "      <td>0.004318</td>\n",
       "      <td>0.003071</td>\n",
       "      <td>0.002610</td>\n",
       "    </tr>\n",
       "    <tr>\n",
       "      <th>42</th>\n",
       "      <td>42</td>\n",
       "      <td>旧約酒場</td>\n",
       "      <td>0.000000</td>\n",
       "      <td>0.004365</td>\n",
       "      <td>0.003242</td>\n",
       "      <td>0.002955</td>\n",
       "      <td>0.002703</td>\n",
       "      <td>0.002499</td>\n",
       "      <td>0.002025</td>\n",
       "    </tr>\n",
       "    <tr>\n",
       "      <th>43</th>\n",
       "      <td>43</td>\n",
       "      <td>東方天空璋</td>\n",
       "      <td>0.000000</td>\n",
       "      <td>0.000000</td>\n",
       "      <td>0.035202</td>\n",
       "      <td>0.031255</td>\n",
       "      <td>0.023213</td>\n",
       "      <td>0.018429</td>\n",
       "      <td>0.016007</td>\n",
       "    </tr>\n",
       "    <tr>\n",
       "      <th>44</th>\n",
       "      <td>44</td>\n",
       "      <td>東方憑依華</td>\n",
       "      <td>0.000000</td>\n",
       "      <td>0.000000</td>\n",
       "      <td>0.032906</td>\n",
       "      <td>0.029242</td>\n",
       "      <td>0.021637</td>\n",
       "      <td>0.019500</td>\n",
       "      <td>0.020051</td>\n",
       "    </tr>\n",
       "    <tr>\n",
       "      <th>45</th>\n",
       "      <td>45</td>\n",
       "      <td>東方文果真報</td>\n",
       "      <td>0.000000</td>\n",
       "      <td>0.000000</td>\n",
       "      <td>0.006122</td>\n",
       "      <td>0.004271</td>\n",
       "      <td>0.002503</td>\n",
       "      <td>0.002059</td>\n",
       "      <td>0.001998</td>\n",
       "    </tr>\n",
       "    <tr>\n",
       "      <th>46</th>\n",
       "      <td>46</td>\n",
       "      <td>秘封ナイトメアダイアリー</td>\n",
       "      <td>0.000000</td>\n",
       "      <td>0.000000</td>\n",
       "      <td>0.000000</td>\n",
       "      <td>0.008646</td>\n",
       "      <td>0.004346</td>\n",
       "      <td>0.004142</td>\n",
       "      <td>0.003072</td>\n",
       "    </tr>\n",
       "    <tr>\n",
       "      <th>47</th>\n",
       "      <td>47</td>\n",
       "      <td>東方鬼形獣</td>\n",
       "      <td>0.000000</td>\n",
       "      <td>0.000000</td>\n",
       "      <td>0.000000</td>\n",
       "      <td>0.000000</td>\n",
       "      <td>0.035785</td>\n",
       "      <td>0.029602</td>\n",
       "      <td>0.025006</td>\n",
       "    </tr>\n",
       "    <tr>\n",
       "      <th>48</th>\n",
       "      <td>48</td>\n",
       "      <td>東方酔蝶華</td>\n",
       "      <td>0.000000</td>\n",
       "      <td>0.000000</td>\n",
       "      <td>0.000000</td>\n",
       "      <td>0.000000</td>\n",
       "      <td>0.007040</td>\n",
       "      <td>0.010767</td>\n",
       "      <td>0.009584</td>\n",
       "    </tr>\n",
       "    <tr>\n",
       "      <th>49</th>\n",
       "      <td>49</td>\n",
       "      <td>東方智霊奇伝 反則探偵さとり</td>\n",
       "      <td>0.000000</td>\n",
       "      <td>0.000000</td>\n",
       "      <td>0.000000</td>\n",
       "      <td>0.000000</td>\n",
       "      <td>0.006219</td>\n",
       "      <td>0.006832</td>\n",
       "      <td>0.009128</td>\n",
       "    </tr>\n",
       "    <tr>\n",
       "      <th>50</th>\n",
       "      <td>50</td>\n",
       "      <td>The Grimoire of Usami 秘封倶楽部異界撮影記録</td>\n",
       "      <td>0.000000</td>\n",
       "      <td>0.000000</td>\n",
       "      <td>0.000000</td>\n",
       "      <td>0.000000</td>\n",
       "      <td>0.004413</td>\n",
       "      <td>0.004325</td>\n",
       "      <td>0.003276</td>\n",
       "    </tr>\n",
       "    <tr>\n",
       "      <th>51</th>\n",
       "      <td>51</td>\n",
       "      <td>東方剛欲異聞</td>\n",
       "      <td>0.000000</td>\n",
       "      <td>0.000000</td>\n",
       "      <td>0.000000</td>\n",
       "      <td>0.000000</td>\n",
       "      <td>0.001509</td>\n",
       "      <td>0.003370</td>\n",
       "      <td>0.010712</td>\n",
       "    </tr>\n",
       "    <tr>\n",
       "      <th>52</th>\n",
       "      <td>52</td>\n",
       "      <td>東方Project人妖名鑑 宵闇編</td>\n",
       "      <td>0.000000</td>\n",
       "      <td>0.000000</td>\n",
       "      <td>0.000000</td>\n",
       "      <td>0.000000</td>\n",
       "      <td>0.001204</td>\n",
       "      <td>0.002308</td>\n",
       "      <td>0.001033</td>\n",
       "    </tr>\n",
       "    <tr>\n",
       "      <th>53</th>\n",
       "      <td>53</td>\n",
       "      <td>東方虹龍洞</td>\n",
       "      <td>0.000000</td>\n",
       "      <td>0.000000</td>\n",
       "      <td>0.000000</td>\n",
       "      <td>0.000000</td>\n",
       "      <td>0.000000</td>\n",
       "      <td>0.041507</td>\n",
       "      <td>0.030423</td>\n",
       "    </tr>\n",
       "    <tr>\n",
       "      <th>54</th>\n",
       "      <td>54</td>\n",
       "      <td>バレットフィリア達の闇市場</td>\n",
       "      <td>0.000000</td>\n",
       "      <td>0.000000</td>\n",
       "      <td>0.000000</td>\n",
       "      <td>0.000000</td>\n",
       "      <td>0.000000</td>\n",
       "      <td>0.000000</td>\n",
       "      <td>0.011657</td>\n",
       "    </tr>\n",
       "    <tr>\n",
       "      <th>55</th>\n",
       "      <td>55</td>\n",
       "      <td>東方Project人妖名鑑 常世編</td>\n",
       "      <td>0.000000</td>\n",
       "      <td>0.000000</td>\n",
       "      <td>0.000000</td>\n",
       "      <td>0.000000</td>\n",
       "      <td>0.000000</td>\n",
       "      <td>0.000000</td>\n",
       "      <td>0.000788</td>\n",
       "    </tr>\n",
       "    <tr>\n",
       "      <th>56</th>\n",
       "      <td>56</td>\n",
       "      <td>虹色のセプテントリオン</td>\n",
       "      <td>0.000000</td>\n",
       "      <td>0.000000</td>\n",
       "      <td>0.000000</td>\n",
       "      <td>0.000000</td>\n",
       "      <td>0.000000</td>\n",
       "      <td>0.000000</td>\n",
       "      <td>0.000727</td>\n",
       "    </tr>\n",
       "  </tbody>\n",
       "</table>\n",
       "</div>"
      ],
      "text/plain": [
       "    Unnamed: 0                                 名前        12        13  \\\n",
       "0            0                              東方紅魔郷  0.111847  0.112262   \n",
       "1            1                              東方永夜抄  0.100213  0.101560   \n",
       "2            2                              東方妖々夢  0.089872  0.090694   \n",
       "3            3                              東方風神録  0.079220  0.079698   \n",
       "4            4                              東方地霊殿  0.068308  0.066046   \n",
       "5            5                              東方紺珠伝  0.058307  0.059633   \n",
       "6            6                              東方鈴奈庵  0.043567  0.046449   \n",
       "7            7                              東方輝針城  0.040094  0.039324   \n",
       "8            8                              東方星蓮船  0.037675  0.035748   \n",
       "9            9                             東方非想天則  0.033472  0.032207   \n",
       "10          10                              東方深秘録  0.030237  0.031270   \n",
       "11          11                              東方神霊廟  0.028713  0.027200   \n",
       "12          12                              東方茨歌仙  0.027045  0.028814   \n",
       "13          13                              東方花映塚  0.024813  0.023667   \n",
       "14          14                              東方緋想天  0.019166  0.018243   \n",
       "15          15                           弾幕アマノジャク  0.017599  0.015596   \n",
       "16          16                              東方儚月抄  0.015151  0.013461   \n",
       "17          17                              東方心綺楼  0.014414  0.012194   \n",
       "18          18                              東方三月精  0.014147  0.012932   \n",
       "19          19                    東方求聞史紀 / 東方求聞口授  0.013887  0.011552   \n",
       "20          20                              東方香霖堂  0.013555  0.011951   \n",
       "21          21                               大空魔術  0.011706  0.011873   \n",
       "22          22                              東方文花帖  0.010645  0.010640   \n",
       "23          23                           ダブルスポイラー  0.010226  0.010571   \n",
       "24          24                               蓬莱人形  0.009251  0.010085   \n",
       "25          25                              妖精大戦争  0.009222  0.009764   \n",
       "26          26                              東方幻想郷  0.007879  0.008410   \n",
       "27          27                              東方怪綺談  0.007366  0.007247   \n",
       "28          28                              東方萃夢想  0.007287  0.007039   \n",
       "29          29                              蓮台野夜行  0.006174  0.005554   \n",
       "30          30                              東方夢時空  0.005683  0.005476   \n",
       "31          31                              卯酉東海道  0.005568  0.005520   \n",
       "32          32             The Grimoire of Marisa  0.004427  0.004392   \n",
       "33          33                             夢違科学世紀  0.004174  0.004105   \n",
       "34          34                              東方靈異伝  0.004058  0.004183   \n",
       "35          35                              伊弉諾物質  0.003770  0.003359   \n",
       "36          36                               鳥船遺跡  0.003228  0.002656   \n",
       "37          37                          東方文花帖（書籍）  0.002939  0.002968   \n",
       "38          38                             幺樂団の歴史  0.001892  0.001935   \n",
       "39          39                              東方封魔録  0.001805  0.002178   \n",
       "40          40                          未知の花　魅知の旅  0.001401  0.001493   \n",
       "41          41                              燕石博物誌  0.000000  0.005685   \n",
       "42          42                               旧約酒場  0.000000  0.004365   \n",
       "43          43                              東方天空璋  0.000000  0.000000   \n",
       "44          44                              東方憑依華  0.000000  0.000000   \n",
       "45          45                             東方文果真報  0.000000  0.000000   \n",
       "46          46                       秘封ナイトメアダイアリー  0.000000  0.000000   \n",
       "47          47                              東方鬼形獣  0.000000  0.000000   \n",
       "48          48                              東方酔蝶華  0.000000  0.000000   \n",
       "49          49                     東方智霊奇伝 反則探偵さとり  0.000000  0.000000   \n",
       "50          50  The Grimoire of Usami 秘封倶楽部異界撮影記録  0.000000  0.000000   \n",
       "51          51                             東方剛欲異聞  0.000000  0.000000   \n",
       "52          52                  東方Project人妖名鑑 宵闇編  0.000000  0.000000   \n",
       "53          53                              東方虹龍洞  0.000000  0.000000   \n",
       "54          54                      バレットフィリア達の闇市場  0.000000  0.000000   \n",
       "55          55                  東方Project人妖名鑑 常世編  0.000000  0.000000   \n",
       "56          56                        虹色のセプテントリオン  0.000000  0.000000   \n",
       "\n",
       "          14        15        16        17        18  \n",
       "0   0.102363  0.105599  0.108930  0.115853  0.142244  \n",
       "1   0.096241  0.096502  0.095184  0.097291  0.096774  \n",
       "2   0.084319  0.083494  0.082593  0.084051  0.086252  \n",
       "3   0.073878  0.075428  0.078724  0.077559  0.079972  \n",
       "4   0.060757  0.063530  0.064347  0.060517  0.062246  \n",
       "5   0.060022  0.060188  0.060861  0.055453  0.048781  \n",
       "6   0.045372  0.039334  0.030129  0.023493  0.020588  \n",
       "7   0.036088  0.035346  0.030464  0.025543  0.020289  \n",
       "8   0.031748  0.031346  0.030282  0.027710  0.024292  \n",
       "9   0.029815  0.025848  0.023710  0.018811  0.016000  \n",
       "10  0.020450  0.015382  0.011368  0.008949  0.008265  \n",
       "11  0.025354  0.025900  0.026729  0.026846  0.023599  \n",
       "12  0.026029  0.026584  0.027932  0.024671  0.024482  \n",
       "13  0.021367  0.022919  0.020118  0.021276  0.022436  \n",
       "14  0.017631  0.015886  0.013689  0.013556  0.012785  \n",
       "15  0.014761  0.012053  0.009323  0.009065  0.007796  \n",
       "16  0.012335  0.012763  0.011683  0.010734  0.011684  \n",
       "17  0.009465  0.008220  0.007652  0.007322  0.006511  \n",
       "18  0.013050  0.015886  0.011721  0.009571  0.008625  \n",
       "19  0.010230  0.010285  0.008817  0.007098  0.006675  \n",
       "20  0.010643  0.009820  0.008922  0.007413  0.005519  \n",
       "21  0.012818  0.013072  0.012858  0.008907  0.008054  \n",
       "22  0.008760  0.009253  0.007661  0.007587  0.006491  \n",
       "23  0.009294  0.008233  0.006763  0.005537  0.004622  \n",
       "24  0.010915  0.012789  0.012591  0.010734  0.010426  \n",
       "25  0.008619  0.008866  0.007375  0.007571  0.006403  \n",
       "26  0.008247  0.008840  0.010919  0.015847  0.018059  \n",
       "27  0.007491  0.008336  0.007824  0.007729  0.007769  \n",
       "28  0.006394  0.006298  0.007002  0.006226  0.006756  \n",
       "29  0.005125  0.006027  0.005330  0.004773  0.004187  \n",
       "30  0.005176  0.006130  0.006267  0.006716  0.006532  \n",
       "31  0.005709  0.006723  0.006620  0.005404  0.005648  \n",
       "32  0.004199  0.004091  0.003286  0.002964  0.003113  \n",
       "33  0.004068  0.004839  0.004996  0.003868  0.003419  \n",
       "34  0.004420  0.005833  0.005999  0.008069  0.009101  \n",
       "35  0.003474  0.003626  0.003640  0.003420  0.002637  \n",
       "36  0.002739  0.002645  0.002971  0.002524  0.002127  \n",
       "37  0.002276  0.002594  0.001681  0.001918  0.001794  \n",
       "38  0.001782  0.002155  0.002188  0.001801  0.001706  \n",
       "39  0.002618  0.002749  0.003544  0.005222  0.005791  \n",
       "40  0.001682  0.003033  0.002417  0.001992  0.001455  \n",
       "41  0.004803  0.005188  0.004318  0.003071  0.002610  \n",
       "42  0.003242  0.002955  0.002703  0.002499  0.002025  \n",
       "43  0.035202  0.031255  0.023213  0.018429  0.016007  \n",
       "44  0.032906  0.029242  0.021637  0.019500  0.020051  \n",
       "45  0.006122  0.004271  0.002503  0.002059  0.001998  \n",
       "46  0.000000  0.008646  0.004346  0.004142  0.003072  \n",
       "47  0.000000  0.000000  0.035785  0.029602  0.025006  \n",
       "48  0.000000  0.000000  0.007040  0.010767  0.009584  \n",
       "49  0.000000  0.000000  0.006219  0.006832  0.009128  \n",
       "50  0.000000  0.000000  0.004413  0.004325  0.003276  \n",
       "51  0.000000  0.000000  0.001509  0.003370  0.010712  \n",
       "52  0.000000  0.000000  0.001204  0.002308  0.001033  \n",
       "53  0.000000  0.000000  0.000000  0.041507  0.030423  \n",
       "54  0.000000  0.000000  0.000000  0.000000  0.011657  \n",
       "55  0.000000  0.000000  0.000000  0.000000  0.000788  \n",
       "56  0.000000  0.000000  0.000000  0.000000  0.000727  "
      ]
     },
     "execution_count": 239,
     "metadata": {},
     "output_type": "execute_result"
    }
   ],
   "source": [
    "title_points_ratio=pd.read_csv(\"data/title_points_ratio.csv\")\n",
    "title_points_ratio"
   ]
  },
  {
   "cell_type": "code",
   "execution_count": 263,
   "id": "29af5d9b",
   "metadata": {},
   "outputs": [
    {
     "data": {
      "text/html": [
       "<div>\n",
       "<style scoped>\n",
       "    .dataframe tbody tr th:only-of-type {\n",
       "        vertical-align: middle;\n",
       "    }\n",
       "\n",
       "    .dataframe tbody tr th {\n",
       "        vertical-align: top;\n",
       "    }\n",
       "\n",
       "    .dataframe thead th {\n",
       "        text-align: right;\n",
       "    }\n",
       "</style>\n",
       "<table border=\"1\" class=\"dataframe\">\n",
       "  <thead>\n",
       "    <tr style=\"text-align: right;\">\n",
       "      <th></th>\n",
       "      <th>1</th>\n",
       "      <th>2</th>\n",
       "      <th>3</th>\n",
       "      <th>4</th>\n",
       "      <th>5</th>\n",
       "      <th>6</th>\n",
       "      <th>7</th>\n",
       "      <th>8</th>\n",
       "      <th>9</th>\n",
       "      <th>11</th>\n",
       "      <th>12</th>\n",
       "      <th>13</th>\n",
       "      <th>14</th>\n",
       "      <th>15</th>\n",
       "      <th>16</th>\n",
       "      <th>17</th>\n",
       "      <th>18</th>\n",
       "    </tr>\n",
       "    <tr>\n",
       "      <th>title</th>\n",
       "      <th></th>\n",
       "      <th></th>\n",
       "      <th></th>\n",
       "      <th></th>\n",
       "      <th></th>\n",
       "      <th></th>\n",
       "      <th></th>\n",
       "      <th></th>\n",
       "      <th></th>\n",
       "      <th></th>\n",
       "      <th></th>\n",
       "      <th></th>\n",
       "      <th></th>\n",
       "      <th></th>\n",
       "      <th></th>\n",
       "      <th></th>\n",
       "      <th></th>\n",
       "    </tr>\n",
       "  </thead>\n",
       "  <tbody>\n",
       "    <tr>\n",
       "      <th>Cradle</th>\n",
       "      <td>0.000000</td>\n",
       "      <td>0.000000</td>\n",
       "      <td>0.050724</td>\n",
       "      <td>0.000000</td>\n",
       "      <td>0.009402</td>\n",
       "      <td>0.007345</td>\n",
       "      <td>0.005253</td>\n",
       "      <td>0.004498</td>\n",
       "      <td>0.004107</td>\n",
       "      <td>0.004097</td>\n",
       "      <td>0.004002</td>\n",
       "      <td>0.004440</td>\n",
       "      <td>0.004172</td>\n",
       "      <td>0.004039</td>\n",
       "      <td>0.003365</td>\n",
       "      <td>0.003420</td>\n",
       "      <td>0.003075</td>\n",
       "    </tr>\n",
       "    <tr>\n",
       "      <th>ダブルスポイラー</th>\n",
       "      <td>0.000000</td>\n",
       "      <td>0.000000</td>\n",
       "      <td>0.000000</td>\n",
       "      <td>0.000000</td>\n",
       "      <td>0.012242</td>\n",
       "      <td>0.008863</td>\n",
       "      <td>0.006615</td>\n",
       "      <td>0.027892</td>\n",
       "      <td>0.022421</td>\n",
       "      <td>0.013974</td>\n",
       "      <td>0.011428</td>\n",
       "      <td>0.011257</td>\n",
       "      <td>0.010466</td>\n",
       "      <td>0.010956</td>\n",
       "      <td>0.009735</td>\n",
       "      <td>0.008427</td>\n",
       "      <td>0.006938</td>\n",
       "    </tr>\n",
       "    <tr>\n",
       "      <th>トルテルマジック</th>\n",
       "      <td>0.007375</td>\n",
       "      <td>0.004779</td>\n",
       "      <td>0.002953</td>\n",
       "      <td>0.001707</td>\n",
       "      <td>0.000771</td>\n",
       "      <td>0.000724</td>\n",
       "      <td>0.000694</td>\n",
       "      <td>0.000671</td>\n",
       "      <td>0.000623</td>\n",
       "      <td>0.000752</td>\n",
       "      <td>0.000696</td>\n",
       "      <td>0.000785</td>\n",
       "      <td>0.000745</td>\n",
       "      <td>0.000752</td>\n",
       "      <td>0.000732</td>\n",
       "      <td>0.000624</td>\n",
       "      <td>0.000746</td>\n",
       "    </tr>\n",
       "    <tr>\n",
       "      <th>メニュー</th>\n",
       "      <td>0.001475</td>\n",
       "      <td>0.000000</td>\n",
       "      <td>0.000811</td>\n",
       "      <td>0.001014</td>\n",
       "      <td>0.000508</td>\n",
       "      <td>0.000724</td>\n",
       "      <td>0.000532</td>\n",
       "      <td>0.000551</td>\n",
       "      <td>0.000528</td>\n",
       "      <td>0.000914</td>\n",
       "      <td>0.000923</td>\n",
       "      <td>0.000789</td>\n",
       "      <td>0.000891</td>\n",
       "      <td>0.001133</td>\n",
       "      <td>0.001056</td>\n",
       "      <td>0.001043</td>\n",
       "      <td>0.000916</td>\n",
       "    </tr>\n",
       "    <tr>\n",
       "      <th>妖精大戦争</th>\n",
       "      <td>0.000000</td>\n",
       "      <td>0.000000</td>\n",
       "      <td>0.000000</td>\n",
       "      <td>0.000000</td>\n",
       "      <td>0.000132</td>\n",
       "      <td>0.000203</td>\n",
       "      <td>0.000856</td>\n",
       "      <td>0.026149</td>\n",
       "      <td>0.022246</td>\n",
       "      <td>0.018338</td>\n",
       "      <td>0.016334</td>\n",
       "      <td>0.015659</td>\n",
       "      <td>0.014559</td>\n",
       "      <td>0.013732</td>\n",
       "      <td>0.011919</td>\n",
       "      <td>0.009549</td>\n",
       "      <td>0.008551</td>\n",
       "    </tr>\n",
       "    <tr>\n",
       "      <th>弾幕アマノジャク</th>\n",
       "      <td>0.000000</td>\n",
       "      <td>0.000000</td>\n",
       "      <td>0.000000</td>\n",
       "      <td>0.000000</td>\n",
       "      <td>0.012242</td>\n",
       "      <td>0.008863</td>\n",
       "      <td>0.006615</td>\n",
       "      <td>0.010984</td>\n",
       "      <td>0.010548</td>\n",
       "      <td>0.024598</td>\n",
       "      <td>0.019668</td>\n",
       "      <td>0.020372</td>\n",
       "      <td>0.018713</td>\n",
       "      <td>0.017917</td>\n",
       "      <td>0.016649</td>\n",
       "      <td>0.015249</td>\n",
       "      <td>0.012707</td>\n",
       "    </tr>\n",
       "    <tr>\n",
       "      <th>東方剛欲異聞</th>\n",
       "      <td>0.000000</td>\n",
       "      <td>0.000000</td>\n",
       "      <td>0.000000</td>\n",
       "      <td>0.000000</td>\n",
       "      <td>0.000000</td>\n",
       "      <td>0.000000</td>\n",
       "      <td>0.000000</td>\n",
       "      <td>0.000000</td>\n",
       "      <td>0.000000</td>\n",
       "      <td>0.000000</td>\n",
       "      <td>0.000000</td>\n",
       "      <td>0.000000</td>\n",
       "      <td>0.000000</td>\n",
       "      <td>0.000000</td>\n",
       "      <td>0.000000</td>\n",
       "      <td>0.000000</td>\n",
       "      <td>0.004617</td>\n",
       "    </tr>\n",
       "    <tr>\n",
       "      <th>東方地霊殿</th>\n",
       "      <td>0.000000</td>\n",
       "      <td>0.000000</td>\n",
       "      <td>0.000000</td>\n",
       "      <td>0.000000</td>\n",
       "      <td>0.000132</td>\n",
       "      <td>0.129284</td>\n",
       "      <td>0.113244</td>\n",
       "      <td>0.112702</td>\n",
       "      <td>0.102927</td>\n",
       "      <td>0.094955</td>\n",
       "      <td>0.085020</td>\n",
       "      <td>0.081726</td>\n",
       "      <td>0.076229</td>\n",
       "      <td>0.076874</td>\n",
       "      <td>0.076502</td>\n",
       "      <td>0.067095</td>\n",
       "      <td>0.070123</td>\n",
       "    </tr>\n",
       "    <tr>\n",
       "      <th>東方夢時空</th>\n",
       "      <td>0.004425</td>\n",
       "      <td>0.006145</td>\n",
       "      <td>0.002664</td>\n",
       "      <td>0.004854</td>\n",
       "      <td>0.007842</td>\n",
       "      <td>0.011769</td>\n",
       "      <td>0.010825</td>\n",
       "      <td>0.011570</td>\n",
       "      <td>0.010888</td>\n",
       "      <td>0.009648</td>\n",
       "      <td>0.008635</td>\n",
       "      <td>0.008839</td>\n",
       "      <td>0.008234</td>\n",
       "      <td>0.008611</td>\n",
       "      <td>0.008610</td>\n",
       "      <td>0.007547</td>\n",
       "      <td>0.006677</td>\n",
       "    </tr>\n",
       "    <tr>\n",
       "      <th>東方天空璋</th>\n",
       "      <td>0.000000</td>\n",
       "      <td>0.000000</td>\n",
       "      <td>0.000000</td>\n",
       "      <td>0.000000</td>\n",
       "      <td>0.000000</td>\n",
       "      <td>0.000000</td>\n",
       "      <td>0.000000</td>\n",
       "      <td>0.000000</td>\n",
       "      <td>0.000000</td>\n",
       "      <td>0.000000</td>\n",
       "      <td>0.000000</td>\n",
       "      <td>0.000000</td>\n",
       "      <td>0.038286</td>\n",
       "      <td>0.031425</td>\n",
       "      <td>0.023491</td>\n",
       "      <td>0.020491</td>\n",
       "      <td>0.017689</td>\n",
       "    </tr>\n",
       "    <tr>\n",
       "      <th>東方妖々夢</th>\n",
       "      <td>0.134218</td>\n",
       "      <td>0.497497</td>\n",
       "      <td>0.312565</td>\n",
       "      <td>0.095060</td>\n",
       "      <td>0.204314</td>\n",
       "      <td>0.161646</td>\n",
       "      <td>0.135117</td>\n",
       "      <td>0.123530</td>\n",
       "      <td>0.121568</td>\n",
       "      <td>0.112131</td>\n",
       "      <td>0.104872</td>\n",
       "      <td>0.104654</td>\n",
       "      <td>0.099127</td>\n",
       "      <td>0.097786</td>\n",
       "      <td>0.094763</td>\n",
       "      <td>0.101089</td>\n",
       "      <td>0.098189</td>\n",
       "    </tr>\n",
       "    <tr>\n",
       "      <th>東方封魔録</th>\n",
       "      <td>0.011799</td>\n",
       "      <td>0.005462</td>\n",
       "      <td>0.004690</td>\n",
       "      <td>0.001760</td>\n",
       "      <td>0.001918</td>\n",
       "      <td>0.001924</td>\n",
       "      <td>0.001920</td>\n",
       "      <td>0.002154</td>\n",
       "      <td>0.002150</td>\n",
       "      <td>0.001865</td>\n",
       "      <td>0.001911</td>\n",
       "      <td>0.002231</td>\n",
       "      <td>0.001927</td>\n",
       "      <td>0.002266</td>\n",
       "      <td>0.002345</td>\n",
       "      <td>0.002009</td>\n",
       "      <td>0.002036</td>\n",
       "    </tr>\n",
       "    <tr>\n",
       "      <th>東方幻想郷</th>\n",
       "      <td>0.017699</td>\n",
       "      <td>0.011607</td>\n",
       "      <td>0.008512</td>\n",
       "      <td>0.004641</td>\n",
       "      <td>0.013295</td>\n",
       "      <td>0.016551</td>\n",
       "      <td>0.015358</td>\n",
       "      <td>0.014224</td>\n",
       "      <td>0.014045</td>\n",
       "      <td>0.012433</td>\n",
       "      <td>0.012202</td>\n",
       "      <td>0.012240</td>\n",
       "      <td>0.011471</td>\n",
       "      <td>0.011511</td>\n",
       "      <td>0.011459</td>\n",
       "      <td>0.012450</td>\n",
       "      <td>0.011485</td>\n",
       "    </tr>\n",
       "    <tr>\n",
       "      <th>東方幻想麻雀</th>\n",
       "      <td>0.000000</td>\n",
       "      <td>0.000000</td>\n",
       "      <td>0.000000</td>\n",
       "      <td>0.000000</td>\n",
       "      <td>0.000000</td>\n",
       "      <td>0.000000</td>\n",
       "      <td>0.001242</td>\n",
       "      <td>0.001147</td>\n",
       "      <td>0.001384</td>\n",
       "      <td>0.000914</td>\n",
       "      <td>0.000674</td>\n",
       "      <td>0.000703</td>\n",
       "      <td>0.000635</td>\n",
       "      <td>0.000583</td>\n",
       "      <td>0.000656</td>\n",
       "      <td>0.000415</td>\n",
       "      <td>0.000423</td>\n",
       "    </tr>\n",
       "    <tr>\n",
       "      <th>東方心綺楼</th>\n",
       "      <td>0.000000</td>\n",
       "      <td>0.000000</td>\n",
       "      <td>0.000000</td>\n",
       "      <td>0.000000</td>\n",
       "      <td>0.000000</td>\n",
       "      <td>0.000000</td>\n",
       "      <td>0.000000</td>\n",
       "      <td>0.000000</td>\n",
       "      <td>0.000000</td>\n",
       "      <td>0.006732</td>\n",
       "      <td>0.004835</td>\n",
       "      <td>0.005146</td>\n",
       "      <td>0.004935</td>\n",
       "      <td>0.004561</td>\n",
       "      <td>0.003513</td>\n",
       "      <td>0.003633</td>\n",
       "      <td>0.003187</td>\n",
       "    </tr>\n",
       "    <tr>\n",
       "      <th>東方怪綺談</th>\n",
       "      <td>0.051622</td>\n",
       "      <td>0.022986</td>\n",
       "      <td>0.011465</td>\n",
       "      <td>0.011789</td>\n",
       "      <td>0.014837</td>\n",
       "      <td>0.016637</td>\n",
       "      <td>0.021284</td>\n",
       "      <td>0.018857</td>\n",
       "      <td>0.018291</td>\n",
       "      <td>0.014061</td>\n",
       "      <td>0.011546</td>\n",
       "      <td>0.012359</td>\n",
       "      <td>0.011912</td>\n",
       "      <td>0.012599</td>\n",
       "      <td>0.011715</td>\n",
       "      <td>0.009903</td>\n",
       "      <td>0.008824</td>\n",
       "    </tr>\n",
       "    <tr>\n",
       "      <th>東方憑依華</th>\n",
       "      <td>0.000000</td>\n",
       "      <td>0.000000</td>\n",
       "      <td>0.000000</td>\n",
       "      <td>0.000000</td>\n",
       "      <td>0.000000</td>\n",
       "      <td>0.000000</td>\n",
       "      <td>0.000000</td>\n",
       "      <td>0.000000</td>\n",
       "      <td>0.000000</td>\n",
       "      <td>0.000000</td>\n",
       "      <td>0.000000</td>\n",
       "      <td>0.000000</td>\n",
       "      <td>0.009967</td>\n",
       "      <td>0.013844</td>\n",
       "      <td>0.010719</td>\n",
       "      <td>0.009953</td>\n",
       "      <td>0.009743</td>\n",
       "    </tr>\n",
       "    <tr>\n",
       "      <th>東方文花帖</th>\n",
       "      <td>0.000000</td>\n",
       "      <td>0.000000</td>\n",
       "      <td>0.000000</td>\n",
       "      <td>0.050731</td>\n",
       "      <td>0.060326</td>\n",
       "      <td>0.036575</td>\n",
       "      <td>0.025682</td>\n",
       "      <td>0.022779</td>\n",
       "      <td>0.022882</td>\n",
       "      <td>0.017990</td>\n",
       "      <td>0.017499</td>\n",
       "      <td>0.017801</td>\n",
       "      <td>0.015097</td>\n",
       "      <td>0.015656</td>\n",
       "      <td>0.013820</td>\n",
       "      <td>0.012544</td>\n",
       "      <td>0.011373</td>\n",
       "    </tr>\n",
       "    <tr>\n",
       "      <th>東方星蓮船</th>\n",
       "      <td>0.000000</td>\n",
       "      <td>0.000000</td>\n",
       "      <td>0.000000</td>\n",
       "      <td>0.000000</td>\n",
       "      <td>0.000132</td>\n",
       "      <td>0.000203</td>\n",
       "      <td>0.107083</td>\n",
       "      <td>0.100185</td>\n",
       "      <td>0.077882</td>\n",
       "      <td>0.058235</td>\n",
       "      <td>0.049624</td>\n",
       "      <td>0.048084</td>\n",
       "      <td>0.044271</td>\n",
       "      <td>0.043284</td>\n",
       "      <td>0.039963</td>\n",
       "      <td>0.034258</td>\n",
       "      <td>0.031541</td>\n",
       "    </tr>\n",
       "    <tr>\n",
       "      <th>東方永夜抄</th>\n",
       "      <td>0.000000</td>\n",
       "      <td>0.000000</td>\n",
       "      <td>0.363231</td>\n",
       "      <td>0.077777</td>\n",
       "      <td>0.127609</td>\n",
       "      <td>0.111985</td>\n",
       "      <td>0.089002</td>\n",
       "      <td>0.083066</td>\n",
       "      <td>0.078567</td>\n",
       "      <td>0.085214</td>\n",
       "      <td>0.081475</td>\n",
       "      <td>0.082900</td>\n",
       "      <td>0.077671</td>\n",
       "      <td>0.076835</td>\n",
       "      <td>0.076138</td>\n",
       "      <td>0.078917</td>\n",
       "      <td>0.079866</td>\n",
       "    </tr>\n",
       "    <tr>\n",
       "      <th>東方深秘録</th>\n",
       "      <td>0.000000</td>\n",
       "      <td>0.000000</td>\n",
       "      <td>0.000000</td>\n",
       "      <td>0.000000</td>\n",
       "      <td>0.000000</td>\n",
       "      <td>0.000000</td>\n",
       "      <td>0.000000</td>\n",
       "      <td>0.000000</td>\n",
       "      <td>0.000000</td>\n",
       "      <td>0.004712</td>\n",
       "      <td>0.002576</td>\n",
       "      <td>0.001745</td>\n",
       "      <td>0.001557</td>\n",
       "      <td>0.001257</td>\n",
       "      <td>0.001156</td>\n",
       "      <td>0.001162</td>\n",
       "      <td>0.000975</td>\n",
       "    </tr>\n",
       "    <tr>\n",
       "      <th>東方神霊廟</th>\n",
       "      <td>0.000000</td>\n",
       "      <td>0.000000</td>\n",
       "      <td>0.000000</td>\n",
       "      <td>0.000000</td>\n",
       "      <td>0.000132</td>\n",
       "      <td>0.000203</td>\n",
       "      <td>0.000256</td>\n",
       "      <td>0.000240</td>\n",
       "      <td>0.066519</td>\n",
       "      <td>0.045032</td>\n",
       "      <td>0.038662</td>\n",
       "      <td>0.037260</td>\n",
       "      <td>0.035993</td>\n",
       "      <td>0.034280</td>\n",
       "      <td>0.033333</td>\n",
       "      <td>0.029554</td>\n",
       "      <td>0.027003</td>\n",
       "    </tr>\n",
       "    <tr>\n",
       "      <th>東方紅魔郷</th>\n",
       "      <td>0.573746</td>\n",
       "      <td>0.368457</td>\n",
       "      <td>0.221540</td>\n",
       "      <td>0.131708</td>\n",
       "      <td>0.190718</td>\n",
       "      <td>0.149020</td>\n",
       "      <td>0.132321</td>\n",
       "      <td>0.130317</td>\n",
       "      <td>0.129482</td>\n",
       "      <td>0.141193</td>\n",
       "      <td>0.160231</td>\n",
       "      <td>0.159443</td>\n",
       "      <td>0.148188</td>\n",
       "      <td>0.150634</td>\n",
       "      <td>0.158557</td>\n",
       "      <td>0.177917</td>\n",
       "      <td>0.209684</td>\n",
       "    </tr>\n",
       "    <tr>\n",
       "      <th>東方紺珠伝</th>\n",
       "      <td>0.000000</td>\n",
       "      <td>0.000000</td>\n",
       "      <td>0.000000</td>\n",
       "      <td>0.000000</td>\n",
       "      <td>0.000000</td>\n",
       "      <td>0.000000</td>\n",
       "      <td>0.000000</td>\n",
       "      <td>0.000000</td>\n",
       "      <td>0.000000</td>\n",
       "      <td>0.000000</td>\n",
       "      <td>0.061316</td>\n",
       "      <td>0.060592</td>\n",
       "      <td>0.059906</td>\n",
       "      <td>0.059394</td>\n",
       "      <td>0.052983</td>\n",
       "      <td>0.048122</td>\n",
       "      <td>0.042976</td>\n",
       "    </tr>\n",
       "    <tr>\n",
       "      <th>東方緋想天</th>\n",
       "      <td>0.000000</td>\n",
       "      <td>0.000000</td>\n",
       "      <td>0.000000</td>\n",
       "      <td>0.000000</td>\n",
       "      <td>0.000000</td>\n",
       "      <td>0.017789</td>\n",
       "      <td>0.012603</td>\n",
       "      <td>0.012692</td>\n",
       "      <td>0.010740</td>\n",
       "      <td>0.009325</td>\n",
       "      <td>0.008728</td>\n",
       "      <td>0.008738</td>\n",
       "      <td>0.010166</td>\n",
       "      <td>0.009194</td>\n",
       "      <td>0.007806</td>\n",
       "      <td>0.008085</td>\n",
       "      <td>0.006788</td>\n",
       "    </tr>\n",
       "    <tr>\n",
       "      <th>東方花映塚</th>\n",
       "      <td>0.000000</td>\n",
       "      <td>0.114247</td>\n",
       "      <td>0.080834</td>\n",
       "      <td>0.022725</td>\n",
       "      <td>0.084960</td>\n",
       "      <td>0.075970</td>\n",
       "      <td>0.059340</td>\n",
       "      <td>0.054402</td>\n",
       "      <td>0.052142</td>\n",
       "      <td>0.052429</td>\n",
       "      <td>0.053834</td>\n",
       "      <td>0.054265</td>\n",
       "      <td>0.051795</td>\n",
       "      <td>0.051193</td>\n",
       "      <td>0.051183</td>\n",
       "      <td>0.059147</td>\n",
       "      <td>0.057666</td>\n",
       "    </tr>\n",
       "    <tr>\n",
       "      <th>東方萃夢想</th>\n",
       "      <td>0.000000</td>\n",
       "      <td>0.000000</td>\n",
       "      <td>0.000000</td>\n",
       "      <td>0.010829</td>\n",
       "      <td>0.022284</td>\n",
       "      <td>0.015523</td>\n",
       "      <td>0.015003</td>\n",
       "      <td>0.013483</td>\n",
       "      <td>0.012182</td>\n",
       "      <td>0.011743</td>\n",
       "      <td>0.006304</td>\n",
       "      <td>0.006308</td>\n",
       "      <td>0.006205</td>\n",
       "      <td>0.006064</td>\n",
       "      <td>0.005346</td>\n",
       "      <td>0.004776</td>\n",
       "      <td>0.004330</td>\n",
       "    </tr>\n",
       "    <tr>\n",
       "      <th>東方虹龍洞</th>\n",
       "      <td>0.000000</td>\n",
       "      <td>0.000000</td>\n",
       "      <td>0.000000</td>\n",
       "      <td>0.000000</td>\n",
       "      <td>0.000000</td>\n",
       "      <td>0.000000</td>\n",
       "      <td>0.000000</td>\n",
       "      <td>0.000000</td>\n",
       "      <td>0.000000</td>\n",
       "      <td>0.000000</td>\n",
       "      <td>0.000000</td>\n",
       "      <td>0.000000</td>\n",
       "      <td>0.000000</td>\n",
       "      <td>0.000000</td>\n",
       "      <td>0.000000</td>\n",
       "      <td>0.030405</td>\n",
       "      <td>0.020699</td>\n",
       "    </tr>\n",
       "    <tr>\n",
       "      <th>東方輝針城</th>\n",
       "      <td>0.000000</td>\n",
       "      <td>0.000000</td>\n",
       "      <td>0.000000</td>\n",
       "      <td>0.000000</td>\n",
       "      <td>0.000132</td>\n",
       "      <td>0.000203</td>\n",
       "      <td>0.000256</td>\n",
       "      <td>0.000240</td>\n",
       "      <td>0.000237</td>\n",
       "      <td>0.059646</td>\n",
       "      <td>0.046837</td>\n",
       "      <td>0.044772</td>\n",
       "      <td>0.044589</td>\n",
       "      <td>0.042554</td>\n",
       "      <td>0.037927</td>\n",
       "      <td>0.031249</td>\n",
       "      <td>0.024703</td>\n",
       "    </tr>\n",
       "    <tr>\n",
       "      <th>東方靈異伝</th>\n",
       "      <td>0.020649</td>\n",
       "      <td>0.010014</td>\n",
       "      <td>0.005038</td>\n",
       "      <td>0.004694</td>\n",
       "      <td>0.001937</td>\n",
       "      <td>0.001495</td>\n",
       "      <td>0.001862</td>\n",
       "      <td>0.001883</td>\n",
       "      <td>0.002181</td>\n",
       "      <td>0.002555</td>\n",
       "      <td>0.002222</td>\n",
       "      <td>0.002653</td>\n",
       "      <td>0.002933</td>\n",
       "      <td>0.003276</td>\n",
       "      <td>0.003213</td>\n",
       "      <td>0.003041</td>\n",
       "      <td>0.002611</td>\n",
       "    </tr>\n",
       "    <tr>\n",
       "      <th>東方非想天則</th>\n",
       "      <td>0.156342</td>\n",
       "      <td>0.077606</td>\n",
       "      <td>0.043486</td>\n",
       "      <td>0.022885</td>\n",
       "      <td>0.075332</td>\n",
       "      <td>0.084616</td>\n",
       "      <td>0.110917</td>\n",
       "      <td>0.100391</td>\n",
       "      <td>0.084170</td>\n",
       "      <td>0.058987</td>\n",
       "      <td>0.065458</td>\n",
       "      <td>0.064251</td>\n",
       "      <td>0.061754</td>\n",
       "      <td>0.062435</td>\n",
       "      <td>0.062374</td>\n",
       "      <td>0.061860</td>\n",
       "      <td>0.062783</td>\n",
       "    </tr>\n",
       "    <tr>\n",
       "      <th>東方風神録</th>\n",
       "      <td>0.000000</td>\n",
       "      <td>0.000000</td>\n",
       "      <td>0.000000</td>\n",
       "      <td>0.000000</td>\n",
       "      <td>0.193069</td>\n",
       "      <td>0.165735</td>\n",
       "      <td>0.144460</td>\n",
       "      <td>0.143138</td>\n",
       "      <td>0.136446</td>\n",
       "      <td>0.101986</td>\n",
       "      <td>0.097157</td>\n",
       "      <td>0.096388</td>\n",
       "      <td>0.088379</td>\n",
       "      <td>0.090107</td>\n",
       "      <td>0.088713</td>\n",
       "      <td>0.084112</td>\n",
       "      <td>0.089427</td>\n",
       "    </tr>\n",
       "    <tr>\n",
       "      <th>東方鬼形獣</th>\n",
       "      <td>0.000000</td>\n",
       "      <td>0.000000</td>\n",
       "      <td>0.000000</td>\n",
       "      <td>0.000000</td>\n",
       "      <td>0.000000</td>\n",
       "      <td>0.000000</td>\n",
       "      <td>0.000000</td>\n",
       "      <td>0.000000</td>\n",
       "      <td>0.000000</td>\n",
       "      <td>0.000000</td>\n",
       "      <td>0.000000</td>\n",
       "      <td>0.000000</td>\n",
       "      <td>0.000000</td>\n",
       "      <td>0.000000</td>\n",
       "      <td>0.017121</td>\n",
       "      <td>0.011173</td>\n",
       "      <td>0.008783</td>\n",
       "    </tr>\n",
       "    <tr>\n",
       "      <th>神魔討綺伝</th>\n",
       "      <td>0.000000</td>\n",
       "      <td>0.000000</td>\n",
       "      <td>0.000000</td>\n",
       "      <td>0.000000</td>\n",
       "      <td>0.000000</td>\n",
       "      <td>0.000000</td>\n",
       "      <td>0.000355</td>\n",
       "      <td>0.000381</td>\n",
       "      <td>0.000372</td>\n",
       "      <td>0.000292</td>\n",
       "      <td>0.000180</td>\n",
       "      <td>0.000183</td>\n",
       "      <td>0.000212</td>\n",
       "      <td>0.000297</td>\n",
       "      <td>0.000260</td>\n",
       "      <td>0.000162</td>\n",
       "      <td>0.000194</td>\n",
       "    </tr>\n",
       "    <tr>\n",
       "      <th>秋霜玉</th>\n",
       "      <td>0.042773</td>\n",
       "      <td>0.028448</td>\n",
       "      <td>0.012044</td>\n",
       "      <td>0.009869</td>\n",
       "      <td>0.004344</td>\n",
       "      <td>0.003894</td>\n",
       "      <td>0.003928</td>\n",
       "      <td>0.003882</td>\n",
       "      <td>0.004031</td>\n",
       "      <td>0.003102</td>\n",
       "      <td>0.002622</td>\n",
       "      <td>0.002844</td>\n",
       "      <td>0.002659</td>\n",
       "      <td>0.003136</td>\n",
       "      <td>0.002561</td>\n",
       "      <td>0.002345</td>\n",
       "      <td>0.002262</td>\n",
       "    </tr>\n",
       "    <tr>\n",
       "      <th>秘封ナイトメアダイアリー</th>\n",
       "      <td>0.000000</td>\n",
       "      <td>0.000000</td>\n",
       "      <td>0.000000</td>\n",
       "      <td>0.000000</td>\n",
       "      <td>0.000000</td>\n",
       "      <td>0.000000</td>\n",
       "      <td>0.000000</td>\n",
       "      <td>0.000000</td>\n",
       "      <td>0.000000</td>\n",
       "      <td>0.000000</td>\n",
       "      <td>0.005521</td>\n",
       "      <td>0.005236</td>\n",
       "      <td>0.014113</td>\n",
       "      <td>0.015735</td>\n",
       "      <td>0.010839</td>\n",
       "      <td>0.009279</td>\n",
       "      <td>0.008104</td>\n",
       "    </tr>\n",
       "    <tr>\n",
       "      <th>稀翁玉</th>\n",
       "      <td>0.002950</td>\n",
       "      <td>0.001821</td>\n",
       "      <td>0.001042</td>\n",
       "      <td>0.000000</td>\n",
       "      <td>0.000470</td>\n",
       "      <td>0.000382</td>\n",
       "      <td>0.000365</td>\n",
       "      <td>0.000471</td>\n",
       "      <td>0.000470</td>\n",
       "      <td>0.000429</td>\n",
       "      <td>0.000419</td>\n",
       "      <td>0.000381</td>\n",
       "      <td>0.000388</td>\n",
       "      <td>0.000527</td>\n",
       "      <td>0.000504</td>\n",
       "      <td>0.000393</td>\n",
       "      <td>0.000394</td>\n",
       "    </tr>\n",
       "    <tr>\n",
       "      <th>黄昏酒場</th>\n",
       "      <td>0.000000</td>\n",
       "      <td>0.000000</td>\n",
       "      <td>0.000000</td>\n",
       "      <td>0.000000</td>\n",
       "      <td>0.000583</td>\n",
       "      <td>0.001207</td>\n",
       "      <td>0.000845</td>\n",
       "      <td>0.000766</td>\n",
       "      <td>0.000694</td>\n",
       "      <td>0.000479</td>\n",
       "      <td>0.000441</td>\n",
       "      <td>0.000527</td>\n",
       "      <td>0.000512</td>\n",
       "      <td>0.000482</td>\n",
       "      <td>0.000444</td>\n",
       "      <td>0.000336</td>\n",
       "      <td>0.000305</td>\n",
       "    </tr>\n",
       "  </tbody>\n",
       "</table>\n",
       "</div>"
      ],
      "text/plain": [
       "                     1         2         3         4         5         6  \\\n",
       "title                                                                      \n",
       "Cradle        0.000000  0.000000  0.050724  0.000000  0.009402  0.007345   \n",
       "ダブルスポイラー      0.000000  0.000000  0.000000  0.000000  0.012242  0.008863   \n",
       "トルテルマジック      0.007375  0.004779  0.002953  0.001707  0.000771  0.000724   \n",
       "メニュー          0.001475  0.000000  0.000811  0.001014  0.000508  0.000724   \n",
       "妖精大戦争         0.000000  0.000000  0.000000  0.000000  0.000132  0.000203   \n",
       "弾幕アマノジャク      0.000000  0.000000  0.000000  0.000000  0.012242  0.008863   \n",
       "東方剛欲異聞        0.000000  0.000000  0.000000  0.000000  0.000000  0.000000   \n",
       "東方地霊殿         0.000000  0.000000  0.000000  0.000000  0.000132  0.129284   \n",
       "東方夢時空         0.004425  0.006145  0.002664  0.004854  0.007842  0.011769   \n",
       "東方天空璋         0.000000  0.000000  0.000000  0.000000  0.000000  0.000000   \n",
       "東方妖々夢         0.134218  0.497497  0.312565  0.095060  0.204314  0.161646   \n",
       "東方封魔録         0.011799  0.005462  0.004690  0.001760  0.001918  0.001924   \n",
       "東方幻想郷         0.017699  0.011607  0.008512  0.004641  0.013295  0.016551   \n",
       "東方幻想麻雀        0.000000  0.000000  0.000000  0.000000  0.000000  0.000000   \n",
       "東方心綺楼         0.000000  0.000000  0.000000  0.000000  0.000000  0.000000   \n",
       "東方怪綺談         0.051622  0.022986  0.011465  0.011789  0.014837  0.016637   \n",
       "東方憑依華         0.000000  0.000000  0.000000  0.000000  0.000000  0.000000   \n",
       "東方文花帖         0.000000  0.000000  0.000000  0.050731  0.060326  0.036575   \n",
       "東方星蓮船         0.000000  0.000000  0.000000  0.000000  0.000132  0.000203   \n",
       "東方永夜抄         0.000000  0.000000  0.363231  0.077777  0.127609  0.111985   \n",
       "東方深秘録         0.000000  0.000000  0.000000  0.000000  0.000000  0.000000   \n",
       "東方神霊廟         0.000000  0.000000  0.000000  0.000000  0.000132  0.000203   \n",
       "東方紅魔郷         0.573746  0.368457  0.221540  0.131708  0.190718  0.149020   \n",
       "東方紺珠伝         0.000000  0.000000  0.000000  0.000000  0.000000  0.000000   \n",
       "東方緋想天         0.000000  0.000000  0.000000  0.000000  0.000000  0.017789   \n",
       "東方花映塚         0.000000  0.114247  0.080834  0.022725  0.084960  0.075970   \n",
       "東方萃夢想         0.000000  0.000000  0.000000  0.010829  0.022284  0.015523   \n",
       "東方虹龍洞         0.000000  0.000000  0.000000  0.000000  0.000000  0.000000   \n",
       "東方輝針城         0.000000  0.000000  0.000000  0.000000  0.000132  0.000203   \n",
       "東方靈異伝         0.020649  0.010014  0.005038  0.004694  0.001937  0.001495   \n",
       "東方非想天則        0.156342  0.077606  0.043486  0.022885  0.075332  0.084616   \n",
       "東方風神録         0.000000  0.000000  0.000000  0.000000  0.193069  0.165735   \n",
       "東方鬼形獣         0.000000  0.000000  0.000000  0.000000  0.000000  0.000000   \n",
       "神魔討綺伝         0.000000  0.000000  0.000000  0.000000  0.000000  0.000000   \n",
       "秋霜玉           0.042773  0.028448  0.012044  0.009869  0.004344  0.003894   \n",
       "秘封ナイトメアダイアリー  0.000000  0.000000  0.000000  0.000000  0.000000  0.000000   \n",
       "稀翁玉           0.002950  0.001821  0.001042  0.000000  0.000470  0.000382   \n",
       "黄昏酒場          0.000000  0.000000  0.000000  0.000000  0.000583  0.001207   \n",
       "\n",
       "                     7         8         9        11        12        13  \\\n",
       "title                                                                      \n",
       "Cradle        0.005253  0.004498  0.004107  0.004097  0.004002  0.004440   \n",
       "ダブルスポイラー      0.006615  0.027892  0.022421  0.013974  0.011428  0.011257   \n",
       "トルテルマジック      0.000694  0.000671  0.000623  0.000752  0.000696  0.000785   \n",
       "メニュー          0.000532  0.000551  0.000528  0.000914  0.000923  0.000789   \n",
       "妖精大戦争         0.000856  0.026149  0.022246  0.018338  0.016334  0.015659   \n",
       "弾幕アマノジャク      0.006615  0.010984  0.010548  0.024598  0.019668  0.020372   \n",
       "東方剛欲異聞        0.000000  0.000000  0.000000  0.000000  0.000000  0.000000   \n",
       "東方地霊殿         0.113244  0.112702  0.102927  0.094955  0.085020  0.081726   \n",
       "東方夢時空         0.010825  0.011570  0.010888  0.009648  0.008635  0.008839   \n",
       "東方天空璋         0.000000  0.000000  0.000000  0.000000  0.000000  0.000000   \n",
       "東方妖々夢         0.135117  0.123530  0.121568  0.112131  0.104872  0.104654   \n",
       "東方封魔録         0.001920  0.002154  0.002150  0.001865  0.001911  0.002231   \n",
       "東方幻想郷         0.015358  0.014224  0.014045  0.012433  0.012202  0.012240   \n",
       "東方幻想麻雀        0.001242  0.001147  0.001384  0.000914  0.000674  0.000703   \n",
       "東方心綺楼         0.000000  0.000000  0.000000  0.006732  0.004835  0.005146   \n",
       "東方怪綺談         0.021284  0.018857  0.018291  0.014061  0.011546  0.012359   \n",
       "東方憑依華         0.000000  0.000000  0.000000  0.000000  0.000000  0.000000   \n",
       "東方文花帖         0.025682  0.022779  0.022882  0.017990  0.017499  0.017801   \n",
       "東方星蓮船         0.107083  0.100185  0.077882  0.058235  0.049624  0.048084   \n",
       "東方永夜抄         0.089002  0.083066  0.078567  0.085214  0.081475  0.082900   \n",
       "東方深秘録         0.000000  0.000000  0.000000  0.004712  0.002576  0.001745   \n",
       "東方神霊廟         0.000256  0.000240  0.066519  0.045032  0.038662  0.037260   \n",
       "東方紅魔郷         0.132321  0.130317  0.129482  0.141193  0.160231  0.159443   \n",
       "東方紺珠伝         0.000000  0.000000  0.000000  0.000000  0.061316  0.060592   \n",
       "東方緋想天         0.012603  0.012692  0.010740  0.009325  0.008728  0.008738   \n",
       "東方花映塚         0.059340  0.054402  0.052142  0.052429  0.053834  0.054265   \n",
       "東方萃夢想         0.015003  0.013483  0.012182  0.011743  0.006304  0.006308   \n",
       "東方虹龍洞         0.000000  0.000000  0.000000  0.000000  0.000000  0.000000   \n",
       "東方輝針城         0.000256  0.000240  0.000237  0.059646  0.046837  0.044772   \n",
       "東方靈異伝         0.001862  0.001883  0.002181  0.002555  0.002222  0.002653   \n",
       "東方非想天則        0.110917  0.100391  0.084170  0.058987  0.065458  0.064251   \n",
       "東方風神録         0.144460  0.143138  0.136446  0.101986  0.097157  0.096388   \n",
       "東方鬼形獣         0.000000  0.000000  0.000000  0.000000  0.000000  0.000000   \n",
       "神魔討綺伝         0.000355  0.000381  0.000372  0.000292  0.000180  0.000183   \n",
       "秋霜玉           0.003928  0.003882  0.004031  0.003102  0.002622  0.002844   \n",
       "秘封ナイトメアダイアリー  0.000000  0.000000  0.000000  0.000000  0.005521  0.005236   \n",
       "稀翁玉           0.000365  0.000471  0.000470  0.000429  0.000419  0.000381   \n",
       "黄昏酒場          0.000845  0.000766  0.000694  0.000479  0.000441  0.000527   \n",
       "\n",
       "                    14        15        16        17        18  \n",
       "title                                                           \n",
       "Cradle        0.004172  0.004039  0.003365  0.003420  0.003075  \n",
       "ダブルスポイラー      0.010466  0.010956  0.009735  0.008427  0.006938  \n",
       "トルテルマジック      0.000745  0.000752  0.000732  0.000624  0.000746  \n",
       "メニュー          0.000891  0.001133  0.001056  0.001043  0.000916  \n",
       "妖精大戦争         0.014559  0.013732  0.011919  0.009549  0.008551  \n",
       "弾幕アマノジャク      0.018713  0.017917  0.016649  0.015249  0.012707  \n",
       "東方剛欲異聞        0.000000  0.000000  0.000000  0.000000  0.004617  \n",
       "東方地霊殿         0.076229  0.076874  0.076502  0.067095  0.070123  \n",
       "東方夢時空         0.008234  0.008611  0.008610  0.007547  0.006677  \n",
       "東方天空璋         0.038286  0.031425  0.023491  0.020491  0.017689  \n",
       "東方妖々夢         0.099127  0.097786  0.094763  0.101089  0.098189  \n",
       "東方封魔録         0.001927  0.002266  0.002345  0.002009  0.002036  \n",
       "東方幻想郷         0.011471  0.011511  0.011459  0.012450  0.011485  \n",
       "東方幻想麻雀        0.000635  0.000583  0.000656  0.000415  0.000423  \n",
       "東方心綺楼         0.004935  0.004561  0.003513  0.003633  0.003187  \n",
       "東方怪綺談         0.011912  0.012599  0.011715  0.009903  0.008824  \n",
       "東方憑依華         0.009967  0.013844  0.010719  0.009953  0.009743  \n",
       "東方文花帖         0.015097  0.015656  0.013820  0.012544  0.011373  \n",
       "東方星蓮船         0.044271  0.043284  0.039963  0.034258  0.031541  \n",
       "東方永夜抄         0.077671  0.076835  0.076138  0.078917  0.079866  \n",
       "東方深秘録         0.001557  0.001257  0.001156  0.001162  0.000975  \n",
       "東方神霊廟         0.035993  0.034280  0.033333  0.029554  0.027003  \n",
       "東方紅魔郷         0.148188  0.150634  0.158557  0.177917  0.209684  \n",
       "東方紺珠伝         0.059906  0.059394  0.052983  0.048122  0.042976  \n",
       "東方緋想天         0.010166  0.009194  0.007806  0.008085  0.006788  \n",
       "東方花映塚         0.051795  0.051193  0.051183  0.059147  0.057666  \n",
       "東方萃夢想         0.006205  0.006064  0.005346  0.004776  0.004330  \n",
       "東方虹龍洞         0.000000  0.000000  0.000000  0.030405  0.020699  \n",
       "東方輝針城         0.044589  0.042554  0.037927  0.031249  0.024703  \n",
       "東方靈異伝         0.002933  0.003276  0.003213  0.003041  0.002611  \n",
       "東方非想天則        0.061754  0.062435  0.062374  0.061860  0.062783  \n",
       "東方風神録         0.088379  0.090107  0.088713  0.084112  0.089427  \n",
       "東方鬼形獣         0.000000  0.000000  0.017121  0.011173  0.008783  \n",
       "神魔討綺伝         0.000212  0.000297  0.000260  0.000162  0.000194  \n",
       "秋霜玉           0.002659  0.003136  0.002561  0.002345  0.002262  \n",
       "秘封ナイトメアダイアリー  0.014113  0.015735  0.010839  0.009279  0.008104  \n",
       "稀翁玉           0.000388  0.000527  0.000504  0.000393  0.000394  \n",
       "黄昏酒場          0.000512  0.000482  0.000444  0.000336  0.000305  "
      ]
     },
     "execution_count": 263,
     "metadata": {},
     "output_type": "execute_result"
    }
   ],
   "source": [
    "music_points_ratio_subtitle"
   ]
  },
  {
   "cell_type": "code",
   "execution_count": 267,
   "id": "7850ffed",
   "metadata": {},
   "outputs": [],
   "source": [
    "music_points_ratio_subtitle[\"名前\"]=music_points_ratio_subtitle.index.values"
   ]
  },
  {
   "cell_type": "code",
   "execution_count": 273,
   "id": "6d7d9575",
   "metadata": {
    "scrolled": false
   },
   "outputs": [],
   "source": [
    "i=12\n",
    "title_points_ratio_i=pd.concat([title_points_ratio[\"名前\"],title_points_ratio[str(i)]],axis=1)\n",
    "ppd=pd.DataFrame(music_points_ratio_subtitle[str(i)])\n",
    "ppd[\"名前\"]=ppd.index.values\n",
    "ppd=pd.merge(title_points_ratio_i,ppd,on=\"名前\",how=\"outer\")"
   ]
  },
  {
   "cell_type": "code",
   "execution_count": 308,
   "id": "feaf123c",
   "metadata": {},
   "outputs": [
    {
     "data": {
      "text/html": [
       "<div>\n",
       "<style scoped>\n",
       "    .dataframe tbody tr th:only-of-type {\n",
       "        vertical-align: middle;\n",
       "    }\n",
       "\n",
       "    .dataframe tbody tr th {\n",
       "        vertical-align: top;\n",
       "    }\n",
       "\n",
       "    .dataframe thead th {\n",
       "        text-align: right;\n",
       "    }\n",
       "</style>\n",
       "<table border=\"1\" class=\"dataframe\">\n",
       "  <thead>\n",
       "    <tr style=\"text-align: right;\">\n",
       "      <th></th>\n",
       "      <th>名前</th>\n",
       "      <th>作品ポイント比率</th>\n",
       "      <th>音楽集計ポイント比率</th>\n",
       "      <th>回</th>\n",
       "    </tr>\n",
       "  </thead>\n",
       "  <tbody>\n",
       "    <tr>\n",
       "      <th>0</th>\n",
       "      <td>東方紅魔郷</td>\n",
       "      <td>0.142244</td>\n",
       "      <td>0.209684</td>\n",
       "      <td>18.0</td>\n",
       "    </tr>\n",
       "    <tr>\n",
       "      <th>1</th>\n",
       "      <td>東方永夜抄</td>\n",
       "      <td>0.096774</td>\n",
       "      <td>0.079866</td>\n",
       "      <td>18.0</td>\n",
       "    </tr>\n",
       "    <tr>\n",
       "      <th>2</th>\n",
       "      <td>東方妖々夢</td>\n",
       "      <td>0.086252</td>\n",
       "      <td>0.098189</td>\n",
       "      <td>18.0</td>\n",
       "    </tr>\n",
       "    <tr>\n",
       "      <th>3</th>\n",
       "      <td>東方風神録</td>\n",
       "      <td>0.079972</td>\n",
       "      <td>0.089427</td>\n",
       "      <td>18.0</td>\n",
       "    </tr>\n",
       "    <tr>\n",
       "      <th>4</th>\n",
       "      <td>東方地霊殿</td>\n",
       "      <td>0.062246</td>\n",
       "      <td>0.070123</td>\n",
       "      <td>18.0</td>\n",
       "    </tr>\n",
       "    <tr>\n",
       "      <th>...</th>\n",
       "      <td>...</td>\n",
       "      <td>...</td>\n",
       "      <td>...</td>\n",
       "      <td>...</td>\n",
       "    </tr>\n",
       "    <tr>\n",
       "      <th>60</th>\n",
       "      <td>東方幻想麻雀</td>\n",
       "      <td>NaN</td>\n",
       "      <td>0.000423</td>\n",
       "      <td>18.0</td>\n",
       "    </tr>\n",
       "    <tr>\n",
       "      <th>61</th>\n",
       "      <td>神魔討綺伝</td>\n",
       "      <td>NaN</td>\n",
       "      <td>0.000194</td>\n",
       "      <td>18.0</td>\n",
       "    </tr>\n",
       "    <tr>\n",
       "      <th>62</th>\n",
       "      <td>秋霜玉</td>\n",
       "      <td>NaN</td>\n",
       "      <td>0.002262</td>\n",
       "      <td>18.0</td>\n",
       "    </tr>\n",
       "    <tr>\n",
       "      <th>63</th>\n",
       "      <td>稀翁玉</td>\n",
       "      <td>NaN</td>\n",
       "      <td>0.000394</td>\n",
       "      <td>18.0</td>\n",
       "    </tr>\n",
       "    <tr>\n",
       "      <th>64</th>\n",
       "      <td>黄昏酒場</td>\n",
       "      <td>NaN</td>\n",
       "      <td>0.000305</td>\n",
       "      <td>18.0</td>\n",
       "    </tr>\n",
       "  </tbody>\n",
       "</table>\n",
       "<p>65 rows × 4 columns</p>\n",
       "</div>"
      ],
      "text/plain": [
       "        名前  作品ポイント比率  音楽集計ポイント比率     回\n",
       "0    東方紅魔郷  0.142244    0.209684  18.0\n",
       "1    東方永夜抄  0.096774    0.079866  18.0\n",
       "2    東方妖々夢  0.086252    0.098189  18.0\n",
       "3    東方風神録  0.079972    0.089427  18.0\n",
       "4    東方地霊殿  0.062246    0.070123  18.0\n",
       "..     ...       ...         ...   ...\n",
       "60  東方幻想麻雀       NaN    0.000423  18.0\n",
       "61  神魔討綺伝        NaN    0.000194  18.0\n",
       "62     秋霜玉       NaN    0.002262  18.0\n",
       "63     稀翁玉       NaN    0.000394  18.0\n",
       "64    黄昏酒場       NaN    0.000305  18.0\n",
       "\n",
       "[65 rows x 4 columns]"
      ]
     },
     "execution_count": 308,
     "metadata": {},
     "output_type": "execute_result"
    }
   ],
   "source": [
    "ppd"
   ]
  },
  {
   "cell_type": "markdown",
   "id": "e7c94ccb",
   "metadata": {},
   "source": [
    "### カラーグラフ作成"
   ]
  },
  {
   "cell_type": "code",
   "execution_count": 365,
   "id": "d39b1c04",
   "metadata": {},
   "outputs": [],
   "source": [
    "import plotly.express as px\n",
    "from colorspacious import cspace_converter"
   ]
  },
  {
   "cell_type": "code",
   "execution_count": 335,
   "id": "aa15a68f",
   "metadata": {},
   "outputs": [],
   "source": [
    "cm = plt.get_cmap(\"Spectral\")"
   ]
  },
  {
   "cell_type": "code",
   "execution_count": 341,
   "id": "eaa1df7c",
   "metadata": {},
   "outputs": [
    {
     "data": {
      "image/png": "[encoded data removed]",
      "text/html": [
       "<div style=\"vertical-align: middle;\"><strong>Spectral</strong> </div><div class=\"cmap\"><img alt=\"Spectral colormap\" title=\"Spectral\" style=\"border: 1px solid #555;\" src=\"data:image/png;base64,iVBORw0KGgoAAAANSUhEUgAAAgAAAABACAYAAABsv8+/AAAAF3RFWHRUaXRsZQBTcGVjdHJhbCBjb2xvcm1hcI/oV9sAAAAddEVYdERlc2NyaXB0aW9uAFNwZWN0cmFsIGNvbG9ybWFwppaw8gAAADB0RVh0QXV0aG9yAE1hdHBsb3RsaWIgdjMuNC4zLCBodHRwczovL21hdHBsb3RsaWIub3JnCV3z0wAAADJ0RVh0U29mdHdhcmUATWF0cGxvdGxpYiB2My40LjMsIGh0dHBzOi8vbWF0cGxvdGxpYi5vcmcn+2z0AAACDklEQVR4nO3WO3KDMABFUQl2loVmp5gUCGaQzcgxSfXOaTT6AMZ2cet3/VpLKWWaStnGuo1zN9/3520+d/PR9fPgflfz+erzXN2vjfWYr6d57ed1fXnd07mpO1cH+xfPefdz7fcp7f1K+15qN9/36/GDDM4f69N5/bjP1Xzqrv/lfafuPlP3eYfrd6//m/X6/Ed5Pf7Vuf9+Xtneby2PNm7/w3UdzPfzaz9/91w3v/nc0vaXbSiPY6zdej3tL9389vnS7997Tv8+SzcO1x8fXvfp857W23ssbf6o53Gpr9dH+59e176PT++7tveY2gv3Y10u1vvz7Ye53h9df7H+7v4+FgAgjgAAgEACAAACCQAACCQAACCQAACAQAIAAAIJAAAIJAAAIJAAAIBAAgAAAgkAAAgkAAAgkAAAgEACAAACCQAACCQAACCQAACAQAIAAAIJAAAIJAAAIJAAAIBAAgAAAgkAAAgkAAAgkAAAgEACAAACCQAACCQAACCQAACAQAIAAAIJAAAIJAAAIJAAAIBAAgAAAgkAAAgkAAAgkAAAgEACAAACCQAACCQAACCQAACAQAIAAAIJAAAIJAAAIJAAAIBAAgAAAgkAAAgkAAAgkAAAgEACAAACCQAACCQAACCQAACAQAIAAAIJAAAIJAAAIJAAAIBAAgAAAgkAAAgkAAAgkAAAgEACAAAC/QB9nBLdjK/6iAAAAABJRU5ErkJggg==\"></div><div style=\"vertical-align: middle; max-width: 514px; display: flex; justify-content: space-between;\"><div style=\"float: left;\"><div title=\"#9e0142ff\" style=\"display: inline-block; width: 1em; height: 1em; margin: 0; vertical-align: middle; border: 1px solid #555; background-color: #9e0142ff;\"></div> under</div><div style=\"margin: 0 auto; display: inline-block;\">bad <div title=\"#00000000\" style=\"display: inline-block; width: 1em; height: 1em; margin: 0; vertical-align: middle; border: 1px solid #555; background-color: #00000000;\"></div></div><div style=\"float: right;\">over <div title=\"#5e4fa2ff\" style=\"display: inline-block; width: 1em; height: 1em; margin: 0; vertical-align: middle; border: 1px solid #555; background-color: #5e4fa2ff;\"></div></div>"
      ],
      "text/plain": [
       "<matplotlib.colors.LinearSegmentedColormap at 0x7f816c839880>"
      ]
     },
     "execution_count": 341,
     "metadata": {},
     "output_type": "execute_result"
    }
   ],
   "source": [
    "cm"
   ]
  },
  {
   "cell_type": "code",
   "execution_count": 372,
   "id": "1eb740da",
   "metadata": {
    "scrolled": false
   },
   "outputs": [],
   "source": [
    "musictitlerate_vs_titlerate=pd.DataFrame()\n",
    "for i in range(12,19):\n",
    "    s=str(i)\n",
    "    title_points_ratio_i=pd.concat([title_points_ratio[\"名前\"],title_points_ratio[str(i)]],axis=1)\n",
    "    ppd=pd.DataFrame(music_points_ratio_subtitle[s])\n",
    "    ppd[\"名前\"]=ppd.index.values\n",
    "    ppd[\"回\"]=int(i)\n",
    "    ppd[\"回n\"]=(i-12)/(19-12)\n",
    "    ppd[\"名前n\"]=[j/len(ppd.index) for  j in range(len(ppd.index))]\n",
    "#    ppd[\"cmap\"]=plt.colormaps(i)\n",
    "    ppd=pd.merge(title_points_ratio_i,ppd,on=\"名前\",how=\"outer\")\n",
    "    ppd.columns=[\"名前\",\"作品ポイント比率\",\"音楽集計ポイント比率\",\"回\",\"回n\",\"名前n\"]\n",
    "    musictitlerate_vs_titlerate=pd.concat([musictitlerate_vs_titlerate,ppd],axis=0)"
   ]
  },
  {
   "cell_type": "code",
   "execution_count": 370,
   "id": "c8a16974",
   "metadata": {},
   "outputs": [
    {
     "data": {
      "text/html": [
       "<div>\n",
       "<style scoped>\n",
       "    .dataframe tbody tr th:only-of-type {\n",
       "        vertical-align: middle;\n",
       "    }\n",
       "\n",
       "    .dataframe tbody tr th {\n",
       "        vertical-align: top;\n",
       "    }\n",
       "\n",
       "    .dataframe thead th {\n",
       "        text-align: right;\n",
       "    }\n",
       "</style>\n",
       "<table border=\"1\" class=\"dataframe\">\n",
       "  <thead>\n",
       "    <tr style=\"text-align: right;\">\n",
       "      <th></th>\n",
       "      <th>名前</th>\n",
       "      <th>作品ポイント比率</th>\n",
       "      <th>音楽集計ポイント比率</th>\n",
       "      <th>回</th>\n",
       "      <th>名前n</th>\n",
       "    </tr>\n",
       "  </thead>\n",
       "  <tbody>\n",
       "    <tr>\n",
       "      <th>0</th>\n",
       "      <td>東方紅魔郷</td>\n",
       "      <td>0.111847</td>\n",
       "      <td>0.160231</td>\n",
       "      <td>0.000000</td>\n",
       "      <td>0.578947</td>\n",
       "    </tr>\n",
       "    <tr>\n",
       "      <th>1</th>\n",
       "      <td>東方永夜抄</td>\n",
       "      <td>0.100213</td>\n",
       "      <td>0.081475</td>\n",
       "      <td>0.000000</td>\n",
       "      <td>0.500000</td>\n",
       "    </tr>\n",
       "    <tr>\n",
       "      <th>2</th>\n",
       "      <td>東方妖々夢</td>\n",
       "      <td>0.089872</td>\n",
       "      <td>0.104872</td>\n",
       "      <td>0.000000</td>\n",
       "      <td>0.263158</td>\n",
       "    </tr>\n",
       "    <tr>\n",
       "      <th>3</th>\n",
       "      <td>東方風神録</td>\n",
       "      <td>0.079220</td>\n",
       "      <td>0.097157</td>\n",
       "      <td>0.000000</td>\n",
       "      <td>0.815789</td>\n",
       "    </tr>\n",
       "    <tr>\n",
       "      <th>4</th>\n",
       "      <td>東方地霊殿</td>\n",
       "      <td>0.068308</td>\n",
       "      <td>0.085020</td>\n",
       "      <td>0.000000</td>\n",
       "      <td>0.184211</td>\n",
       "    </tr>\n",
       "    <tr>\n",
       "      <th>...</th>\n",
       "      <td>...</td>\n",
       "      <td>...</td>\n",
       "      <td>...</td>\n",
       "      <td>...</td>\n",
       "      <td>...</td>\n",
       "    </tr>\n",
       "    <tr>\n",
       "      <th>60</th>\n",
       "      <td>東方幻想麻雀</td>\n",
       "      <td>NaN</td>\n",
       "      <td>0.000423</td>\n",
       "      <td>0.857143</td>\n",
       "      <td>0.342105</td>\n",
       "    </tr>\n",
       "    <tr>\n",
       "      <th>61</th>\n",
       "      <td>神魔討綺伝</td>\n",
       "      <td>NaN</td>\n",
       "      <td>0.000194</td>\n",
       "      <td>0.857143</td>\n",
       "      <td>0.868421</td>\n",
       "    </tr>\n",
       "    <tr>\n",
       "      <th>62</th>\n",
       "      <td>秋霜玉</td>\n",
       "      <td>NaN</td>\n",
       "      <td>0.002262</td>\n",
       "      <td>0.857143</td>\n",
       "      <td>0.894737</td>\n",
       "    </tr>\n",
       "    <tr>\n",
       "      <th>63</th>\n",
       "      <td>稀翁玉</td>\n",
       "      <td>NaN</td>\n",
       "      <td>0.000394</td>\n",
       "      <td>0.857143</td>\n",
       "      <td>0.947368</td>\n",
       "    </tr>\n",
       "    <tr>\n",
       "      <th>64</th>\n",
       "      <td>黄昏酒場</td>\n",
       "      <td>NaN</td>\n",
       "      <td>0.000305</td>\n",
       "      <td>0.857143</td>\n",
       "      <td>0.973684</td>\n",
       "    </tr>\n",
       "  </tbody>\n",
       "</table>\n",
       "<p>455 rows × 5 columns</p>\n",
       "</div>"
      ],
      "text/plain": [
       "        名前  作品ポイント比率  音楽集計ポイント比率         回       名前n\n",
       "0    東方紅魔郷  0.111847    0.160231  0.000000  0.578947\n",
       "1    東方永夜抄  0.100213    0.081475  0.000000  0.500000\n",
       "2    東方妖々夢  0.089872    0.104872  0.000000  0.263158\n",
       "3    東方風神録  0.079220    0.097157  0.000000  0.815789\n",
       "4    東方地霊殿  0.068308    0.085020  0.000000  0.184211\n",
       "..     ...       ...         ...       ...       ...\n",
       "60  東方幻想麻雀       NaN    0.000423  0.857143  0.342105\n",
       "61  神魔討綺伝        NaN    0.000194  0.857143  0.868421\n",
       "62     秋霜玉       NaN    0.002262  0.857143  0.894737\n",
       "63     稀翁玉       NaN    0.000394  0.857143  0.947368\n",
       "64    黄昏酒場       NaN    0.000305  0.857143  0.973684\n",
       "\n",
       "[455 rows x 5 columns]"
      ]
     },
     "execution_count": 370,
     "metadata": {},
     "output_type": "execute_result"
    }
   ],
   "source": [
    "musictitlerate_vs_titlerate"
   ]
  },
  {
   "cell_type": "code",
   "execution_count": 360,
   "id": "0f9891a8",
   "metadata": {},
   "outputs": [
    {
     "name": "stdout",
     "output_type": "stream",
     "text": [
      "作品ポイント比率 vs 音楽集計ポイント比率 色は投票回ごと\n"
     ]
    },
    {
     "data": {
      "text/plain": [
       "<AxesSubplot:xlabel='作品ポイント比率', ylabel='音楽集計ポイント比率'>"
      ]
     },
     "execution_count": 360,
     "metadata": {},
     "output_type": "execute_result"
    },
    {
     "data": {
      "image/png": "[encoded data removed]",
      "text/plain": [
       "<Figure size 720x720 with 1 Axes>"
      ]
     },
     "metadata": {
      "needs_background": "light"
     },
     "output_type": "display_data"
    }
   ],
   "source": [
    "print(\"作品ポイント比率 vs 音楽集計ポイント比率 色は投票回ごと\")\n",
    "musictitlerate_vs_titlerate.plot.scatter(x=\"作品ポイント比率\",y=\"音楽集計ポイント比率\",c=cm(musictitlerate_vs_titlerate[\"回\"]),figsize=(10,10))\n"
   ]
  },
  {
   "cell_type": "code",
   "execution_count": 362,
   "id": "d20db5d1",
   "metadata": {},
   "outputs": [
    {
     "name": "stderr",
     "output_type": "stream",
     "text": [
      "No handles with labels found to put in legend.\n"
     ]
    },
    {
     "name": "stdout",
     "output_type": "stream",
     "text": [
      "作品ポイント比率 vs 音楽集計ポイント比率 色はタイトルごと\n"
     ]
    },
    {
     "data": {
      "text/plain": [
       "<matplotlib.legend.Legend at 0x7f8105a3eb50>"
      ]
     },
     "execution_count": 362,
     "metadata": {},
     "output_type": "execute_result"
    },
    {
     "data": {
      "image/png": "[encoded data removed]",
      "text/plain": [
       "<Figure size 720x720 with 1 Axes>"
      ]
     },
     "metadata": {
      "needs_background": "light"
     },
     "output_type": "display_data"
    }
   ],
   "source": [
    "print(\"作品ポイント比率 vs 音楽集計ポイント比率 色はタイトルごと\")\n",
    "musictitlerate_vs_titlerate.plot.scatter(x=\"作品ポイント比率\",y=\"音楽集計ポイント比率\",c=cm(musictitlerate_vs_titlerate[\"名前n\"]),figsize=(10,10))"
   ]
  },
  {
   "cell_type": "markdown",
   "id": "478faa07",
   "metadata": {},
   "source": [
    "音楽の獲得ポイントとサブタイトルの獲得ポイントは大まかに相関しているが外れ値もある。"
   ]
  },
  {
   "cell_type": "markdown",
   "id": "6fa8069a",
   "metadata": {},
   "source": [
    "https://plotly.com/python/line-and-scatter/"
   ]
  },
  {
   "cell_type": "code",
   "execution_count": 368,
   "id": "e6943daf",
   "metadata": {},
   "outputs": [
    {
     "data": {
      "application/vnd.plotly.v1+json": {
       "config": {
        "plotlyServerURL": "https://plot.ly"
       },
       "data": [
        {
         "customdata": [
          [
           "東方紅魔郷"
          ],
          [
           "東方永夜抄"
          ],
          [
           "東方妖々夢"
          ],
          [
           "東方風神録"
          ],
          [
           "東方地霊殿"
          ],
          [
           "東方紺珠伝"
          ],
          [
           "東方鈴奈庵"
          ],
          [
           "東方輝針城"
          ],
          [
           "東方星蓮船"
          ],
          [
           "東方非想天則"
          ],
          [
           "東方深秘録"
          ],
          [
           "東方神霊廟"
          ],
          [
           "東方茨歌仙"
          ],
          [
           "東方花映塚"
          ],
          [
           "東方緋想天"
          ],
          [
           "弾幕アマノジャク"
          ],
          [
           "東方儚月抄"
          ],
          [
           "東方心綺楼"
          ],
          [
           "東方三月精"
          ],
          [
           "東方求聞史紀 / 東方求聞口授"
          ],
          [
           "東方香霖堂"
          ],
          [
           "大空魔術"
          ],
          [
           "東方文花帖"
          ],
          [
           "ダブルスポイラー"
          ],
          [
           "蓬莱人形"
          ],
          [
           "妖精大戦争"
          ],
          [
           "東方幻想郷"
          ],
          [
           "東方怪綺談"
          ],
          [
           "東方萃夢想"
          ],
          [
           "蓮台野夜行"
          ],
          [
           "東方夢時空"
          ],
          [
           "卯酉東海道"
          ],
          [
           "The Grimoire of Marisa"
          ],
          [
           "夢違科学世紀"
          ],
          [
           "東方靈異伝"
          ],
          [
           "伊弉諾物質"
          ],
          [
           "鳥船遺跡"
          ],
          [
           "東方文花帖（書籍）"
          ],
          [
           "幺樂団の歴史"
          ],
          [
           "東方封魔録"
          ],
          [
           "未知の花　魅知の旅"
          ],
          [
           "燕石博物誌"
          ],
          [
           "旧約酒場"
          ],
          [
           "東方天空璋"
          ],
          [
           "東方憑依華"
          ],
          [
           "東方文果真報"
          ],
          [
           "秘封ナイトメアダイアリー"
          ],
          [
           "東方鬼形獣"
          ],
          [
           "東方酔蝶華"
          ],
          [
           "東方智霊奇伝 反則探偵さとり"
          ],
          [
           "The Grimoire of Usami 秘封倶楽部異界撮影記録"
          ],
          [
           "東方剛欲異聞"
          ],
          [
           "東方Project人妖名鑑 宵闇編"
          ],
          [
           "東方虹龍洞"
          ],
          [
           "バレットフィリア達の闇市場"
          ],
          [
           "東方Project人妖名鑑 常世編"
          ],
          [
           "虹色のセプテントリオン"
          ],
          [
           "Cradle"
          ],
          [
           "トルテルマジック"
          ],
          [
           "メニュー"
          ],
          [
           "東方幻想麻雀"
          ],
          [
           "神魔討綺伝 "
          ],
          [
           "秋霜玉"
          ],
          [
           "稀翁玉"
          ],
          [
           "黄昏酒場"
          ],
          [
           "東方紅魔郷"
          ],
          [
           "東方永夜抄"
          ],
          [
           "東方妖々夢"
          ],
          [
           "東方風神録"
          ],
          [
           "東方地霊殿"
          ],
          [
           "東方紺珠伝"
          ],
          [
           "東方鈴奈庵"
          ],
          [
           "東方輝針城"
          ],
          [
           "東方星蓮船"
          ],
          [
           "東方非想天則"
          ],
          [
           "東方深秘録"
          ],
          [
           "東方神霊廟"
          ],
          [
           "東方茨歌仙"
          ],
          [
           "東方花映塚"
          ],
          [
           "東方緋想天"
          ],
          [
           "弾幕アマノジャク"
          ],
          [
           "東方儚月抄"
          ],
          [
           "東方心綺楼"
          ],
          [
           "東方三月精"
          ],
          [
           "東方求聞史紀 / 東方求聞口授"
          ],
          [
           "東方香霖堂"
          ],
          [
           "大空魔術"
          ],
          [
           "東方文花帖"
          ],
          [
           "ダブルスポイラー"
          ],
          [
           "蓬莱人形"
          ],
          [
           "妖精大戦争"
          ],
          [
           "東方幻想郷"
          ],
          [
           "東方怪綺談"
          ],
          [
           "東方萃夢想"
          ],
          [
           "蓮台野夜行"
          ],
          [
           "東方夢時空"
          ],
          [
           "卯酉東海道"
          ],
          [
           "The Grimoire of Marisa"
          ],
          [
           "夢違科学世紀"
          ],
          [
           "東方靈異伝"
          ],
          [
           "伊弉諾物質"
          ],
          [
           "鳥船遺跡"
          ],
          [
           "東方文花帖（書籍）"
          ],
          [
           "幺樂団の歴史"
          ],
          [
           "東方封魔録"
          ],
          [
           "未知の花　魅知の旅"
          ],
          [
           "燕石博物誌"
          ],
          [
           "旧約酒場"
          ],
          [
           "東方天空璋"
          ],
          [
           "東方憑依華"
          ],
          [
           "東方文果真報"
          ],
          [
           "秘封ナイトメアダイアリー"
          ],
          [
           "東方鬼形獣"
          ],
          [
           "東方酔蝶華"
          ],
          [
           "東方智霊奇伝 反則探偵さとり"
          ],
          [
           "The Grimoire of Usami 秘封倶楽部異界撮影記録"
          ],
          [
           "東方剛欲異聞"
          ],
          [
           "東方Project人妖名鑑 宵闇編"
          ],
          [
           "東方虹龍洞"
          ],
          [
           "バレットフィリア達の闇市場"
          ],
          [
           "東方Project人妖名鑑 常世編"
          ],
          [
           "虹色のセプテントリオン"
          ],
          [
           "Cradle"
          ],
          [
           "トルテルマジック"
          ],
          [
           "メニュー"
          ],
          [
           "東方幻想麻雀"
          ],
          [
           "神魔討綺伝 "
          ],
          [
           "秋霜玉"
          ],
          [
           "稀翁玉"
          ],
          [
           "黄昏酒場"
          ],
          [
           "東方紅魔郷"
          ],
          [
           "東方永夜抄"
          ],
          [
           "東方妖々夢"
          ],
          [
           "東方風神録"
          ],
          [
           "東方地霊殿"
          ],
          [
           "東方紺珠伝"
          ],
          [
           "東方鈴奈庵"
          ],
          [
           "東方輝針城"
          ],
          [
           "東方星蓮船"
          ],
          [
           "東方非想天則"
          ],
          [
           "東方深秘録"
          ],
          [
           "東方神霊廟"
          ],
          [
           "東方茨歌仙"
          ],
          [
           "東方花映塚"
          ],
          [
           "東方緋想天"
          ],
          [
           "弾幕アマノジャク"
          ],
          [
           "東方儚月抄"
          ],
          [
           "東方心綺楼"
          ],
          [
           "東方三月精"
          ],
          [
           "東方求聞史紀 / 東方求聞口授"
          ],
          [
           "東方香霖堂"
          ],
          [
           "大空魔術"
          ],
          [
           "東方文花帖"
          ],
          [
           "ダブルスポイラー"
          ],
          [
           "蓬莱人形"
          ],
          [
           "妖精大戦争"
          ],
          [
           "東方幻想郷"
          ],
          [
           "東方怪綺談"
          ],
          [
           "東方萃夢想"
          ],
          [
           "蓮台野夜行"
          ],
          [
           "東方夢時空"
          ],
          [
           "卯酉東海道"
          ],
          [
           "The Grimoire of Marisa"
          ],
          [
           "夢違科学世紀"
          ],
          [
           "東方靈異伝"
          ],
          [
           "伊弉諾物質"
          ],
          [
           "鳥船遺跡"
          ],
          [
           "東方文花帖（書籍）"
          ],
          [
           "幺樂団の歴史"
          ],
          [
           "東方封魔録"
          ],
          [
           "未知の花　魅知の旅"
          ],
          [
           "燕石博物誌"
          ],
          [
           "旧約酒場"
          ],
          [
           "東方天空璋"
          ],
          [
           "東方憑依華"
          ],
          [
           "東方文果真報"
          ],
          [
           "秘封ナイトメアダイアリー"
          ],
          [
           "東方鬼形獣"
          ],
          [
           "東方酔蝶華"
          ],
          [
           "東方智霊奇伝 反則探偵さとり"
          ],
          [
           "The Grimoire of Usami 秘封倶楽部異界撮影記録"
          ],
          [
           "東方剛欲異聞"
          ],
          [
           "東方Project人妖名鑑 宵闇編"
          ],
          [
           "東方虹龍洞"
          ],
          [
           "バレットフィリア達の闇市場"
          ],
          [
           "東方Project人妖名鑑 常世編"
          ],
          [
           "虹色のセプテントリオン"
          ],
          [
           "Cradle"
          ],
          [
           "トルテルマジック"
          ],
          [
           "メニュー"
          ],
          [
           "東方幻想麻雀"
          ],
          [
           "神魔討綺伝 "
          ],
          [
           "秋霜玉"
          ],
          [
           "稀翁玉"
          ],
          [
           "黄昏酒場"
          ],
          [
           "東方紅魔郷"
          ],
          [
           "東方永夜抄"
          ],
          [
           "東方妖々夢"
          ],
          [
           "東方風神録"
          ],
          [
           "東方地霊殿"
          ],
          [
           "東方紺珠伝"
          ],
          [
           "東方鈴奈庵"
          ],
          [
           "東方輝針城"
          ],
          [
           "東方星蓮船"
          ],
          [
           "東方非想天則"
          ],
          [
           "東方深秘録"
          ],
          [
           "東方神霊廟"
          ],
          [
           "東方茨歌仙"
          ],
          [
           "東方花映塚"
          ],
          [
           "東方緋想天"
          ],
          [
           "弾幕アマノジャク"
          ],
          [
           "東方儚月抄"
          ],
          [
           "東方心綺楼"
          ],
          [
           "東方三月精"
          ],
          [
           "東方求聞史紀 / 東方求聞口授"
          ],
          [
           "東方香霖堂"
          ],
          [
           "大空魔術"
          ],
          [
           "東方文花帖"
          ],
          [
           "ダブルスポイラー"
          ],
          [
           "蓬莱人形"
          ],
          [
           "妖精大戦争"
          ],
          [
           "東方幻想郷"
          ],
          [
           "東方怪綺談"
          ],
          [
           "東方萃夢想"
          ],
          [
           "蓮台野夜行"
          ],
          [
           "東方夢時空"
          ],
          [
           "卯酉東海道"
          ],
          [
           "The Grimoire of Marisa"
          ],
          [
           "夢違科学世紀"
          ],
          [
           "東方靈異伝"
          ],
          [
           "伊弉諾物質"
          ],
          [
           "鳥船遺跡"
          ],
          [
           "東方文花帖（書籍）"
          ],
          [
           "幺樂団の歴史"
          ],
          [
           "東方封魔録"
          ],
          [
           "未知の花　魅知の旅"
          ],
          [
           "燕石博物誌"
          ],
          [
           "旧約酒場"
          ],
          [
           "東方天空璋"
          ],
          [
           "東方憑依華"
          ],
          [
           "東方文果真報"
          ],
          [
           "秘封ナイトメアダイアリー"
          ],
          [
           "東方鬼形獣"
          ],
          [
           "東方酔蝶華"
          ],
          [
           "東方智霊奇伝 反則探偵さとり"
          ],
          [
           "The Grimoire of Usami 秘封倶楽部異界撮影記録"
          ],
          [
           "東方剛欲異聞"
          ],
          [
           "東方Project人妖名鑑 宵闇編"
          ],
          [
           "東方虹龍洞"
          ],
          [
           "バレットフィリア達の闇市場"
          ],
          [
           "東方Project人妖名鑑 常世編"
          ],
          [
           "虹色のセプテントリオン"
          ],
          [
           "Cradle"
          ],
          [
           "トルテルマジック"
          ],
          [
           "メニュー"
          ],
          [
           "東方幻想麻雀"
          ],
          [
           "神魔討綺伝 "
          ],
          [
           "秋霜玉"
          ],
          [
           "稀翁玉"
          ],
          [
           "黄昏酒場"
          ],
          [
           "東方紅魔郷"
          ],
          [
           "東方永夜抄"
          ],
          [
           "東方妖々夢"
          ],
          [
           "東方風神録"
          ],
          [
           "東方地霊殿"
          ],
          [
           "東方紺珠伝"
          ],
          [
           "東方鈴奈庵"
          ],
          [
           "東方輝針城"
          ],
          [
           "東方星蓮船"
          ],
          [
           "東方非想天則"
          ],
          [
           "東方深秘録"
          ],
          [
           "東方神霊廟"
          ],
          [
           "東方茨歌仙"
          ],
          [
           "東方花映塚"
          ],
          [
           "東方緋想天"
          ],
          [
           "弾幕アマノジャク"
          ],
          [
           "東方儚月抄"
          ],
          [
           "東方心綺楼"
          ],
          [
           "東方三月精"
          ],
          [
           "東方求聞史紀 / 東方求聞口授"
          ],
          [
           "東方香霖堂"
          ],
          [
           "大空魔術"
          ],
          [
           "東方文花帖"
          ],
          [
           "ダブルスポイラー"
          ],
          [
           "蓬莱人形"
          ],
          [
           "妖精大戦争"
          ],
          [
           "東方幻想郷"
          ],
          [
           "東方怪綺談"
          ],
          [
           "東方萃夢想"
          ],
          [
           "蓮台野夜行"
          ],
          [
           "東方夢時空"
          ],
          [
           "卯酉東海道"
          ],
          [
           "The Grimoire of Marisa"
          ],
          [
           "夢違科学世紀"
          ],
          [
           "東方靈異伝"
          ],
          [
           "伊弉諾物質"
          ],
          [
           "鳥船遺跡"
          ],
          [
           "東方文花帖（書籍）"
          ],
          [
           "幺樂団の歴史"
          ],
          [
           "東方封魔録"
          ],
          [
           "未知の花　魅知の旅"
          ],
          [
           "燕石博物誌"
          ],
          [
           "旧約酒場"
          ],
          [
           "東方天空璋"
          ],
          [
           "東方憑依華"
          ],
          [
           "東方文果真報"
          ],
          [
           "秘封ナイトメアダイアリー"
          ],
          [
           "東方鬼形獣"
          ],
          [
           "東方酔蝶華"
          ],
          [
           "東方智霊奇伝 反則探偵さとり"
          ],
          [
           "The Grimoire of Usami 秘封倶楽部異界撮影記録"
          ],
          [
           "東方剛欲異聞"
          ],
          [
           "東方Project人妖名鑑 宵闇編"
          ],
          [
           "東方虹龍洞"
          ],
          [
           "バレットフィリア達の闇市場"
          ],
          [
           "東方Project人妖名鑑 常世編"
          ],
          [
           "虹色のセプテントリオン"
          ],
          [
           "Cradle"
          ],
          [
           "トルテルマジック"
          ],
          [
           "メニュー"
          ],
          [
           "東方幻想麻雀"
          ],
          [
           "神魔討綺伝 "
          ],
          [
           "秋霜玉"
          ],
          [
           "稀翁玉"
          ],
          [
           "黄昏酒場"
          ],
          [
           "東方紅魔郷"
          ],
          [
           "東方永夜抄"
          ],
          [
           "東方妖々夢"
          ],
          [
           "東方風神録"
          ],
          [
           "東方地霊殿"
          ],
          [
           "東方紺珠伝"
          ],
          [
           "東方鈴奈庵"
          ],
          [
           "東方輝針城"
          ],
          [
           "東方星蓮船"
          ],
          [
           "東方非想天則"
          ],
          [
           "東方深秘録"
          ],
          [
           "東方神霊廟"
          ],
          [
           "東方茨歌仙"
          ],
          [
           "東方花映塚"
          ],
          [
           "東方緋想天"
          ],
          [
           "弾幕アマノジャク"
          ],
          [
           "東方儚月抄"
          ],
          [
           "東方心綺楼"
          ],
          [
           "東方三月精"
          ],
          [
           "東方求聞史紀 / 東方求聞口授"
          ],
          [
           "東方香霖堂"
          ],
          [
           "大空魔術"
          ],
          [
           "東方文花帖"
          ],
          [
           "ダブルスポイラー"
          ],
          [
           "蓬莱人形"
          ],
          [
           "妖精大戦争"
          ],
          [
           "東方幻想郷"
          ],
          [
           "東方怪綺談"
          ],
          [
           "東方萃夢想"
          ],
          [
           "蓮台野夜行"
          ],
          [
           "東方夢時空"
          ],
          [
           "卯酉東海道"
          ],
          [
           "The Grimoire of Marisa"
          ],
          [
           "夢違科学世紀"
          ],
          [
           "東方靈異伝"
          ],
          [
           "伊弉諾物質"
          ],
          [
           "鳥船遺跡"
          ],
          [
           "東方文花帖（書籍）"
          ],
          [
           "幺樂団の歴史"
          ],
          [
           "東方封魔録"
          ],
          [
           "未知の花　魅知の旅"
          ],
          [
           "燕石博物誌"
          ],
          [
           "旧約酒場"
          ],
          [
           "東方天空璋"
          ],
          [
           "東方憑依華"
          ],
          [
           "東方文果真報"
          ],
          [
           "秘封ナイトメアダイアリー"
          ],
          [
           "東方鬼形獣"
          ],
          [
           "東方酔蝶華"
          ],
          [
           "東方智霊奇伝 反則探偵さとり"
          ],
          [
           "The Grimoire of Usami 秘封倶楽部異界撮影記録"
          ],
          [
           "東方剛欲異聞"
          ],
          [
           "東方Project人妖名鑑 宵闇編"
          ],
          [
           "東方虹龍洞"
          ],
          [
           "バレットフィリア達の闇市場"
          ],
          [
           "東方Project人妖名鑑 常世編"
          ],
          [
           "虹色のセプテントリオン"
          ],
          [
           "Cradle"
          ],
          [
           "トルテルマジック"
          ],
          [
           "メニュー"
          ],
          [
           "東方幻想麻雀"
          ],
          [
           "神魔討綺伝 "
          ],
          [
           "秋霜玉"
          ],
          [
           "稀翁玉"
          ],
          [
           "黄昏酒場"
          ],
          [
           "東方紅魔郷"
          ],
          [
           "東方永夜抄"
          ],
          [
           "東方妖々夢"
          ],
          [
           "東方風神録"
          ],
          [
           "東方地霊殿"
          ],
          [
           "東方紺珠伝"
          ],
          [
           "東方鈴奈庵"
          ],
          [
           "東方輝針城"
          ],
          [
           "東方星蓮船"
          ],
          [
           "東方非想天則"
          ],
          [
           "東方深秘録"
          ],
          [
           "東方神霊廟"
          ],
          [
           "東方茨歌仙"
          ],
          [
           "東方花映塚"
          ],
          [
           "東方緋想天"
          ],
          [
           "弾幕アマノジャク"
          ],
          [
           "東方儚月抄"
          ],
          [
           "東方心綺楼"
          ],
          [
           "東方三月精"
          ],
          [
           "東方求聞史紀 / 東方求聞口授"
          ],
          [
           "東方香霖堂"
          ],
          [
           "大空魔術"
          ],
          [
           "東方文花帖"
          ],
          [
           "ダブルスポイラー"
          ],
          [
           "蓬莱人形"
          ],
          [
           "妖精大戦争"
          ],
          [
           "東方幻想郷"
          ],
          [
           "東方怪綺談"
          ],
          [
           "東方萃夢想"
          ],
          [
           "蓮台野夜行"
          ],
          [
           "東方夢時空"
          ],
          [
           "卯酉東海道"
          ],
          [
           "The Grimoire of Marisa"
          ],
          [
           "夢違科学世紀"
          ],
          [
           "東方靈異伝"
          ],
          [
           "伊弉諾物質"
          ],
          [
           "鳥船遺跡"
          ],
          [
           "東方文花帖（書籍）"
          ],
          [
           "幺樂団の歴史"
          ],
          [
           "東方封魔録"
          ],
          [
           "未知の花　魅知の旅"
          ],
          [
           "燕石博物誌"
          ],
          [
           "旧約酒場"
          ],
          [
           "東方天空璋"
          ],
          [
           "東方憑依華"
          ],
          [
           "東方文果真報"
          ],
          [
           "秘封ナイトメアダイアリー"
          ],
          [
           "東方鬼形獣"
          ],
          [
           "東方酔蝶華"
          ],
          [
           "東方智霊奇伝 反則探偵さとり"
          ],
          [
           "The Grimoire of Usami 秘封倶楽部異界撮影記録"
          ],
          [
           "東方剛欲異聞"
          ],
          [
           "東方Project人妖名鑑 宵闇編"
          ],
          [
           "東方虹龍洞"
          ],
          [
           "バレットフィリア達の闇市場"
          ],
          [
           "東方Project人妖名鑑 常世編"
          ],
          [
           "虹色のセプテントリオン"
          ],
          [
           "Cradle"
          ],
          [
           "トルテルマジック"
          ],
          [
           "メニュー"
          ],
          [
           "東方幻想麻雀"
          ],
          [
           "神魔討綺伝 "
          ],
          [
           "秋霜玉"
          ],
          [
           "稀翁玉"
          ],
          [
           "黄昏酒場"
          ]
         ],
         "hovertemplate": "作品ポイント比率=%{x}<br>音楽集計ポイント比率=%{y}<br>名前=%{customdata[0]}<br>名前n=%{marker.color}<extra></extra>",
         "legendgroup": "",
         "marker": {
          "color": [
           0.5789473684210527,
           0.5,
           0.2631578947368421,
           0.8157894736842105,
           0.18421052631578946,
           0.6052631578947368,
           null,
           0.7368421052631579,
           0.47368421052631576,
           0.7894736842105263,
           0.5263157894736842,
           0.5526315789473685,
           null,
           0.6578947368421053,
           0.631578947368421,
           0.13157894736842105,
           null,
           0.3684210526315789,
           null,
           null,
           null,
           null,
           0.4473684210526316,
           0.02631578947368421,
           null,
           0.10526315789473684,
           0.3157894736842105,
           0.39473684210526316,
           0.6842105263157895,
           null,
           0.21052631578947367,
           null,
           null,
           null,
           0.7631578947368421,
           null,
           null,
           null,
           null,
           0.2894736842105263,
           null,
           null,
           null,
           0.23684210526315788,
           0.42105263157894735,
           null,
           0.9210526315789473,
           0.8421052631578947,
           null,
           null,
           null,
           0.15789473684210525,
           null,
           0.7105263157894737,
           null,
           null,
           null,
           0,
           0.05263157894736842,
           0.07894736842105263,
           0.34210526315789475,
           0.868421052631579,
           0.8947368421052632,
           0.9473684210526315,
           0.9736842105263158,
           0.5789473684210527,
           0.5,
           0.2631578947368421,
           0.8157894736842105,
           0.18421052631578946,
           0.6052631578947368,
           null,
           0.7368421052631579,
           0.47368421052631576,
           0.7894736842105263,
           0.5263157894736842,
           0.5526315789473685,
           null,
           0.6578947368421053,
           0.631578947368421,
           0.13157894736842105,
           null,
           0.3684210526315789,
           null,
           null,
           null,
           null,
           0.4473684210526316,
           0.02631578947368421,
           null,
           0.10526315789473684,
           0.3157894736842105,
           0.39473684210526316,
           0.6842105263157895,
           null,
           0.21052631578947367,
           null,
           null,
           null,
           0.7631578947368421,
           null,
           null,
           null,
           null,
           0.2894736842105263,
           null,
           null,
           null,
           0.23684210526315788,
           0.42105263157894735,
           null,
           0.9210526315789473,
           0.8421052631578947,
           null,
           null,
           null,
           0.15789473684210525,
           null,
           0.7105263157894737,
           null,
           null,
           null,
           0,
           0.05263157894736842,
           0.07894736842105263,
           0.34210526315789475,
           0.868421052631579,
           0.8947368421052632,
           0.9473684210526315,
           0.9736842105263158,
           0.5789473684210527,
           0.5,
           0.2631578947368421,
           0.8157894736842105,
           0.18421052631578946,
           0.6052631578947368,
           null,
           0.7368421052631579,
           0.47368421052631576,
           0.7894736842105263,
           0.5263157894736842,
           0.5526315789473685,
           null,
           0.6578947368421053,
           0.631578947368421,
           0.13157894736842105,
           null,
           0.3684210526315789,
           null,
           null,
           null,
           null,
           0.4473684210526316,
           0.02631578947368421,
           null,
           0.10526315789473684,
           0.3157894736842105,
           0.39473684210526316,
           0.6842105263157895,
           null,
           0.21052631578947367,
           null,
           null,
           null,
           0.7631578947368421,
           null,
           null,
           null,
           null,
           0.2894736842105263,
           null,
           null,
           null,
           0.23684210526315788,
           0.42105263157894735,
           null,
           0.9210526315789473,
           0.8421052631578947,
           null,
           null,
           null,
           0.15789473684210525,
           null,
           0.7105263157894737,
           null,
           null,
           null,
           0,
           0.05263157894736842,
           0.07894736842105263,
           0.34210526315789475,
           0.868421052631579,
           0.8947368421052632,
           0.9473684210526315,
           0.9736842105263158,
           0.5789473684210527,
           0.5,
           0.2631578947368421,
           0.8157894736842105,
           0.18421052631578946,
           0.6052631578947368,
           null,
           0.7368421052631579,
           0.47368421052631576,
           0.7894736842105263,
           0.5263157894736842,
           0.5526315789473685,
           null,
           0.6578947368421053,
           0.631578947368421,
           0.13157894736842105,
           null,
           0.3684210526315789,
           null,
           null,
           null,
           null,
           0.4473684210526316,
           0.02631578947368421,
           null,
           0.10526315789473684,
           0.3157894736842105,
           0.39473684210526316,
           0.6842105263157895,
           null,
           0.21052631578947367,
           null,
           null,
           null,
           0.7631578947368421,
           null,
           null,
           null,
           null,
           0.2894736842105263,
           null,
           null,
           null,
           0.23684210526315788,
           0.42105263157894735,
           null,
           0.9210526315789473,
           0.8421052631578947,
           null,
           null,
           null,
           0.15789473684210525,
           null,
           0.7105263157894737,
           null,
           null,
           null,
           0,
           0.05263157894736842,
           0.07894736842105263,
           0.34210526315789475,
           0.868421052631579,
           0.8947368421052632,
           0.9473684210526315,
           0.9736842105263158,
           0.5789473684210527,
           0.5,
           0.2631578947368421,
           0.8157894736842105,
           0.18421052631578946,
           0.6052631578947368,
           null,
           0.7368421052631579,
           0.47368421052631576,
           0.7894736842105263,
           0.5263157894736842,
           0.5526315789473685,
           null,
           0.6578947368421053,
           0.631578947368421,
           0.13157894736842105,
           null,
           0.3684210526315789,
           null,
           null,
           null,
           null,
           0.4473684210526316,
           0.02631578947368421,
           null,
           0.10526315789473684,
           0.3157894736842105,
           0.39473684210526316,
           0.6842105263157895,
           null,
           0.21052631578947367,
           null,
           null,
           null,
           0.7631578947368421,
           null,
           null,
           null,
           null,
           0.2894736842105263,
           null,
           null,
           null,
           0.23684210526315788,
           0.42105263157894735,
           null,
           0.9210526315789473,
           0.8421052631578947,
           null,
           null,
           null,
           0.15789473684210525,
           null,
           0.7105263157894737,
           null,
           null,
           null,
           0,
           0.05263157894736842,
           0.07894736842105263,
           0.34210526315789475,
           0.868421052631579,
           0.8947368421052632,
           0.9473684210526315,
           0.9736842105263158,
           0.5789473684210527,
           0.5,
           0.2631578947368421,
           0.8157894736842105,
           0.18421052631578946,
           0.6052631578947368,
           null,
           0.7368421052631579,
           0.47368421052631576,
           0.7894736842105263,
           0.5263157894736842,
           0.5526315789473685,
           null,
           0.6578947368421053,
           0.631578947368421,
           0.13157894736842105,
           null,
           0.3684210526315789,
           null,
           null,
           null,
           null,
           0.4473684210526316,
           0.02631578947368421,
           null,
           0.10526315789473684,
           0.3157894736842105,
           0.39473684210526316,
           0.6842105263157895,
           null,
           0.21052631578947367,
           null,
           null,
           null,
           0.7631578947368421,
           null,
           null,
           null,
           null,
           0.2894736842105263,
           null,
           null,
           null,
           0.23684210526315788,
           0.42105263157894735,
           null,
           0.9210526315789473,
           0.8421052631578947,
           null,
           null,
           null,
           0.15789473684210525,
           null,
           0.7105263157894737,
           null,
           null,
           null,
           0,
           0.05263157894736842,
           0.07894736842105263,
           0.34210526315789475,
           0.868421052631579,
           0.8947368421052632,
           0.9473684210526315,
           0.9736842105263158,
           0.5789473684210527,
           0.5,
           0.2631578947368421,
           0.8157894736842105,
           0.18421052631578946,
           0.6052631578947368,
           null,
           0.7368421052631579,
           0.47368421052631576,
           0.7894736842105263,
           0.5263157894736842,
           0.5526315789473685,
           null,
           0.6578947368421053,
           0.631578947368421,
           0.13157894736842105,
           null,
           0.3684210526315789,
           null,
           null,
           null,
           null,
           0.4473684210526316,
           0.02631578947368421,
           null,
           0.10526315789473684,
           0.3157894736842105,
           0.39473684210526316,
           0.6842105263157895,
           null,
           0.21052631578947367,
           null,
           null,
           null,
           0.7631578947368421,
           null,
           null,
           null,
           null,
           0.2894736842105263,
           null,
           null,
           null,
           0.23684210526315788,
           0.42105263157894735,
           null,
           0.9210526315789473,
           0.8421052631578947,
           null,
           null,
           null,
           0.15789473684210525,
           null,
           0.7105263157894737,
           null,
           null,
           null,
           0,
           0.05263157894736842,
           0.07894736842105263,
           0.34210526315789475,
           0.868421052631579,
           0.8947368421052632,
           0.9473684210526315,
           0.9736842105263158
          ],
          "coloraxis": "coloraxis",
          "symbol": "circle"
         },
         "mode": "markers",
         "name": "",
         "orientation": "v",
         "showlegend": false,
         "type": "scatter",
         "x": [
          0.1118469037732442,
          0.1002130348438346,
          0.0898718180176927,
          0.0792200758259613,
          0.0683083589095504,
          0.0583065535295179,
          0.0435674309442137,
          0.0400938797616898,
          0.037674670518144,
          0.0334717458024914,
          0.030236504784257,
          0.0287127640368297,
          0.0270445928868026,
          0.0248131431666365,
          0.0191659144249864,
          0.0175988445567792,
          0.0151507492327134,
          0.0144141541794547,
          0.0141469579346452,
          0.0138869832099656,
          0.0135547932839862,
          0.0117060841307095,
          0.0106445206716013,
          0.0102256725040621,
          0.0092507672865138,
          0.0092218812059938,
          0.0078786784618162,
          0.0073659505325871,
          0.0072865138111572,
          0.0061743997111391,
          0.0056833363423,
          0.0055677920202202,
          0.0044267918396822,
          0.0041740386351326,
          0.0040584943130528,
          0.0037696335078534,
          0.0032280194981043,
          0.0029391586929048,
          0.0018920382740566,
          0.0018053800324968,
          0.0014009749052175,
          0,
          0,
          0,
          0,
          0,
          0,
          0,
          0,
          0,
          0,
          0,
          0,
          0,
          0,
          0,
          0,
          null,
          null,
          null,
          null,
          null,
          null,
          null,
          null,
          0.1122615472739581,
          0.1015604658832514,
          0.09069448542813,
          0.0796983215011022,
          0.0660464147471837,
          0.0596327090312613,
          0.0464494627762059,
          0.0393240874138619,
          0.0357483813854992,
          0.032207390949645,
          0.0312700699519189,
          0.0271996667303119,
          0.0288139417819513,
          0.0236673551925847,
          0.0182430438631511,
          0.0155959799343875,
          0.0134609709951224,
          0.0121938518685667,
          0.0129315582093697,
          0.0115516134071618,
          0.0119508427210081,
          0.0118727326378642,
          0.0106403291038169,
          0.0105708979188002,
          0.0100848796236829,
          0.0097637603929805,
          0.0084098522851538,
          0.0072468799361233,
          0.007038586381073,
          0.00555449480134,
          0.0054763847181961,
          0.0055197792088316,
          0.0043915224523094,
          0.0041051188141153,
          0.0041832288972592,
          0.0033587335751852,
          0.0026557428268906,
          0.002968183159466,
          0.0019353942823419,
          0.0021784034299005,
          0.0014927704778601,
          0.0056846782732464,
          0.0043654857579281,
          0,
          0,
          0,
          0,
          0,
          0,
          0,
          0,
          0,
          0,
          0,
          0,
          0,
          0,
          null,
          null,
          null,
          null,
          null,
          null,
          null,
          null,
          0.1023632354273861,
          0.0962411768852013,
          0.0843192734083151,
          0.0738775386908058,
          0.0607574033610906,
          0.0600223535690191,
          0.0453717036037578,
          0.036087924038142,
          0.0317481095123498,
          0.0298148278674493,
          0.0204504948999627,
          0.0253541832388509,
          0.0260288179795192,
          0.0213667898462436,
          0.0176311258344828,
          0.0147614108928337,
          0.0123347396614743,
          0.0094650247198251,
          0.0130496511030781,
          0.0102302820375983,
          0.0106431182221864,
          0.0128180600726994,
          0.0087601824534552,
          0.0092938487408496,
          0.0109149859535005,
          0.0086192140001812,
          0.0082466545165285,
          0.0074914663739893,
          0.0063939262734989,
          0.005125210194033,
          0.0051755560702022,
          0.0057092223575966,
          0.0041988460725182,
          0.004067946794478,
          0.004420367927663,
          0.0034738654556805,
          0.0027388156636089,
          0.0022756336028515,
          0.0017822440163926,
          0.0026179855608027,
          0.001681552264054,
          0.0048029965865495,
          0.0032422744253018,
          0.0352018366175626,
          0.0329060646642433,
          0.0061220585421848,
          0,
          0,
          0,
          0,
          0,
          0,
          0,
          0,
          0,
          0,
          0,
          null,
          null,
          null,
          null,
          null,
          null,
          null,
          null,
          0.1055993599256687,
          0.0965015292098437,
          0.0834935669948768,
          0.0754281142326205,
          0.0635299583177401,
          0.0601876346930611,
          0.0393336000309713,
          0.0353460401853118,
          0.0313455756152327,
          0.0258481630124788,
          0.0153824315081751,
          0.0258997819101573,
          0.0265837323043966,
          0.0229187905692273,
          0.0158857157605399,
          0.0120530126079157,
          0.0127627724509943,
          0.0082203094552915,
          0.0158857157605399,
          0.0102850653624291,
          0.0098204952833232,
          0.0130724858370649,
          0.0092526874088603,
          0.0082332141797111,
          0.0127885818998335,
          0.008865545676272,
          0.0088397362274328,
          0.008336451975068,
          0.0062975055167696,
          0.0060265063039578,
          0.0061297440993147,
          0.0067233614226168,
          0.0040907976410163,
          0.0048392716573537,
          0.0058329354376637,
          0.0036262275619104,
          0.00264546850602,
          0.0025938496083416,
          0.0021550889780748,
          0.0027487063013769,
          0.0030326102386083,
          0.0051876992166832,
          0.0029551818920906,
          0.0312552425442954,
          0.0292421055348363,
          0.0042714637828909,
          0.0086461653611387,
          0,
          0,
          0,
          0,
          0,
          0,
          0,
          0,
          0,
          0,
          null,
          null,
          null,
          null,
          null,
          null,
          null,
          null,
          0.1089299019888806,
          0.0951835081484878,
          0.0825929959305324,
          0.0787241359546053,
          0.0643472612292466,
          0.0608605108805716,
          0.0301293441088248,
          0.0304636900326703,
          0.0302821879597256,
          0.0237099023709902,
          0.0113677614107487,
          0.0267285684262815,
          0.0279322137521254,
          0.0201180718748208,
          0.013689077396305,
          0.0093234749049502,
          0.0116830018532316,
          0.0076517452857224,
          0.0117212128159568,
          0.0088171796488412,
          0.0089222597963355,
          0.0128579889570317,
          0.0076612980264037,
          0.0067633404023614,
          0.0125905122179553,
          0.0073747158059647,
          0.0109187825987275,
          0.0078236946179859,
          0.0070021589193939,
          0.0053304293001662,
          0.0062665978869337,
          0.0066200492921419,
          0.0032861427943677,
          0.0049960833763206,
          0.0059991211478573,
          0.0036395941995758,
          0.0029709023518847,
          0.001681282359909,
          0.002187577616018,
          0.0035440667927628,
          0.0024168433923692,
          0.0043178387879482,
          0.0027034256128083,
          0.0232131598555625,
          0.0216369576431478,
          0.0025028180585009,
          0.0043464970099921,
          0.0357845665921552,
          0.0070403698821191,
          0.0062188341835272,
          0.0044133661947612,
          0.0015093330276456,
          0.0012036453258439,
          0,
          0,
          0,
          0,
          null,
          null,
          null,
          null,
          null,
          null,
          null,
          null,
          0.1158530005063795,
          0.0972912844607887,
          0.0840507043656558,
          0.07755908453218,
          0.0605165071432722,
          0.0554527116209956,
          0.0234926907017092,
          0.0255431128230244,
          0.027709753202228,
          0.0188107551696371,
          0.0089488058574001,
          0.0268464175722005,
          0.0246714758888621,
          0.0212762424976963,
          0.0135560296522583,
          0.0090650241152885,
          0.0107335862463993,
          0.0073217502469637,
          0.0095714036675161,
          0.007097615035322,
          0.0074130645924474,
          0.0089072993367258,
          0.0075873919792799,
          0.0055369698579646,
          0.0107335862463993,
          0.0075707893710101,
          0.0158471895934851,
          0.0077285141495728,
          0.0062259781011596,
          0.0047732498775557,
          0.0067157550451175,
          0.0054041489918066,
          0.002963565576152,
          0.0038684077268538,
          0.0080688676191029,
          0.0034201373035703,
          0.0025235964570033,
          0.0019176012551571,
          0.0018013829972688,
          0.0052215203008392,
          0.0019923129923711,
          0.0030714825299054,
          0.0024986925445987,
          0.0184288951794326,
          0.0194997634128321,
          0.0020587234254501,
          0.0041423507633049,
          0.0296024505449806,
          0.0107667914629388,
          0.0068319733030059,
          0.0043249794542722,
          0.0033703294787611,
          0.0023077625494965,
          0.0415065206743979,
          0,
          0,
          0,
          null,
          null,
          null,
          null,
          null,
          null,
          null,
          null,
          0.1422444554704439,
          0.0967735357888083,
          0.0862520135665105,
          0.0799717251082398,
          0.0622455429662808,
          0.0487809851352912,
          0.020587655562881,
          0.0202885942077253,
          0.0242919382574238,
          0.0159997825008326,
          0.0082649683606679,
          0.0235986596613809,
          0.0244822500288866,
          0.022436398485662,
          0.0127848729329083,
          0.0077959857809919,
          0.0116837833980166,
          0.0065113813236183,
          0.008625201356651,
          0.0066745056991578,
          0.0055190413724197,
          0.0080542660422628,
          0.0064909907766759,
          0.0046218573069524,
          0.0104263663365663,
          0.0064026317399253,
          0.0180592277420188,
          0.0077687983850686,
          0.0067560678869276,
          0.0041868589721804,
          0.0065317718705608,
          0.0056481815030551,
          0.0031129568332121,
          0.0034188150373486,
          0.0091009807853079,
          0.0026371774045552,
          0.0021274137309943,
          0.0017943681309344,
          0.0017060090941839,
          0.0057909153316522,
          0.0014545256818938,
          0.0026099900086319,
          0.0020254609962821,
          0.0160065793498134,
          0.0200507044933968,
          0.0019982736003588,
          0.0030721757393272,
          0.0250056074004091,
          0.0095835570629456,
          0.0091281681812311,
          0.0032760812087516,
          0.0107118339937604,
          0.0010331210450834,
          0.0304226960381167,
          0.0116565960020934,
          0.0007884344817742,
          0.0007272628409469,
          null,
          null,
          null,
          null,
          null,
          null,
          null,
          null
         ],
         "xaxis": "x",
         "y": [
          0.1602312943347795,
          0.0814750140597368,
          0.1048716602297397,
          0.0971566705298569,
          0.0850202429149788,
          0.06131599143676465,
          null,
          0.04683679208056051,
          0.04962388260041372,
          0.06545778816247709,
          0.0025758060657281,
          0.038661947980523526,
          null,
          0.053834036061284146,
          0.0087279122299519,
          0.019668096979563898,
          null,
          0.0048346854502689,
          null,
          null,
          null,
          null,
          0.017499324200459,
          0.011428003268694534,
          null,
          0.016334152578446646,
          0.012201677225710082,
          0.011546073993057994,
          0.006304355256166801,
          null,
          0.008634698500190682,
          null,
          null,
          null,
          0.0022215938926362384,
          null,
          null,
          null,
          null,
          0.001910881460099501,
          null,
          null,
          null,
          0,
          0,
          null,
          0.0055213599261747,
          0,
          null,
          null,
          null,
          0,
          null,
          0,
          null,
          null,
          null,
          0.0040019761310709,
          0.0006959958488818033,
          0.0009228159246333689,
          0.0006742459786043,
          0.0001802132108712,
          0.0026224129306084316,
          0.00041946178392423785,
          0.0004412116542019,
          0.1594425509014255,
          0.0828998116422988,
          0.10465437856907853,
          0.0963875683917832,
          0.0817263132717425,
          0.060592130833855964,
          null,
          0.04477232636708748,
          0.04808353514515417,
          0.06425090441594106,
          0.0017452985320058,
          0.037260441893143474,
          null,
          0.05426495649833995,
          0.0087377044279008,
          0.0203717822226206,
          null,
          0.005146201453045,
          null,
          null,
          null,
          null,
          0.0178005501240764,
          0.011256614943044,
          null,
          0.015659102460608802,
          0.012239513259783423,
          0.012359105450413497,
          0.0063084880557298,
          null,
          0.008838610338744321,
          null,
          null,
          null,
          0.0026534517296018818,
          null,
          null,
          null,
          null,
          0.0022311418064397495,
          null,
          null,
          null,
          0,
          0,
          null,
          0.0052358955960175,
          0,
          null,
          null,
          null,
          0,
          null,
          0,
          null,
          null,
          null,
          0.0044398600771369,
          0.0007848237510090219,
          0.00078856100696595,
          0.0007026041199509,
          0.0001831255419021,
          0.0028440517834182615,
          0.0003812001076329598,
          0.0005269530899632,
          0.14818800471026058,
          0.077670802111678,
          0.09912719029368469,
          0.08837914959490777,
          0.0762286152801226,
          0.05990588297557918,
          null,
          0.04458871213156894,
          0.044271166407189706,
          0.061753822677174476,
          0.0015568561209143,
          0.035992925786917034,
          null,
          0.05179523593206233,
          0.0101658735374151,
          0.0187131459519532,
          null,
          0.0049351897997256,
          null,
          null,
          null,
          null,
          0.0150966529798577,
          0.010465777832661996,
          null,
          0.014558589391326279,
          0.01147133929319512,
          0.011912375021500141,
          0.0062053726972421,
          null,
          0.008234137047441812,
          null,
          null,
          null,
          0.00293288759322361,
          null,
          null,
          null,
          null,
          0.00192732613268962,
          null,
          null,
          null,
          0.038286311574099806,
          0.0099674074596783,
          null,
          0.0141131433057389,
          0,
          null,
          null,
          null,
          0,
          null,
          0,
          null,
          null,
          null,
          0.0041721979897591,
          0.0007453503808343005,
          0.000890892171174518,
          0.0006350914487582,
          0.000211697149586,
          0.002659445441674975,
          0.00038811144090782296,
          0.000511601444833,
          0.1506344451549923,
          0.0768346179305073,
          0.09778645395083668,
          0.0901069188740414,
          0.0768738850930622,
          0.05939438816151078,
          null,
          0.042554385020137794,
          0.04328363232472753,
          0.06243478846218527,
          0.0012565492017546,
          0.034280232910369,
          null,
          0.051193160782201146,
          0.0091941256324817,
          0.0179170453143052,
          null,
          0.0045606004510113,
          null,
          null,
          null,
          null,
          0.015656378670077,
          0.010955538352798295,
          null,
          0.013732287704889833,
          0.011510888223216203,
          0.012599149585450243,
          0.0060639718173964,
          null,
          0.008610727788809495,
          null,
          null,
          null,
          0.0032760032760030745,
          null,
          null,
          null,
          null,
          0.002266276238878669,
          null,
          null,
          null,
          0.03142494923316768,
          0.0138444795979042,
          null,
          0.0157349129951866,
          0,
          null,
          null,
          null,
          0,
          null,
          0,
          null,
          null,
          null,
          0.0040389081484971,
          0.0007516856831924352,
          0.0011331381194393596,
          0.0005833978436718,
          0.0002973085164865,
          0.0031357634097356757,
          0.0005273018971648122,
          0.0004824251399593,
          0.158557030196575,
          0.07613762308495539,
          0.09476291266719673,
          0.08871319454725039,
          0.0765017264903223,
          0.052983047185399854,
          null,
          0.037926771203021,
          0.03996334959128295,
          0.062373714134813754,
          0.0011563283972648,
          0.03333346670454325,
          null,
          0.051182535840177984,
          0.0078062169656181,
          0.0166487282388195,
          null,
          0.0035129976913443,
          null,
          null,
          null,
          null,
          0.0138199248586596,
          0.009734764673166918,
          null,
          0.011919385105369657,
          0.011459254428256667,
          0.011715327152910735,
          0.005345518127148,
          null,
          0.008610445366483484,
          null,
          null,
          null,
          0.0032129124671403954,
          null,
          null,
          null,
          null,
          0.0023446658851111633,
          null,
          null,
          null,
          0.023490671350662948,
          0.0107190442085552,
          null,
          0.010839078298236425,
          0.01712086232489963,
          null,
          null,
          null,
          0,
          null,
          0,
          null,
          null,
          null,
          0.0033649556474038,
          0.0007322079470568192,
          0.0010562999891967826,
          0.0006561863569253,
          0.0002600738609765,
          0.0025607272465375495,
          0.0005041431766620704,
          0.0004441261318214,
          0.1779170319382656,
          0.0789167036447783,
          0.1010891407008153,
          0.0841116775075659,
          0.0670945304861982,
          0.048122053024808674,
          null,
          0.031249210832962754,
          0.03425796652849408,
          0.06185987279529223,
          0.0011616538776511,
          0.02955362908608058,
          null,
          0.059146942000280756,
          0.0080846780739633,
          0.0152494128597245,
          null,
          0.0036328740832132,
          null,
          null,
          null,
          null,
          0.0125436973061891,
          0.008427402044077582,
          null,
          0.009549372093610153,
          0.012449899166999328,
          0.0099029189259385,
          0.0047764898571742,
          null,
          0.007547142583993952,
          null,
          null,
          null,
          0.003041224282173241,
          null,
          null,
          null,
          null,
          0.0020094447510918692,
          null,
          null,
          null,
          0.020491285792106476,
          0.0099534256162718,
          null,
          0.009278800538256658,
          0.011172801425731077,
          null,
          null,
          null,
          0,
          null,
          0.03040502758025964,
          null,
          null,
          null,
          0.0034200244596686,
          0.0006241183876821233,
          0.0010426023932953701,
          0.0004148763848754,
          0.0001623429332121,
          0.0023449534797303695,
          0.0003932306604470288,
          0.0003355087286383,
          0.2096843836743078,
          0.0798660576598269,
          0.098189134808852,
          0.0894270733892399,
          0.07012292734509175,
          0.04297610480400555,
          null,
          0.02470296229934275,
          0.03154107124498728,
          0.06278253462380055,
          0.0009751942310799,
          0.02700289327204025,
          null,
          0.057665702242652356,
          0.006788174301282,
          0.0127068983242518,
          null,
          0.0031870052431375003,
          null,
          null,
          null,
          null,
          0.0113733495865702,
          0.006937978234369552,
          null,
          0.0085505735140767,
          0.011484968203380203,
          0.008823745392059731,
          0.004329627399433,
          null,
          0.006676555684471482,
          null,
          null,
          null,
          0.002611288166957852,
          null,
          null,
          null,
          null,
          0.002035571090778056,
          null,
          null,
          null,
          0.017688613432418624,
          0.0097431303147351,
          null,
          0.008104099046835424,
          0.008782622743761325,
          null,
          null,
          null,
          0.0046174859375229,
          null,
          0.020699378754276774,
          null,
          null,
          null,
          0.0030753866263273,
          0.0007460823334165262,
          0.0009164475906533021,
          0.0004229758110708,
          0.0001938639134074,
          0.002261745656419953,
          0.00039360249085747804,
          0.0003054825302178
         ],
         "yaxis": "y"
        }
       ],
       "layout": {
        "coloraxis": {
         "colorbar": {
          "title": {
           "text": "名前n"
          }
         },
         "colorscale": [
          [
           0,
           "#0d0887"
          ],
          [
           0.1111111111111111,
           "#46039f"
          ],
          [
           0.2222222222222222,
           "#7201a8"
          ],
          [
           0.3333333333333333,
           "#9c179e"
          ],
          [
           0.4444444444444444,
           "#bd3786"
          ],
          [
           0.5555555555555556,
           "#d8576b"
          ],
          [
           0.6666666666666666,
           "#ed7953"
          ],
          [
           0.7777777777777778,
           "#fb9f3a"
          ],
          [
           0.8888888888888888,
           "#fdca26"
          ],
          [
           1,
           "#f0f921"
          ]
         ]
        },
        "legend": {
         "tracegroupgap": 0
        },
        "margin": {
         "t": 60
        },
        "template": {
         "data": {
          "bar": [
           {
            "error_x": {
             "color": "#2a3f5f"
            },
            "error_y": {
             "color": "#2a3f5f"
            },
            "marker": {
             "line": {
              "color": "#E5ECF6",
              "width": 0.5
             },
             "pattern": {
              "fillmode": "overlay",
              "size": 10,
              "solidity": 0.2
             }
            },
            "type": "bar"
           }
          ],
          "barpolar": [
           {
            "marker": {
             "line": {
              "color": "#E5ECF6",
              "width": 0.5
             },
             "pattern": {
              "fillmode": "overlay",
              "size": 10,
              "solidity": 0.2
             }
            },
            "type": "barpolar"
           }
          ],
          "carpet": [
           {
            "aaxis": {
             "endlinecolor": "#2a3f5f",
             "gridcolor": "white",
             "linecolor": "white",
             "minorgridcolor": "white",
             "startlinecolor": "#2a3f5f"
            },
            "baxis": {
             "endlinecolor": "#2a3f5f",
             "gridcolor": "white",
             "linecolor": "white",
             "minorgridcolor": "white",
             "startlinecolor": "#2a3f5f"
            },
            "type": "carpet"
           }
          ],
          "choropleth": [
           {
            "colorbar": {
             "outlinewidth": 0,
             "ticks": ""
            },
            "type": "choropleth"
           }
          ],
          "contour": [
           {
            "colorbar": {
             "outlinewidth": 0,
             "ticks": ""
            },
            "colorscale": [
             [
              0,
              "#0d0887"
             ],
             [
              0.1111111111111111,
              "#46039f"
             ],
             [
              0.2222222222222222,
              "#7201a8"
             ],
             [
              0.3333333333333333,
              "#9c179e"
             ],
             [
              0.4444444444444444,
              "#bd3786"
             ],
             [
              0.5555555555555556,
              "#d8576b"
             ],
             [
              0.6666666666666666,
              "#ed7953"
             ],
             [
              0.7777777777777778,
              "#fb9f3a"
             ],
             [
              0.8888888888888888,
              "#fdca26"
             ],
             [
              1,
              "#f0f921"
             ]
            ],
            "type": "contour"
           }
          ],
          "contourcarpet": [
           {
            "colorbar": {
             "outlinewidth": 0,
             "ticks": ""
            },
            "type": "contourcarpet"
           }
          ],
          "heatmap": [
           {
            "colorbar": {
             "outlinewidth": 0,
             "ticks": ""
            },
            "colorscale": [
             [
              0,
              "#0d0887"
             ],
             [
              0.1111111111111111,
              "#46039f"
             ],
             [
              0.2222222222222222,
              "#7201a8"
             ],
             [
              0.3333333333333333,
              "#9c179e"
             ],
             [
              0.4444444444444444,
              "#bd3786"
             ],
             [
              0.5555555555555556,
              "#d8576b"
             ],
             [
              0.6666666666666666,
              "#ed7953"
             ],
             [
              0.7777777777777778,
              "#fb9f3a"
             ],
             [
              0.8888888888888888,
              "#fdca26"
             ],
             [
              1,
              "#f0f921"
             ]
            ],
            "type": "heatmap"
           }
          ],
          "heatmapgl": [
           {
            "colorbar": {
             "outlinewidth": 0,
             "ticks": ""
            },
            "colorscale": [
             [
              0,
              "#0d0887"
             ],
             [
              0.1111111111111111,
              "#46039f"
             ],
             [
              0.2222222222222222,
              "#7201a8"
             ],
             [
              0.3333333333333333,
              "#9c179e"
             ],
             [
              0.4444444444444444,
              "#bd3786"
             ],
             [
              0.5555555555555556,
              "#d8576b"
             ],
             [
              0.6666666666666666,
              "#ed7953"
             ],
             [
              0.7777777777777778,
              "#fb9f3a"
             ],
             [
              0.8888888888888888,
              "#fdca26"
             ],
             [
              1,
              "#f0f921"
             ]
            ],
            "type": "heatmapgl"
           }
          ],
          "histogram": [
           {
            "marker": {
             "pattern": {
              "fillmode": "overlay",
              "size": 10,
              "solidity": 0.2
             }
            },
            "type": "histogram"
           }
          ],
          "histogram2d": [
           {
            "colorbar": {
             "outlinewidth": 0,
             "ticks": ""
            },
            "colorscale": [
             [
              0,
              "#0d0887"
             ],
             [
              0.1111111111111111,
              "#46039f"
             ],
             [
              0.2222222222222222,
              "#7201a8"
             ],
             [
              0.3333333333333333,
              "#9c179e"
             ],
             [
              0.4444444444444444,
              "#bd3786"
             ],
             [
              0.5555555555555556,
              "#d8576b"
             ],
             [
              0.6666666666666666,
              "#ed7953"
             ],
             [
              0.7777777777777778,
              "#fb9f3a"
             ],
             [
              0.8888888888888888,
              "#fdca26"
             ],
             [
              1,
              "#f0f921"
             ]
            ],
            "type": "histogram2d"
           }
          ],
          "histogram2dcontour": [
           {
            "colorbar": {
             "outlinewidth": 0,
             "ticks": ""
            },
            "colorscale": [
             [
              0,
              "#0d0887"
             ],
             [
              0.1111111111111111,
              "#46039f"
             ],
             [
              0.2222222222222222,
              "#7201a8"
             ],
             [
              0.3333333333333333,
              "#9c179e"
             ],
             [
              0.4444444444444444,
              "#bd3786"
             ],
             [
              0.5555555555555556,
              "#d8576b"
             ],
             [
              0.6666666666666666,
              "#ed7953"
             ],
             [
              0.7777777777777778,
              "#fb9f3a"
             ],
             [
              0.8888888888888888,
              "#fdca26"
             ],
             [
              1,
              "#f0f921"
             ]
            ],
            "type": "histogram2dcontour"
           }
          ],
          "mesh3d": [
           {
            "colorbar": {
             "outlinewidth": 0,
             "ticks": ""
            },
            "type": "mesh3d"
           }
          ],
          "parcoords": [
           {
            "line": {
             "colorbar": {
              "outlinewidth": 0,
              "ticks": ""
             }
            },
            "type": "parcoords"
           }
          ],
          "pie": [
           {
            "automargin": true,
            "type": "pie"
           }
          ],
          "scatter": [
           {
            "fillpattern": {
             "fillmode": "overlay",
             "size": 10,
             "solidity": 0.2
            },
            "type": "scatter"
           }
          ],
          "scatter3d": [
           {
            "line": {
             "colorbar": {
              "outlinewidth": 0,
              "ticks": ""
             }
            },
            "marker": {
             "colorbar": {
              "outlinewidth": 0,
              "ticks": ""
             }
            },
            "type": "scatter3d"
           }
          ],
          "scattercarpet": [
           {
            "marker": {
             "colorbar": {
              "outlinewidth": 0,
              "ticks": ""
             }
            },
            "type": "scattercarpet"
           }
          ],
          "scattergeo": [
           {
            "marker": {
             "colorbar": {
              "outlinewidth": 0,
              "ticks": ""
             }
            },
            "type": "scattergeo"
           }
          ],
          "scattergl": [
           {
            "marker": {
             "colorbar": {
              "outlinewidth": 0,
              "ticks": ""
             }
            },
            "type": "scattergl"
           }
          ],
          "scattermapbox": [
           {
            "marker": {
             "colorbar": {
              "outlinewidth": 0,
              "ticks": ""
             }
            },
            "type": "scattermapbox"
           }
          ],
          "scatterpolar": [
           {
            "marker": {
             "colorbar": {
              "outlinewidth": 0,
              "ticks": ""
             }
            },
            "type": "scatterpolar"
           }
          ],
          "scatterpolargl": [
           {
            "marker": {
             "colorbar": {
              "outlinewidth": 0,
              "ticks": ""
             }
            },
            "type": "scatterpolargl"
           }
          ],
          "scatterternary": [
           {
            "marker": {
             "colorbar": {
              "outlinewidth": 0,
              "ticks": ""
             }
            },
            "type": "scatterternary"
           }
          ],
          "surface": [
           {
            "colorbar": {
             "outlinewidth": 0,
             "ticks": ""
            },
            "colorscale": [
             [
              0,
              "#0d0887"
             ],
             [
              0.1111111111111111,
              "#46039f"
             ],
             [
              0.2222222222222222,
              "#7201a8"
             ],
             [
              0.3333333333333333,
              "#9c179e"
             ],
             [
              0.4444444444444444,
              "#bd3786"
             ],
             [
              0.5555555555555556,
              "#d8576b"
             ],
             [
              0.6666666666666666,
              "#ed7953"
             ],
             [
              0.7777777777777778,
              "#fb9f3a"
             ],
             [
              0.8888888888888888,
              "#fdca26"
             ],
             [
              1,
              "#f0f921"
             ]
            ],
            "type": "surface"
           }
          ],
          "table": [
           {
            "cells": {
             "fill": {
              "color": "#EBF0F8"
             },
             "line": {
              "color": "white"
             }
            },
            "header": {
             "fill": {
              "color": "#C8D4E3"
             },
             "line": {
              "color": "white"
             }
            },
            "type": "table"
           }
          ]
         },
         "layout": {
          "annotationdefaults": {
           "arrowcolor": "#2a3f5f",
           "arrowhead": 0,
           "arrowwidth": 1
          },
          "autotypenumbers": "strict",
          "coloraxis": {
           "colorbar": {
            "outlinewidth": 0,
            "ticks": ""
           }
          },
          "colorscale": {
           "diverging": [
            [
             0,
             "#8e0152"
            ],
            [
             0.1,
             "#c51b7d"
            ],
            [
             0.2,
             "#de77ae"
            ],
            [
             0.3,
             "#f1b6da"
            ],
            [
             0.4,
             "#fde0ef"
            ],
            [
             0.5,
             "#f7f7f7"
            ],
            [
             0.6,
             "#e6f5d0"
            ],
            [
             0.7,
             "#b8e186"
            ],
            [
             0.8,
             "#7fbc41"
            ],
            [
             0.9,
             "#4d9221"
            ],
            [
             1,
             "#276419"
            ]
           ],
           "sequential": [
            [
             0,
             "#0d0887"
            ],
            [
             0.1111111111111111,
             "#46039f"
            ],
            [
             0.2222222222222222,
             "#7201a8"
            ],
            [
             0.3333333333333333,
             "#9c179e"
            ],
            [
             0.4444444444444444,
             "#bd3786"
            ],
            [
             0.5555555555555556,
             "#d8576b"
            ],
            [
             0.6666666666666666,
             "#ed7953"
            ],
            [
             0.7777777777777778,
             "#fb9f3a"
            ],
            [
             0.8888888888888888,
             "#fdca26"
            ],
            [
             1,
             "#f0f921"
            ]
           ],
           "sequentialminus": [
            [
             0,
             "#0d0887"
            ],
            [
             0.1111111111111111,
             "#46039f"
            ],
            [
             0.2222222222222222,
             "#7201a8"
            ],
            [
             0.3333333333333333,
             "#9c179e"
            ],
            [
             0.4444444444444444,
             "#bd3786"
            ],
            [
             0.5555555555555556,
             "#d8576b"
            ],
            [
             0.6666666666666666,
             "#ed7953"
            ],
            [
             0.7777777777777778,
             "#fb9f3a"
            ],
            [
             0.8888888888888888,
             "#fdca26"
            ],
            [
             1,
             "#f0f921"
            ]
           ]
          },
          "colorway": [
           "#636efa",
           "#EF553B",
           "#00cc96",
           "#ab63fa",
           "#FFA15A",
           "#19d3f3",
           "#FF6692",
           "#B6E880",
           "#FF97FF",
           "#FECB52"
          ],
          "font": {
           "color": "#2a3f5f"
          },
          "geo": {
           "bgcolor": "white",
           "lakecolor": "white",
           "landcolor": "#E5ECF6",
           "showlakes": true,
           "showland": true,
           "subunitcolor": "white"
          },
          "hoverlabel": {
           "align": "left"
          },
          "hovermode": "closest",
          "mapbox": {
           "style": "light"
          },
          "paper_bgcolor": "white",
          "plot_bgcolor": "#E5ECF6",
          "polar": {
           "angularaxis": {
            "gridcolor": "white",
            "linecolor": "white",
            "ticks": ""
           },
           "bgcolor": "#E5ECF6",
           "radialaxis": {
            "gridcolor": "white",
            "linecolor": "white",
            "ticks": ""
           }
          },
          "scene": {
           "xaxis": {
            "backgroundcolor": "#E5ECF6",
            "gridcolor": "white",
            "gridwidth": 2,
            "linecolor": "white",
            "showbackground": true,
            "ticks": "",
            "zerolinecolor": "white"
           },
           "yaxis": {
            "backgroundcolor": "#E5ECF6",
            "gridcolor": "white",
            "gridwidth": 2,
            "linecolor": "white",
            "showbackground": true,
            "ticks": "",
            "zerolinecolor": "white"
           },
           "zaxis": {
            "backgroundcolor": "#E5ECF6",
            "gridcolor": "white",
            "gridwidth": 2,
            "linecolor": "white",
            "showbackground": true,
            "ticks": "",
            "zerolinecolor": "white"
           }
          },
          "shapedefaults": {
           "line": {
            "color": "#2a3f5f"
           }
          },
          "ternary": {
           "aaxis": {
            "gridcolor": "white",
            "linecolor": "white",
            "ticks": ""
           },
           "baxis": {
            "gridcolor": "white",
            "linecolor": "white",
            "ticks": ""
           },
           "bgcolor": "#E5ECF6",
           "caxis": {
            "gridcolor": "white",
            "linecolor": "white",
            "ticks": ""
           }
          },
          "title": {
           "x": 0.05
          },
          "xaxis": {
           "automargin": true,
           "gridcolor": "white",
           "linecolor": "white",
           "ticks": "",
           "title": {
            "standoff": 15
           },
           "zerolinecolor": "white",
           "zerolinewidth": 2
          },
          "yaxis": {
           "automargin": true,
           "gridcolor": "white",
           "linecolor": "white",
           "ticks": "",
           "title": {
            "standoff": 15
           },
           "zerolinecolor": "white",
           "zerolinewidth": 2
          }
         }
        },
        "xaxis": {
         "anchor": "y",
         "domain": [
          0,
          1
         ],
         "title": {
          "text": "作品ポイント比率"
         }
        },
        "yaxis": {
         "anchor": "x",
         "domain": [
          0,
          1
         ],
         "title": {
          "text": "音楽集計ポイント比率"
         }
        }
       }
      },
      "text/html": [
       "<div>                            <div id=\"53bc611b-4d65-4708-a6ed-488596a80f9f\" class=\"plotly-graph-div\" style=\"height:525px; width:100%;\"></div>            <script type=\"text/javascript\">                require([\"plotly\"], function(Plotly) {                    window.PLOTLYENV=window.PLOTLYENV || {};                                    if (document.getElementById(\"53bc611b-4d65-4708-a6ed-488596a80f9f\")) {                    Plotly.newPlot(                        \"53bc611b-4d65-4708-a6ed-488596a80f9f\",                        [{\"customdata\":[[\"東方紅魔郷\"],[\"東方永夜抄\"],[\"東方妖々夢\"],[\"東方風神録\"],[\"東方地霊殿\"],[\"東方紺珠伝\"],[\"東方鈴奈庵\"],[\"東方輝針城\"],[\"東方星蓮船\"],[\"東方非想天則\"],[\"東方深秘録\"],[\"東方神霊廟\"],[\"東方茨歌仙\"],[\"東方花映塚\"],[\"東方緋想天\"],[\"弾幕アマノジャク\"],[\"東方儚月抄\"],[\"東方心綺楼\"],[\"東方三月精\"],[\"東方求聞史紀 / 東方求聞口授\"],[\"東方香霖堂\"],[\"大空魔術\"],[\"東方文花帖\"],[\"ダブルスポイラー\"],[\"蓬莱人形\"],[\"妖精大戦争\"],[\"東方幻想郷\"],[\"東方怪綺談\"],[\"東方萃夢想\"],[\"蓮台野夜行\"],[\"東方夢時空\"],[\"卯酉東海道\"],[\"The Grimoire of Marisa\"],[\"夢違科学世紀\"],[\"東方靈異伝\"],[\"伊弉諾物質\"],[\"鳥船遺跡\"],[\"東方文花帖（書籍）\"],[\"幺樂団の歴史\"],[\"東方封魔録\"],[\"未知の花　魅知の旅\"],[\"燕石博物誌\"],[\"旧約酒場\"],[\"東方天空璋\"],[\"東方憑依華\"],[\"東方文果真報\"],[\"秘封ナイトメアダイアリー\"],[\"東方鬼形獣\"],[\"東方酔蝶華\"],[\"東方智霊奇伝 反則探偵さとり\"],[\"The Grimoire of Usami 秘封倶楽部異界撮影記録\"],[\"東方剛欲異聞\"],[\"東方Project人妖名鑑 宵闇編\"],[\"東方虹龍洞\"],[\"バレットフィリア達の闇市場\"],[\"東方Project人妖名鑑 常世編\"],[\"虹色のセプテントリオン\"],[\"Cradle\"],[\"トルテルマジック\"],[\"メニュー\"],[\"東方幻想麻雀\"],[\"神魔討綺伝 \"],[\"秋霜玉\"],[\"稀翁玉\"],[\"黄昏酒場\"],[\"東方紅魔郷\"],[\"東方永夜抄\"],[\"東方妖々夢\"],[\"東方風神録\"],[\"東方地霊殿\"],[\"東方紺珠伝\"],[\"東方鈴奈庵\"],[\"東方輝針城\"],[\"東方星蓮船\"],[\"東方非想天則\"],[\"東方深秘録\"],[\"東方神霊廟\"],[\"東方茨歌仙\"],[\"東方花映塚\"],[\"東方緋想天\"],[\"弾幕アマノジャク\"],[\"東方儚月抄\"],[\"東方心綺楼\"],[\"東方三月精\"],[\"東方求聞史紀 / 東方求聞口授\"],[\"東方香霖堂\"],[\"大空魔術\"],[\"東方文花帖\"],[\"ダブルスポイラー\"],[\"蓬莱人形\"],[\"妖精大戦争\"],[\"東方幻想郷\"],[\"東方怪綺談\"],[\"東方萃夢想\"],[\"蓮台野夜行\"],[\"東方夢時空\"],[\"卯酉東海道\"],[\"The Grimoire of Marisa\"],[\"夢違科学世紀\"],[\"東方靈異伝\"],[\"伊弉諾物質\"],[\"鳥船遺跡\"],[\"東方文花帖（書籍）\"],[\"幺樂団の歴史\"],[\"東方封魔録\"],[\"未知の花　魅知の旅\"],[\"燕石博物誌\"],[\"旧約酒場\"],[\"東方天空璋\"],[\"東方憑依華\"],[\"東方文果真報\"],[\"秘封ナイトメアダイアリー\"],[\"東方鬼形獣\"],[\"東方酔蝶華\"],[\"東方智霊奇伝 反則探偵さとり\"],[\"The Grimoire of Usami 秘封倶楽部異界撮影記録\"],[\"東方剛欲異聞\"],[\"東方Project人妖名鑑 宵闇編\"],[\"東方虹龍洞\"],[\"バレットフィリア達の闇市場\"],[\"東方Project人妖名鑑 常世編\"],[\"虹色のセプテントリオン\"],[\"Cradle\"],[\"トルテルマジック\"],[\"メニュー\"],[\"東方幻想麻雀\"],[\"神魔討綺伝 \"],[\"秋霜玉\"],[\"稀翁玉\"],[\"黄昏酒場\"],[\"東方紅魔郷\"],[\"東方永夜抄\"],[\"東方妖々夢\"],[\"東方風神録\"],[\"東方地霊殿\"],[\"東方紺珠伝\"],[\"東方鈴奈庵\"],[\"東方輝針城\"],[\"東方星蓮船\"],[\"東方非想天則\"],[\"東方深秘録\"],[\"東方神霊廟\"],[\"東方茨歌仙\"],[\"東方花映塚\"],[\"東方緋想天\"],[\"弾幕アマノジャク\"],[\"東方儚月抄\"],[\"東方心綺楼\"],[\"東方三月精\"],[\"東方求聞史紀 / 東方求聞口授\"],[\"東方香霖堂\"],[\"大空魔術\"],[\"東方文花帖\"],[\"ダブルスポイラー\"],[\"蓬莱人形\"],[\"妖精大戦争\"],[\"東方幻想郷\"],[\"東方怪綺談\"],[\"東方萃夢想\"],[\"蓮台野夜行\"],[\"東方夢時空\"],[\"卯酉東海道\"],[\"The Grimoire of Marisa\"],[\"夢違科学世紀\"],[\"東方靈異伝\"],[\"伊弉諾物質\"],[\"鳥船遺跡\"],[\"東方文花帖（書籍）\"],[\"幺樂団の歴史\"],[\"東方封魔録\"],[\"未知の花　魅知の旅\"],[\"燕石博物誌\"],[\"旧約酒場\"],[\"東方天空璋\"],[\"東方憑依華\"],[\"東方文果真報\"],[\"秘封ナイトメアダイアリー\"],[\"東方鬼形獣\"],[\"東方酔蝶華\"],[\"東方智霊奇伝 反則探偵さとり\"],[\"The Grimoire of Usami 秘封倶楽部異界撮影記録\"],[\"東方剛欲異聞\"],[\"東方Project人妖名鑑 宵闇編\"],[\"東方虹龍洞\"],[\"バレットフィリア達の闇市場\"],[\"東方Project人妖名鑑 常世編\"],[\"虹色のセプテントリオン\"],[\"Cradle\"],[\"トルテルマジック\"],[\"メニュー\"],[\"東方幻想麻雀\"],[\"神魔討綺伝 \"],[\"秋霜玉\"],[\"稀翁玉\"],[\"黄昏酒場\"],[\"東方紅魔郷\"],[\"東方永夜抄\"],[\"東方妖々夢\"],[\"東方風神録\"],[\"東方地霊殿\"],[\"東方紺珠伝\"],[\"東方鈴奈庵\"],[\"東方輝針城\"],[\"東方星蓮船\"],[\"東方非想天則\"],[\"東方深秘録\"],[\"東方神霊廟\"],[\"東方茨歌仙\"],[\"東方花映塚\"],[\"東方緋想天\"],[\"弾幕アマノジャク\"],[\"東方儚月抄\"],[\"東方心綺楼\"],[\"東方三月精\"],[\"東方求聞史紀 / 東方求聞口授\"],[\"東方香霖堂\"],[\"大空魔術\"],[\"東方文花帖\"],[\"ダブルスポイラー\"],[\"蓬莱人形\"],[\"妖精大戦争\"],[\"東方幻想郷\"],[\"東方怪綺談\"],[\"東方萃夢想\"],[\"蓮台野夜行\"],[\"東方夢時空\"],[\"卯酉東海道\"],[\"The Grimoire of Marisa\"],[\"夢違科学世紀\"],[\"東方靈異伝\"],[\"伊弉諾物質\"],[\"鳥船遺跡\"],[\"東方文花帖（書籍）\"],[\"幺樂団の歴史\"],[\"東方封魔録\"],[\"未知の花　魅知の旅\"],[\"燕石博物誌\"],[\"旧約酒場\"],[\"東方天空璋\"],[\"東方憑依華\"],[\"東方文果真報\"],[\"秘封ナイトメアダイアリー\"],[\"東方鬼形獣\"],[\"東方酔蝶華\"],[\"東方智霊奇伝 反則探偵さとり\"],[\"The Grimoire of Usami 秘封倶楽部異界撮影記録\"],[\"東方剛欲異聞\"],[\"東方Project人妖名鑑 宵闇編\"],[\"東方虹龍洞\"],[\"バレットフィリア達の闇市場\"],[\"東方Project人妖名鑑 常世編\"],[\"虹色のセプテントリオン\"],[\"Cradle\"],[\"トルテルマジック\"],[\"メニュー\"],[\"東方幻想麻雀\"],[\"神魔討綺伝 \"],[\"秋霜玉\"],[\"稀翁玉\"],[\"黄昏酒場\"],[\"東方紅魔郷\"],[\"東方永夜抄\"],[\"東方妖々夢\"],[\"東方風神録\"],[\"東方地霊殿\"],[\"東方紺珠伝\"],[\"東方鈴奈庵\"],[\"東方輝針城\"],[\"東方星蓮船\"],[\"東方非想天則\"],[\"東方深秘録\"],[\"東方神霊廟\"],[\"東方茨歌仙\"],[\"東方花映塚\"],[\"東方緋想天\"],[\"弾幕アマノジャク\"],[\"東方儚月抄\"],[\"東方心綺楼\"],[\"東方三月精\"],[\"東方求聞史紀 / 東方求聞口授\"],[\"東方香霖堂\"],[\"大空魔術\"],[\"東方文花帖\"],[\"ダブルスポイラー\"],[\"蓬莱人形\"],[\"妖精大戦争\"],[\"東方幻想郷\"],[\"東方怪綺談\"],[\"東方萃夢想\"],[\"蓮台野夜行\"],[\"東方夢時空\"],[\"卯酉東海道\"],[\"The Grimoire of Marisa\"],[\"夢違科学世紀\"],[\"東方靈異伝\"],[\"伊弉諾物質\"],[\"鳥船遺跡\"],[\"東方文花帖（書籍）\"],[\"幺樂団の歴史\"],[\"東方封魔録\"],[\"未知の花　魅知の旅\"],[\"燕石博物誌\"],[\"旧約酒場\"],[\"東方天空璋\"],[\"東方憑依華\"],[\"東方文果真報\"],[\"秘封ナイトメアダイアリー\"],[\"東方鬼形獣\"],[\"東方酔蝶華\"],[\"東方智霊奇伝 反則探偵さとり\"],[\"The Grimoire of Usami 秘封倶楽部異界撮影記録\"],[\"東方剛欲異聞\"],[\"東方Project人妖名鑑 宵闇編\"],[\"東方虹龍洞\"],[\"バレットフィリア達の闇市場\"],[\"東方Project人妖名鑑 常世編\"],[\"虹色のセプテントリオン\"],[\"Cradle\"],[\"トルテルマジック\"],[\"メニュー\"],[\"東方幻想麻雀\"],[\"神魔討綺伝 \"],[\"秋霜玉\"],[\"稀翁玉\"],[\"黄昏酒場\"],[\"東方紅魔郷\"],[\"東方永夜抄\"],[\"東方妖々夢\"],[\"東方風神録\"],[\"東方地霊殿\"],[\"東方紺珠伝\"],[\"東方鈴奈庵\"],[\"東方輝針城\"],[\"東方星蓮船\"],[\"東方非想天則\"],[\"東方深秘録\"],[\"東方神霊廟\"],[\"東方茨歌仙\"],[\"東方花映塚\"],[\"東方緋想天\"],[\"弾幕アマノジャク\"],[\"東方儚月抄\"],[\"東方心綺楼\"],[\"東方三月精\"],[\"東方求聞史紀 / 東方求聞口授\"],[\"東方香霖堂\"],[\"大空魔術\"],[\"東方文花帖\"],[\"ダブルスポイラー\"],[\"蓬莱人形\"],[\"妖精大戦争\"],[\"東方幻想郷\"],[\"東方怪綺談\"],[\"東方萃夢想\"],[\"蓮台野夜行\"],[\"東方夢時空\"],[\"卯酉東海道\"],[\"The Grimoire of Marisa\"],[\"夢違科学世紀\"],[\"東方靈異伝\"],[\"伊弉諾物質\"],[\"鳥船遺跡\"],[\"東方文花帖（書籍）\"],[\"幺樂団の歴史\"],[\"東方封魔録\"],[\"未知の花　魅知の旅\"],[\"燕石博物誌\"],[\"旧約酒場\"],[\"東方天空璋\"],[\"東方憑依華\"],[\"東方文果真報\"],[\"秘封ナイトメアダイアリー\"],[\"東方鬼形獣\"],[\"東方酔蝶華\"],[\"東方智霊奇伝 反則探偵さとり\"],[\"The Grimoire of Usami 秘封倶楽部異界撮影記録\"],[\"東方剛欲異聞\"],[\"東方Project人妖名鑑 宵闇編\"],[\"東方虹龍洞\"],[\"バレットフィリア達の闇市場\"],[\"東方Project人妖名鑑 常世編\"],[\"虹色のセプテントリオン\"],[\"Cradle\"],[\"トルテルマジック\"],[\"メニュー\"],[\"東方幻想麻雀\"],[\"神魔討綺伝 \"],[\"秋霜玉\"],[\"稀翁玉\"],[\"黄昏酒場\"],[\"東方紅魔郷\"],[\"東方永夜抄\"],[\"東方妖々夢\"],[\"東方風神録\"],[\"東方地霊殿\"],[\"東方紺珠伝\"],[\"東方鈴奈庵\"],[\"東方輝針城\"],[\"東方星蓮船\"],[\"東方非想天則\"],[\"東方深秘録\"],[\"東方神霊廟\"],[\"東方茨歌仙\"],[\"東方花映塚\"],[\"東方緋想天\"],[\"弾幕アマノジャク\"],[\"東方儚月抄\"],[\"東方心綺楼\"],[\"東方三月精\"],[\"東方求聞史紀 / 東方求聞口授\"],[\"東方香霖堂\"],[\"大空魔術\"],[\"東方文花帖\"],[\"ダブルスポイラー\"],[\"蓬莱人形\"],[\"妖精大戦争\"],[\"東方幻想郷\"],[\"東方怪綺談\"],[\"東方萃夢想\"],[\"蓮台野夜行\"],[\"東方夢時空\"],[\"卯酉東海道\"],[\"The Grimoire of Marisa\"],[\"夢違科学世紀\"],[\"東方靈異伝\"],[\"伊弉諾物質\"],[\"鳥船遺跡\"],[\"東方文花帖（書籍）\"],[\"幺樂団の歴史\"],[\"東方封魔録\"],[\"未知の花　魅知の旅\"],[\"燕石博物誌\"],[\"旧約酒場\"],[\"東方天空璋\"],[\"東方憑依華\"],[\"東方文果真報\"],[\"秘封ナイトメアダイアリー\"],[\"東方鬼形獣\"],[\"東方酔蝶華\"],[\"東方智霊奇伝 反則探偵さとり\"],[\"The Grimoire of Usami 秘封倶楽部異界撮影記録\"],[\"東方剛欲異聞\"],[\"東方Project人妖名鑑 宵闇編\"],[\"東方虹龍洞\"],[\"バレットフィリア達の闇市場\"],[\"東方Project人妖名鑑 常世編\"],[\"虹色のセプテントリオン\"],[\"Cradle\"],[\"トルテルマジック\"],[\"メニュー\"],[\"東方幻想麻雀\"],[\"神魔討綺伝 \"],[\"秋霜玉\"],[\"稀翁玉\"],[\"黄昏酒場\"]],\"hovertemplate\":\"作品ポイント比率=%{x}<br>音楽集計ポイント比率=%{y}<br>名前=%{customdata[0]}<br>名前n=%{marker.color}<extra></extra>\",\"legendgroup\":\"\",\"marker\":{\"color\":[0.5789473684210527,0.5,0.2631578947368421,0.8157894736842105,0.18421052631578946,0.6052631578947368,null,0.7368421052631579,0.47368421052631576,0.7894736842105263,0.5263157894736842,0.5526315789473685,null,0.6578947368421053,0.631578947368421,0.13157894736842105,null,0.3684210526315789,null,null,null,null,0.4473684210526316,0.02631578947368421,null,0.10526315789473684,0.3157894736842105,0.39473684210526316,0.6842105263157895,null,0.21052631578947367,null,null,null,0.7631578947368421,null,null,null,null,0.2894736842105263,null,null,null,0.23684210526315788,0.42105263157894735,null,0.9210526315789473,0.8421052631578947,null,null,null,0.15789473684210525,null,0.7105263157894737,null,null,null,0.0,0.05263157894736842,0.07894736842105263,0.34210526315789475,0.868421052631579,0.8947368421052632,0.9473684210526315,0.9736842105263158,0.5789473684210527,0.5,0.2631578947368421,0.8157894736842105,0.18421052631578946,0.6052631578947368,null,0.7368421052631579,0.47368421052631576,0.7894736842105263,0.5263157894736842,0.5526315789473685,null,0.6578947368421053,0.631578947368421,0.13157894736842105,null,0.3684210526315789,null,null,null,null,0.4473684210526316,0.02631578947368421,null,0.10526315789473684,0.3157894736842105,0.39473684210526316,0.6842105263157895,null,0.21052631578947367,null,null,null,0.7631578947368421,null,null,null,null,0.2894736842105263,null,null,null,0.23684210526315788,0.42105263157894735,null,0.9210526315789473,0.8421052631578947,null,null,null,0.15789473684210525,null,0.7105263157894737,null,null,null,0.0,0.05263157894736842,0.07894736842105263,0.34210526315789475,0.868421052631579,0.8947368421052632,0.9473684210526315,0.9736842105263158,0.5789473684210527,0.5,0.2631578947368421,0.8157894736842105,0.18421052631578946,0.6052631578947368,null,0.7368421052631579,0.47368421052631576,0.7894736842105263,0.5263157894736842,0.5526315789473685,null,0.6578947368421053,0.631578947368421,0.13157894736842105,null,0.3684210526315789,null,null,null,null,0.4473684210526316,0.02631578947368421,null,0.10526315789473684,0.3157894736842105,0.39473684210526316,0.6842105263157895,null,0.21052631578947367,null,null,null,0.7631578947368421,null,null,null,null,0.2894736842105263,null,null,null,0.23684210526315788,0.42105263157894735,null,0.9210526315789473,0.8421052631578947,null,null,null,0.15789473684210525,null,0.7105263157894737,null,null,null,0.0,0.05263157894736842,0.07894736842105263,0.34210526315789475,0.868421052631579,0.8947368421052632,0.9473684210526315,0.9736842105263158,0.5789473684210527,0.5,0.2631578947368421,0.8157894736842105,0.18421052631578946,0.6052631578947368,null,0.7368421052631579,0.47368421052631576,0.7894736842105263,0.5263157894736842,0.5526315789473685,null,0.6578947368421053,0.631578947368421,0.13157894736842105,null,0.3684210526315789,null,null,null,null,0.4473684210526316,0.02631578947368421,null,0.10526315789473684,0.3157894736842105,0.39473684210526316,0.6842105263157895,null,0.21052631578947367,null,null,null,0.7631578947368421,null,null,null,null,0.2894736842105263,null,null,null,0.23684210526315788,0.42105263157894735,null,0.9210526315789473,0.8421052631578947,null,null,null,0.15789473684210525,null,0.7105263157894737,null,null,null,0.0,0.05263157894736842,0.07894736842105263,0.34210526315789475,0.868421052631579,0.8947368421052632,0.9473684210526315,0.9736842105263158,0.5789473684210527,0.5,0.2631578947368421,0.8157894736842105,0.18421052631578946,0.6052631578947368,null,0.7368421052631579,0.47368421052631576,0.7894736842105263,0.5263157894736842,0.5526315789473685,null,0.6578947368421053,0.631578947368421,0.13157894736842105,null,0.3684210526315789,null,null,null,null,0.4473684210526316,0.02631578947368421,null,0.10526315789473684,0.3157894736842105,0.39473684210526316,0.6842105263157895,null,0.21052631578947367,null,null,null,0.7631578947368421,null,null,null,null,0.2894736842105263,null,null,null,0.23684210526315788,0.42105263157894735,null,0.9210526315789473,0.8421052631578947,null,null,null,0.15789473684210525,null,0.7105263157894737,null,null,null,0.0,0.05263157894736842,0.07894736842105263,0.34210526315789475,0.868421052631579,0.8947368421052632,0.9473684210526315,0.9736842105263158,0.5789473684210527,0.5,0.2631578947368421,0.8157894736842105,0.18421052631578946,0.6052631578947368,null,0.7368421052631579,0.47368421052631576,0.7894736842105263,0.5263157894736842,0.5526315789473685,null,0.6578947368421053,0.631578947368421,0.13157894736842105,null,0.3684210526315789,null,null,null,null,0.4473684210526316,0.02631578947368421,null,0.10526315789473684,0.3157894736842105,0.39473684210526316,0.6842105263157895,null,0.21052631578947367,null,null,null,0.7631578947368421,null,null,null,null,0.2894736842105263,null,null,null,0.23684210526315788,0.42105263157894735,null,0.9210526315789473,0.8421052631578947,null,null,null,0.15789473684210525,null,0.7105263157894737,null,null,null,0.0,0.05263157894736842,0.07894736842105263,0.34210526315789475,0.868421052631579,0.8947368421052632,0.9473684210526315,0.9736842105263158,0.5789473684210527,0.5,0.2631578947368421,0.8157894736842105,0.18421052631578946,0.6052631578947368,null,0.7368421052631579,0.47368421052631576,0.7894736842105263,0.5263157894736842,0.5526315789473685,null,0.6578947368421053,0.631578947368421,0.13157894736842105,null,0.3684210526315789,null,null,null,null,0.4473684210526316,0.02631578947368421,null,0.10526315789473684,0.3157894736842105,0.39473684210526316,0.6842105263157895,null,0.21052631578947367,null,null,null,0.7631578947368421,null,null,null,null,0.2894736842105263,null,null,null,0.23684210526315788,0.42105263157894735,null,0.9210526315789473,0.8421052631578947,null,null,null,0.15789473684210525,null,0.7105263157894737,null,null,null,0.0,0.05263157894736842,0.07894736842105263,0.34210526315789475,0.868421052631579,0.8947368421052632,0.9473684210526315,0.9736842105263158],\"coloraxis\":\"coloraxis\",\"symbol\":\"circle\"},\"mode\":\"markers\",\"name\":\"\",\"orientation\":\"v\",\"showlegend\":false,\"x\":[0.1118469037732442,0.1002130348438346,0.0898718180176927,0.0792200758259613,0.0683083589095504,0.0583065535295179,0.0435674309442137,0.0400938797616898,0.037674670518144,0.0334717458024914,0.030236504784257,0.0287127640368297,0.0270445928868026,0.0248131431666365,0.0191659144249864,0.0175988445567792,0.0151507492327134,0.0144141541794547,0.0141469579346452,0.0138869832099656,0.0135547932839862,0.0117060841307095,0.0106445206716013,0.0102256725040621,0.0092507672865138,0.0092218812059938,0.0078786784618162,0.0073659505325871,0.0072865138111572,0.0061743997111391,0.0056833363423,0.0055677920202202,0.0044267918396822,0.0041740386351326,0.0040584943130528,0.0037696335078534,0.0032280194981043,0.0029391586929048,0.0018920382740566,0.0018053800324968,0.0014009749052175,0.0,0.0,0.0,0.0,0.0,0.0,0.0,0.0,0.0,0.0,0.0,0.0,0.0,0.0,0.0,0.0,null,null,null,null,null,null,null,null,0.1122615472739581,0.1015604658832514,0.09069448542813,0.0796983215011022,0.0660464147471837,0.0596327090312613,0.0464494627762059,0.0393240874138619,0.0357483813854992,0.032207390949645,0.0312700699519189,0.0271996667303119,0.0288139417819513,0.0236673551925847,0.0182430438631511,0.0155959799343875,0.0134609709951224,0.0121938518685667,0.0129315582093697,0.0115516134071618,0.0119508427210081,0.0118727326378642,0.0106403291038169,0.0105708979188002,0.0100848796236829,0.0097637603929805,0.0084098522851538,0.0072468799361233,0.007038586381073,0.00555449480134,0.0054763847181961,0.0055197792088316,0.0043915224523094,0.0041051188141153,0.0041832288972592,0.0033587335751852,0.0026557428268906,0.002968183159466,0.0019353942823419,0.0021784034299005,0.0014927704778601,0.0056846782732464,0.0043654857579281,0.0,0.0,0.0,0.0,0.0,0.0,0.0,0.0,0.0,0.0,0.0,0.0,0.0,0.0,null,null,null,null,null,null,null,null,0.1023632354273861,0.0962411768852013,0.0843192734083151,0.0738775386908058,0.0607574033610906,0.0600223535690191,0.0453717036037578,0.036087924038142,0.0317481095123498,0.0298148278674493,0.0204504948999627,0.0253541832388509,0.0260288179795192,0.0213667898462436,0.0176311258344828,0.0147614108928337,0.0123347396614743,0.0094650247198251,0.0130496511030781,0.0102302820375983,0.0106431182221864,0.0128180600726994,0.0087601824534552,0.0092938487408496,0.0109149859535005,0.0086192140001812,0.0082466545165285,0.0074914663739893,0.0063939262734989,0.005125210194033,0.0051755560702022,0.0057092223575966,0.0041988460725182,0.004067946794478,0.004420367927663,0.0034738654556805,0.0027388156636089,0.0022756336028515,0.0017822440163926,0.0026179855608027,0.001681552264054,0.0048029965865495,0.0032422744253018,0.0352018366175626,0.0329060646642433,0.0061220585421848,0.0,0.0,0.0,0.0,0.0,0.0,0.0,0.0,0.0,0.0,0.0,null,null,null,null,null,null,null,null,0.1055993599256687,0.0965015292098437,0.0834935669948768,0.0754281142326205,0.0635299583177401,0.0601876346930611,0.0393336000309713,0.0353460401853118,0.0313455756152327,0.0258481630124788,0.0153824315081751,0.0258997819101573,0.0265837323043966,0.0229187905692273,0.0158857157605399,0.0120530126079157,0.0127627724509943,0.0082203094552915,0.0158857157605399,0.0102850653624291,0.0098204952833232,0.0130724858370649,0.0092526874088603,0.0082332141797111,0.0127885818998335,0.008865545676272,0.0088397362274328,0.008336451975068,0.0062975055167696,0.0060265063039578,0.0061297440993147,0.0067233614226168,0.0040907976410163,0.0048392716573537,0.0058329354376637,0.0036262275619104,0.00264546850602,0.0025938496083416,0.0021550889780748,0.0027487063013769,0.0030326102386083,0.0051876992166832,0.0029551818920906,0.0312552425442954,0.0292421055348363,0.0042714637828909,0.0086461653611387,0.0,0.0,0.0,0.0,0.0,0.0,0.0,0.0,0.0,0.0,null,null,null,null,null,null,null,null,0.1089299019888806,0.0951835081484878,0.0825929959305324,0.0787241359546053,0.0643472612292466,0.0608605108805716,0.0301293441088248,0.0304636900326703,0.0302821879597256,0.0237099023709902,0.0113677614107487,0.0267285684262815,0.0279322137521254,0.0201180718748208,0.013689077396305,0.0093234749049502,0.0116830018532316,0.0076517452857224,0.0117212128159568,0.0088171796488412,0.0089222597963355,0.0128579889570317,0.0076612980264037,0.0067633404023614,0.0125905122179553,0.0073747158059647,0.0109187825987275,0.0078236946179859,0.0070021589193939,0.0053304293001662,0.0062665978869337,0.0066200492921419,0.0032861427943677,0.0049960833763206,0.0059991211478573,0.0036395941995758,0.0029709023518847,0.001681282359909,0.002187577616018,0.0035440667927628,0.0024168433923692,0.0043178387879482,0.0027034256128083,0.0232131598555625,0.0216369576431478,0.0025028180585009,0.0043464970099921,0.0357845665921552,0.0070403698821191,0.0062188341835272,0.0044133661947612,0.0015093330276456,0.0012036453258439,0.0,0.0,0.0,0.0,null,null,null,null,null,null,null,null,0.1158530005063795,0.0972912844607887,0.0840507043656558,0.07755908453218,0.0605165071432722,0.0554527116209956,0.0234926907017092,0.0255431128230244,0.027709753202228,0.0188107551696371,0.0089488058574001,0.0268464175722005,0.0246714758888621,0.0212762424976963,0.0135560296522583,0.0090650241152885,0.0107335862463993,0.0073217502469637,0.0095714036675161,0.007097615035322,0.0074130645924474,0.0089072993367258,0.0075873919792799,0.0055369698579646,0.0107335862463993,0.0075707893710101,0.0158471895934851,0.0077285141495728,0.0062259781011596,0.0047732498775557,0.0067157550451175,0.0054041489918066,0.002963565576152,0.0038684077268538,0.0080688676191029,0.0034201373035703,0.0025235964570033,0.0019176012551571,0.0018013829972688,0.0052215203008392,0.0019923129923711,0.0030714825299054,0.0024986925445987,0.0184288951794326,0.0194997634128321,0.0020587234254501,0.0041423507633049,0.0296024505449806,0.0107667914629388,0.0068319733030059,0.0043249794542722,0.0033703294787611,0.0023077625494965,0.0415065206743979,0.0,0.0,0.0,null,null,null,null,null,null,null,null,0.1422444554704439,0.0967735357888083,0.0862520135665105,0.0799717251082398,0.0622455429662808,0.0487809851352912,0.020587655562881,0.0202885942077253,0.0242919382574238,0.0159997825008326,0.0082649683606679,0.0235986596613809,0.0244822500288866,0.022436398485662,0.0127848729329083,0.0077959857809919,0.0116837833980166,0.0065113813236183,0.008625201356651,0.0066745056991578,0.0055190413724197,0.0080542660422628,0.0064909907766759,0.0046218573069524,0.0104263663365663,0.0064026317399253,0.0180592277420188,0.0077687983850686,0.0067560678869276,0.0041868589721804,0.0065317718705608,0.0056481815030551,0.0031129568332121,0.0034188150373486,0.0091009807853079,0.0026371774045552,0.0021274137309943,0.0017943681309344,0.0017060090941839,0.0057909153316522,0.0014545256818938,0.0026099900086319,0.0020254609962821,0.0160065793498134,0.0200507044933968,0.0019982736003588,0.0030721757393272,0.0250056074004091,0.0095835570629456,0.0091281681812311,0.0032760812087516,0.0107118339937604,0.0010331210450834,0.0304226960381167,0.0116565960020934,0.0007884344817742,0.0007272628409469,null,null,null,null,null,null,null,null],\"xaxis\":\"x\",\"y\":[0.1602312943347795,0.0814750140597368,0.1048716602297397,0.0971566705298569,0.0850202429149788,0.06131599143676465,null,0.04683679208056051,0.04962388260041372,0.06545778816247709,0.0025758060657281,0.038661947980523526,null,0.053834036061284146,0.0087279122299519,0.019668096979563898,null,0.0048346854502689,null,null,null,null,0.017499324200459,0.011428003268694534,null,0.016334152578446646,0.012201677225710082,0.011546073993057994,0.006304355256166801,null,0.008634698500190682,null,null,null,0.0022215938926362384,null,null,null,null,0.001910881460099501,null,null,null,0.0,0.0,null,0.0055213599261747,0.0,null,null,null,0.0,null,0.0,null,null,null,0.0040019761310709,0.0006959958488818033,0.0009228159246333689,0.0006742459786043,0.0001802132108712,0.0026224129306084316,0.00041946178392423785,0.0004412116542019,0.1594425509014255,0.0828998116422988,0.10465437856907853,0.0963875683917832,0.0817263132717425,0.060592130833855964,null,0.04477232636708748,0.04808353514515417,0.06425090441594106,0.0017452985320058,0.037260441893143474,null,0.05426495649833995,0.0087377044279008,0.0203717822226206,null,0.005146201453045,null,null,null,null,0.0178005501240764,0.011256614943044,null,0.015659102460608802,0.012239513259783423,0.012359105450413497,0.0063084880557298,null,0.008838610338744321,null,null,null,0.0026534517296018818,null,null,null,null,0.0022311418064397495,null,null,null,0.0,0.0,null,0.0052358955960175,0.0,null,null,null,0.0,null,0.0,null,null,null,0.0044398600771369,0.0007848237510090219,0.00078856100696595,0.0007026041199509,0.0001831255419021,0.0028440517834182615,0.0003812001076329598,0.0005269530899632,0.14818800471026058,0.077670802111678,0.09912719029368469,0.08837914959490777,0.0762286152801226,0.05990588297557918,null,0.04458871213156894,0.044271166407189706,0.061753822677174476,0.0015568561209143,0.035992925786917034,null,0.05179523593206233,0.0101658735374151,0.0187131459519532,null,0.0049351897997256,null,null,null,null,0.0150966529798577,0.010465777832661996,null,0.014558589391326279,0.01147133929319512,0.011912375021500141,0.0062053726972421,null,0.008234137047441812,null,null,null,0.00293288759322361,null,null,null,null,0.00192732613268962,null,null,null,0.038286311574099806,0.0099674074596783,null,0.0141131433057389,0.0,null,null,null,0.0,null,0.0,null,null,null,0.0041721979897591,0.0007453503808343005,0.000890892171174518,0.0006350914487582,0.000211697149586,0.002659445441674975,0.00038811144090782296,0.000511601444833,0.1506344451549923,0.0768346179305073,0.09778645395083668,0.0901069188740414,0.0768738850930622,0.05939438816151078,null,0.042554385020137794,0.04328363232472753,0.06243478846218527,0.0012565492017546,0.034280232910369,null,0.051193160782201146,0.0091941256324817,0.0179170453143052,null,0.0045606004510113,null,null,null,null,0.015656378670077,0.010955538352798295,null,0.013732287704889833,0.011510888223216203,0.012599149585450243,0.0060639718173964,null,0.008610727788809495,null,null,null,0.0032760032760030745,null,null,null,null,0.002266276238878669,null,null,null,0.03142494923316768,0.0138444795979042,null,0.0157349129951866,0.0,null,null,null,0.0,null,0.0,null,null,null,0.0040389081484971,0.0007516856831924352,0.0011331381194393596,0.0005833978436718,0.0002973085164865,0.0031357634097356757,0.0005273018971648122,0.0004824251399593,0.158557030196575,0.07613762308495539,0.09476291266719673,0.08871319454725039,0.0765017264903223,0.052983047185399854,null,0.037926771203021,0.03996334959128295,0.062373714134813754,0.0011563283972648,0.03333346670454325,null,0.051182535840177984,0.0078062169656181,0.0166487282388195,null,0.0035129976913443,null,null,null,null,0.0138199248586596,0.009734764673166918,null,0.011919385105369657,0.011459254428256667,0.011715327152910735,0.005345518127148,null,0.008610445366483484,null,null,null,0.0032129124671403954,null,null,null,null,0.0023446658851111633,null,null,null,0.023490671350662948,0.0107190442085552,null,0.010839078298236425,0.01712086232489963,null,null,null,0.0,null,0.0,null,null,null,0.0033649556474038,0.0007322079470568192,0.0010562999891967826,0.0006561863569253,0.0002600738609765,0.0025607272465375495,0.0005041431766620704,0.0004441261318214,0.1779170319382656,0.0789167036447783,0.1010891407008153,0.0841116775075659,0.0670945304861982,0.048122053024808674,null,0.031249210832962754,0.03425796652849408,0.06185987279529223,0.0011616538776511,0.02955362908608058,null,0.059146942000280756,0.0080846780739633,0.0152494128597245,null,0.0036328740832132,null,null,null,null,0.0125436973061891,0.008427402044077582,null,0.009549372093610153,0.012449899166999328,0.0099029189259385,0.0047764898571742,null,0.007547142583993952,null,null,null,0.003041224282173241,null,null,null,null,0.0020094447510918692,null,null,null,0.020491285792106476,0.0099534256162718,null,0.009278800538256658,0.011172801425731077,null,null,null,0.0,null,0.03040502758025964,null,null,null,0.0034200244596686,0.0006241183876821233,0.0010426023932953701,0.0004148763848754,0.0001623429332121,0.0023449534797303695,0.0003932306604470288,0.0003355087286383,0.2096843836743078,0.0798660576598269,0.098189134808852,0.0894270733892399,0.07012292734509175,0.04297610480400555,null,0.02470296229934275,0.03154107124498728,0.06278253462380055,0.0009751942310799,0.02700289327204025,null,0.057665702242652356,0.006788174301282,0.0127068983242518,null,0.0031870052431375003,null,null,null,null,0.0113733495865702,0.006937978234369552,null,0.0085505735140767,0.011484968203380203,0.008823745392059731,0.004329627399433,null,0.006676555684471482,null,null,null,0.002611288166957852,null,null,null,null,0.002035571090778056,null,null,null,0.017688613432418624,0.0097431303147351,null,0.008104099046835424,0.008782622743761325,null,null,null,0.0046174859375229,null,0.020699378754276774,null,null,null,0.0030753866263273,0.0007460823334165262,0.0009164475906533021,0.0004229758110708,0.0001938639134074,0.002261745656419953,0.00039360249085747804,0.0003054825302178],\"yaxis\":\"y\",\"type\":\"scatter\"}],                        {\"template\":{\"data\":{\"histogram2dcontour\":[{\"type\":\"histogram2dcontour\",\"colorbar\":{\"outlinewidth\":0,\"ticks\":\"\"},\"colorscale\":[[0.0,\"#0d0887\"],[0.1111111111111111,\"#46039f\"],[0.2222222222222222,\"#7201a8\"],[0.3333333333333333,\"#9c179e\"],[0.4444444444444444,\"#bd3786\"],[0.5555555555555556,\"#d8576b\"],[0.6666666666666666,\"#ed7953\"],[0.7777777777777778,\"#fb9f3a\"],[0.8888888888888888,\"#fdca26\"],[1.0,\"#f0f921\"]]}],\"choropleth\":[{\"type\":\"choropleth\",\"colorbar\":{\"outlinewidth\":0,\"ticks\":\"\"}}],\"histogram2d\":[{\"type\":\"histogram2d\",\"colorbar\":{\"outlinewidth\":0,\"ticks\":\"\"},\"colorscale\":[[0.0,\"#0d0887\"],[0.1111111111111111,\"#46039f\"],[0.2222222222222222,\"#7201a8\"],[0.3333333333333333,\"#9c179e\"],[0.4444444444444444,\"#bd3786\"],[0.5555555555555556,\"#d8576b\"],[0.6666666666666666,\"#ed7953\"],[0.7777777777777778,\"#fb9f3a\"],[0.8888888888888888,\"#fdca26\"],[1.0,\"#f0f921\"]]}],\"heatmap\":[{\"type\":\"heatmap\",\"colorbar\":{\"outlinewidth\":0,\"ticks\":\"\"},\"colorscale\":[[0.0,\"#0d0887\"],[0.1111111111111111,\"#46039f\"],[0.2222222222222222,\"#7201a8\"],[0.3333333333333333,\"#9c179e\"],[0.4444444444444444,\"#bd3786\"],[0.5555555555555556,\"#d8576b\"],[0.6666666666666666,\"#ed7953\"],[0.7777777777777778,\"#fb9f3a\"],[0.8888888888888888,\"#fdca26\"],[1.0,\"#f0f921\"]]}],\"heatmapgl\":[{\"type\":\"heatmapgl\",\"colorbar\":{\"outlinewidth\":0,\"ticks\":\"\"},\"colorscale\":[[0.0,\"#0d0887\"],[0.1111111111111111,\"#46039f\"],[0.2222222222222222,\"#7201a8\"],[0.3333333333333333,\"#9c179e\"],[0.4444444444444444,\"#bd3786\"],[0.5555555555555556,\"#d8576b\"],[0.6666666666666666,\"#ed7953\"],[0.7777777777777778,\"#fb9f3a\"],[0.8888888888888888,\"#fdca26\"],[1.0,\"#f0f921\"]]}],\"contourcarpet\":[{\"type\":\"contourcarpet\",\"colorbar\":{\"outlinewidth\":0,\"ticks\":\"\"}}],\"contour\":[{\"type\":\"contour\",\"colorbar\":{\"outlinewidth\":0,\"ticks\":\"\"},\"colorscale\":[[0.0,\"#0d0887\"],[0.1111111111111111,\"#46039f\"],[0.2222222222222222,\"#7201a8\"],[0.3333333333333333,\"#9c179e\"],[0.4444444444444444,\"#bd3786\"],[0.5555555555555556,\"#d8576b\"],[0.6666666666666666,\"#ed7953\"],[0.7777777777777778,\"#fb9f3a\"],[0.8888888888888888,\"#fdca26\"],[1.0,\"#f0f921\"]]}],\"surface\":[{\"type\":\"surface\",\"colorbar\":{\"outlinewidth\":0,\"ticks\":\"\"},\"colorscale\":[[0.0,\"#0d0887\"],[0.1111111111111111,\"#46039f\"],[0.2222222222222222,\"#7201a8\"],[0.3333333333333333,\"#9c179e\"],[0.4444444444444444,\"#bd3786\"],[0.5555555555555556,\"#d8576b\"],[0.6666666666666666,\"#ed7953\"],[0.7777777777777778,\"#fb9f3a\"],[0.8888888888888888,\"#fdca26\"],[1.0,\"#f0f921\"]]}],\"mesh3d\":[{\"type\":\"mesh3d\",\"colorbar\":{\"outlinewidth\":0,\"ticks\":\"\"}}],\"scatter\":[{\"fillpattern\":{\"fillmode\":\"overlay\",\"size\":10,\"solidity\":0.2},\"type\":\"scatter\"}],\"parcoords\":[{\"type\":\"parcoords\",\"line\":{\"colorbar\":{\"outlinewidth\":0,\"ticks\":\"\"}}}],\"scatterpolargl\":[{\"type\":\"scatterpolargl\",\"marker\":{\"colorbar\":{\"outlinewidth\":0,\"ticks\":\"\"}}}],\"bar\":[{\"error_x\":{\"color\":\"#2a3f5f\"},\"error_y\":{\"color\":\"#2a3f5f\"},\"marker\":{\"line\":{\"color\":\"#E5ECF6\",\"width\":0.5},\"pattern\":{\"fillmode\":\"overlay\",\"size\":10,\"solidity\":0.2}},\"type\":\"bar\"}],\"scattergeo\":[{\"type\":\"scattergeo\",\"marker\":{\"colorbar\":{\"outlinewidth\":0,\"ticks\":\"\"}}}],\"scatterpolar\":[{\"type\":\"scatterpolar\",\"marker\":{\"colorbar\":{\"outlinewidth\":0,\"ticks\":\"\"}}}],\"histogram\":[{\"marker\":{\"pattern\":{\"fillmode\":\"overlay\",\"size\":10,\"solidity\":0.2}},\"type\":\"histogram\"}],\"scattergl\":[{\"type\":\"scattergl\",\"marker\":{\"colorbar\":{\"outlinewidth\":0,\"ticks\":\"\"}}}],\"scatter3d\":[{\"type\":\"scatter3d\",\"line\":{\"colorbar\":{\"outlinewidth\":0,\"ticks\":\"\"}},\"marker\":{\"colorbar\":{\"outlinewidth\":0,\"ticks\":\"\"}}}],\"scattermapbox\":[{\"type\":\"scattermapbox\",\"marker\":{\"colorbar\":{\"outlinewidth\":0,\"ticks\":\"\"}}}],\"scatterternary\":[{\"type\":\"scatterternary\",\"marker\":{\"colorbar\":{\"outlinewidth\":0,\"ticks\":\"\"}}}],\"scattercarpet\":[{\"type\":\"scattercarpet\",\"marker\":{\"colorbar\":{\"outlinewidth\":0,\"ticks\":\"\"}}}],\"carpet\":[{\"aaxis\":{\"endlinecolor\":\"#2a3f5f\",\"gridcolor\":\"white\",\"linecolor\":\"white\",\"minorgridcolor\":\"white\",\"startlinecolor\":\"#2a3f5f\"},\"baxis\":{\"endlinecolor\":\"#2a3f5f\",\"gridcolor\":\"white\",\"linecolor\":\"white\",\"minorgridcolor\":\"white\",\"startlinecolor\":\"#2a3f5f\"},\"type\":\"carpet\"}],\"table\":[{\"cells\":{\"fill\":{\"color\":\"#EBF0F8\"},\"line\":{\"color\":\"white\"}},\"header\":{\"fill\":{\"color\":\"#C8D4E3\"},\"line\":{\"color\":\"white\"}},\"type\":\"table\"}],\"barpolar\":[{\"marker\":{\"line\":{\"color\":\"#E5ECF6\",\"width\":0.5},\"pattern\":{\"fillmode\":\"overlay\",\"size\":10,\"solidity\":0.2}},\"type\":\"barpolar\"}],\"pie\":[{\"automargin\":true,\"type\":\"pie\"}]},\"layout\":{\"autotypenumbers\":\"strict\",\"colorway\":[\"#636efa\",\"#EF553B\",\"#00cc96\",\"#ab63fa\",\"#FFA15A\",\"#19d3f3\",\"#FF6692\",\"#B6E880\",\"#FF97FF\",\"#FECB52\"],\"font\":{\"color\":\"#2a3f5f\"},\"hovermode\":\"closest\",\"hoverlabel\":{\"align\":\"left\"},\"paper_bgcolor\":\"white\",\"plot_bgcolor\":\"#E5ECF6\",\"polar\":{\"bgcolor\":\"#E5ECF6\",\"angularaxis\":{\"gridcolor\":\"white\",\"linecolor\":\"white\",\"ticks\":\"\"},\"radialaxis\":{\"gridcolor\":\"white\",\"linecolor\":\"white\",\"ticks\":\"\"}},\"ternary\":{\"bgcolor\":\"#E5ECF6\",\"aaxis\":{\"gridcolor\":\"white\",\"linecolor\":\"white\",\"ticks\":\"\"},\"baxis\":{\"gridcolor\":\"white\",\"linecolor\":\"white\",\"ticks\":\"\"},\"caxis\":{\"gridcolor\":\"white\",\"linecolor\":\"white\",\"ticks\":\"\"}},\"coloraxis\":{\"colorbar\":{\"outlinewidth\":0,\"ticks\":\"\"}},\"colorscale\":{\"sequential\":[[0.0,\"#0d0887\"],[0.1111111111111111,\"#46039f\"],[0.2222222222222222,\"#7201a8\"],[0.3333333333333333,\"#9c179e\"],[0.4444444444444444,\"#bd3786\"],[0.5555555555555556,\"#d8576b\"],[0.6666666666666666,\"#ed7953\"],[0.7777777777777778,\"#fb9f3a\"],[0.8888888888888888,\"#fdca26\"],[1.0,\"#f0f921\"]],\"sequentialminus\":[[0.0,\"#0d0887\"],[0.1111111111111111,\"#46039f\"],[0.2222222222222222,\"#7201a8\"],[0.3333333333333333,\"#9c179e\"],[0.4444444444444444,\"#bd3786\"],[0.5555555555555556,\"#d8576b\"],[0.6666666666666666,\"#ed7953\"],[0.7777777777777778,\"#fb9f3a\"],[0.8888888888888888,\"#fdca26\"],[1.0,\"#f0f921\"]],\"diverging\":[[0,\"#8e0152\"],[0.1,\"#c51b7d\"],[0.2,\"#de77ae\"],[0.3,\"#f1b6da\"],[0.4,\"#fde0ef\"],[0.5,\"#f7f7f7\"],[0.6,\"#e6f5d0\"],[0.7,\"#b8e186\"],[0.8,\"#7fbc41\"],[0.9,\"#4d9221\"],[1,\"#276419\"]]},\"xaxis\":{\"gridcolor\":\"white\",\"linecolor\":\"white\",\"ticks\":\"\",\"title\":{\"standoff\":15},\"zerolinecolor\":\"white\",\"automargin\":true,\"zerolinewidth\":2},\"yaxis\":{\"gridcolor\":\"white\",\"linecolor\":\"white\",\"ticks\":\"\",\"title\":{\"standoff\":15},\"zerolinecolor\":\"white\",\"automargin\":true,\"zerolinewidth\":2},\"scene\":{\"xaxis\":{\"backgroundcolor\":\"#E5ECF6\",\"gridcolor\":\"white\",\"linecolor\":\"white\",\"showbackground\":true,\"ticks\":\"\",\"zerolinecolor\":\"white\",\"gridwidth\":2},\"yaxis\":{\"backgroundcolor\":\"#E5ECF6\",\"gridcolor\":\"white\",\"linecolor\":\"white\",\"showbackground\":true,\"ticks\":\"\",\"zerolinecolor\":\"white\",\"gridwidth\":2},\"zaxis\":{\"backgroundcolor\":\"#E5ECF6\",\"gridcolor\":\"white\",\"linecolor\":\"white\",\"showbackground\":true,\"ticks\":\"\",\"zerolinecolor\":\"white\",\"gridwidth\":2}},\"shapedefaults\":{\"line\":{\"color\":\"#2a3f5f\"}},\"annotationdefaults\":{\"arrowcolor\":\"#2a3f5f\",\"arrowhead\":0,\"arrowwidth\":1},\"geo\":{\"bgcolor\":\"white\",\"landcolor\":\"#E5ECF6\",\"subunitcolor\":\"white\",\"showland\":true,\"showlakes\":true,\"lakecolor\":\"white\"},\"title\":{\"x\":0.05},\"mapbox\":{\"style\":\"light\"}}},\"xaxis\":{\"anchor\":\"y\",\"domain\":[0.0,1.0],\"title\":{\"text\":\"作品ポイント比率\"}},\"yaxis\":{\"anchor\":\"x\",\"domain\":[0.0,1.0],\"title\":{\"text\":\"音楽集計ポイント比率\"}},\"coloraxis\":{\"colorbar\":{\"title\":{\"text\":\"名前n\"}},\"colorscale\":[[0.0,\"#0d0887\"],[0.1111111111111111,\"#46039f\"],[0.2222222222222222,\"#7201a8\"],[0.3333333333333333,\"#9c179e\"],[0.4444444444444444,\"#bd3786\"],[0.5555555555555556,\"#d8576b\"],[0.6666666666666666,\"#ed7953\"],[0.7777777777777778,\"#fb9f3a\"],[0.8888888888888888,\"#fdca26\"],[1.0,\"#f0f921\"]]},\"legend\":{\"tracegroupgap\":0},\"margin\":{\"t\":60}},                        {\"responsive\": true}                    ).then(function(){\n",
       "                            \n",
       "var gd = document.getElementById('53bc611b-4d65-4708-a6ed-488596a80f9f');\n",
       "var x = new MutationObserver(function (mutations, observer) {{\n",
       "        var display = window.getComputedStyle(gd).display;\n",
       "        if (!display || display === 'none') {{\n",
       "            console.log([gd, 'removed!']);\n",
       "            Plotly.purge(gd);\n",
       "            observer.disconnect();\n",
       "        }}\n",
       "}});\n",
       "\n",
       "// Listen for the removal of the full notebook cells\n",
       "var notebookContainer = gd.closest('#notebook-container');\n",
       "if (notebookContainer) {{\n",
       "    x.observe(notebookContainer, {childList: true});\n",
       "}}\n",
       "\n",
       "// Listen for the clearing of the current output cell\n",
       "var outputEl = gd.closest('.output');\n",
       "if (outputEl) {{\n",
       "    x.observe(outputEl, {childList: true});\n",
       "}}\n",
       "\n",
       "                        })                };                });            </script>        </div>"
      ]
     },
     "metadata": {},
     "output_type": "display_data"
    }
   ],
   "source": [
    "fig = px.scatter(musictitlerate_vs_titlerate,\n",
    "                    x=\"作品ポイント比率\",y=\"音楽集計ポイント比率\",color=\"名前n\",hover_data=['名前'])\n",
    "fig.show()"
   ]
  },
  {
   "cell_type": "code",
   "execution_count": 373,
   "id": "938c9948",
   "metadata": {},
   "outputs": [
    {
     "data": {
      "application/vnd.plotly.v1+json": {
       "config": {
        "plotlyServerURL": "https://plot.ly"
       },
       "data": [
        {
         "customdata": [
          [
           12
          ],
          [
           12
          ],
          [
           12
          ],
          [
           12
          ],
          [
           12
          ],
          [
           12
          ],
          [
           null
          ],
          [
           12
          ],
          [
           12
          ],
          [
           12
          ],
          [
           12
          ],
          [
           12
          ],
          [
           null
          ],
          [
           12
          ],
          [
           12
          ],
          [
           12
          ],
          [
           null
          ],
          [
           12
          ],
          [
           null
          ],
          [
           null
          ],
          [
           null
          ],
          [
           null
          ],
          [
           12
          ],
          [
           12
          ],
          [
           null
          ],
          [
           12
          ],
          [
           12
          ],
          [
           12
          ],
          [
           12
          ],
          [
           null
          ],
          [
           12
          ],
          [
           null
          ],
          [
           null
          ],
          [
           null
          ],
          [
           12
          ],
          [
           null
          ],
          [
           null
          ],
          [
           null
          ],
          [
           null
          ],
          [
           12
          ],
          [
           null
          ],
          [
           null
          ],
          [
           null
          ],
          [
           12
          ],
          [
           12
          ],
          [
           null
          ],
          [
           12
          ],
          [
           12
          ],
          [
           null
          ],
          [
           null
          ],
          [
           null
          ],
          [
           12
          ],
          [
           null
          ],
          [
           12
          ],
          [
           null
          ],
          [
           null
          ],
          [
           null
          ],
          [
           12
          ],
          [
           12
          ],
          [
           12
          ],
          [
           12
          ],
          [
           12
          ],
          [
           12
          ],
          [
           12
          ],
          [
           12
          ],
          [
           13
          ],
          [
           13
          ],
          [
           13
          ],
          [
           13
          ],
          [
           13
          ],
          [
           13
          ],
          [
           null
          ],
          [
           13
          ],
          [
           13
          ],
          [
           13
          ],
          [
           13
          ],
          [
           13
          ],
          [
           null
          ],
          [
           13
          ],
          [
           13
          ],
          [
           13
          ],
          [
           null
          ],
          [
           13
          ],
          [
           null
          ],
          [
           null
          ],
          [
           null
          ],
          [
           null
          ],
          [
           13
          ],
          [
           13
          ],
          [
           null
          ],
          [
           13
          ],
          [
           13
          ],
          [
           13
          ],
          [
           13
          ],
          [
           null
          ],
          [
           13
          ],
          [
           null
          ],
          [
           null
          ],
          [
           null
          ],
          [
           13
          ],
          [
           null
          ],
          [
           null
          ],
          [
           null
          ],
          [
           null
          ],
          [
           13
          ],
          [
           null
          ],
          [
           null
          ],
          [
           null
          ],
          [
           13
          ],
          [
           13
          ],
          [
           null
          ],
          [
           13
          ],
          [
           13
          ],
          [
           null
          ],
          [
           null
          ],
          [
           null
          ],
          [
           13
          ],
          [
           null
          ],
          [
           13
          ],
          [
           null
          ],
          [
           null
          ],
          [
           null
          ],
          [
           13
          ],
          [
           13
          ],
          [
           13
          ],
          [
           13
          ],
          [
           13
          ],
          [
           13
          ],
          [
           13
          ],
          [
           13
          ],
          [
           14
          ],
          [
           14
          ],
          [
           14
          ],
          [
           14
          ],
          [
           14
          ],
          [
           14
          ],
          [
           null
          ],
          [
           14
          ],
          [
           14
          ],
          [
           14
          ],
          [
           14
          ],
          [
           14
          ],
          [
           null
          ],
          [
           14
          ],
          [
           14
          ],
          [
           14
          ],
          [
           null
          ],
          [
           14
          ],
          [
           null
          ],
          [
           null
          ],
          [
           null
          ],
          [
           null
          ],
          [
           14
          ],
          [
           14
          ],
          [
           null
          ],
          [
           14
          ],
          [
           14
          ],
          [
           14
          ],
          [
           14
          ],
          [
           null
          ],
          [
           14
          ],
          [
           null
          ],
          [
           null
          ],
          [
           null
          ],
          [
           14
          ],
          [
           null
          ],
          [
           null
          ],
          [
           null
          ],
          [
           null
          ],
          [
           14
          ],
          [
           null
          ],
          [
           null
          ],
          [
           null
          ],
          [
           14
          ],
          [
           14
          ],
          [
           null
          ],
          [
           14
          ],
          [
           14
          ],
          [
           null
          ],
          [
           null
          ],
          [
           null
          ],
          [
           14
          ],
          [
           null
          ],
          [
           14
          ],
          [
           null
          ],
          [
           null
          ],
          [
           null
          ],
          [
           14
          ],
          [
           14
          ],
          [
           14
          ],
          [
           14
          ],
          [
           14
          ],
          [
           14
          ],
          [
           14
          ],
          [
           14
          ],
          [
           15
          ],
          [
           15
          ],
          [
           15
          ],
          [
           15
          ],
          [
           15
          ],
          [
           15
          ],
          [
           null
          ],
          [
           15
          ],
          [
           15
          ],
          [
           15
          ],
          [
           15
          ],
          [
           15
          ],
          [
           null
          ],
          [
           15
          ],
          [
           15
          ],
          [
           15
          ],
          [
           null
          ],
          [
           15
          ],
          [
           null
          ],
          [
           null
          ],
          [
           null
          ],
          [
           null
          ],
          [
           15
          ],
          [
           15
          ],
          [
           null
          ],
          [
           15
          ],
          [
           15
          ],
          [
           15
          ],
          [
           15
          ],
          [
           null
          ],
          [
           15
          ],
          [
           null
          ],
          [
           null
          ],
          [
           null
          ],
          [
           15
          ],
          [
           null
          ],
          [
           null
          ],
          [
           null
          ],
          [
           null
          ],
          [
           15
          ],
          [
           null
          ],
          [
           null
          ],
          [
           null
          ],
          [
           15
          ],
          [
           15
          ],
          [
           null
          ],
          [
           15
          ],
          [
           15
          ],
          [
           null
          ],
          [
           null
          ],
          [
           null
          ],
          [
           15
          ],
          [
           null
          ],
          [
           15
          ],
          [
           null
          ],
          [
           null
          ],
          [
           null
          ],
          [
           15
          ],
          [
           15
          ],
          [
           15
          ],
          [
           15
          ],
          [
           15
          ],
          [
           15
          ],
          [
           15
          ],
          [
           15
          ],
          [
           16
          ],
          [
           16
          ],
          [
           16
          ],
          [
           16
          ],
          [
           16
          ],
          [
           16
          ],
          [
           null
          ],
          [
           16
          ],
          [
           16
          ],
          [
           16
          ],
          [
           16
          ],
          [
           16
          ],
          [
           null
          ],
          [
           16
          ],
          [
           16
          ],
          [
           16
          ],
          [
           null
          ],
          [
           16
          ],
          [
           null
          ],
          [
           null
          ],
          [
           null
          ],
          [
           null
          ],
          [
           16
          ],
          [
           16
          ],
          [
           null
          ],
          [
           16
          ],
          [
           16
          ],
          [
           16
          ],
          [
           16
          ],
          [
           null
          ],
          [
           16
          ],
          [
           null
          ],
          [
           null
          ],
          [
           null
          ],
          [
           16
          ],
          [
           null
          ],
          [
           null
          ],
          [
           null
          ],
          [
           null
          ],
          [
           16
          ],
          [
           null
          ],
          [
           null
          ],
          [
           null
          ],
          [
           16
          ],
          [
           16
          ],
          [
           null
          ],
          [
           16
          ],
          [
           16
          ],
          [
           null
          ],
          [
           null
          ],
          [
           null
          ],
          [
           16
          ],
          [
           null
          ],
          [
           16
          ],
          [
           null
          ],
          [
           null
          ],
          [
           null
          ],
          [
           16
          ],
          [
           16
          ],
          [
           16
          ],
          [
           16
          ],
          [
           16
          ],
          [
           16
          ],
          [
           16
          ],
          [
           16
          ],
          [
           17
          ],
          [
           17
          ],
          [
           17
          ],
          [
           17
          ],
          [
           17
          ],
          [
           17
          ],
          [
           null
          ],
          [
           17
          ],
          [
           17
          ],
          [
           17
          ],
          [
           17
          ],
          [
           17
          ],
          [
           null
          ],
          [
           17
          ],
          [
           17
          ],
          [
           17
          ],
          [
           null
          ],
          [
           17
          ],
          [
           null
          ],
          [
           null
          ],
          [
           null
          ],
          [
           null
          ],
          [
           17
          ],
          [
           17
          ],
          [
           null
          ],
          [
           17
          ],
          [
           17
          ],
          [
           17
          ],
          [
           17
          ],
          [
           null
          ],
          [
           17
          ],
          [
           null
          ],
          [
           null
          ],
          [
           null
          ],
          [
           17
          ],
          [
           null
          ],
          [
           null
          ],
          [
           null
          ],
          [
           null
          ],
          [
           17
          ],
          [
           null
          ],
          [
           null
          ],
          [
           null
          ],
          [
           17
          ],
          [
           17
          ],
          [
           null
          ],
          [
           17
          ],
          [
           17
          ],
          [
           null
          ],
          [
           null
          ],
          [
           null
          ],
          [
           17
          ],
          [
           null
          ],
          [
           17
          ],
          [
           null
          ],
          [
           null
          ],
          [
           null
          ],
          [
           17
          ],
          [
           17
          ],
          [
           17
          ],
          [
           17
          ],
          [
           17
          ],
          [
           17
          ],
          [
           17
          ],
          [
           17
          ],
          [
           18
          ],
          [
           18
          ],
          [
           18
          ],
          [
           18
          ],
          [
           18
          ],
          [
           18
          ],
          [
           null
          ],
          [
           18
          ],
          [
           18
          ],
          [
           18
          ],
          [
           18
          ],
          [
           18
          ],
          [
           null
          ],
          [
           18
          ],
          [
           18
          ],
          [
           18
          ],
          [
           null
          ],
          [
           18
          ],
          [
           null
          ],
          [
           null
          ],
          [
           null
          ],
          [
           null
          ],
          [
           18
          ],
          [
           18
          ],
          [
           null
          ],
          [
           18
          ],
          [
           18
          ],
          [
           18
          ],
          [
           18
          ],
          [
           null
          ],
          [
           18
          ],
          [
           null
          ],
          [
           null
          ],
          [
           null
          ],
          [
           18
          ],
          [
           null
          ],
          [
           null
          ],
          [
           null
          ],
          [
           null
          ],
          [
           18
          ],
          [
           null
          ],
          [
           null
          ],
          [
           null
          ],
          [
           18
          ],
          [
           18
          ],
          [
           null
          ],
          [
           18
          ],
          [
           18
          ],
          [
           null
          ],
          [
           null
          ],
          [
           null
          ],
          [
           18
          ],
          [
           null
          ],
          [
           18
          ],
          [
           null
          ],
          [
           null
          ],
          [
           null
          ],
          [
           18
          ],
          [
           18
          ],
          [
           18
          ],
          [
           18
          ],
          [
           18
          ],
          [
           18
          ],
          [
           18
          ],
          [
           18
          ]
         ],
         "hovertemplate": "作品ポイント比率=%{x}<br>音楽集計ポイント比率=%{y}<br>回=%{customdata[0]}<br>回n=%{marker.color}<extra></extra>",
         "legendgroup": "",
         "marker": {
          "color": [
           0,
           0,
           0,
           0,
           0,
           0,
           null,
           0,
           0,
           0,
           0,
           0,
           null,
           0,
           0,
           0,
           null,
           0,
           null,
           null,
           null,
           null,
           0,
           0,
           null,
           0,
           0,
           0,
           0,
           null,
           0,
           null,
           null,
           null,
           0,
           null,
           null,
           null,
           null,
           0,
           null,
           null,
           null,
           0,
           0,
           null,
           0,
           0,
           null,
           null,
           null,
           0,
           null,
           0,
           null,
           null,
           null,
           0,
           0,
           0,
           0,
           0,
           0,
           0,
           0,
           0.14285714285714285,
           0.14285714285714285,
           0.14285714285714285,
           0.14285714285714285,
           0.14285714285714285,
           0.14285714285714285,
           null,
           0.14285714285714285,
           0.14285714285714285,
           0.14285714285714285,
           0.14285714285714285,
           0.14285714285714285,
           null,
           0.14285714285714285,
           0.14285714285714285,
           0.14285714285714285,
           null,
           0.14285714285714285,
           null,
           null,
           null,
           null,
           0.14285714285714285,
           0.14285714285714285,
           null,
           0.14285714285714285,
           0.14285714285714285,
           0.14285714285714285,
           0.14285714285714285,
           null,
           0.14285714285714285,
           null,
           null,
           null,
           0.14285714285714285,
           null,
           null,
           null,
           null,
           0.14285714285714285,
           null,
           null,
           null,
           0.14285714285714285,
           0.14285714285714285,
           null,
           0.14285714285714285,
           0.14285714285714285,
           null,
           null,
           null,
           0.14285714285714285,
           null,
           0.14285714285714285,
           null,
           null,
           null,
           0.14285714285714285,
           0.14285714285714285,
           0.14285714285714285,
           0.14285714285714285,
           0.14285714285714285,
           0.14285714285714285,
           0.14285714285714285,
           0.14285714285714285,
           0.2857142857142857,
           0.2857142857142857,
           0.2857142857142857,
           0.2857142857142857,
           0.2857142857142857,
           0.2857142857142857,
           null,
           0.2857142857142857,
           0.2857142857142857,
           0.2857142857142857,
           0.2857142857142857,
           0.2857142857142857,
           null,
           0.2857142857142857,
           0.2857142857142857,
           0.2857142857142857,
           null,
           0.2857142857142857,
           null,
           null,
           null,
           null,
           0.2857142857142857,
           0.2857142857142857,
           null,
           0.2857142857142857,
           0.2857142857142857,
           0.2857142857142857,
           0.2857142857142857,
           null,
           0.2857142857142857,
           null,
           null,
           null,
           0.2857142857142857,
           null,
           null,
           null,
           null,
           0.2857142857142857,
           null,
           null,
           null,
           0.2857142857142857,
           0.2857142857142857,
           null,
           0.2857142857142857,
           0.2857142857142857,
           null,
           null,
           null,
           0.2857142857142857,
           null,
           0.2857142857142857,
           null,
           null,
           null,
           0.2857142857142857,
           0.2857142857142857,
           0.2857142857142857,
           0.2857142857142857,
           0.2857142857142857,
           0.2857142857142857,
           0.2857142857142857,
           0.2857142857142857,
           0.42857142857142855,
           0.42857142857142855,
           0.42857142857142855,
           0.42857142857142855,
           0.42857142857142855,
           0.42857142857142855,
           null,
           0.42857142857142855,
           0.42857142857142855,
           0.42857142857142855,
           0.42857142857142855,
           0.42857142857142855,
           null,
           0.42857142857142855,
           0.42857142857142855,
           0.42857142857142855,
           null,
           0.42857142857142855,
           null,
           null,
           null,
           null,
           0.42857142857142855,
           0.42857142857142855,
           null,
           0.42857142857142855,
           0.42857142857142855,
           0.42857142857142855,
           0.42857142857142855,
           null,
           0.42857142857142855,
           null,
           null,
           null,
           0.42857142857142855,
           null,
           null,
           null,
           null,
           0.42857142857142855,
           null,
           null,
           null,
           0.42857142857142855,
           0.42857142857142855,
           null,
           0.42857142857142855,
           0.42857142857142855,
           null,
           null,
           null,
           0.42857142857142855,
           null,
           0.42857142857142855,
           null,
           null,
           null,
           0.42857142857142855,
           0.42857142857142855,
           0.42857142857142855,
           0.42857142857142855,
           0.42857142857142855,
           0.42857142857142855,
           0.42857142857142855,
           0.42857142857142855,
           0.5714285714285714,
           0.5714285714285714,
           0.5714285714285714,
           0.5714285714285714,
           0.5714285714285714,
           0.5714285714285714,
           null,
           0.5714285714285714,
           0.5714285714285714,
           0.5714285714285714,
           0.5714285714285714,
           0.5714285714285714,
           null,
           0.5714285714285714,
           0.5714285714285714,
           0.5714285714285714,
           null,
           0.5714285714285714,
           null,
           null,
           null,
           null,
           0.5714285714285714,
           0.5714285714285714,
           null,
           0.5714285714285714,
           0.5714285714285714,
           0.5714285714285714,
           0.5714285714285714,
           null,
           0.5714285714285714,
           null,
           null,
           null,
           0.5714285714285714,
           null,
           null,
           null,
           null,
           0.5714285714285714,
           null,
           null,
           null,
           0.5714285714285714,
           0.5714285714285714,
           null,
           0.5714285714285714,
           0.5714285714285714,
           null,
           null,
           null,
           0.5714285714285714,
           null,
           0.5714285714285714,
           null,
           null,
           null,
           0.5714285714285714,
           0.5714285714285714,
           0.5714285714285714,
           0.5714285714285714,
           0.5714285714285714,
           0.5714285714285714,
           0.5714285714285714,
           0.5714285714285714,
           0.7142857142857143,
           0.7142857142857143,
           0.7142857142857143,
           0.7142857142857143,
           0.7142857142857143,
           0.7142857142857143,
           null,
           0.7142857142857143,
           0.7142857142857143,
           0.7142857142857143,
           0.7142857142857143,
           0.7142857142857143,
           null,
           0.7142857142857143,
           0.7142857142857143,
           0.7142857142857143,
           null,
           0.7142857142857143,
           null,
           null,
           null,
           null,
           0.7142857142857143,
           0.7142857142857143,
           null,
           0.7142857142857143,
           0.7142857142857143,
           0.7142857142857143,
           0.7142857142857143,
           null,
           0.7142857142857143,
           null,
           null,
           null,
           0.7142857142857143,
           null,
           null,
           null,
           null,
           0.7142857142857143,
           null,
           null,
           null,
           0.7142857142857143,
           0.7142857142857143,
           null,
           0.7142857142857143,
           0.7142857142857143,
           null,
           null,
           null,
           0.7142857142857143,
           null,
           0.7142857142857143,
           null,
           null,
           null,
           0.7142857142857143,
           0.7142857142857143,
           0.7142857142857143,
           0.7142857142857143,
           0.7142857142857143,
           0.7142857142857143,
           0.7142857142857143,
           0.7142857142857143,
           0.8571428571428571,
           0.8571428571428571,
           0.8571428571428571,
           0.8571428571428571,
           0.8571428571428571,
           0.8571428571428571,
           null,
           0.8571428571428571,
           0.8571428571428571,
           0.8571428571428571,
           0.8571428571428571,
           0.8571428571428571,
           null,
           0.8571428571428571,
           0.8571428571428571,
           0.8571428571428571,
           null,
           0.8571428571428571,
           null,
           null,
           null,
           null,
           0.8571428571428571,
           0.8571428571428571,
           null,
           0.8571428571428571,
           0.8571428571428571,
           0.8571428571428571,
           0.8571428571428571,
           null,
           0.8571428571428571,
           null,
           null,
           null,
           0.8571428571428571,
           null,
           null,
           null,
           null,
           0.8571428571428571,
           null,
           null,
           null,
           0.8571428571428571,
           0.8571428571428571,
           null,
           0.8571428571428571,
           0.8571428571428571,
           null,
           null,
           null,
           0.8571428571428571,
           null,
           0.8571428571428571,
           null,
           null,
           null,
           0.8571428571428571,
           0.8571428571428571,
           0.8571428571428571,
           0.8571428571428571,
           0.8571428571428571,
           0.8571428571428571,
           0.8571428571428571,
           0.8571428571428571
          ],
          "coloraxis": "coloraxis",
          "symbol": "circle"
         },
         "mode": "markers",
         "name": "",
         "orientation": "v",
         "showlegend": false,
         "type": "scatter",
         "x": [
          0.1118469037732442,
          0.1002130348438346,
          0.0898718180176927,
          0.0792200758259613,
          0.0683083589095504,
          0.0583065535295179,
          0.0435674309442137,
          0.0400938797616898,
          0.037674670518144,
          0.0334717458024914,
          0.030236504784257,
          0.0287127640368297,
          0.0270445928868026,
          0.0248131431666365,
          0.0191659144249864,
          0.0175988445567792,
          0.0151507492327134,
          0.0144141541794547,
          0.0141469579346452,
          0.0138869832099656,
          0.0135547932839862,
          0.0117060841307095,
          0.0106445206716013,
          0.0102256725040621,
          0.0092507672865138,
          0.0092218812059938,
          0.0078786784618162,
          0.0073659505325871,
          0.0072865138111572,
          0.0061743997111391,
          0.0056833363423,
          0.0055677920202202,
          0.0044267918396822,
          0.0041740386351326,
          0.0040584943130528,
          0.0037696335078534,
          0.0032280194981043,
          0.0029391586929048,
          0.0018920382740566,
          0.0018053800324968,
          0.0014009749052175,
          0,
          0,
          0,
          0,
          0,
          0,
          0,
          0,
          0,
          0,
          0,
          0,
          0,
          0,
          0,
          0,
          null,
          null,
          null,
          null,
          null,
          null,
          null,
          null,
          0.1122615472739581,
          0.1015604658832514,
          0.09069448542813,
          0.0796983215011022,
          0.0660464147471837,
          0.0596327090312613,
          0.0464494627762059,
          0.0393240874138619,
          0.0357483813854992,
          0.032207390949645,
          0.0312700699519189,
          0.0271996667303119,
          0.0288139417819513,
          0.0236673551925847,
          0.0182430438631511,
          0.0155959799343875,
          0.0134609709951224,
          0.0121938518685667,
          0.0129315582093697,
          0.0115516134071618,
          0.0119508427210081,
          0.0118727326378642,
          0.0106403291038169,
          0.0105708979188002,
          0.0100848796236829,
          0.0097637603929805,
          0.0084098522851538,
          0.0072468799361233,
          0.007038586381073,
          0.00555449480134,
          0.0054763847181961,
          0.0055197792088316,
          0.0043915224523094,
          0.0041051188141153,
          0.0041832288972592,
          0.0033587335751852,
          0.0026557428268906,
          0.002968183159466,
          0.0019353942823419,
          0.0021784034299005,
          0.0014927704778601,
          0.0056846782732464,
          0.0043654857579281,
          0,
          0,
          0,
          0,
          0,
          0,
          0,
          0,
          0,
          0,
          0,
          0,
          0,
          0,
          null,
          null,
          null,
          null,
          null,
          null,
          null,
          null,
          0.1023632354273861,
          0.0962411768852013,
          0.0843192734083151,
          0.0738775386908058,
          0.0607574033610906,
          0.0600223535690191,
          0.0453717036037578,
          0.036087924038142,
          0.0317481095123498,
          0.0298148278674493,
          0.0204504948999627,
          0.0253541832388509,
          0.0260288179795192,
          0.0213667898462436,
          0.0176311258344828,
          0.0147614108928337,
          0.0123347396614743,
          0.0094650247198251,
          0.0130496511030781,
          0.0102302820375983,
          0.0106431182221864,
          0.0128180600726994,
          0.0087601824534552,
          0.0092938487408496,
          0.0109149859535005,
          0.0086192140001812,
          0.0082466545165285,
          0.0074914663739893,
          0.0063939262734989,
          0.005125210194033,
          0.0051755560702022,
          0.0057092223575966,
          0.0041988460725182,
          0.004067946794478,
          0.004420367927663,
          0.0034738654556805,
          0.0027388156636089,
          0.0022756336028515,
          0.0017822440163926,
          0.0026179855608027,
          0.001681552264054,
          0.0048029965865495,
          0.0032422744253018,
          0.0352018366175626,
          0.0329060646642433,
          0.0061220585421848,
          0,
          0,
          0,
          0,
          0,
          0,
          0,
          0,
          0,
          0,
          0,
          null,
          null,
          null,
          null,
          null,
          null,
          null,
          null,
          0.1055993599256687,
          0.0965015292098437,
          0.0834935669948768,
          0.0754281142326205,
          0.0635299583177401,
          0.0601876346930611,
          0.0393336000309713,
          0.0353460401853118,
          0.0313455756152327,
          0.0258481630124788,
          0.0153824315081751,
          0.0258997819101573,
          0.0265837323043966,
          0.0229187905692273,
          0.0158857157605399,
          0.0120530126079157,
          0.0127627724509943,
          0.0082203094552915,
          0.0158857157605399,
          0.0102850653624291,
          0.0098204952833232,
          0.0130724858370649,
          0.0092526874088603,
          0.0082332141797111,
          0.0127885818998335,
          0.008865545676272,
          0.0088397362274328,
          0.008336451975068,
          0.0062975055167696,
          0.0060265063039578,
          0.0061297440993147,
          0.0067233614226168,
          0.0040907976410163,
          0.0048392716573537,
          0.0058329354376637,
          0.0036262275619104,
          0.00264546850602,
          0.0025938496083416,
          0.0021550889780748,
          0.0027487063013769,
          0.0030326102386083,
          0.0051876992166832,
          0.0029551818920906,
          0.0312552425442954,
          0.0292421055348363,
          0.0042714637828909,
          0.0086461653611387,
          0,
          0,
          0,
          0,
          0,
          0,
          0,
          0,
          0,
          0,
          null,
          null,
          null,
          null,
          null,
          null,
          null,
          null,
          0.1089299019888806,
          0.0951835081484878,
          0.0825929959305324,
          0.0787241359546053,
          0.0643472612292466,
          0.0608605108805716,
          0.0301293441088248,
          0.0304636900326703,
          0.0302821879597256,
          0.0237099023709902,
          0.0113677614107487,
          0.0267285684262815,
          0.0279322137521254,
          0.0201180718748208,
          0.013689077396305,
          0.0093234749049502,
          0.0116830018532316,
          0.0076517452857224,
          0.0117212128159568,
          0.0088171796488412,
          0.0089222597963355,
          0.0128579889570317,
          0.0076612980264037,
          0.0067633404023614,
          0.0125905122179553,
          0.0073747158059647,
          0.0109187825987275,
          0.0078236946179859,
          0.0070021589193939,
          0.0053304293001662,
          0.0062665978869337,
          0.0066200492921419,
          0.0032861427943677,
          0.0049960833763206,
          0.0059991211478573,
          0.0036395941995758,
          0.0029709023518847,
          0.001681282359909,
          0.002187577616018,
          0.0035440667927628,
          0.0024168433923692,
          0.0043178387879482,
          0.0027034256128083,
          0.0232131598555625,
          0.0216369576431478,
          0.0025028180585009,
          0.0043464970099921,
          0.0357845665921552,
          0.0070403698821191,
          0.0062188341835272,
          0.0044133661947612,
          0.0015093330276456,
          0.0012036453258439,
          0,
          0,
          0,
          0,
          null,
          null,
          null,
          null,
          null,
          null,
          null,
          null,
          0.1158530005063795,
          0.0972912844607887,
          0.0840507043656558,
          0.07755908453218,
          0.0605165071432722,
          0.0554527116209956,
          0.0234926907017092,
          0.0255431128230244,
          0.027709753202228,
          0.0188107551696371,
          0.0089488058574001,
          0.0268464175722005,
          0.0246714758888621,
          0.0212762424976963,
          0.0135560296522583,
          0.0090650241152885,
          0.0107335862463993,
          0.0073217502469637,
          0.0095714036675161,
          0.007097615035322,
          0.0074130645924474,
          0.0089072993367258,
          0.0075873919792799,
          0.0055369698579646,
          0.0107335862463993,
          0.0075707893710101,
          0.0158471895934851,
          0.0077285141495728,
          0.0062259781011596,
          0.0047732498775557,
          0.0067157550451175,
          0.0054041489918066,
          0.002963565576152,
          0.0038684077268538,
          0.0080688676191029,
          0.0034201373035703,
          0.0025235964570033,
          0.0019176012551571,
          0.0018013829972688,
          0.0052215203008392,
          0.0019923129923711,
          0.0030714825299054,
          0.0024986925445987,
          0.0184288951794326,
          0.0194997634128321,
          0.0020587234254501,
          0.0041423507633049,
          0.0296024505449806,
          0.0107667914629388,
          0.0068319733030059,
          0.0043249794542722,
          0.0033703294787611,
          0.0023077625494965,
          0.0415065206743979,
          0,
          0,
          0,
          null,
          null,
          null,
          null,
          null,
          null,
          null,
          null,
          0.1422444554704439,
          0.0967735357888083,
          0.0862520135665105,
          0.0799717251082398,
          0.0622455429662808,
          0.0487809851352912,
          0.020587655562881,
          0.0202885942077253,
          0.0242919382574238,
          0.0159997825008326,
          0.0082649683606679,
          0.0235986596613809,
          0.0244822500288866,
          0.022436398485662,
          0.0127848729329083,
          0.0077959857809919,
          0.0116837833980166,
          0.0065113813236183,
          0.008625201356651,
          0.0066745056991578,
          0.0055190413724197,
          0.0080542660422628,
          0.0064909907766759,
          0.0046218573069524,
          0.0104263663365663,
          0.0064026317399253,
          0.0180592277420188,
          0.0077687983850686,
          0.0067560678869276,
          0.0041868589721804,
          0.0065317718705608,
          0.0056481815030551,
          0.0031129568332121,
          0.0034188150373486,
          0.0091009807853079,
          0.0026371774045552,
          0.0021274137309943,
          0.0017943681309344,
          0.0017060090941839,
          0.0057909153316522,
          0.0014545256818938,
          0.0026099900086319,
          0.0020254609962821,
          0.0160065793498134,
          0.0200507044933968,
          0.0019982736003588,
          0.0030721757393272,
          0.0250056074004091,
          0.0095835570629456,
          0.0091281681812311,
          0.0032760812087516,
          0.0107118339937604,
          0.0010331210450834,
          0.0304226960381167,
          0.0116565960020934,
          0.0007884344817742,
          0.0007272628409469,
          null,
          null,
          null,
          null,
          null,
          null,
          null,
          null
         ],
         "xaxis": "x",
         "y": [
          0.1602312943347795,
          0.0814750140597368,
          0.1048716602297397,
          0.0971566705298569,
          0.0850202429149788,
          0.06131599143676465,
          null,
          0.04683679208056051,
          0.04962388260041372,
          0.06545778816247709,
          0.0025758060657281,
          0.038661947980523526,
          null,
          0.053834036061284146,
          0.0087279122299519,
          0.019668096979563898,
          null,
          0.0048346854502689,
          null,
          null,
          null,
          null,
          0.017499324200459,
          0.011428003268694534,
          null,
          0.016334152578446646,
          0.012201677225710082,
          0.011546073993057994,
          0.006304355256166801,
          null,
          0.008634698500190682,
          null,
          null,
          null,
          0.0022215938926362384,
          null,
          null,
          null,
          null,
          0.001910881460099501,
          null,
          null,
          null,
          0,
          0,
          null,
          0.0055213599261747,
          0,
          null,
          null,
          null,
          0,
          null,
          0,
          null,
          null,
          null,
          0.0040019761310709,
          0.0006959958488818033,
          0.0009228159246333689,
          0.0006742459786043,
          0.0001802132108712,
          0.0026224129306084316,
          0.00041946178392423785,
          0.0004412116542019,
          0.1594425509014255,
          0.0828998116422988,
          0.10465437856907853,
          0.0963875683917832,
          0.0817263132717425,
          0.060592130833855964,
          null,
          0.04477232636708748,
          0.04808353514515417,
          0.06425090441594106,
          0.0017452985320058,
          0.037260441893143474,
          null,
          0.05426495649833995,
          0.0087377044279008,
          0.0203717822226206,
          null,
          0.005146201453045,
          null,
          null,
          null,
          null,
          0.0178005501240764,
          0.011256614943044,
          null,
          0.015659102460608802,
          0.012239513259783423,
          0.012359105450413497,
          0.0063084880557298,
          null,
          0.008838610338744321,
          null,
          null,
          null,
          0.0026534517296018818,
          null,
          null,
          null,
          null,
          0.0022311418064397495,
          null,
          null,
          null,
          0,
          0,
          null,
          0.0052358955960175,
          0,
          null,
          null,
          null,
          0,
          null,
          0,
          null,
          null,
          null,
          0.0044398600771369,
          0.0007848237510090219,
          0.00078856100696595,
          0.0007026041199509,
          0.0001831255419021,
          0.0028440517834182615,
          0.0003812001076329598,
          0.0005269530899632,
          0.14818800471026058,
          0.077670802111678,
          0.09912719029368469,
          0.08837914959490777,
          0.0762286152801226,
          0.05990588297557918,
          null,
          0.04458871213156894,
          0.044271166407189706,
          0.061753822677174476,
          0.0015568561209143,
          0.035992925786917034,
          null,
          0.05179523593206233,
          0.0101658735374151,
          0.0187131459519532,
          null,
          0.0049351897997256,
          null,
          null,
          null,
          null,
          0.0150966529798577,
          0.010465777832661996,
          null,
          0.014558589391326279,
          0.01147133929319512,
          0.011912375021500141,
          0.0062053726972421,
          null,
          0.008234137047441812,
          null,
          null,
          null,
          0.00293288759322361,
          null,
          null,
          null,
          null,
          0.00192732613268962,
          null,
          null,
          null,
          0.038286311574099806,
          0.0099674074596783,
          null,
          0.0141131433057389,
          0,
          null,
          null,
          null,
          0,
          null,
          0,
          null,
          null,
          null,
          0.0041721979897591,
          0.0007453503808343005,
          0.000890892171174518,
          0.0006350914487582,
          0.000211697149586,
          0.002659445441674975,
          0.00038811144090782296,
          0.000511601444833,
          0.1506344451549923,
          0.0768346179305073,
          0.09778645395083668,
          0.0901069188740414,
          0.0768738850930622,
          0.05939438816151078,
          null,
          0.042554385020137794,
          0.04328363232472753,
          0.06243478846218527,
          0.0012565492017546,
          0.034280232910369,
          null,
          0.051193160782201146,
          0.0091941256324817,
          0.0179170453143052,
          null,
          0.0045606004510113,
          null,
          null,
          null,
          null,
          0.015656378670077,
          0.010955538352798295,
          null,
          0.013732287704889833,
          0.011510888223216203,
          0.012599149585450243,
          0.0060639718173964,
          null,
          0.008610727788809495,
          null,
          null,
          null,
          0.0032760032760030745,
          null,
          null,
          null,
          null,
          0.002266276238878669,
          null,
          null,
          null,
          0.03142494923316768,
          0.0138444795979042,
          null,
          0.0157349129951866,
          0,
          null,
          null,
          null,
          0,
          null,
          0,
          null,
          null,
          null,
          0.0040389081484971,
          0.0007516856831924352,
          0.0011331381194393596,
          0.0005833978436718,
          0.0002973085164865,
          0.0031357634097356757,
          0.0005273018971648122,
          0.0004824251399593,
          0.158557030196575,
          0.07613762308495539,
          0.09476291266719673,
          0.08871319454725039,
          0.0765017264903223,
          0.052983047185399854,
          null,
          0.037926771203021,
          0.03996334959128295,
          0.062373714134813754,
          0.0011563283972648,
          0.03333346670454325,
          null,
          0.051182535840177984,
          0.0078062169656181,
          0.0166487282388195,
          null,
          0.0035129976913443,
          null,
          null,
          null,
          null,
          0.0138199248586596,
          0.009734764673166918,
          null,
          0.011919385105369657,
          0.011459254428256667,
          0.011715327152910735,
          0.005345518127148,
          null,
          0.008610445366483484,
          null,
          null,
          null,
          0.0032129124671403954,
          null,
          null,
          null,
          null,
          0.0023446658851111633,
          null,
          null,
          null,
          0.023490671350662948,
          0.0107190442085552,
          null,
          0.010839078298236425,
          0.01712086232489963,
          null,
          null,
          null,
          0,
          null,
          0,
          null,
          null,
          null,
          0.0033649556474038,
          0.0007322079470568192,
          0.0010562999891967826,
          0.0006561863569253,
          0.0002600738609765,
          0.0025607272465375495,
          0.0005041431766620704,
          0.0004441261318214,
          0.1779170319382656,
          0.0789167036447783,
          0.1010891407008153,
          0.0841116775075659,
          0.0670945304861982,
          0.048122053024808674,
          null,
          0.031249210832962754,
          0.03425796652849408,
          0.06185987279529223,
          0.0011616538776511,
          0.02955362908608058,
          null,
          0.059146942000280756,
          0.0080846780739633,
          0.0152494128597245,
          null,
          0.0036328740832132,
          null,
          null,
          null,
          null,
          0.0125436973061891,
          0.008427402044077582,
          null,
          0.009549372093610153,
          0.012449899166999328,
          0.0099029189259385,
          0.0047764898571742,
          null,
          0.007547142583993952,
          null,
          null,
          null,
          0.003041224282173241,
          null,
          null,
          null,
          null,
          0.0020094447510918692,
          null,
          null,
          null,
          0.020491285792106476,
          0.0099534256162718,
          null,
          0.009278800538256658,
          0.011172801425731077,
          null,
          null,
          null,
          0,
          null,
          0.03040502758025964,
          null,
          null,
          null,
          0.0034200244596686,
          0.0006241183876821233,
          0.0010426023932953701,
          0.0004148763848754,
          0.0001623429332121,
          0.0023449534797303695,
          0.0003932306604470288,
          0.0003355087286383,
          0.2096843836743078,
          0.0798660576598269,
          0.098189134808852,
          0.0894270733892399,
          0.07012292734509175,
          0.04297610480400555,
          null,
          0.02470296229934275,
          0.03154107124498728,
          0.06278253462380055,
          0.0009751942310799,
          0.02700289327204025,
          null,
          0.057665702242652356,
          0.006788174301282,
          0.0127068983242518,
          null,
          0.0031870052431375003,
          null,
          null,
          null,
          null,
          0.0113733495865702,
          0.006937978234369552,
          null,
          0.0085505735140767,
          0.011484968203380203,
          0.008823745392059731,
          0.004329627399433,
          null,
          0.006676555684471482,
          null,
          null,
          null,
          0.002611288166957852,
          null,
          null,
          null,
          null,
          0.002035571090778056,
          null,
          null,
          null,
          0.017688613432418624,
          0.0097431303147351,
          null,
          0.008104099046835424,
          0.008782622743761325,
          null,
          null,
          null,
          0.0046174859375229,
          null,
          0.020699378754276774,
          null,
          null,
          null,
          0.0030753866263273,
          0.0007460823334165262,
          0.0009164475906533021,
          0.0004229758110708,
          0.0001938639134074,
          0.002261745656419953,
          0.00039360249085747804,
          0.0003054825302178
         ],
         "yaxis": "y"
        }
       ],
       "layout": {
        "coloraxis": {
         "colorbar": {
          "title": {
           "text": "回n"
          }
         },
         "colorscale": [
          [
           0,
           "#0d0887"
          ],
          [
           0.1111111111111111,
           "#46039f"
          ],
          [
           0.2222222222222222,
           "#7201a8"
          ],
          [
           0.3333333333333333,
           "#9c179e"
          ],
          [
           0.4444444444444444,
           "#bd3786"
          ],
          [
           0.5555555555555556,
           "#d8576b"
          ],
          [
           0.6666666666666666,
           "#ed7953"
          ],
          [
           0.7777777777777778,
           "#fb9f3a"
          ],
          [
           0.8888888888888888,
           "#fdca26"
          ],
          [
           1,
           "#f0f921"
          ]
         ]
        },
        "legend": {
         "tracegroupgap": 0
        },
        "margin": {
         "t": 60
        },
        "template": {
         "data": {
          "bar": [
           {
            "error_x": {
             "color": "#2a3f5f"
            },
            "error_y": {
             "color": "#2a3f5f"
            },
            "marker": {
             "line": {
              "color": "#E5ECF6",
              "width": 0.5
             },
             "pattern": {
              "fillmode": "overlay",
              "size": 10,
              "solidity": 0.2
             }
            },
            "type": "bar"
           }
          ],
          "barpolar": [
           {
            "marker": {
             "line": {
              "color": "#E5ECF6",
              "width": 0.5
             },
             "pattern": {
              "fillmode": "overlay",
              "size": 10,
              "solidity": 0.2
             }
            },
            "type": "barpolar"
           }
          ],
          "carpet": [
           {
            "aaxis": {
             "endlinecolor": "#2a3f5f",
             "gridcolor": "white",
             "linecolor": "white",
             "minorgridcolor": "white",
             "startlinecolor": "#2a3f5f"
            },
            "baxis": {
             "endlinecolor": "#2a3f5f",
             "gridcolor": "white",
             "linecolor": "white",
             "minorgridcolor": "white",
             "startlinecolor": "#2a3f5f"
            },
            "type": "carpet"
           }
          ],
          "choropleth": [
           {
            "colorbar": {
             "outlinewidth": 0,
             "ticks": ""
            },
            "type": "choropleth"
           }
          ],
          "contour": [
           {
            "colorbar": {
             "outlinewidth": 0,
             "ticks": ""
            },
            "colorscale": [
             [
              0,
              "#0d0887"
             ],
             [
              0.1111111111111111,
              "#46039f"
             ],
             [
              0.2222222222222222,
              "#7201a8"
             ],
             [
              0.3333333333333333,
              "#9c179e"
             ],
             [
              0.4444444444444444,
              "#bd3786"
             ],
             [
              0.5555555555555556,
              "#d8576b"
             ],
             [
              0.6666666666666666,
              "#ed7953"
             ],
             [
              0.7777777777777778,
              "#fb9f3a"
             ],
             [
              0.8888888888888888,
              "#fdca26"
             ],
             [
              1,
              "#f0f921"
             ]
            ],
            "type": "contour"
           }
          ],
          "contourcarpet": [
           {
            "colorbar": {
             "outlinewidth": 0,
             "ticks": ""
            },
            "type": "contourcarpet"
           }
          ],
          "heatmap": [
           {
            "colorbar": {
             "outlinewidth": 0,
             "ticks": ""
            },
            "colorscale": [
             [
              0,
              "#0d0887"
             ],
             [
              0.1111111111111111,
              "#46039f"
             ],
             [
              0.2222222222222222,
              "#7201a8"
             ],
             [
              0.3333333333333333,
              "#9c179e"
             ],
             [
              0.4444444444444444,
              "#bd3786"
             ],
             [
              0.5555555555555556,
              "#d8576b"
             ],
             [
              0.6666666666666666,
              "#ed7953"
             ],
             [
              0.7777777777777778,
              "#fb9f3a"
             ],
             [
              0.8888888888888888,
              "#fdca26"
             ],
             [
              1,
              "#f0f921"
             ]
            ],
            "type": "heatmap"
           }
          ],
          "heatmapgl": [
           {
            "colorbar": {
             "outlinewidth": 0,
             "ticks": ""
            },
            "colorscale": [
             [
              0,
              "#0d0887"
             ],
             [
              0.1111111111111111,
              "#46039f"
             ],
             [
              0.2222222222222222,
              "#7201a8"
             ],
             [
              0.3333333333333333,
              "#9c179e"
             ],
             [
              0.4444444444444444,
              "#bd3786"
             ],
             [
              0.5555555555555556,
              "#d8576b"
             ],
             [
              0.6666666666666666,
              "#ed7953"
             ],
             [
              0.7777777777777778,
              "#fb9f3a"
             ],
             [
              0.8888888888888888,
              "#fdca26"
             ],
             [
              1,
              "#f0f921"
             ]
            ],
            "type": "heatmapgl"
           }
          ],
          "histogram": [
           {
            "marker": {
             "pattern": {
              "fillmode": "overlay",
              "size": 10,
              "solidity": 0.2
             }
            },
            "type": "histogram"
           }
          ],
          "histogram2d": [
           {
            "colorbar": {
             "outlinewidth": 0,
             "ticks": ""
            },
            "colorscale": [
             [
              0,
              "#0d0887"
             ],
             [
              0.1111111111111111,
              "#46039f"
             ],
             [
              0.2222222222222222,
              "#7201a8"
             ],
             [
              0.3333333333333333,
              "#9c179e"
             ],
             [
              0.4444444444444444,
              "#bd3786"
             ],
             [
              0.5555555555555556,
              "#d8576b"
             ],
             [
              0.6666666666666666,
              "#ed7953"
             ],
             [
              0.7777777777777778,
              "#fb9f3a"
             ],
             [
              0.8888888888888888,
              "#fdca26"
             ],
             [
              1,
              "#f0f921"
             ]
            ],
            "type": "histogram2d"
           }
          ],
          "histogram2dcontour": [
           {
            "colorbar": {
             "outlinewidth": 0,
             "ticks": ""
            },
            "colorscale": [
             [
              0,
              "#0d0887"
             ],
             [
              0.1111111111111111,
              "#46039f"
             ],
             [
              0.2222222222222222,
              "#7201a8"
             ],
             [
              0.3333333333333333,
              "#9c179e"
             ],
             [
              0.4444444444444444,
              "#bd3786"
             ],
             [
              0.5555555555555556,
              "#d8576b"
             ],
             [
              0.6666666666666666,
              "#ed7953"
             ],
             [
              0.7777777777777778,
              "#fb9f3a"
             ],
             [
              0.8888888888888888,
              "#fdca26"
             ],
             [
              1,
              "#f0f921"
             ]
            ],
            "type": "histogram2dcontour"
           }
          ],
          "mesh3d": [
           {
            "colorbar": {
             "outlinewidth": 0,
             "ticks": ""
            },
            "type": "mesh3d"
           }
          ],
          "parcoords": [
           {
            "line": {
             "colorbar": {
              "outlinewidth": 0,
              "ticks": ""
             }
            },
            "type": "parcoords"
           }
          ],
          "pie": [
           {
            "automargin": true,
            "type": "pie"
           }
          ],
          "scatter": [
           {
            "fillpattern": {
             "fillmode": "overlay",
             "size": 10,
             "solidity": 0.2
            },
            "type": "scatter"
           }
          ],
          "scatter3d": [
           {
            "line": {
             "colorbar": {
              "outlinewidth": 0,
              "ticks": ""
             }
            },
            "marker": {
             "colorbar": {
              "outlinewidth": 0,
              "ticks": ""
             }
            },
            "type": "scatter3d"
           }
          ],
          "scattercarpet": [
           {
            "marker": {
             "colorbar": {
              "outlinewidth": 0,
              "ticks": ""
             }
            },
            "type": "scattercarpet"
           }
          ],
          "scattergeo": [
           {
            "marker": {
             "colorbar": {
              "outlinewidth": 0,
              "ticks": ""
             }
            },
            "type": "scattergeo"
           }
          ],
          "scattergl": [
           {
            "marker": {
             "colorbar": {
              "outlinewidth": 0,
              "ticks": ""
             }
            },
            "type": "scattergl"
           }
          ],
          "scattermapbox": [
           {
            "marker": {
             "colorbar": {
              "outlinewidth": 0,
              "ticks": ""
             }
            },
            "type": "scattermapbox"
           }
          ],
          "scatterpolar": [
           {
            "marker": {
             "colorbar": {
              "outlinewidth": 0,
              "ticks": ""
             }
            },
            "type": "scatterpolar"
           }
          ],
          "scatterpolargl": [
           {
            "marker": {
             "colorbar": {
              "outlinewidth": 0,
              "ticks": ""
             }
            },
            "type": "scatterpolargl"
           }
          ],
          "scatterternary": [
           {
            "marker": {
             "colorbar": {
              "outlinewidth": 0,
              "ticks": ""
             }
            },
            "type": "scatterternary"
           }
          ],
          "surface": [
           {
            "colorbar": {
             "outlinewidth": 0,
             "ticks": ""
            },
            "colorscale": [
             [
              0,
              "#0d0887"
             ],
             [
              0.1111111111111111,
              "#46039f"
             ],
             [
              0.2222222222222222,
              "#7201a8"
             ],
             [
              0.3333333333333333,
              "#9c179e"
             ],
             [
              0.4444444444444444,
              "#bd3786"
             ],
             [
              0.5555555555555556,
              "#d8576b"
             ],
             [
              0.6666666666666666,
              "#ed7953"
             ],
             [
              0.7777777777777778,
              "#fb9f3a"
             ],
             [
              0.8888888888888888,
              "#fdca26"
             ],
             [
              1,
              "#f0f921"
             ]
            ],
            "type": "surface"
           }
          ],
          "table": [
           {
            "cells": {
             "fill": {
              "color": "#EBF0F8"
             },
             "line": {
              "color": "white"
             }
            },
            "header": {
             "fill": {
              "color": "#C8D4E3"
             },
             "line": {
              "color": "white"
             }
            },
            "type": "table"
           }
          ]
         },
         "layout": {
          "annotationdefaults": {
           "arrowcolor": "#2a3f5f",
           "arrowhead": 0,
           "arrowwidth": 1
          },
          "autotypenumbers": "strict",
          "coloraxis": {
           "colorbar": {
            "outlinewidth": 0,
            "ticks": ""
           }
          },
          "colorscale": {
           "diverging": [
            [
             0,
             "#8e0152"
            ],
            [
             0.1,
             "#c51b7d"
            ],
            [
             0.2,
             "#de77ae"
            ],
            [
             0.3,
             "#f1b6da"
            ],
            [
             0.4,
             "#fde0ef"
            ],
            [
             0.5,
             "#f7f7f7"
            ],
            [
             0.6,
             "#e6f5d0"
            ],
            [
             0.7,
             "#b8e186"
            ],
            [
             0.8,
             "#7fbc41"
            ],
            [
             0.9,
             "#4d9221"
            ],
            [
             1,
             "#276419"
            ]
           ],
           "sequential": [
            [
             0,
             "#0d0887"
            ],
            [
             0.1111111111111111,
             "#46039f"
            ],
            [
             0.2222222222222222,
             "#7201a8"
            ],
            [
             0.3333333333333333,
             "#9c179e"
            ],
            [
             0.4444444444444444,
             "#bd3786"
            ],
            [
             0.5555555555555556,
             "#d8576b"
            ],
            [
             0.6666666666666666,
             "#ed7953"
            ],
            [
             0.7777777777777778,
             "#fb9f3a"
            ],
            [
             0.8888888888888888,
             "#fdca26"
            ],
            [
             1,
             "#f0f921"
            ]
           ],
           "sequentialminus": [
            [
             0,
             "#0d0887"
            ],
            [
             0.1111111111111111,
             "#46039f"
            ],
            [
             0.2222222222222222,
             "#7201a8"
            ],
            [
             0.3333333333333333,
             "#9c179e"
            ],
            [
             0.4444444444444444,
             "#bd3786"
            ],
            [
             0.5555555555555556,
             "#d8576b"
            ],
            [
             0.6666666666666666,
             "#ed7953"
            ],
            [
             0.7777777777777778,
             "#fb9f3a"
            ],
            [
             0.8888888888888888,
             "#fdca26"
            ],
            [
             1,
             "#f0f921"
            ]
           ]
          },
          "colorway": [
           "#636efa",
           "#EF553B",
           "#00cc96",
           "#ab63fa",
           "#FFA15A",
           "#19d3f3",
           "#FF6692",
           "#B6E880",
           "#FF97FF",
           "#FECB52"
          ],
          "font": {
           "color": "#2a3f5f"
          },
          "geo": {
           "bgcolor": "white",
           "lakecolor": "white",
           "landcolor": "#E5ECF6",
           "showlakes": true,
           "showland": true,
           "subunitcolor": "white"
          },
          "hoverlabel": {
           "align": "left"
          },
          "hovermode": "closest",
          "mapbox": {
           "style": "light"
          },
          "paper_bgcolor": "white",
          "plot_bgcolor": "#E5ECF6",
          "polar": {
           "angularaxis": {
            "gridcolor": "white",
            "linecolor": "white",
            "ticks": ""
           },
           "bgcolor": "#E5ECF6",
           "radialaxis": {
            "gridcolor": "white",
            "linecolor": "white",
            "ticks": ""
           }
          },
          "scene": {
           "xaxis": {
            "backgroundcolor": "#E5ECF6",
            "gridcolor": "white",
            "gridwidth": 2,
            "linecolor": "white",
            "showbackground": true,
            "ticks": "",
            "zerolinecolor": "white"
           },
           "yaxis": {
            "backgroundcolor": "#E5ECF6",
            "gridcolor": "white",
            "gridwidth": 2,
            "linecolor": "white",
            "showbackground": true,
            "ticks": "",
            "zerolinecolor": "white"
           },
           "zaxis": {
            "backgroundcolor": "#E5ECF6",
            "gridcolor": "white",
            "gridwidth": 2,
            "linecolor": "white",
            "showbackground": true,
            "ticks": "",
            "zerolinecolor": "white"
           }
          },
          "shapedefaults": {
           "line": {
            "color": "#2a3f5f"
           }
          },
          "ternary": {
           "aaxis": {
            "gridcolor": "white",
            "linecolor": "white",
            "ticks": ""
           },
           "baxis": {
            "gridcolor": "white",
            "linecolor": "white",
            "ticks": ""
           },
           "bgcolor": "#E5ECF6",
           "caxis": {
            "gridcolor": "white",
            "linecolor": "white",
            "ticks": ""
           }
          },
          "title": {
           "x": 0.05
          },
          "xaxis": {
           "automargin": true,
           "gridcolor": "white",
           "linecolor": "white",
           "ticks": "",
           "title": {
            "standoff": 15
           },
           "zerolinecolor": "white",
           "zerolinewidth": 2
          },
          "yaxis": {
           "automargin": true,
           "gridcolor": "white",
           "linecolor": "white",
           "ticks": "",
           "title": {
            "standoff": 15
           },
           "zerolinecolor": "white",
           "zerolinewidth": 2
          }
         }
        },
        "xaxis": {
         "anchor": "y",
         "domain": [
          0,
          1
         ],
         "title": {
          "text": "作品ポイント比率"
         }
        },
        "yaxis": {
         "anchor": "x",
         "domain": [
          0,
          1
         ],
         "title": {
          "text": "音楽集計ポイント比率"
         }
        }
       }
      },
      "text/html": [
       "<div>                            <div id=\"1f1b961a-77b4-43d9-b222-7971616401bf\" class=\"plotly-graph-div\" style=\"height:525px; width:100%;\"></div>            <script type=\"text/javascript\">                require([\"plotly\"], function(Plotly) {                    window.PLOTLYENV=window.PLOTLYENV || {};                                    if (document.getElementById(\"1f1b961a-77b4-43d9-b222-7971616401bf\")) {                    Plotly.newPlot(                        \"1f1b961a-77b4-43d9-b222-7971616401bf\",                        [{\"customdata\":[[12.0],[12.0],[12.0],[12.0],[12.0],[12.0],[null],[12.0],[12.0],[12.0],[12.0],[12.0],[null],[12.0],[12.0],[12.0],[null],[12.0],[null],[null],[null],[null],[12.0],[12.0],[null],[12.0],[12.0],[12.0],[12.0],[null],[12.0],[null],[null],[null],[12.0],[null],[null],[null],[null],[12.0],[null],[null],[null],[12.0],[12.0],[null],[12.0],[12.0],[null],[null],[null],[12.0],[null],[12.0],[null],[null],[null],[12.0],[12.0],[12.0],[12.0],[12.0],[12.0],[12.0],[12.0],[13.0],[13.0],[13.0],[13.0],[13.0],[13.0],[null],[13.0],[13.0],[13.0],[13.0],[13.0],[null],[13.0],[13.0],[13.0],[null],[13.0],[null],[null],[null],[null],[13.0],[13.0],[null],[13.0],[13.0],[13.0],[13.0],[null],[13.0],[null],[null],[null],[13.0],[null],[null],[null],[null],[13.0],[null],[null],[null],[13.0],[13.0],[null],[13.0],[13.0],[null],[null],[null],[13.0],[null],[13.0],[null],[null],[null],[13.0],[13.0],[13.0],[13.0],[13.0],[13.0],[13.0],[13.0],[14.0],[14.0],[14.0],[14.0],[14.0],[14.0],[null],[14.0],[14.0],[14.0],[14.0],[14.0],[null],[14.0],[14.0],[14.0],[null],[14.0],[null],[null],[null],[null],[14.0],[14.0],[null],[14.0],[14.0],[14.0],[14.0],[null],[14.0],[null],[null],[null],[14.0],[null],[null],[null],[null],[14.0],[null],[null],[null],[14.0],[14.0],[null],[14.0],[14.0],[null],[null],[null],[14.0],[null],[14.0],[null],[null],[null],[14.0],[14.0],[14.0],[14.0],[14.0],[14.0],[14.0],[14.0],[15.0],[15.0],[15.0],[15.0],[15.0],[15.0],[null],[15.0],[15.0],[15.0],[15.0],[15.0],[null],[15.0],[15.0],[15.0],[null],[15.0],[null],[null],[null],[null],[15.0],[15.0],[null],[15.0],[15.0],[15.0],[15.0],[null],[15.0],[null],[null],[null],[15.0],[null],[null],[null],[null],[15.0],[null],[null],[null],[15.0],[15.0],[null],[15.0],[15.0],[null],[null],[null],[15.0],[null],[15.0],[null],[null],[null],[15.0],[15.0],[15.0],[15.0],[15.0],[15.0],[15.0],[15.0],[16.0],[16.0],[16.0],[16.0],[16.0],[16.0],[null],[16.0],[16.0],[16.0],[16.0],[16.0],[null],[16.0],[16.0],[16.0],[null],[16.0],[null],[null],[null],[null],[16.0],[16.0],[null],[16.0],[16.0],[16.0],[16.0],[null],[16.0],[null],[null],[null],[16.0],[null],[null],[null],[null],[16.0],[null],[null],[null],[16.0],[16.0],[null],[16.0],[16.0],[null],[null],[null],[16.0],[null],[16.0],[null],[null],[null],[16.0],[16.0],[16.0],[16.0],[16.0],[16.0],[16.0],[16.0],[17.0],[17.0],[17.0],[17.0],[17.0],[17.0],[null],[17.0],[17.0],[17.0],[17.0],[17.0],[null],[17.0],[17.0],[17.0],[null],[17.0],[null],[null],[null],[null],[17.0],[17.0],[null],[17.0],[17.0],[17.0],[17.0],[null],[17.0],[null],[null],[null],[17.0],[null],[null],[null],[null],[17.0],[null],[null],[null],[17.0],[17.0],[null],[17.0],[17.0],[null],[null],[null],[17.0],[null],[17.0],[null],[null],[null],[17.0],[17.0],[17.0],[17.0],[17.0],[17.0],[17.0],[17.0],[18.0],[18.0],[18.0],[18.0],[18.0],[18.0],[null],[18.0],[18.0],[18.0],[18.0],[18.0],[null],[18.0],[18.0],[18.0],[null],[18.0],[null],[null],[null],[null],[18.0],[18.0],[null],[18.0],[18.0],[18.0],[18.0],[null],[18.0],[null],[null],[null],[18.0],[null],[null],[null],[null],[18.0],[null],[null],[null],[18.0],[18.0],[null],[18.0],[18.0],[null],[null],[null],[18.0],[null],[18.0],[null],[null],[null],[18.0],[18.0],[18.0],[18.0],[18.0],[18.0],[18.0],[18.0]],\"hovertemplate\":\"作品ポイント比率=%{x}<br>音楽集計ポイント比率=%{y}<br>回=%{customdata[0]}<br>回n=%{marker.color}<extra></extra>\",\"legendgroup\":\"\",\"marker\":{\"color\":[0.0,0.0,0.0,0.0,0.0,0.0,null,0.0,0.0,0.0,0.0,0.0,null,0.0,0.0,0.0,null,0.0,null,null,null,null,0.0,0.0,null,0.0,0.0,0.0,0.0,null,0.0,null,null,null,0.0,null,null,null,null,0.0,null,null,null,0.0,0.0,null,0.0,0.0,null,null,null,0.0,null,0.0,null,null,null,0.0,0.0,0.0,0.0,0.0,0.0,0.0,0.0,0.14285714285714285,0.14285714285714285,0.14285714285714285,0.14285714285714285,0.14285714285714285,0.14285714285714285,null,0.14285714285714285,0.14285714285714285,0.14285714285714285,0.14285714285714285,0.14285714285714285,null,0.14285714285714285,0.14285714285714285,0.14285714285714285,null,0.14285714285714285,null,null,null,null,0.14285714285714285,0.14285714285714285,null,0.14285714285714285,0.14285714285714285,0.14285714285714285,0.14285714285714285,null,0.14285714285714285,null,null,null,0.14285714285714285,null,null,null,null,0.14285714285714285,null,null,null,0.14285714285714285,0.14285714285714285,null,0.14285714285714285,0.14285714285714285,null,null,null,0.14285714285714285,null,0.14285714285714285,null,null,null,0.14285714285714285,0.14285714285714285,0.14285714285714285,0.14285714285714285,0.14285714285714285,0.14285714285714285,0.14285714285714285,0.14285714285714285,0.2857142857142857,0.2857142857142857,0.2857142857142857,0.2857142857142857,0.2857142857142857,0.2857142857142857,null,0.2857142857142857,0.2857142857142857,0.2857142857142857,0.2857142857142857,0.2857142857142857,null,0.2857142857142857,0.2857142857142857,0.2857142857142857,null,0.2857142857142857,null,null,null,null,0.2857142857142857,0.2857142857142857,null,0.2857142857142857,0.2857142857142857,0.2857142857142857,0.2857142857142857,null,0.2857142857142857,null,null,null,0.2857142857142857,null,null,null,null,0.2857142857142857,null,null,null,0.2857142857142857,0.2857142857142857,null,0.2857142857142857,0.2857142857142857,null,null,null,0.2857142857142857,null,0.2857142857142857,null,null,null,0.2857142857142857,0.2857142857142857,0.2857142857142857,0.2857142857142857,0.2857142857142857,0.2857142857142857,0.2857142857142857,0.2857142857142857,0.42857142857142855,0.42857142857142855,0.42857142857142855,0.42857142857142855,0.42857142857142855,0.42857142857142855,null,0.42857142857142855,0.42857142857142855,0.42857142857142855,0.42857142857142855,0.42857142857142855,null,0.42857142857142855,0.42857142857142855,0.42857142857142855,null,0.42857142857142855,null,null,null,null,0.42857142857142855,0.42857142857142855,null,0.42857142857142855,0.42857142857142855,0.42857142857142855,0.42857142857142855,null,0.42857142857142855,null,null,null,0.42857142857142855,null,null,null,null,0.42857142857142855,null,null,null,0.42857142857142855,0.42857142857142855,null,0.42857142857142855,0.42857142857142855,null,null,null,0.42857142857142855,null,0.42857142857142855,null,null,null,0.42857142857142855,0.42857142857142855,0.42857142857142855,0.42857142857142855,0.42857142857142855,0.42857142857142855,0.42857142857142855,0.42857142857142855,0.5714285714285714,0.5714285714285714,0.5714285714285714,0.5714285714285714,0.5714285714285714,0.5714285714285714,null,0.5714285714285714,0.5714285714285714,0.5714285714285714,0.5714285714285714,0.5714285714285714,null,0.5714285714285714,0.5714285714285714,0.5714285714285714,null,0.5714285714285714,null,null,null,null,0.5714285714285714,0.5714285714285714,null,0.5714285714285714,0.5714285714285714,0.5714285714285714,0.5714285714285714,null,0.5714285714285714,null,null,null,0.5714285714285714,null,null,null,null,0.5714285714285714,null,null,null,0.5714285714285714,0.5714285714285714,null,0.5714285714285714,0.5714285714285714,null,null,null,0.5714285714285714,null,0.5714285714285714,null,null,null,0.5714285714285714,0.5714285714285714,0.5714285714285714,0.5714285714285714,0.5714285714285714,0.5714285714285714,0.5714285714285714,0.5714285714285714,0.7142857142857143,0.7142857142857143,0.7142857142857143,0.7142857142857143,0.7142857142857143,0.7142857142857143,null,0.7142857142857143,0.7142857142857143,0.7142857142857143,0.7142857142857143,0.7142857142857143,null,0.7142857142857143,0.7142857142857143,0.7142857142857143,null,0.7142857142857143,null,null,null,null,0.7142857142857143,0.7142857142857143,null,0.7142857142857143,0.7142857142857143,0.7142857142857143,0.7142857142857143,null,0.7142857142857143,null,null,null,0.7142857142857143,null,null,null,null,0.7142857142857143,null,null,null,0.7142857142857143,0.7142857142857143,null,0.7142857142857143,0.7142857142857143,null,null,null,0.7142857142857143,null,0.7142857142857143,null,null,null,0.7142857142857143,0.7142857142857143,0.7142857142857143,0.7142857142857143,0.7142857142857143,0.7142857142857143,0.7142857142857143,0.7142857142857143,0.8571428571428571,0.8571428571428571,0.8571428571428571,0.8571428571428571,0.8571428571428571,0.8571428571428571,null,0.8571428571428571,0.8571428571428571,0.8571428571428571,0.8571428571428571,0.8571428571428571,null,0.8571428571428571,0.8571428571428571,0.8571428571428571,null,0.8571428571428571,null,null,null,null,0.8571428571428571,0.8571428571428571,null,0.8571428571428571,0.8571428571428571,0.8571428571428571,0.8571428571428571,null,0.8571428571428571,null,null,null,0.8571428571428571,null,null,null,null,0.8571428571428571,null,null,null,0.8571428571428571,0.8571428571428571,null,0.8571428571428571,0.8571428571428571,null,null,null,0.8571428571428571,null,0.8571428571428571,null,null,null,0.8571428571428571,0.8571428571428571,0.8571428571428571,0.8571428571428571,0.8571428571428571,0.8571428571428571,0.8571428571428571,0.8571428571428571],\"coloraxis\":\"coloraxis\",\"symbol\":\"circle\"},\"mode\":\"markers\",\"name\":\"\",\"orientation\":\"v\",\"showlegend\":false,\"x\":[0.1118469037732442,0.1002130348438346,0.0898718180176927,0.0792200758259613,0.0683083589095504,0.0583065535295179,0.0435674309442137,0.0400938797616898,0.037674670518144,0.0334717458024914,0.030236504784257,0.0287127640368297,0.0270445928868026,0.0248131431666365,0.0191659144249864,0.0175988445567792,0.0151507492327134,0.0144141541794547,0.0141469579346452,0.0138869832099656,0.0135547932839862,0.0117060841307095,0.0106445206716013,0.0102256725040621,0.0092507672865138,0.0092218812059938,0.0078786784618162,0.0073659505325871,0.0072865138111572,0.0061743997111391,0.0056833363423,0.0055677920202202,0.0044267918396822,0.0041740386351326,0.0040584943130528,0.0037696335078534,0.0032280194981043,0.0029391586929048,0.0018920382740566,0.0018053800324968,0.0014009749052175,0.0,0.0,0.0,0.0,0.0,0.0,0.0,0.0,0.0,0.0,0.0,0.0,0.0,0.0,0.0,0.0,null,null,null,null,null,null,null,null,0.1122615472739581,0.1015604658832514,0.09069448542813,0.0796983215011022,0.0660464147471837,0.0596327090312613,0.0464494627762059,0.0393240874138619,0.0357483813854992,0.032207390949645,0.0312700699519189,0.0271996667303119,0.0288139417819513,0.0236673551925847,0.0182430438631511,0.0155959799343875,0.0134609709951224,0.0121938518685667,0.0129315582093697,0.0115516134071618,0.0119508427210081,0.0118727326378642,0.0106403291038169,0.0105708979188002,0.0100848796236829,0.0097637603929805,0.0084098522851538,0.0072468799361233,0.007038586381073,0.00555449480134,0.0054763847181961,0.0055197792088316,0.0043915224523094,0.0041051188141153,0.0041832288972592,0.0033587335751852,0.0026557428268906,0.002968183159466,0.0019353942823419,0.0021784034299005,0.0014927704778601,0.0056846782732464,0.0043654857579281,0.0,0.0,0.0,0.0,0.0,0.0,0.0,0.0,0.0,0.0,0.0,0.0,0.0,0.0,null,null,null,null,null,null,null,null,0.1023632354273861,0.0962411768852013,0.0843192734083151,0.0738775386908058,0.0607574033610906,0.0600223535690191,0.0453717036037578,0.036087924038142,0.0317481095123498,0.0298148278674493,0.0204504948999627,0.0253541832388509,0.0260288179795192,0.0213667898462436,0.0176311258344828,0.0147614108928337,0.0123347396614743,0.0094650247198251,0.0130496511030781,0.0102302820375983,0.0106431182221864,0.0128180600726994,0.0087601824534552,0.0092938487408496,0.0109149859535005,0.0086192140001812,0.0082466545165285,0.0074914663739893,0.0063939262734989,0.005125210194033,0.0051755560702022,0.0057092223575966,0.0041988460725182,0.004067946794478,0.004420367927663,0.0034738654556805,0.0027388156636089,0.0022756336028515,0.0017822440163926,0.0026179855608027,0.001681552264054,0.0048029965865495,0.0032422744253018,0.0352018366175626,0.0329060646642433,0.0061220585421848,0.0,0.0,0.0,0.0,0.0,0.0,0.0,0.0,0.0,0.0,0.0,null,null,null,null,null,null,null,null,0.1055993599256687,0.0965015292098437,0.0834935669948768,0.0754281142326205,0.0635299583177401,0.0601876346930611,0.0393336000309713,0.0353460401853118,0.0313455756152327,0.0258481630124788,0.0153824315081751,0.0258997819101573,0.0265837323043966,0.0229187905692273,0.0158857157605399,0.0120530126079157,0.0127627724509943,0.0082203094552915,0.0158857157605399,0.0102850653624291,0.0098204952833232,0.0130724858370649,0.0092526874088603,0.0082332141797111,0.0127885818998335,0.008865545676272,0.0088397362274328,0.008336451975068,0.0062975055167696,0.0060265063039578,0.0061297440993147,0.0067233614226168,0.0040907976410163,0.0048392716573537,0.0058329354376637,0.0036262275619104,0.00264546850602,0.0025938496083416,0.0021550889780748,0.0027487063013769,0.0030326102386083,0.0051876992166832,0.0029551818920906,0.0312552425442954,0.0292421055348363,0.0042714637828909,0.0086461653611387,0.0,0.0,0.0,0.0,0.0,0.0,0.0,0.0,0.0,0.0,null,null,null,null,null,null,null,null,0.1089299019888806,0.0951835081484878,0.0825929959305324,0.0787241359546053,0.0643472612292466,0.0608605108805716,0.0301293441088248,0.0304636900326703,0.0302821879597256,0.0237099023709902,0.0113677614107487,0.0267285684262815,0.0279322137521254,0.0201180718748208,0.013689077396305,0.0093234749049502,0.0116830018532316,0.0076517452857224,0.0117212128159568,0.0088171796488412,0.0089222597963355,0.0128579889570317,0.0076612980264037,0.0067633404023614,0.0125905122179553,0.0073747158059647,0.0109187825987275,0.0078236946179859,0.0070021589193939,0.0053304293001662,0.0062665978869337,0.0066200492921419,0.0032861427943677,0.0049960833763206,0.0059991211478573,0.0036395941995758,0.0029709023518847,0.001681282359909,0.002187577616018,0.0035440667927628,0.0024168433923692,0.0043178387879482,0.0027034256128083,0.0232131598555625,0.0216369576431478,0.0025028180585009,0.0043464970099921,0.0357845665921552,0.0070403698821191,0.0062188341835272,0.0044133661947612,0.0015093330276456,0.0012036453258439,0.0,0.0,0.0,0.0,null,null,null,null,null,null,null,null,0.1158530005063795,0.0972912844607887,0.0840507043656558,0.07755908453218,0.0605165071432722,0.0554527116209956,0.0234926907017092,0.0255431128230244,0.027709753202228,0.0188107551696371,0.0089488058574001,0.0268464175722005,0.0246714758888621,0.0212762424976963,0.0135560296522583,0.0090650241152885,0.0107335862463993,0.0073217502469637,0.0095714036675161,0.007097615035322,0.0074130645924474,0.0089072993367258,0.0075873919792799,0.0055369698579646,0.0107335862463993,0.0075707893710101,0.0158471895934851,0.0077285141495728,0.0062259781011596,0.0047732498775557,0.0067157550451175,0.0054041489918066,0.002963565576152,0.0038684077268538,0.0080688676191029,0.0034201373035703,0.0025235964570033,0.0019176012551571,0.0018013829972688,0.0052215203008392,0.0019923129923711,0.0030714825299054,0.0024986925445987,0.0184288951794326,0.0194997634128321,0.0020587234254501,0.0041423507633049,0.0296024505449806,0.0107667914629388,0.0068319733030059,0.0043249794542722,0.0033703294787611,0.0023077625494965,0.0415065206743979,0.0,0.0,0.0,null,null,null,null,null,null,null,null,0.1422444554704439,0.0967735357888083,0.0862520135665105,0.0799717251082398,0.0622455429662808,0.0487809851352912,0.020587655562881,0.0202885942077253,0.0242919382574238,0.0159997825008326,0.0082649683606679,0.0235986596613809,0.0244822500288866,0.022436398485662,0.0127848729329083,0.0077959857809919,0.0116837833980166,0.0065113813236183,0.008625201356651,0.0066745056991578,0.0055190413724197,0.0080542660422628,0.0064909907766759,0.0046218573069524,0.0104263663365663,0.0064026317399253,0.0180592277420188,0.0077687983850686,0.0067560678869276,0.0041868589721804,0.0065317718705608,0.0056481815030551,0.0031129568332121,0.0034188150373486,0.0091009807853079,0.0026371774045552,0.0021274137309943,0.0017943681309344,0.0017060090941839,0.0057909153316522,0.0014545256818938,0.0026099900086319,0.0020254609962821,0.0160065793498134,0.0200507044933968,0.0019982736003588,0.0030721757393272,0.0250056074004091,0.0095835570629456,0.0091281681812311,0.0032760812087516,0.0107118339937604,0.0010331210450834,0.0304226960381167,0.0116565960020934,0.0007884344817742,0.0007272628409469,null,null,null,null,null,null,null,null],\"xaxis\":\"x\",\"y\":[0.1602312943347795,0.0814750140597368,0.1048716602297397,0.0971566705298569,0.0850202429149788,0.06131599143676465,null,0.04683679208056051,0.04962388260041372,0.06545778816247709,0.0025758060657281,0.038661947980523526,null,0.053834036061284146,0.0087279122299519,0.019668096979563898,null,0.0048346854502689,null,null,null,null,0.017499324200459,0.011428003268694534,null,0.016334152578446646,0.012201677225710082,0.011546073993057994,0.006304355256166801,null,0.008634698500190682,null,null,null,0.0022215938926362384,null,null,null,null,0.001910881460099501,null,null,null,0.0,0.0,null,0.0055213599261747,0.0,null,null,null,0.0,null,0.0,null,null,null,0.0040019761310709,0.0006959958488818033,0.0009228159246333689,0.0006742459786043,0.0001802132108712,0.0026224129306084316,0.00041946178392423785,0.0004412116542019,0.1594425509014255,0.0828998116422988,0.10465437856907853,0.0963875683917832,0.0817263132717425,0.060592130833855964,null,0.04477232636708748,0.04808353514515417,0.06425090441594106,0.0017452985320058,0.037260441893143474,null,0.05426495649833995,0.0087377044279008,0.0203717822226206,null,0.005146201453045,null,null,null,null,0.0178005501240764,0.011256614943044,null,0.015659102460608802,0.012239513259783423,0.012359105450413497,0.0063084880557298,null,0.008838610338744321,null,null,null,0.0026534517296018818,null,null,null,null,0.0022311418064397495,null,null,null,0.0,0.0,null,0.0052358955960175,0.0,null,null,null,0.0,null,0.0,null,null,null,0.0044398600771369,0.0007848237510090219,0.00078856100696595,0.0007026041199509,0.0001831255419021,0.0028440517834182615,0.0003812001076329598,0.0005269530899632,0.14818800471026058,0.077670802111678,0.09912719029368469,0.08837914959490777,0.0762286152801226,0.05990588297557918,null,0.04458871213156894,0.044271166407189706,0.061753822677174476,0.0015568561209143,0.035992925786917034,null,0.05179523593206233,0.0101658735374151,0.0187131459519532,null,0.0049351897997256,null,null,null,null,0.0150966529798577,0.010465777832661996,null,0.014558589391326279,0.01147133929319512,0.011912375021500141,0.0062053726972421,null,0.008234137047441812,null,null,null,0.00293288759322361,null,null,null,null,0.00192732613268962,null,null,null,0.038286311574099806,0.0099674074596783,null,0.0141131433057389,0.0,null,null,null,0.0,null,0.0,null,null,null,0.0041721979897591,0.0007453503808343005,0.000890892171174518,0.0006350914487582,0.000211697149586,0.002659445441674975,0.00038811144090782296,0.000511601444833,0.1506344451549923,0.0768346179305073,0.09778645395083668,0.0901069188740414,0.0768738850930622,0.05939438816151078,null,0.042554385020137794,0.04328363232472753,0.06243478846218527,0.0012565492017546,0.034280232910369,null,0.051193160782201146,0.0091941256324817,0.0179170453143052,null,0.0045606004510113,null,null,null,null,0.015656378670077,0.010955538352798295,null,0.013732287704889833,0.011510888223216203,0.012599149585450243,0.0060639718173964,null,0.008610727788809495,null,null,null,0.0032760032760030745,null,null,null,null,0.002266276238878669,null,null,null,0.03142494923316768,0.0138444795979042,null,0.0157349129951866,0.0,null,null,null,0.0,null,0.0,null,null,null,0.0040389081484971,0.0007516856831924352,0.0011331381194393596,0.0005833978436718,0.0002973085164865,0.0031357634097356757,0.0005273018971648122,0.0004824251399593,0.158557030196575,0.07613762308495539,0.09476291266719673,0.08871319454725039,0.0765017264903223,0.052983047185399854,null,0.037926771203021,0.03996334959128295,0.062373714134813754,0.0011563283972648,0.03333346670454325,null,0.051182535840177984,0.0078062169656181,0.0166487282388195,null,0.0035129976913443,null,null,null,null,0.0138199248586596,0.009734764673166918,null,0.011919385105369657,0.011459254428256667,0.011715327152910735,0.005345518127148,null,0.008610445366483484,null,null,null,0.0032129124671403954,null,null,null,null,0.0023446658851111633,null,null,null,0.023490671350662948,0.0107190442085552,null,0.010839078298236425,0.01712086232489963,null,null,null,0.0,null,0.0,null,null,null,0.0033649556474038,0.0007322079470568192,0.0010562999891967826,0.0006561863569253,0.0002600738609765,0.0025607272465375495,0.0005041431766620704,0.0004441261318214,0.1779170319382656,0.0789167036447783,0.1010891407008153,0.0841116775075659,0.0670945304861982,0.048122053024808674,null,0.031249210832962754,0.03425796652849408,0.06185987279529223,0.0011616538776511,0.02955362908608058,null,0.059146942000280756,0.0080846780739633,0.0152494128597245,null,0.0036328740832132,null,null,null,null,0.0125436973061891,0.008427402044077582,null,0.009549372093610153,0.012449899166999328,0.0099029189259385,0.0047764898571742,null,0.007547142583993952,null,null,null,0.003041224282173241,null,null,null,null,0.0020094447510918692,null,null,null,0.020491285792106476,0.0099534256162718,null,0.009278800538256658,0.011172801425731077,null,null,null,0.0,null,0.03040502758025964,null,null,null,0.0034200244596686,0.0006241183876821233,0.0010426023932953701,0.0004148763848754,0.0001623429332121,0.0023449534797303695,0.0003932306604470288,0.0003355087286383,0.2096843836743078,0.0798660576598269,0.098189134808852,0.0894270733892399,0.07012292734509175,0.04297610480400555,null,0.02470296229934275,0.03154107124498728,0.06278253462380055,0.0009751942310799,0.02700289327204025,null,0.057665702242652356,0.006788174301282,0.0127068983242518,null,0.0031870052431375003,null,null,null,null,0.0113733495865702,0.006937978234369552,null,0.0085505735140767,0.011484968203380203,0.008823745392059731,0.004329627399433,null,0.006676555684471482,null,null,null,0.002611288166957852,null,null,null,null,0.002035571090778056,null,null,null,0.017688613432418624,0.0097431303147351,null,0.008104099046835424,0.008782622743761325,null,null,null,0.0046174859375229,null,0.020699378754276774,null,null,null,0.0030753866263273,0.0007460823334165262,0.0009164475906533021,0.0004229758110708,0.0001938639134074,0.002261745656419953,0.00039360249085747804,0.0003054825302178],\"yaxis\":\"y\",\"type\":\"scatter\"}],                        {\"template\":{\"data\":{\"histogram2dcontour\":[{\"type\":\"histogram2dcontour\",\"colorbar\":{\"outlinewidth\":0,\"ticks\":\"\"},\"colorscale\":[[0.0,\"#0d0887\"],[0.1111111111111111,\"#46039f\"],[0.2222222222222222,\"#7201a8\"],[0.3333333333333333,\"#9c179e\"],[0.4444444444444444,\"#bd3786\"],[0.5555555555555556,\"#d8576b\"],[0.6666666666666666,\"#ed7953\"],[0.7777777777777778,\"#fb9f3a\"],[0.8888888888888888,\"#fdca26\"],[1.0,\"#f0f921\"]]}],\"choropleth\":[{\"type\":\"choropleth\",\"colorbar\":{\"outlinewidth\":0,\"ticks\":\"\"}}],\"histogram2d\":[{\"type\":\"histogram2d\",\"colorbar\":{\"outlinewidth\":0,\"ticks\":\"\"},\"colorscale\":[[0.0,\"#0d0887\"],[0.1111111111111111,\"#46039f\"],[0.2222222222222222,\"#7201a8\"],[0.3333333333333333,\"#9c179e\"],[0.4444444444444444,\"#bd3786\"],[0.5555555555555556,\"#d8576b\"],[0.6666666666666666,\"#ed7953\"],[0.7777777777777778,\"#fb9f3a\"],[0.8888888888888888,\"#fdca26\"],[1.0,\"#f0f921\"]]}],\"heatmap\":[{\"type\":\"heatmap\",\"colorbar\":{\"outlinewidth\":0,\"ticks\":\"\"},\"colorscale\":[[0.0,\"#0d0887\"],[0.1111111111111111,\"#46039f\"],[0.2222222222222222,\"#7201a8\"],[0.3333333333333333,\"#9c179e\"],[0.4444444444444444,\"#bd3786\"],[0.5555555555555556,\"#d8576b\"],[0.6666666666666666,\"#ed7953\"],[0.7777777777777778,\"#fb9f3a\"],[0.8888888888888888,\"#fdca26\"],[1.0,\"#f0f921\"]]}],\"heatmapgl\":[{\"type\":\"heatmapgl\",\"colorbar\":{\"outlinewidth\":0,\"ticks\":\"\"},\"colorscale\":[[0.0,\"#0d0887\"],[0.1111111111111111,\"#46039f\"],[0.2222222222222222,\"#7201a8\"],[0.3333333333333333,\"#9c179e\"],[0.4444444444444444,\"#bd3786\"],[0.5555555555555556,\"#d8576b\"],[0.6666666666666666,\"#ed7953\"],[0.7777777777777778,\"#fb9f3a\"],[0.8888888888888888,\"#fdca26\"],[1.0,\"#f0f921\"]]}],\"contourcarpet\":[{\"type\":\"contourcarpet\",\"colorbar\":{\"outlinewidth\":0,\"ticks\":\"\"}}],\"contour\":[{\"type\":\"contour\",\"colorbar\":{\"outlinewidth\":0,\"ticks\":\"\"},\"colorscale\":[[0.0,\"#0d0887\"],[0.1111111111111111,\"#46039f\"],[0.2222222222222222,\"#7201a8\"],[0.3333333333333333,\"#9c179e\"],[0.4444444444444444,\"#bd3786\"],[0.5555555555555556,\"#d8576b\"],[0.6666666666666666,\"#ed7953\"],[0.7777777777777778,\"#fb9f3a\"],[0.8888888888888888,\"#fdca26\"],[1.0,\"#f0f921\"]]}],\"surface\":[{\"type\":\"surface\",\"colorbar\":{\"outlinewidth\":0,\"ticks\":\"\"},\"colorscale\":[[0.0,\"#0d0887\"],[0.1111111111111111,\"#46039f\"],[0.2222222222222222,\"#7201a8\"],[0.3333333333333333,\"#9c179e\"],[0.4444444444444444,\"#bd3786\"],[0.5555555555555556,\"#d8576b\"],[0.6666666666666666,\"#ed7953\"],[0.7777777777777778,\"#fb9f3a\"],[0.8888888888888888,\"#fdca26\"],[1.0,\"#f0f921\"]]}],\"mesh3d\":[{\"type\":\"mesh3d\",\"colorbar\":{\"outlinewidth\":0,\"ticks\":\"\"}}],\"scatter\":[{\"fillpattern\":{\"fillmode\":\"overlay\",\"size\":10,\"solidity\":0.2},\"type\":\"scatter\"}],\"parcoords\":[{\"type\":\"parcoords\",\"line\":{\"colorbar\":{\"outlinewidth\":0,\"ticks\":\"\"}}}],\"scatterpolargl\":[{\"type\":\"scatterpolargl\",\"marker\":{\"colorbar\":{\"outlinewidth\":0,\"ticks\":\"\"}}}],\"bar\":[{\"error_x\":{\"color\":\"#2a3f5f\"},\"error_y\":{\"color\":\"#2a3f5f\"},\"marker\":{\"line\":{\"color\":\"#E5ECF6\",\"width\":0.5},\"pattern\":{\"fillmode\":\"overlay\",\"size\":10,\"solidity\":0.2}},\"type\":\"bar\"}],\"scattergeo\":[{\"type\":\"scattergeo\",\"marker\":{\"colorbar\":{\"outlinewidth\":0,\"ticks\":\"\"}}}],\"scatterpolar\":[{\"type\":\"scatterpolar\",\"marker\":{\"colorbar\":{\"outlinewidth\":0,\"ticks\":\"\"}}}],\"histogram\":[{\"marker\":{\"pattern\":{\"fillmode\":\"overlay\",\"size\":10,\"solidity\":0.2}},\"type\":\"histogram\"}],\"scattergl\":[{\"type\":\"scattergl\",\"marker\":{\"colorbar\":{\"outlinewidth\":0,\"ticks\":\"\"}}}],\"scatter3d\":[{\"type\":\"scatter3d\",\"line\":{\"colorbar\":{\"outlinewidth\":0,\"ticks\":\"\"}},\"marker\":{\"colorbar\":{\"outlinewidth\":0,\"ticks\":\"\"}}}],\"scattermapbox\":[{\"type\":\"scattermapbox\",\"marker\":{\"colorbar\":{\"outlinewidth\":0,\"ticks\":\"\"}}}],\"scatterternary\":[{\"type\":\"scatterternary\",\"marker\":{\"colorbar\":{\"outlinewidth\":0,\"ticks\":\"\"}}}],\"scattercarpet\":[{\"type\":\"scattercarpet\",\"marker\":{\"colorbar\":{\"outlinewidth\":0,\"ticks\":\"\"}}}],\"carpet\":[{\"aaxis\":{\"endlinecolor\":\"#2a3f5f\",\"gridcolor\":\"white\",\"linecolor\":\"white\",\"minorgridcolor\":\"white\",\"startlinecolor\":\"#2a3f5f\"},\"baxis\":{\"endlinecolor\":\"#2a3f5f\",\"gridcolor\":\"white\",\"linecolor\":\"white\",\"minorgridcolor\":\"white\",\"startlinecolor\":\"#2a3f5f\"},\"type\":\"carpet\"}],\"table\":[{\"cells\":{\"fill\":{\"color\":\"#EBF0F8\"},\"line\":{\"color\":\"white\"}},\"header\":{\"fill\":{\"color\":\"#C8D4E3\"},\"line\":{\"color\":\"white\"}},\"type\":\"table\"}],\"barpolar\":[{\"marker\":{\"line\":{\"color\":\"#E5ECF6\",\"width\":0.5},\"pattern\":{\"fillmode\":\"overlay\",\"size\":10,\"solidity\":0.2}},\"type\":\"barpolar\"}],\"pie\":[{\"automargin\":true,\"type\":\"pie\"}]},\"layout\":{\"autotypenumbers\":\"strict\",\"colorway\":[\"#636efa\",\"#EF553B\",\"#00cc96\",\"#ab63fa\",\"#FFA15A\",\"#19d3f3\",\"#FF6692\",\"#B6E880\",\"#FF97FF\",\"#FECB52\"],\"font\":{\"color\":\"#2a3f5f\"},\"hovermode\":\"closest\",\"hoverlabel\":{\"align\":\"left\"},\"paper_bgcolor\":\"white\",\"plot_bgcolor\":\"#E5ECF6\",\"polar\":{\"bgcolor\":\"#E5ECF6\",\"angularaxis\":{\"gridcolor\":\"white\",\"linecolor\":\"white\",\"ticks\":\"\"},\"radialaxis\":{\"gridcolor\":\"white\",\"linecolor\":\"white\",\"ticks\":\"\"}},\"ternary\":{\"bgcolor\":\"#E5ECF6\",\"aaxis\":{\"gridcolor\":\"white\",\"linecolor\":\"white\",\"ticks\":\"\"},\"baxis\":{\"gridcolor\":\"white\",\"linecolor\":\"white\",\"ticks\":\"\"},\"caxis\":{\"gridcolor\":\"white\",\"linecolor\":\"white\",\"ticks\":\"\"}},\"coloraxis\":{\"colorbar\":{\"outlinewidth\":0,\"ticks\":\"\"}},\"colorscale\":{\"sequential\":[[0.0,\"#0d0887\"],[0.1111111111111111,\"#46039f\"],[0.2222222222222222,\"#7201a8\"],[0.3333333333333333,\"#9c179e\"],[0.4444444444444444,\"#bd3786\"],[0.5555555555555556,\"#d8576b\"],[0.6666666666666666,\"#ed7953\"],[0.7777777777777778,\"#fb9f3a\"],[0.8888888888888888,\"#fdca26\"],[1.0,\"#f0f921\"]],\"sequentialminus\":[[0.0,\"#0d0887\"],[0.1111111111111111,\"#46039f\"],[0.2222222222222222,\"#7201a8\"],[0.3333333333333333,\"#9c179e\"],[0.4444444444444444,\"#bd3786\"],[0.5555555555555556,\"#d8576b\"],[0.6666666666666666,\"#ed7953\"],[0.7777777777777778,\"#fb9f3a\"],[0.8888888888888888,\"#fdca26\"],[1.0,\"#f0f921\"]],\"diverging\":[[0,\"#8e0152\"],[0.1,\"#c51b7d\"],[0.2,\"#de77ae\"],[0.3,\"#f1b6da\"],[0.4,\"#fde0ef\"],[0.5,\"#f7f7f7\"],[0.6,\"#e6f5d0\"],[0.7,\"#b8e186\"],[0.8,\"#7fbc41\"],[0.9,\"#4d9221\"],[1,\"#276419\"]]},\"xaxis\":{\"gridcolor\":\"white\",\"linecolor\":\"white\",\"ticks\":\"\",\"title\":{\"standoff\":15},\"zerolinecolor\":\"white\",\"automargin\":true,\"zerolinewidth\":2},\"yaxis\":{\"gridcolor\":\"white\",\"linecolor\":\"white\",\"ticks\":\"\",\"title\":{\"standoff\":15},\"zerolinecolor\":\"white\",\"automargin\":true,\"zerolinewidth\":2},\"scene\":{\"xaxis\":{\"backgroundcolor\":\"#E5ECF6\",\"gridcolor\":\"white\",\"linecolor\":\"white\",\"showbackground\":true,\"ticks\":\"\",\"zerolinecolor\":\"white\",\"gridwidth\":2},\"yaxis\":{\"backgroundcolor\":\"#E5ECF6\",\"gridcolor\":\"white\",\"linecolor\":\"white\",\"showbackground\":true,\"ticks\":\"\",\"zerolinecolor\":\"white\",\"gridwidth\":2},\"zaxis\":{\"backgroundcolor\":\"#E5ECF6\",\"gridcolor\":\"white\",\"linecolor\":\"white\",\"showbackground\":true,\"ticks\":\"\",\"zerolinecolor\":\"white\",\"gridwidth\":2}},\"shapedefaults\":{\"line\":{\"color\":\"#2a3f5f\"}},\"annotationdefaults\":{\"arrowcolor\":\"#2a3f5f\",\"arrowhead\":0,\"arrowwidth\":1},\"geo\":{\"bgcolor\":\"white\",\"landcolor\":\"#E5ECF6\",\"subunitcolor\":\"white\",\"showland\":true,\"showlakes\":true,\"lakecolor\":\"white\"},\"title\":{\"x\":0.05},\"mapbox\":{\"style\":\"light\"}}},\"xaxis\":{\"anchor\":\"y\",\"domain\":[0.0,1.0],\"title\":{\"text\":\"作品ポイント比率\"}},\"yaxis\":{\"anchor\":\"x\",\"domain\":[0.0,1.0],\"title\":{\"text\":\"音楽集計ポイント比率\"}},\"coloraxis\":{\"colorbar\":{\"title\":{\"text\":\"回n\"}},\"colorscale\":[[0.0,\"#0d0887\"],[0.1111111111111111,\"#46039f\"],[0.2222222222222222,\"#7201a8\"],[0.3333333333333333,\"#9c179e\"],[0.4444444444444444,\"#bd3786\"],[0.5555555555555556,\"#d8576b\"],[0.6666666666666666,\"#ed7953\"],[0.7777777777777778,\"#fb9f3a\"],[0.8888888888888888,\"#fdca26\"],[1.0,\"#f0f921\"]]},\"legend\":{\"tracegroupgap\":0},\"margin\":{\"t\":60}},                        {\"responsive\": true}                    ).then(function(){\n",
       "                            \n",
       "var gd = document.getElementById('1f1b961a-77b4-43d9-b222-7971616401bf');\n",
       "var x = new MutationObserver(function (mutations, observer) {{\n",
       "        var display = window.getComputedStyle(gd).display;\n",
       "        if (!display || display === 'none') {{\n",
       "            console.log([gd, 'removed!']);\n",
       "            Plotly.purge(gd);\n",
       "            observer.disconnect();\n",
       "        }}\n",
       "}});\n",
       "\n",
       "// Listen for the removal of the full notebook cells\n",
       "var notebookContainer = gd.closest('#notebook-container');\n",
       "if (notebookContainer) {{\n",
       "    x.observe(notebookContainer, {childList: true});\n",
       "}}\n",
       "\n",
       "// Listen for the clearing of the current output cell\n",
       "var outputEl = gd.closest('.output');\n",
       "if (outputEl) {{\n",
       "    x.observe(outputEl, {childList: true});\n",
       "}}\n",
       "\n",
       "                        })                };                });            </script>        </div>"
      ]
     },
     "metadata": {},
     "output_type": "display_data"
    }
   ],
   "source": [
    "fig = px.scatter(musictitlerate_vs_titlerate,\n",
    "                    x=\"作品ポイント比率\",y=\"音楽集計ポイント比率\",color=\"回n\",hover_data=['回'])\n",
    "fig.show()"
   ]
  },
  {
   "cell_type": "markdown",
   "id": "1d3ee150",
   "metadata": {},
   "source": [
    "作品によって音楽の人気に違いが見られる。\n",
    "\n",
    "非想天則、花映塚は相対的に音楽が人気(ゲーム性によるのか)、永夜抄は相対的に作品が人気"
   ]
  },
  {
   "cell_type": "code",
   "execution_count": null,
   "id": "40b2523a",
   "metadata": {},
   "outputs": [],
   "source": []
  }
 ],
 "metadata": {
  "kernelspec": {
   "display_name": "Python 3 (ipykernel)",
   "language": "python",
   "name": "python3"
  },
  "language_info": {
   "codemirror_mode": {
    "name": "ipython",
    "version": 3
   },
   "file_extension": ".py",
   "mimetype": "text/x-python",
   "name": "python",
   "nbconvert_exporter": "python",
   "pygments_lexer": "ipython3",
   "version": "3.8.10"
  }
 },
 "nbformat": 4,
 "nbformat_minor": 5
}
